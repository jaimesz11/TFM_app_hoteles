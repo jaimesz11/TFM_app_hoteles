{
  "nbformat": 4,
  "nbformat_minor": 0,
  "metadata": {
    "colab": {
      "name": "script_prediccion_prophet_uni2.ipynb",
      "provenance": [],
      "collapsed_sections": []
    },
    "kernelspec": {
      "name": "python3",
      "display_name": "Python 3"
    },
    "language_info": {
      "name": "python"
    }
  },
  "cells": [
    {
      "cell_type": "markdown",
      "source": [
        "#**UNIVERSITYHACK 2022 DATATHON**:    ***Parte predictiva:***\n"
      ],
      "metadata": {
        "id": "0d2rOrznnFJB"
      }
    },
    {
      "cell_type": "markdown",
      "source": [
        "## **INTRODUCCIÓN**"
      ],
      "metadata": {
        "id": "etVp1WGroLwY"
      }
    },
    {
      "cell_type": "markdown",
      "source": [
        "# 1. Importación de librerías y del dataset"
      ],
      "metadata": {
        "id": "Fdy8WU0_4Vi9"
      }
    },
    {
      "cell_type": "markdown",
      "source": [
        "AVISO: se trata de un código computacionarmente muy costoso que produce problemas de ejecución debido a la RAM. Aqui se presenta simplificado para una mejor comprensión de la lógica seguida, pero nosotros hemos tenido que ir lanzándolo por partes y luego agregarlas dado que de otra forma no conseguíamos ejecutarlo.\n",
        "\n",
        "Mostramos la ejecución con una muestra para ver el procedimiento."
      ],
      "metadata": {
        "id": "gh_Z_d1QOLJC"
      }
    },
    {
      "cell_type": "code",
      "source": [
        "import pandas as pd \n",
        "import numpy as np \n",
        "\n",
        "import seaborn as sns \n",
        "import matplotlib.pyplot as plt \n",
        "\n",
        "from sklearn.metrics import mean_absolute_error, mean_squared_error\n",
        "import math\n",
        "\n",
        "#!pip install statsmodels==0.13.1\n",
        "#!pip install pmdarima\n",
        "#from pmdarima.arima import auto_arima\n",
        "\n",
        "from array import array\n",
        "from statsmodels.tsa.stattools import adfuller\n",
        "\n",
        "import warnings \n",
        "warnings.filterwarnings('ignore')"
      ],
      "metadata": {
        "id": "qxfoKgurVFcw"
      },
      "execution_count": 69,
      "outputs": []
    },
    {
      "cell_type": "code",
      "source": [
        "from google.colab import drive\n",
        "drive.mount('/content/drive')"
      ],
      "metadata": {
        "colab": {
          "base_uri": "https://localhost:8080/"
        },
        "id": "l00KWn241Z1t",
        "outputId": "d70f10af-8c9e-435f-c8f3-74623fd628ac"
      },
      "execution_count": 70,
      "outputs": [
        {
          "output_type": "stream",
          "name": "stdout",
          "text": [
            "Drive already mounted at /content/drive; to attempt to forcibly remount, call drive.mount(\"/content/drive\", force_remount=True).\n"
          ]
        }
      ]
    },
    {
      "cell_type": "markdown",
      "source": [
        "Necesitamos la data agrupada  por ID y  por DATE"
      ],
      "metadata": {
        "id": "pAEKeyOn_2IL"
      }
    },
    {
      "cell_type": "code",
      "source": [
        "df = pd.read_csv(\"/content/drive/MyDrive/Datathon_2022/df_ID_DATE.csv\")"
      ],
      "metadata": {
        "id": "_2JGGwc7VHpY"
      },
      "execution_count": 71,
      "outputs": []
    },
    {
      "cell_type": "code",
      "source": [
        "df = df.fillna(0.0)\n"
      ],
      "metadata": {
        "id": "6tlM9B57gT2S"
      },
      "execution_count": 72,
      "outputs": []
    },
    {
      "cell_type": "code",
      "source": [
        "df['DATE'] = pd.to_datetime(df['DATE'], errors='coerce')  "
      ],
      "metadata": {
        "id": "cvVfsNlCjfG8"
      },
      "execution_count": 73,
      "outputs": []
    },
    {
      "cell_type": "code",
      "source": [
        "df"
      ],
      "metadata": {
        "colab": {
          "base_uri": "https://localhost:8080/",
          "height": 424
        },
        "id": "1ZjP4DM0kfi3",
        "outputId": "7fcd7679-af70-48cb-cd19-108e77fa2631"
      },
      "execution_count": 74,
      "outputs": [
        {
          "output_type": "execute_result",
          "data": {
            "text/plain": [
              "          ID       DATE    READING  DELTA\n",
              "0          0 2019-02-01  7963359.0  243.0\n",
              "1          0 2019-02-02  7969096.0  236.0\n",
              "2          0 2019-02-03  7975263.0  335.0\n",
              "3          0 2019-02-04  7982426.0  252.0\n",
              "4          0 2019-02-05  7988972.0  220.0\n",
              "...      ...        ...        ...    ...\n",
              "888519  2748 2019-08-03  1627386.0  313.0\n",
              "888520  2748 2019-09-14  1690044.0    8.0\n",
              "888521  2749 2019-08-06   627196.0    0.0\n",
              "888522  2749 2019-10-11   658022.0    2.0\n",
              "888523  2756 2019-04-06  1399044.0   12.0\n",
              "\n",
              "[888524 rows x 4 columns]"
            ],
            "text/html": [
              "\n",
              "  <div id=\"df-880ff7cc-5509-415d-809c-df9c009e3792\">\n",
              "    <div class=\"colab-df-container\">\n",
              "      <div>\n",
              "<style scoped>\n",
              "    .dataframe tbody tr th:only-of-type {\n",
              "        vertical-align: middle;\n",
              "    }\n",
              "\n",
              "    .dataframe tbody tr th {\n",
              "        vertical-align: top;\n",
              "    }\n",
              "\n",
              "    .dataframe thead th {\n",
              "        text-align: right;\n",
              "    }\n",
              "</style>\n",
              "<table border=\"1\" class=\"dataframe\">\n",
              "  <thead>\n",
              "    <tr style=\"text-align: right;\">\n",
              "      <th></th>\n",
              "      <th>ID</th>\n",
              "      <th>DATE</th>\n",
              "      <th>READING</th>\n",
              "      <th>DELTA</th>\n",
              "    </tr>\n",
              "  </thead>\n",
              "  <tbody>\n",
              "    <tr>\n",
              "      <th>0</th>\n",
              "      <td>0</td>\n",
              "      <td>2019-02-01</td>\n",
              "      <td>7963359.0</td>\n",
              "      <td>243.0</td>\n",
              "    </tr>\n",
              "    <tr>\n",
              "      <th>1</th>\n",
              "      <td>0</td>\n",
              "      <td>2019-02-02</td>\n",
              "      <td>7969096.0</td>\n",
              "      <td>236.0</td>\n",
              "    </tr>\n",
              "    <tr>\n",
              "      <th>2</th>\n",
              "      <td>0</td>\n",
              "      <td>2019-02-03</td>\n",
              "      <td>7975263.0</td>\n",
              "      <td>335.0</td>\n",
              "    </tr>\n",
              "    <tr>\n",
              "      <th>3</th>\n",
              "      <td>0</td>\n",
              "      <td>2019-02-04</td>\n",
              "      <td>7982426.0</td>\n",
              "      <td>252.0</td>\n",
              "    </tr>\n",
              "    <tr>\n",
              "      <th>4</th>\n",
              "      <td>0</td>\n",
              "      <td>2019-02-05</td>\n",
              "      <td>7988972.0</td>\n",
              "      <td>220.0</td>\n",
              "    </tr>\n",
              "    <tr>\n",
              "      <th>...</th>\n",
              "      <td>...</td>\n",
              "      <td>...</td>\n",
              "      <td>...</td>\n",
              "      <td>...</td>\n",
              "    </tr>\n",
              "    <tr>\n",
              "      <th>888519</th>\n",
              "      <td>2748</td>\n",
              "      <td>2019-08-03</td>\n",
              "      <td>1627386.0</td>\n",
              "      <td>313.0</td>\n",
              "    </tr>\n",
              "    <tr>\n",
              "      <th>888520</th>\n",
              "      <td>2748</td>\n",
              "      <td>2019-09-14</td>\n",
              "      <td>1690044.0</td>\n",
              "      <td>8.0</td>\n",
              "    </tr>\n",
              "    <tr>\n",
              "      <th>888521</th>\n",
              "      <td>2749</td>\n",
              "      <td>2019-08-06</td>\n",
              "      <td>627196.0</td>\n",
              "      <td>0.0</td>\n",
              "    </tr>\n",
              "    <tr>\n",
              "      <th>888522</th>\n",
              "      <td>2749</td>\n",
              "      <td>2019-10-11</td>\n",
              "      <td>658022.0</td>\n",
              "      <td>2.0</td>\n",
              "    </tr>\n",
              "    <tr>\n",
              "      <th>888523</th>\n",
              "      <td>2756</td>\n",
              "      <td>2019-04-06</td>\n",
              "      <td>1399044.0</td>\n",
              "      <td>12.0</td>\n",
              "    </tr>\n",
              "  </tbody>\n",
              "</table>\n",
              "<p>888524 rows × 4 columns</p>\n",
              "</div>\n",
              "      <button class=\"colab-df-convert\" onclick=\"convertToInteractive('df-880ff7cc-5509-415d-809c-df9c009e3792')\"\n",
              "              title=\"Convert this dataframe to an interactive table.\"\n",
              "              style=\"display:none;\">\n",
              "        \n",
              "  <svg xmlns=\"http://www.w3.org/2000/svg\" height=\"24px\"viewBox=\"0 0 24 24\"\n",
              "       width=\"24px\">\n",
              "    <path d=\"M0 0h24v24H0V0z\" fill=\"none\"/>\n",
              "    <path d=\"M18.56 5.44l.94 2.06.94-2.06 2.06-.94-2.06-.94-.94-2.06-.94 2.06-2.06.94zm-11 1L8.5 8.5l.94-2.06 2.06-.94-2.06-.94L8.5 2.5l-.94 2.06-2.06.94zm10 10l.94 2.06.94-2.06 2.06-.94-2.06-.94-.94-2.06-.94 2.06-2.06.94z\"/><path d=\"M17.41 7.96l-1.37-1.37c-.4-.4-.92-.59-1.43-.59-.52 0-1.04.2-1.43.59L10.3 9.45l-7.72 7.72c-.78.78-.78 2.05 0 2.83L4 21.41c.39.39.9.59 1.41.59.51 0 1.02-.2 1.41-.59l7.78-7.78 2.81-2.81c.8-.78.8-2.07 0-2.86zM5.41 20L4 18.59l7.72-7.72 1.47 1.35L5.41 20z\"/>\n",
              "  </svg>\n",
              "      </button>\n",
              "      \n",
              "  <style>\n",
              "    .colab-df-container {\n",
              "      display:flex;\n",
              "      flex-wrap:wrap;\n",
              "      gap: 12px;\n",
              "    }\n",
              "\n",
              "    .colab-df-convert {\n",
              "      background-color: #E8F0FE;\n",
              "      border: none;\n",
              "      border-radius: 50%;\n",
              "      cursor: pointer;\n",
              "      display: none;\n",
              "      fill: #1967D2;\n",
              "      height: 32px;\n",
              "      padding: 0 0 0 0;\n",
              "      width: 32px;\n",
              "    }\n",
              "\n",
              "    .colab-df-convert:hover {\n",
              "      background-color: #E2EBFA;\n",
              "      box-shadow: 0px 1px 2px rgba(60, 64, 67, 0.3), 0px 1px 3px 1px rgba(60, 64, 67, 0.15);\n",
              "      fill: #174EA6;\n",
              "    }\n",
              "\n",
              "    [theme=dark] .colab-df-convert {\n",
              "      background-color: #3B4455;\n",
              "      fill: #D2E3FC;\n",
              "    }\n",
              "\n",
              "    [theme=dark] .colab-df-convert:hover {\n",
              "      background-color: #434B5C;\n",
              "      box-shadow: 0px 1px 3px 1px rgba(0, 0, 0, 0.15);\n",
              "      filter: drop-shadow(0px 1px 2px rgba(0, 0, 0, 0.3));\n",
              "      fill: #FFFFFF;\n",
              "    }\n",
              "  </style>\n",
              "\n",
              "      <script>\n",
              "        const buttonEl =\n",
              "          document.querySelector('#df-880ff7cc-5509-415d-809c-df9c009e3792 button.colab-df-convert');\n",
              "        buttonEl.style.display =\n",
              "          google.colab.kernel.accessAllowed ? 'block' : 'none';\n",
              "\n",
              "        async function convertToInteractive(key) {\n",
              "          const element = document.querySelector('#df-880ff7cc-5509-415d-809c-df9c009e3792');\n",
              "          const dataTable =\n",
              "            await google.colab.kernel.invokeFunction('convertToInteractive',\n",
              "                                                     [key], {});\n",
              "          if (!dataTable) return;\n",
              "\n",
              "          const docLinkHtml = 'Like what you see? Visit the ' +\n",
              "            '<a target=\"_blank\" href=https://colab.research.google.com/notebooks/data_table.ipynb>data table notebook</a>'\n",
              "            + ' to learn more about interactive tables.';\n",
              "          element.innerHTML = '';\n",
              "          dataTable['output_type'] = 'display_data';\n",
              "          await google.colab.output.renderOutput(dataTable, element);\n",
              "          const docLink = document.createElement('div');\n",
              "          docLink.innerHTML = docLinkHtml;\n",
              "          element.appendChild(docLink);\n",
              "        }\n",
              "      </script>\n",
              "    </div>\n",
              "  </div>\n",
              "  "
            ]
          },
          "metadata": {},
          "execution_count": 74
        }
      ]
    },
    {
      "cell_type": "code",
      "source": [
        "print(\"Number of rows is = \", df.shape[0], \" \\nNumber of columns is = \" , df.shape[1]) "
      ],
      "metadata": {
        "colab": {
          "base_uri": "https://localhost:8080/"
        },
        "id": "nbb26KJJpjn4",
        "outputId": "dbdf1111-9b18-4735-e3fb-3c2ce07ef0b0"
      },
      "execution_count": 75,
      "outputs": [
        {
          "output_type": "stream",
          "name": "stdout",
          "text": [
            "Number of rows is =  888524  \n",
            "Number of columns is =  4\n"
          ]
        }
      ]
    },
    {
      "cell_type": "code",
      "source": [
        "df.head(14)"
      ],
      "metadata": {
        "id": "8YMjSk4ZWTvg",
        "outputId": "480766dd-dd7a-4dce-fd7c-79c437779eed",
        "colab": {
          "base_uri": "https://localhost:8080/",
          "height": 488
        }
      },
      "execution_count": 76,
      "outputs": [
        {
          "output_type": "execute_result",
          "data": {
            "text/plain": [
              "    ID       DATE    READING  DELTA\n",
              "0    0 2019-02-01  7963359.0  243.0\n",
              "1    0 2019-02-02  7969096.0  236.0\n",
              "2    0 2019-02-03  7975263.0  335.0\n",
              "3    0 2019-02-04  7982426.0  252.0\n",
              "4    0 2019-02-05  7988972.0  220.0\n",
              "5    0 2019-02-06  7994549.0  276.0\n",
              "6    0 2019-02-07  8000905.0  277.0\n",
              "7    0 2019-02-08  8007305.0  193.0\n",
              "8    0 2019-02-09  8011892.0  262.0\n",
              "9    0 2019-02-10  8019086.0  315.0\n",
              "10   0 2019-02-11  8026035.0  224.0\n",
              "11   0 2019-02-12  8032127.0  337.0\n",
              "12   0 2019-02-13  8039047.0  219.0\n",
              "13   0 2019-02-14  8044666.0  264.0"
            ],
            "text/html": [
              "\n",
              "  <div id=\"df-903bdd32-00c5-4042-bf46-bd023c8dbacd\">\n",
              "    <div class=\"colab-df-container\">\n",
              "      <div>\n",
              "<style scoped>\n",
              "    .dataframe tbody tr th:only-of-type {\n",
              "        vertical-align: middle;\n",
              "    }\n",
              "\n",
              "    .dataframe tbody tr th {\n",
              "        vertical-align: top;\n",
              "    }\n",
              "\n",
              "    .dataframe thead th {\n",
              "        text-align: right;\n",
              "    }\n",
              "</style>\n",
              "<table border=\"1\" class=\"dataframe\">\n",
              "  <thead>\n",
              "    <tr style=\"text-align: right;\">\n",
              "      <th></th>\n",
              "      <th>ID</th>\n",
              "      <th>DATE</th>\n",
              "      <th>READING</th>\n",
              "      <th>DELTA</th>\n",
              "    </tr>\n",
              "  </thead>\n",
              "  <tbody>\n",
              "    <tr>\n",
              "      <th>0</th>\n",
              "      <td>0</td>\n",
              "      <td>2019-02-01</td>\n",
              "      <td>7963359.0</td>\n",
              "      <td>243.0</td>\n",
              "    </tr>\n",
              "    <tr>\n",
              "      <th>1</th>\n",
              "      <td>0</td>\n",
              "      <td>2019-02-02</td>\n",
              "      <td>7969096.0</td>\n",
              "      <td>236.0</td>\n",
              "    </tr>\n",
              "    <tr>\n",
              "      <th>2</th>\n",
              "      <td>0</td>\n",
              "      <td>2019-02-03</td>\n",
              "      <td>7975263.0</td>\n",
              "      <td>335.0</td>\n",
              "    </tr>\n",
              "    <tr>\n",
              "      <th>3</th>\n",
              "      <td>0</td>\n",
              "      <td>2019-02-04</td>\n",
              "      <td>7982426.0</td>\n",
              "      <td>252.0</td>\n",
              "    </tr>\n",
              "    <tr>\n",
              "      <th>4</th>\n",
              "      <td>0</td>\n",
              "      <td>2019-02-05</td>\n",
              "      <td>7988972.0</td>\n",
              "      <td>220.0</td>\n",
              "    </tr>\n",
              "    <tr>\n",
              "      <th>5</th>\n",
              "      <td>0</td>\n",
              "      <td>2019-02-06</td>\n",
              "      <td>7994549.0</td>\n",
              "      <td>276.0</td>\n",
              "    </tr>\n",
              "    <tr>\n",
              "      <th>6</th>\n",
              "      <td>0</td>\n",
              "      <td>2019-02-07</td>\n",
              "      <td>8000905.0</td>\n",
              "      <td>277.0</td>\n",
              "    </tr>\n",
              "    <tr>\n",
              "      <th>7</th>\n",
              "      <td>0</td>\n",
              "      <td>2019-02-08</td>\n",
              "      <td>8007305.0</td>\n",
              "      <td>193.0</td>\n",
              "    </tr>\n",
              "    <tr>\n",
              "      <th>8</th>\n",
              "      <td>0</td>\n",
              "      <td>2019-02-09</td>\n",
              "      <td>8011892.0</td>\n",
              "      <td>262.0</td>\n",
              "    </tr>\n",
              "    <tr>\n",
              "      <th>9</th>\n",
              "      <td>0</td>\n",
              "      <td>2019-02-10</td>\n",
              "      <td>8019086.0</td>\n",
              "      <td>315.0</td>\n",
              "    </tr>\n",
              "    <tr>\n",
              "      <th>10</th>\n",
              "      <td>0</td>\n",
              "      <td>2019-02-11</td>\n",
              "      <td>8026035.0</td>\n",
              "      <td>224.0</td>\n",
              "    </tr>\n",
              "    <tr>\n",
              "      <th>11</th>\n",
              "      <td>0</td>\n",
              "      <td>2019-02-12</td>\n",
              "      <td>8032127.0</td>\n",
              "      <td>337.0</td>\n",
              "    </tr>\n",
              "    <tr>\n",
              "      <th>12</th>\n",
              "      <td>0</td>\n",
              "      <td>2019-02-13</td>\n",
              "      <td>8039047.0</td>\n",
              "      <td>219.0</td>\n",
              "    </tr>\n",
              "    <tr>\n",
              "      <th>13</th>\n",
              "      <td>0</td>\n",
              "      <td>2019-02-14</td>\n",
              "      <td>8044666.0</td>\n",
              "      <td>264.0</td>\n",
              "    </tr>\n",
              "  </tbody>\n",
              "</table>\n",
              "</div>\n",
              "      <button class=\"colab-df-convert\" onclick=\"convertToInteractive('df-903bdd32-00c5-4042-bf46-bd023c8dbacd')\"\n",
              "              title=\"Convert this dataframe to an interactive table.\"\n",
              "              style=\"display:none;\">\n",
              "        \n",
              "  <svg xmlns=\"http://www.w3.org/2000/svg\" height=\"24px\"viewBox=\"0 0 24 24\"\n",
              "       width=\"24px\">\n",
              "    <path d=\"M0 0h24v24H0V0z\" fill=\"none\"/>\n",
              "    <path d=\"M18.56 5.44l.94 2.06.94-2.06 2.06-.94-2.06-.94-.94-2.06-.94 2.06-2.06.94zm-11 1L8.5 8.5l.94-2.06 2.06-.94-2.06-.94L8.5 2.5l-.94 2.06-2.06.94zm10 10l.94 2.06.94-2.06 2.06-.94-2.06-.94-.94-2.06-.94 2.06-2.06.94z\"/><path d=\"M17.41 7.96l-1.37-1.37c-.4-.4-.92-.59-1.43-.59-.52 0-1.04.2-1.43.59L10.3 9.45l-7.72 7.72c-.78.78-.78 2.05 0 2.83L4 21.41c.39.39.9.59 1.41.59.51 0 1.02-.2 1.41-.59l7.78-7.78 2.81-2.81c.8-.78.8-2.07 0-2.86zM5.41 20L4 18.59l7.72-7.72 1.47 1.35L5.41 20z\"/>\n",
              "  </svg>\n",
              "      </button>\n",
              "      \n",
              "  <style>\n",
              "    .colab-df-container {\n",
              "      display:flex;\n",
              "      flex-wrap:wrap;\n",
              "      gap: 12px;\n",
              "    }\n",
              "\n",
              "    .colab-df-convert {\n",
              "      background-color: #E8F0FE;\n",
              "      border: none;\n",
              "      border-radius: 50%;\n",
              "      cursor: pointer;\n",
              "      display: none;\n",
              "      fill: #1967D2;\n",
              "      height: 32px;\n",
              "      padding: 0 0 0 0;\n",
              "      width: 32px;\n",
              "    }\n",
              "\n",
              "    .colab-df-convert:hover {\n",
              "      background-color: #E2EBFA;\n",
              "      box-shadow: 0px 1px 2px rgba(60, 64, 67, 0.3), 0px 1px 3px 1px rgba(60, 64, 67, 0.15);\n",
              "      fill: #174EA6;\n",
              "    }\n",
              "\n",
              "    [theme=dark] .colab-df-convert {\n",
              "      background-color: #3B4455;\n",
              "      fill: #D2E3FC;\n",
              "    }\n",
              "\n",
              "    [theme=dark] .colab-df-convert:hover {\n",
              "      background-color: #434B5C;\n",
              "      box-shadow: 0px 1px 3px 1px rgba(0, 0, 0, 0.15);\n",
              "      filter: drop-shadow(0px 1px 2px rgba(0, 0, 0, 0.3));\n",
              "      fill: #FFFFFF;\n",
              "    }\n",
              "  </style>\n",
              "\n",
              "      <script>\n",
              "        const buttonEl =\n",
              "          document.querySelector('#df-903bdd32-00c5-4042-bf46-bd023c8dbacd button.colab-df-convert');\n",
              "        buttonEl.style.display =\n",
              "          google.colab.kernel.accessAllowed ? 'block' : 'none';\n",
              "\n",
              "        async function convertToInteractive(key) {\n",
              "          const element = document.querySelector('#df-903bdd32-00c5-4042-bf46-bd023c8dbacd');\n",
              "          const dataTable =\n",
              "            await google.colab.kernel.invokeFunction('convertToInteractive',\n",
              "                                                     [key], {});\n",
              "          if (!dataTable) return;\n",
              "\n",
              "          const docLinkHtml = 'Like what you see? Visit the ' +\n",
              "            '<a target=\"_blank\" href=https://colab.research.google.com/notebooks/data_table.ipynb>data table notebook</a>'\n",
              "            + ' to learn more about interactive tables.';\n",
              "          element.innerHTML = '';\n",
              "          dataTable['output_type'] = 'display_data';\n",
              "          await google.colab.output.renderOutput(dataTable, element);\n",
              "          const docLink = document.createElement('div');\n",
              "          docLink.innerHTML = docLinkHtml;\n",
              "          element.appendChild(docLink);\n",
              "        }\n",
              "      </script>\n",
              "    </div>\n",
              "  </div>\n",
              "  "
            ]
          },
          "metadata": {},
          "execution_count": 76
        }
      ]
    },
    {
      "cell_type": "code",
      "source": [
        "df = df.rename(columns={'DATE': 'ds', 'DELTA':'y'})"
      ],
      "metadata": {
        "id": "e_Y2WoqdAgbT"
      },
      "execution_count": 77,
      "outputs": []
    },
    {
      "cell_type": "code",
      "source": [
        "# De esta forma lo hemos ido desgranando para conseguir las predicciones (aqui se muestran los valores conflictivos de los contadores a los que luego se hace referencia)\n",
        "\n",
        "#prueba=df[(df['ID']>2408) & (df['ID']!=2521)& (df['ID']!=2562)& (df['ID']!=2698)]"
      ],
      "metadata": {
        "id": "O8PfDs9khE5t"
      },
      "execution_count": 43,
      "outputs": []
    },
    {
      "cell_type": "code",
      "source": [
        "#prueba2=df[(df['ID']<2726) & (df['ID']!=2521)& (df['ID']!=2562)& (df['ID']!=2698)]\n",
        "prueba=df.head(40)"
      ],
      "metadata": {
        "id": "0EQnuvh-jvIy"
      },
      "execution_count": 81,
      "outputs": []
    },
    {
      "cell_type": "code",
      "source": [
        "prueba['ID'] = prueba['ID'].astype(str)"
      ],
      "metadata": {
        "id": "EvOOQcR3q4zR"
      },
      "execution_count": 82,
      "outputs": []
    },
    {
      "cell_type": "code",
      "source": [
        "from fbprophet import Prophet\n",
        "grouped = df.groupby('ID')\n",
        "for g in grouped.groups:\n",
        "    group = grouped.get_group(g)\n",
        "    m = Prophet()\n",
        "    m.fit(group)\n",
        "    future = m.make_future_dataframe(periods=14)\n",
        "    forecast = m.predict(future)\n",
        "    print(forecast.tail())"
      ],
      "metadata": {
        "colab": {
          "base_uri": "https://localhost:8080/"
        },
        "id": "6jFgJOw_Aj5r",
        "outputId": "bcb0cc52-d45c-4369-cbd2-1c207a9337b0"
      },
      "execution_count": null,
      "outputs": [
        {
          "output_type": "stream",
          "name": "stderr",
          "text": [
            "INFO:fbprophet:Disabling yearly seasonality. Run prophet with yearly_seasonality=True to override this.\n",
            "INFO:fbprophet:Disabling daily seasonality. Run prophet with daily_seasonality=True to override this.\n",
            "INFO:fbprophet:Disabling yearly seasonality. Run prophet with yearly_seasonality=True to override this.\n",
            "INFO:fbprophet:Disabling daily seasonality. Run prophet with daily_seasonality=True to override this.\n"
          ]
        },
        {
          "output_type": "stream",
          "name": "stdout",
          "text": [
            "            ds       trend  yhat_lower  yhat_upper  trend_lower  trend_upper  \\\n",
            "374 2020-02-10  284.171916  142.903780  418.078216   284.171914   284.171918   \n",
            "375 2020-02-11  284.179909  138.670798  419.999893   284.179907   284.179912   \n",
            "376 2020-02-12  284.187903  138.460840  404.684280   284.187900   284.187906   \n",
            "377 2020-02-13  284.195897  146.786073  421.157156   284.195894   284.195900   \n",
            "378 2020-02-14  284.203890  149.306016  407.742498   284.203887   284.203894   \n",
            "\n",
            "     additive_terms  additive_terms_lower  additive_terms_upper     weekly  \\\n",
            "374       -1.257980             -1.257980             -1.257980  -1.257980   \n",
            "375       -2.288253             -2.288253             -2.288253  -2.288253   \n",
            "376      -16.707484            -16.707484            -16.707484 -16.707484   \n",
            "377        0.713921              0.713921              0.713921   0.713921   \n",
            "378       -0.968951             -0.968951             -0.968951  -0.968951   \n",
            "\n",
            "     weekly_lower  weekly_upper  multiplicative_terms  \\\n",
            "374     -1.257980     -1.257980                   0.0   \n",
            "375     -2.288253     -2.288253                   0.0   \n",
            "376    -16.707484    -16.707484                   0.0   \n",
            "377      0.713921      0.713921                   0.0   \n",
            "378     -0.968951     -0.968951                   0.0   \n",
            "\n",
            "     multiplicative_terms_lower  multiplicative_terms_upper        yhat  \n",
            "374                         0.0                         0.0  282.913936  \n",
            "375                         0.0                         0.0  281.891657  \n",
            "376                         0.0                         0.0  267.480419  \n",
            "377                         0.0                         0.0  284.909817  \n",
            "378                         0.0                         0.0  283.234939  \n"
          ]
        },
        {
          "output_type": "stream",
          "name": "stderr",
          "text": [
            "INFO:fbprophet:Disabling yearly seasonality. Run prophet with yearly_seasonality=True to override this.\n",
            "INFO:fbprophet:Disabling daily seasonality. Run prophet with daily_seasonality=True to override this.\n"
          ]
        },
        {
          "output_type": "stream",
          "name": "stdout",
          "text": [
            "            ds     trend  yhat_lower  yhat_upper  trend_lower  trend_upper  \\\n",
            "374 2020-02-10  8.071678  -34.134670   36.254025     8.071677     8.071678   \n",
            "375 2020-02-11  8.055146  -38.588968   38.301172     8.055146     8.055146   \n",
            "376 2020-02-12  8.038614  -29.082464   49.647794     8.038614     8.038614   \n",
            "377 2020-02-13  8.022082  -34.400455   40.803075     8.022082     8.022082   \n",
            "378 2020-02-14  8.005550  -29.303187   47.190866     8.005550     8.005550   \n",
            "\n",
            "     additive_terms  additive_terms_lower  additive_terms_upper    weekly  \\\n",
            "374       -6.409696             -6.409696             -6.409696 -6.409696   \n",
            "375       -5.742260             -5.742260             -5.742260 -5.742260   \n",
            "376        1.356866              1.356866              1.356866  1.356866   \n",
            "377       -4.528224             -4.528224             -4.528224 -4.528224   \n",
            "378       -2.447602             -2.447602             -2.447602 -2.447602   \n",
            "\n",
            "     weekly_lower  weekly_upper  multiplicative_terms  \\\n",
            "374     -6.409696     -6.409696                   0.0   \n",
            "375     -5.742260     -5.742260                   0.0   \n",
            "376      1.356866      1.356866                   0.0   \n",
            "377     -4.528224     -4.528224                   0.0   \n",
            "378     -2.447602     -2.447602                   0.0   \n",
            "\n",
            "     multiplicative_terms_lower  multiplicative_terms_upper      yhat  \n",
            "374                         0.0                         0.0  1.661982  \n",
            "375                         0.0                         0.0  2.312885  \n",
            "376                         0.0                         0.0  9.395480  \n",
            "377                         0.0                         0.0  3.493858  \n",
            "378                         0.0                         0.0  5.557948  \n"
          ]
        },
        {
          "output_type": "stream",
          "name": "stderr",
          "text": [
            "INFO:fbprophet:Disabling yearly seasonality. Run prophet with yearly_seasonality=True to override this.\n",
            "INFO:fbprophet:Disabling daily seasonality. Run prophet with daily_seasonality=True to override this.\n"
          ]
        },
        {
          "output_type": "stream",
          "name": "stdout",
          "text": [
            "            ds      trend  yhat_lower  yhat_upper  trend_lower  trend_upper  \\\n",
            "374 2020-02-10  39.078393   23.834222   59.433554    39.061173    39.093257   \n",
            "375 2020-02-11  39.216191   17.728566   58.306033    39.194599    39.234296   \n",
            "376 2020-02-12  39.353988   18.612955   57.064439    39.328533    39.375633   \n",
            "377 2020-02-13  39.491786   19.208083   56.498674    39.461270    39.517012   \n",
            "378 2020-02-14  39.629584   22.086440   60.349291    39.593810    39.658683   \n",
            "\n",
            "     additive_terms  additive_terms_lower  additive_terms_upper    weekly  \\\n",
            "374        2.595573              2.595573              2.595573  2.595573   \n",
            "375       -1.302567             -1.302567             -1.302567 -1.302567   \n",
            "376       -1.312446             -1.312446             -1.312446 -1.312446   \n",
            "377       -1.151152             -1.151152             -1.151152 -1.151152   \n",
            "378        1.358594              1.358594              1.358594  1.358594   \n",
            "\n",
            "     weekly_lower  weekly_upper  multiplicative_terms  \\\n",
            "374      2.595573      2.595573                   0.0   \n",
            "375     -1.302567     -1.302567                   0.0   \n",
            "376     -1.312446     -1.312446                   0.0   \n",
            "377     -1.151152     -1.151152                   0.0   \n",
            "378      1.358594      1.358594                   0.0   \n",
            "\n",
            "     multiplicative_terms_lower  multiplicative_terms_upper       yhat  \n",
            "374                         0.0                         0.0  41.673966  \n",
            "375                         0.0                         0.0  37.913623  \n",
            "376                         0.0                         0.0  38.041543  \n",
            "377                         0.0                         0.0  38.340634  \n",
            "378                         0.0                         0.0  40.988178  \n"
          ]
        },
        {
          "output_type": "stream",
          "name": "stderr",
          "text": [
            "INFO:fbprophet:Disabling yearly seasonality. Run prophet with yearly_seasonality=True to override this.\n",
            "INFO:fbprophet:Disabling daily seasonality. Run prophet with daily_seasonality=True to override this.\n"
          ]
        },
        {
          "output_type": "stream",
          "name": "stdout",
          "text": [
            "            ds       trend  yhat_lower  yhat_upper  trend_lower  trend_upper  \\\n",
            "374 2020-02-10  396.633036  171.362730  565.121514   396.558973   396.761291   \n",
            "375 2020-02-11  396.238056  168.290643  574.729570   396.147094   396.392721   \n",
            "376 2020-02-12  395.843075  188.621411  580.906427   395.727123   396.018837   \n",
            "377 2020-02-13  395.448095  167.742097  548.625464   395.307984   395.654504   \n",
            "378 2020-02-14  395.053114  236.521430  599.623916   394.888895   395.288271   \n",
            "\n",
            "     additive_terms  additive_terms_lower  additive_terms_upper     weekly  \\\n",
            "374      -34.633903            -34.633903            -34.633903 -34.633903   \n",
            "375      -21.872028            -21.872028            -21.872028 -21.872028   \n",
            "376       -4.219126             -4.219126             -4.219126  -4.219126   \n",
            "377      -37.001357            -37.001357            -37.001357 -37.001357   \n",
            "378       26.553108             26.553108             26.553108  26.553108   \n",
            "\n",
            "     weekly_lower  weekly_upper  multiplicative_terms  \\\n",
            "374    -34.633903    -34.633903                   0.0   \n",
            "375    -21.872028    -21.872028                   0.0   \n",
            "376     -4.219126     -4.219126                   0.0   \n",
            "377    -37.001357    -37.001357                   0.0   \n",
            "378     26.553108     26.553108                   0.0   \n",
            "\n",
            "     multiplicative_terms_lower  multiplicative_terms_upper        yhat  \n",
            "374                         0.0                         0.0  361.999133  \n",
            "375                         0.0                         0.0  374.366027  \n",
            "376                         0.0                         0.0  391.623949  \n",
            "377                         0.0                         0.0  358.446738  \n",
            "378                         0.0                         0.0  421.606223  \n"
          ]
        },
        {
          "output_type": "stream",
          "name": "stderr",
          "text": [
            "INFO:fbprophet:Disabling yearly seasonality. Run prophet with yearly_seasonality=True to override this.\n",
            "INFO:fbprophet:Disabling daily seasonality. Run prophet with daily_seasonality=True to override this.\n"
          ]
        },
        {
          "output_type": "stream",
          "name": "stdout",
          "text": [
            "            ds       trend  yhat_lower  yhat_upper  trend_lower  trend_upper  \\\n",
            "374 2020-02-10  341.317722  258.155324  424.895238   341.236295   341.401086   \n",
            "375 2020-02-11  341.788492  245.286247  420.203373   341.688791   341.889607   \n",
            "376 2020-02-12  342.259263  247.577972  429.423170   342.135433   342.380532   \n",
            "377 2020-02-13  342.730033  239.648225  413.754323   342.586842   342.875846   \n",
            "378 2020-02-14  343.200803  241.379399  427.111969   343.031458   343.371271   \n",
            "\n",
            "     additive_terms  additive_terms_lower  additive_terms_upper     weekly  \\\n",
            "374        1.261993              1.261993              1.261993   1.261993   \n",
            "375       -8.107779             -8.107779             -8.107779  -8.107779   \n",
            "376        0.848972              0.848972              0.848972   0.848972   \n",
            "377      -11.502598            -11.502598            -11.502598 -11.502598   \n",
            "378       -8.574624             -8.574624             -8.574624  -8.574624   \n",
            "\n",
            "     weekly_lower  weekly_upper  multiplicative_terms  \\\n",
            "374      1.261993      1.261993                   0.0   \n",
            "375     -8.107779     -8.107779                   0.0   \n",
            "376      0.848972      0.848972                   0.0   \n",
            "377    -11.502598    -11.502598                   0.0   \n",
            "378     -8.574624     -8.574624                   0.0   \n",
            "\n",
            "     multiplicative_terms_lower  multiplicative_terms_upper        yhat  \n",
            "374                         0.0                         0.0  342.579714  \n",
            "375                         0.0                         0.0  333.680713  \n",
            "376                         0.0                         0.0  343.108234  \n",
            "377                         0.0                         0.0  331.227435  \n",
            "378                         0.0                         0.0  334.626179  \n"
          ]
        },
        {
          "output_type": "stream",
          "name": "stderr",
          "text": [
            "INFO:fbprophet:Disabling yearly seasonality. Run prophet with yearly_seasonality=True to override this.\n",
            "INFO:fbprophet:Disabling daily seasonality. Run prophet with daily_seasonality=True to override this.\n"
          ]
        },
        {
          "output_type": "stream",
          "name": "stdout",
          "text": [
            "            ds       trend   yhat_lower  yhat_upper  trend_lower  trend_upper  \\\n",
            "374 2020-02-10 -300.552840 -1285.359403  738.670717  -300.689870  -300.356142   \n",
            "375 2020-02-11 -303.760302 -1377.148815  781.347380  -303.940974  -303.523969   \n",
            "376 2020-02-12 -306.967765 -1384.532210  583.624708  -307.193703  -306.681215   \n",
            "377 2020-02-13 -310.175227 -1349.607135  769.178917  -310.433243  -309.849318   \n",
            "378 2020-02-14 -313.382690 -1327.311174  771.652891  -313.696646  -313.011891   \n",
            "\n",
            "     additive_terms  additive_terms_lower  additive_terms_upper     weekly  \\\n",
            "374       59.032058             59.032058             59.032058  59.032058   \n",
            "375      -16.124643            -16.124643            -16.124643 -16.124643   \n",
            "376      -40.086846            -40.086846            -40.086846 -40.086846   \n",
            "377      -35.881043            -35.881043            -35.881043 -35.881043   \n",
            "378        3.575907              3.575907              3.575907   3.575907   \n",
            "\n",
            "     weekly_lower  weekly_upper  multiplicative_terms  \\\n",
            "374     59.032058     59.032058                   0.0   \n",
            "375    -16.124643    -16.124643                   0.0   \n",
            "376    -40.086846    -40.086846                   0.0   \n",
            "377    -35.881043    -35.881043                   0.0   \n",
            "378      3.575907      3.575907                   0.0   \n",
            "\n",
            "     multiplicative_terms_lower  multiplicative_terms_upper        yhat  \n",
            "374                         0.0                         0.0 -241.520782  \n",
            "375                         0.0                         0.0 -319.884945  \n",
            "376                         0.0                         0.0 -347.054611  \n",
            "377                         0.0                         0.0 -346.056271  \n",
            "378                         0.0                         0.0 -309.806783  \n"
          ]
        },
        {
          "output_type": "stream",
          "name": "stderr",
          "text": [
            "INFO:fbprophet:Disabling yearly seasonality. Run prophet with yearly_seasonality=True to override this.\n",
            "INFO:fbprophet:Disabling daily seasonality. Run prophet with daily_seasonality=True to override this.\n"
          ]
        },
        {
          "output_type": "stream",
          "name": "stdout",
          "text": [
            "            ds       trend  yhat_lower  yhat_upper  trend_lower  trend_upper  \\\n",
            "374 2020-02-10  191.363074  125.540103  279.220000   191.300335   191.431346   \n",
            "375 2020-02-11  191.529966  122.155625  271.260456   191.453037   191.612773   \n",
            "376 2020-02-12  191.696859  107.989319  263.201512   191.604462   191.801721   \n",
            "377 2020-02-13  191.863751  115.279590  264.477898   191.753619   191.982759   \n",
            "378 2020-02-14  192.030643  116.631429  266.761181   191.904051   192.168729   \n",
            "\n",
            "     additive_terms  additive_terms_lower  additive_terms_upper     weekly  \\\n",
            "374       12.725874             12.725874             12.725874  12.725874   \n",
            "375        3.502498              3.502498              3.502498   3.502498   \n",
            "376       -5.749518             -5.749518             -5.749518  -5.749518   \n",
            "377        0.226664              0.226664              0.226664   0.226664   \n",
            "378       -1.448199             -1.448199             -1.448199  -1.448199   \n",
            "\n",
            "     weekly_lower  weekly_upper  multiplicative_terms  \\\n",
            "374     12.725874     12.725874                   0.0   \n",
            "375      3.502498      3.502498                   0.0   \n",
            "376     -5.749518     -5.749518                   0.0   \n",
            "377      0.226664      0.226664                   0.0   \n",
            "378     -1.448199     -1.448199                   0.0   \n",
            "\n",
            "     multiplicative_terms_lower  multiplicative_terms_upper        yhat  \n",
            "374                         0.0                         0.0  204.088948  \n",
            "375                         0.0                         0.0  195.032465  \n",
            "376                         0.0                         0.0  185.947340  \n",
            "377                         0.0                         0.0  192.090415  \n",
            "378                         0.0                         0.0  190.582444  \n"
          ]
        },
        {
          "output_type": "stream",
          "name": "stderr",
          "text": [
            "INFO:fbprophet:Disabling yearly seasonality. Run prophet with yearly_seasonality=True to override this.\n",
            "INFO:fbprophet:Disabling daily seasonality. Run prophet with daily_seasonality=True to override this.\n"
          ]
        },
        {
          "output_type": "stream",
          "name": "stdout",
          "text": [
            "            ds      trend  yhat_lower  yhat_upper  trend_lower  trend_upper  \\\n",
            "374 2020-02-10  96.873077 -159.517030  341.645268    96.873076    96.873077   \n",
            "375 2020-02-11  96.629401 -187.275000  306.409226    96.629400    96.629401   \n",
            "376 2020-02-12  96.385725 -136.308306  339.037672    96.385724    96.385725   \n",
            "377 2020-02-13  96.142049 -186.237722  297.355528    96.142048    96.142049   \n",
            "378 2020-02-14  95.898372 -193.928286  295.933289    95.898371    95.898374   \n",
            "\n",
            "     additive_terms  additive_terms_lower  additive_terms_upper     weekly  \\\n",
            "374        0.062808              0.062808              0.062808   0.062808   \n",
            "375      -46.700230            -46.700230            -46.700230 -46.700230   \n",
            "376        1.335035              1.335035              1.335035   1.335035   \n",
            "377      -52.111392            -52.111392            -52.111392 -52.111392   \n",
            "378      -49.113842            -49.113842            -49.113842 -49.113842   \n",
            "\n",
            "     weekly_lower  weekly_upper  multiplicative_terms  \\\n",
            "374      0.062808      0.062808                   0.0   \n",
            "375    -46.700230    -46.700230                   0.0   \n",
            "376      1.335035      1.335035                   0.0   \n",
            "377    -52.111392    -52.111392                   0.0   \n",
            "378    -49.113842    -49.113842                   0.0   \n",
            "\n",
            "     multiplicative_terms_lower  multiplicative_terms_upper       yhat  \n",
            "374                         0.0                         0.0  96.935885  \n",
            "375                         0.0                         0.0  49.929171  \n",
            "376                         0.0                         0.0  97.720760  \n",
            "377                         0.0                         0.0  44.030657  \n",
            "378                         0.0                         0.0  46.784531  \n"
          ]
        },
        {
          "output_type": "stream",
          "name": "stderr",
          "text": [
            "INFO:fbprophet:Disabling yearly seasonality. Run prophet with yearly_seasonality=True to override this.\n",
            "INFO:fbprophet:Disabling daily seasonality. Run prophet with daily_seasonality=True to override this.\n"
          ]
        },
        {
          "output_type": "stream",
          "name": "stdout",
          "text": [
            "            ds      trend  yhat_lower  yhat_upper  trend_lower  trend_upper  \\\n",
            "374 2020-02-10  72.735329   18.389161  154.064616    72.579816    72.864255   \n",
            "375 2020-02-11  73.544710   -1.789732  130.591961    73.359506    73.713226   \n",
            "376 2020-02-12  74.354091    9.864482  147.931234    74.130415    74.564682   \n",
            "377 2020-02-13  75.163472   -0.038690  138.072027    74.901576    75.412424   \n",
            "378 2020-02-14  75.972853   16.725505  151.791999    75.668202    76.258979   \n",
            "\n",
            "     additive_terms  additive_terms_lower  additive_terms_upper     weekly  \\\n",
            "374       13.783577             13.783577             13.783577  13.783577   \n",
            "375       -6.498672             -6.498672             -6.498672  -6.498672   \n",
            "376        3.118972              3.118972              3.118972   3.118972   \n",
            "377       -7.301662             -7.301662             -7.301662  -7.301662   \n",
            "378       11.036363             11.036363             11.036363  11.036363   \n",
            "\n",
            "     weekly_lower  weekly_upper  multiplicative_terms  \\\n",
            "374     13.783577     13.783577                   0.0   \n",
            "375     -6.498672     -6.498672                   0.0   \n",
            "376      3.118972      3.118972                   0.0   \n",
            "377     -7.301662     -7.301662                   0.0   \n",
            "378     11.036363     11.036363                   0.0   \n",
            "\n",
            "     multiplicative_terms_lower  multiplicative_terms_upper       yhat  \n",
            "374                         0.0                         0.0  86.518906  \n",
            "375                         0.0                         0.0  67.046038  \n",
            "376                         0.0                         0.0  77.473064  \n",
            "377                         0.0                         0.0  67.861810  \n",
            "378                         0.0                         0.0  87.009216  \n"
          ]
        },
        {
          "output_type": "stream",
          "name": "stderr",
          "text": [
            "INFO:fbprophet:Disabling yearly seasonality. Run prophet with yearly_seasonality=True to override this.\n",
            "INFO:fbprophet:Disabling daily seasonality. Run prophet with daily_seasonality=True to override this.\n"
          ]
        },
        {
          "output_type": "stream",
          "name": "stdout",
          "text": [
            "            ds       trend  yhat_lower  yhat_upper  trend_lower  trend_upper  \\\n",
            "374 2020-02-10  155.079527 -151.270125  386.247789   155.011878   155.159221   \n",
            "375 2020-02-11  154.754207 -134.156489  442.995038   154.667790   154.850060   \n",
            "376 2020-02-12  154.428888 -142.507124  416.719843   154.322469   154.542846   \n",
            "377 2020-02-13  154.103569 -138.232420  424.759684   153.976880   154.239196   \n",
            "378 2020-02-14  153.778249 -105.593500  454.249816   153.626823   153.939613   \n",
            "\n",
            "     additive_terms  additive_terms_lower  additive_terms_upper     weekly  \\\n",
            "374      -29.223799            -29.223799            -29.223799 -29.223799   \n",
            "375        4.730428              4.730428              4.730428   4.730428   \n",
            "376      -29.538218            -29.538218            -29.538218 -29.538218   \n",
            "377      -17.343132            -17.343132            -17.343132 -17.343132   \n",
            "378       16.755490             16.755490             16.755490  16.755490   \n",
            "\n",
            "     weekly_lower  weekly_upper  multiplicative_terms  \\\n",
            "374    -29.223799    -29.223799                   0.0   \n",
            "375      4.730428      4.730428                   0.0   \n",
            "376    -29.538218    -29.538218                   0.0   \n",
            "377    -17.343132    -17.343132                   0.0   \n",
            "378     16.755490     16.755490                   0.0   \n",
            "\n",
            "     multiplicative_terms_lower  multiplicative_terms_upper        yhat  \n",
            "374                         0.0                         0.0  125.855727  \n",
            "375                         0.0                         0.0  159.484635  \n",
            "376                         0.0                         0.0  124.890670  \n",
            "377                         0.0                         0.0  136.760437  \n",
            "378                         0.0                         0.0  170.533739  \n"
          ]
        },
        {
          "output_type": "stream",
          "name": "stderr",
          "text": [
            "INFO:fbprophet:Disabling yearly seasonality. Run prophet with yearly_seasonality=True to override this.\n",
            "INFO:fbprophet:Disabling daily seasonality. Run prophet with daily_seasonality=True to override this.\n"
          ]
        },
        {
          "output_type": "stream",
          "name": "stdout",
          "text": [
            "            ds      trend  yhat_lower  yhat_upper  trend_lower  trend_upper  \\\n",
            "374 2020-02-10  19.281881  -49.937573   76.729033    19.280510    19.283521   \n",
            "375 2020-02-11  19.303477  -44.503264   78.605174    19.301715    19.305459   \n",
            "376 2020-02-12  19.325073  -18.071088  103.054565    19.322921    19.327414   \n",
            "377 2020-02-13  19.346669  -27.471035   97.527582    19.344149    19.349438   \n",
            "378 2020-02-14  19.368265  -42.593459   86.806290    19.365284    19.371278   \n",
            "\n",
            "     additive_terms  additive_terms_lower  additive_terms_upper     weekly  \\\n",
            "374       -4.166774             -4.166774             -4.166774  -4.166774   \n",
            "375       -2.370623             -2.370623             -2.370623  -2.370623   \n",
            "376       23.238457             23.238457             23.238457  23.238457   \n",
            "377       10.704264             10.704264             10.704264  10.704264   \n",
            "378        0.461875              0.461875              0.461875   0.461875   \n",
            "\n",
            "     weekly_lower  weekly_upper  multiplicative_terms  \\\n",
            "374     -4.166774     -4.166774                   0.0   \n",
            "375     -2.370623     -2.370623                   0.0   \n",
            "376     23.238457     23.238457                   0.0   \n",
            "377     10.704264     10.704264                   0.0   \n",
            "378      0.461875      0.461875                   0.0   \n",
            "\n",
            "     multiplicative_terms_lower  multiplicative_terms_upper       yhat  \n",
            "374                         0.0                         0.0  15.115107  \n",
            "375                         0.0                         0.0  16.932854  \n",
            "376                         0.0                         0.0  42.563530  \n",
            "377                         0.0                         0.0  30.050933  \n",
            "378                         0.0                         0.0  19.830140  \n"
          ]
        },
        {
          "output_type": "stream",
          "name": "stderr",
          "text": [
            "INFO:fbprophet:Disabling yearly seasonality. Run prophet with yearly_seasonality=True to override this.\n",
            "INFO:fbprophet:Disabling daily seasonality. Run prophet with daily_seasonality=True to override this.\n"
          ]
        },
        {
          "output_type": "stream",
          "name": "stdout",
          "text": [
            "            ds  trend    yhat_lower    yhat_upper   trend_lower   trend_upper  \\\n",
            "289 2020-02-10    0.0 -1.348686e-09  1.331366e-09 -8.691986e-11  1.191501e-10   \n",
            "290 2020-02-11    0.0 -1.326833e-09  1.377051e-09 -1.219317e-10  1.488507e-10   \n",
            "291 2020-02-12    0.0 -1.310395e-09  1.390346e-09 -1.556680e-10  1.735450e-10   \n",
            "292 2020-02-13    0.0 -1.311156e-09  1.252743e-09 -1.792240e-10  2.019525e-10   \n",
            "293 2020-02-14    0.0 -1.300491e-09  1.323852e-09 -2.150226e-10  2.494617e-10   \n",
            "\n",
            "     additive_terms  additive_terms_lower  additive_terms_upper  weekly  \\\n",
            "289             0.0                   0.0                   0.0     0.0   \n",
            "290             0.0                   0.0                   0.0     0.0   \n",
            "291             0.0                   0.0                   0.0     0.0   \n",
            "292             0.0                   0.0                   0.0     0.0   \n",
            "293             0.0                   0.0                   0.0     0.0   \n",
            "\n",
            "     weekly_lower  weekly_upper  multiplicative_terms  \\\n",
            "289           0.0           0.0                   0.0   \n",
            "290           0.0           0.0                   0.0   \n",
            "291           0.0           0.0                   0.0   \n",
            "292           0.0           0.0                   0.0   \n",
            "293           0.0           0.0                   0.0   \n",
            "\n",
            "     multiplicative_terms_lower  multiplicative_terms_upper  yhat  \n",
            "289                         0.0                         0.0   0.0  \n",
            "290                         0.0                         0.0   0.0  \n",
            "291                         0.0                         0.0   0.0  \n",
            "292                         0.0                         0.0   0.0  \n",
            "293                         0.0                         0.0   0.0  \n"
          ]
        },
        {
          "output_type": "stream",
          "name": "stderr",
          "text": [
            "INFO:fbprophet:Disabling yearly seasonality. Run prophet with yearly_seasonality=True to override this.\n",
            "INFO:fbprophet:Disabling daily seasonality. Run prophet with daily_seasonality=True to override this.\n"
          ]
        },
        {
          "output_type": "stream",
          "name": "stdout",
          "text": [
            "            ds      trend   yhat_lower   yhat_upper  trend_lower  trend_upper  \\\n",
            "374 2020-02-10  55.641492 -1118.995050  1668.977912    55.421091    55.835486   \n",
            "375 2020-02-11  53.906303 -1278.774284  1688.945905    53.634042    54.138331   \n",
            "376 2020-02-12  52.171114 -1284.747842  1577.220758    51.836735    52.451304   \n",
            "377 2020-02-13  50.435925 -1308.136653  1480.629244    50.049164    50.767588   \n",
            "378 2020-02-14  48.700736 -1353.661277  1375.820774    48.256463    49.100095   \n",
            "\n",
            "     additive_terms  additive_terms_lower  additive_terms_upper      weekly  \\\n",
            "374      154.507178            154.507178            154.507178  154.507178   \n",
            "375       85.842567             85.842567             85.842567   85.842567   \n",
            "376      102.891970            102.891970            102.891970  102.891970   \n",
            "377       73.443670             73.443670             73.443670   73.443670   \n",
            "378     -117.336165           -117.336165           -117.336165 -117.336165   \n",
            "\n",
            "     weekly_lower  weekly_upper  multiplicative_terms  \\\n",
            "374    154.507178    154.507178                   0.0   \n",
            "375     85.842567     85.842567                   0.0   \n",
            "376    102.891970    102.891970                   0.0   \n",
            "377     73.443670     73.443670                   0.0   \n",
            "378   -117.336165   -117.336165                   0.0   \n",
            "\n",
            "     multiplicative_terms_lower  multiplicative_terms_upper        yhat  \n",
            "374                         0.0                         0.0  210.148670  \n",
            "375                         0.0                         0.0  139.748870  \n",
            "376                         0.0                         0.0  155.063084  \n",
            "377                         0.0                         0.0  123.879595  \n",
            "378                         0.0                         0.0  -68.635429  \n"
          ]
        },
        {
          "output_type": "stream",
          "name": "stderr",
          "text": [
            "INFO:fbprophet:Disabling yearly seasonality. Run prophet with yearly_seasonality=True to override this.\n",
            "INFO:fbprophet:Disabling daily seasonality. Run prophet with daily_seasonality=True to override this.\n"
          ]
        },
        {
          "output_type": "stream",
          "name": "stdout",
          "text": [
            "            ds      trend  yhat_lower  yhat_upper  trend_lower  trend_upper  \\\n",
            "374 2020-02-10  12.386976  -49.203018   77.955906    12.289691    12.478835   \n",
            "375 2020-02-11  12.167135  -48.746083   71.654403    12.048207    12.279878   \n",
            "376 2020-02-12  11.947293  -47.834877   71.006865    11.808868    12.081564   \n",
            "377 2020-02-13  11.727451  -53.322762   67.908440    11.559467    11.895687   \n",
            "378 2020-02-14  11.507610  -63.042363   59.833370    11.314726    11.701123   \n",
            "\n",
            "     additive_terms  additive_terms_lower  additive_terms_upper     weekly  \\\n",
            "374        0.690028              0.690028              0.690028   0.690028   \n",
            "375        1.115947              1.115947              1.115947   1.115947   \n",
            "376        0.741285              0.741285              0.741285   0.741285   \n",
            "377       -3.427448             -3.427448             -3.427448  -3.427448   \n",
            "378      -13.935875            -13.935875            -13.935875 -13.935875   \n",
            "\n",
            "     weekly_lower  weekly_upper  multiplicative_terms  \\\n",
            "374      0.690028      0.690028                   0.0   \n",
            "375      1.115947      1.115947                   0.0   \n",
            "376      0.741285      0.741285                   0.0   \n",
            "377     -3.427448     -3.427448                   0.0   \n",
            "378    -13.935875    -13.935875                   0.0   \n",
            "\n",
            "     multiplicative_terms_lower  multiplicative_terms_upper       yhat  \n",
            "374                         0.0                         0.0  13.077005  \n",
            "375                         0.0                         0.0  13.283082  \n",
            "376                         0.0                         0.0  12.688578  \n",
            "377                         0.0                         0.0   8.300003  \n",
            "378                         0.0                         0.0  -2.428265  \n"
          ]
        },
        {
          "output_type": "stream",
          "name": "stderr",
          "text": [
            "INFO:fbprophet:Disabling yearly seasonality. Run prophet with yearly_seasonality=True to override this.\n",
            "INFO:fbprophet:Disabling daily seasonality. Run prophet with daily_seasonality=True to override this.\n"
          ]
        },
        {
          "output_type": "stream",
          "name": "stdout",
          "text": [
            "            ds       trend  yhat_lower  yhat_upper  trend_lower  trend_upper  \\\n",
            "374 2020-02-10  166.691371   83.841960  294.019482   166.690777   166.692006   \n",
            "375 2020-02-11  166.778140   74.914572  282.699339   166.777402   166.778909   \n",
            "376 2020-02-12  166.864909   61.255297  280.117325   166.864027   166.865786   \n",
            "377 2020-02-13  166.951678   50.667118  254.258969   166.950664   166.952706   \n",
            "378 2020-02-14  167.038447   54.644847  267.522905   167.037251   167.039624   \n",
            "\n",
            "     additive_terms  additive_terms_lower  additive_terms_upper     weekly  \\\n",
            "374       24.688665             24.688665             24.688665  24.688665   \n",
            "375       12.068581             12.068581             12.068581  12.068581   \n",
            "376        3.416768              3.416768              3.416768   3.416768   \n",
            "377      -12.620377            -12.620377            -12.620377 -12.620377   \n",
            "378       -7.646347             -7.646347             -7.646347  -7.646347   \n",
            "\n",
            "     weekly_lower  weekly_upper  multiplicative_terms  \\\n",
            "374     24.688665     24.688665                   0.0   \n",
            "375     12.068581     12.068581                   0.0   \n",
            "376      3.416768      3.416768                   0.0   \n",
            "377    -12.620377    -12.620377                   0.0   \n",
            "378     -7.646347     -7.646347                   0.0   \n",
            "\n",
            "     multiplicative_terms_lower  multiplicative_terms_upper        yhat  \n",
            "374                         0.0                         0.0  191.380036  \n",
            "375                         0.0                         0.0  178.846721  \n",
            "376                         0.0                         0.0  170.281677  \n",
            "377                         0.0                         0.0  154.331301  \n",
            "378                         0.0                         0.0  159.392100  \n"
          ]
        },
        {
          "output_type": "stream",
          "name": "stderr",
          "text": [
            "INFO:fbprophet:Disabling yearly seasonality. Run prophet with yearly_seasonality=True to override this.\n",
            "INFO:fbprophet:Disabling daily seasonality. Run prophet with daily_seasonality=True to override this.\n"
          ]
        },
        {
          "output_type": "stream",
          "name": "stdout",
          "text": [
            "            ds       trend  yhat_lower  yhat_upper  trend_lower  trend_upper  \\\n",
            "374 2020-02-10  288.997917  138.514354  447.359870   288.610584   289.277248   \n",
            "375 2020-02-11  289.957656  130.306650  444.088627   289.501845   290.298128   \n",
            "376 2020-02-12  290.917395  146.416551  463.097219   290.380128   291.333155   \n",
            "377 2020-02-13  291.877134  167.515756  476.390002   291.249290   292.393311   \n",
            "378 2020-02-14  292.836873   91.693266  413.709624   292.130931   293.446959   \n",
            "\n",
            "     additive_terms  additive_terms_lower  additive_terms_upper     weekly  \\\n",
            "374        4.392031              4.392031              4.392031   4.392031   \n",
            "375        4.394581              4.394581              4.394581   4.394581   \n",
            "376       19.060350             19.060350             19.060350  19.060350   \n",
            "377       36.317175             36.317175             36.317175  36.317175   \n",
            "378      -38.273837            -38.273837            -38.273837 -38.273837   \n",
            "\n",
            "     weekly_lower  weekly_upper  multiplicative_terms  \\\n",
            "374      4.392031      4.392031                   0.0   \n",
            "375      4.394581      4.394581                   0.0   \n",
            "376     19.060350     19.060350                   0.0   \n",
            "377     36.317175     36.317175                   0.0   \n",
            "378    -38.273837    -38.273837                   0.0   \n",
            "\n",
            "     multiplicative_terms_lower  multiplicative_terms_upper        yhat  \n",
            "374                         0.0                         0.0  293.389948  \n",
            "375                         0.0                         0.0  294.352237  \n",
            "376                         0.0                         0.0  309.977745  \n",
            "377                         0.0                         0.0  328.194309  \n",
            "378                         0.0                         0.0  254.563037  \n"
          ]
        },
        {
          "output_type": "stream",
          "name": "stderr",
          "text": [
            "INFO:fbprophet:Disabling yearly seasonality. Run prophet with yearly_seasonality=True to override this.\n",
            "INFO:fbprophet:Disabling daily seasonality. Run prophet with daily_seasonality=True to override this.\n"
          ]
        },
        {
          "output_type": "stream",
          "name": "stdout",
          "text": [
            "            ds       trend  yhat_lower  yhat_upper  trend_lower  trend_upper  \\\n",
            "374 2020-02-10  298.645848   45.705326  526.176276   298.514182   298.783837   \n",
            "375 2020-02-11  298.118749   17.698166  515.243674   297.961238   298.284420   \n",
            "376 2020-02-12  297.591650   35.617210  527.346031   297.404553   297.786667   \n",
            "377 2020-02-13  297.064552   70.947771  561.349135   296.845697   297.296750   \n",
            "378 2020-02-14  296.537453   80.239769  575.423688   296.273448   296.802349   \n",
            "\n",
            "     additive_terms  additive_terms_lower  additive_terms_upper     weekly  \\\n",
            "374      -10.639685            -10.639685            -10.639685 -10.639685   \n",
            "375      -25.083341            -25.083341            -25.083341 -25.083341   \n",
            "376      -22.413196            -22.413196            -22.413196 -22.413196   \n",
            "377        8.645330              8.645330              8.645330   8.645330   \n",
            "378       42.648407             42.648407             42.648407  42.648407   \n",
            "\n",
            "     weekly_lower  weekly_upper  multiplicative_terms  \\\n",
            "374    -10.639685    -10.639685                   0.0   \n",
            "375    -25.083341    -25.083341                   0.0   \n",
            "376    -22.413196    -22.413196                   0.0   \n",
            "377      8.645330      8.645330                   0.0   \n",
            "378     42.648407     42.648407                   0.0   \n",
            "\n",
            "     multiplicative_terms_lower  multiplicative_terms_upper        yhat  \n",
            "374                         0.0                         0.0  288.006162  \n",
            "375                         0.0                         0.0  273.035408  \n",
            "376                         0.0                         0.0  275.178454  \n",
            "377                         0.0                         0.0  305.709882  \n",
            "378                         0.0                         0.0  339.185861  \n"
          ]
        },
        {
          "output_type": "stream",
          "name": "stderr",
          "text": [
            "INFO:fbprophet:Disabling yearly seasonality. Run prophet with yearly_seasonality=True to override this.\n",
            "INFO:fbprophet:Disabling daily seasonality. Run prophet with daily_seasonality=True to override this.\n"
          ]
        },
        {
          "output_type": "stream",
          "name": "stdout",
          "text": [
            "            ds       trend  yhat_lower  yhat_upper  trend_lower  trend_upper  \\\n",
            "374 2020-02-10  271.537345  153.421034  405.207724   271.236503   271.859476   \n",
            "375 2020-02-11  271.497993  127.631035  399.687273   271.134431   271.888035   \n",
            "376 2020-02-12  271.458640  169.980368  418.798347   271.007000   271.908783   \n",
            "377 2020-02-13  271.419288  146.907360  400.012993   270.867786   271.947073   \n",
            "378 2020-02-14  271.379936  152.290324  404.803751   270.726893   271.981065   \n",
            "\n",
            "     additive_terms  additive_terms_lower  additive_terms_upper     weekly  \\\n",
            "374        5.505298              5.505298              5.505298   5.505298   \n",
            "375      -11.675508            -11.675508            -11.675508 -11.675508   \n",
            "376       17.876053             17.876053             17.876053  17.876053   \n",
            "377        5.092954              5.092954              5.092954   5.092954   \n",
            "378        9.898049              9.898049              9.898049   9.898049   \n",
            "\n",
            "     weekly_lower  weekly_upper  multiplicative_terms  \\\n",
            "374      5.505298      5.505298                   0.0   \n",
            "375    -11.675508    -11.675508                   0.0   \n",
            "376     17.876053     17.876053                   0.0   \n",
            "377      5.092954      5.092954                   0.0   \n",
            "378      9.898049      9.898049                   0.0   \n",
            "\n",
            "     multiplicative_terms_lower  multiplicative_terms_upper        yhat  \n",
            "374                         0.0                         0.0  277.042643  \n",
            "375                         0.0                         0.0  259.822485  \n",
            "376                         0.0                         0.0  289.334693  \n",
            "377                         0.0                         0.0  276.512242  \n",
            "378                         0.0                         0.0  281.277985  \n"
          ]
        },
        {
          "output_type": "stream",
          "name": "stderr",
          "text": [
            "INFO:fbprophet:Disabling yearly seasonality. Run prophet with yearly_seasonality=True to override this.\n",
            "INFO:fbprophet:Disabling daily seasonality. Run prophet with daily_seasonality=True to override this.\n"
          ]
        },
        {
          "output_type": "stream",
          "name": "stdout",
          "text": [
            "            ds       trend  yhat_lower  yhat_upper  trend_lower  trend_upper  \\\n",
            "374 2020-02-10  587.582167  259.024243  885.510368   586.172821   589.052165   \n",
            "375 2020-02-11  583.558185  383.430832  982.204172   581.838872   585.335845   \n",
            "376 2020-02-12  579.534203  247.640982  823.044949   577.450082   581.637522   \n",
            "377 2020-02-13  575.510222  373.223119  998.214180   573.005050   578.098484   \n",
            "378 2020-02-14  571.486240  305.711091  910.301814   568.642866   574.393900   \n",
            "\n",
            "     additive_terms  additive_terms_lower  additive_terms_upper      weekly  \\\n",
            "374      -19.265816            -19.265816            -19.265816  -19.265816   \n",
            "375       98.623996             98.623996             98.623996   98.623996   \n",
            "376      -56.579880            -56.579880            -56.579880  -56.579880   \n",
            "377      101.658731            101.658731            101.658731  101.658731   \n",
            "378       38.136429             38.136429             38.136429   38.136429   \n",
            "\n",
            "     weekly_lower  weekly_upper  multiplicative_terms  \\\n",
            "374    -19.265816    -19.265816                   0.0   \n",
            "375     98.623996     98.623996                   0.0   \n",
            "376    -56.579880    -56.579880                   0.0   \n",
            "377    101.658731    101.658731                   0.0   \n",
            "378     38.136429     38.136429                   0.0   \n",
            "\n",
            "     multiplicative_terms_lower  multiplicative_terms_upper        yhat  \n",
            "374                         0.0                         0.0  568.316351  \n",
            "375                         0.0                         0.0  682.182181  \n",
            "376                         0.0                         0.0  522.954323  \n",
            "377                         0.0                         0.0  677.168952  \n",
            "378                         0.0                         0.0  609.622669  \n"
          ]
        },
        {
          "output_type": "stream",
          "name": "stderr",
          "text": [
            "INFO:fbprophet:Disabling yearly seasonality. Run prophet with yearly_seasonality=True to override this.\n",
            "INFO:fbprophet:Disabling daily seasonality. Run prophet with daily_seasonality=True to override this.\n"
          ]
        },
        {
          "output_type": "stream",
          "name": "stdout",
          "text": [
            "            ds       trend  yhat_lower  yhat_upper  trend_lower  trend_upper  \\\n",
            "374 2020-02-10  329.434354   78.818521  596.863593   329.209775   329.589839   \n",
            "375 2020-02-11  330.272083   88.548528  612.732387   329.999449   330.458947   \n",
            "376 2020-02-12  331.109812   94.173314  633.386758   330.802741   331.341318   \n",
            "377 2020-02-13  331.947540   89.186360  604.503792   331.595292   332.229486   \n",
            "378 2020-02-14  332.785269  168.534983  676.166823   332.379371   333.122348   \n",
            "\n",
            "     additive_terms  additive_terms_lower  additive_terms_upper     weekly  \\\n",
            "374        7.599813              7.599813              7.599813   7.599813   \n",
            "375       17.306474             17.306474             17.306474  17.306474   \n",
            "376       28.127304             28.127304             28.127304  28.127304   \n",
            "377       24.615557             24.615557             24.615557  24.615557   \n",
            "378       94.056473             94.056473             94.056473  94.056473   \n",
            "\n",
            "     weekly_lower  weekly_upper  multiplicative_terms  \\\n",
            "374      7.599813      7.599813                   0.0   \n",
            "375     17.306474     17.306474                   0.0   \n",
            "376     28.127304     28.127304                   0.0   \n",
            "377     24.615557     24.615557                   0.0   \n",
            "378     94.056473     94.056473                   0.0   \n",
            "\n",
            "     multiplicative_terms_lower  multiplicative_terms_upper        yhat  \n",
            "374                         0.0                         0.0  337.034168  \n",
            "375                         0.0                         0.0  347.578557  \n",
            "376                         0.0                         0.0  359.237116  \n",
            "377                         0.0                         0.0  356.563098  \n",
            "378                         0.0                         0.0  426.841742  \n"
          ]
        },
        {
          "output_type": "stream",
          "name": "stderr",
          "text": [
            "INFO:fbprophet:Disabling yearly seasonality. Run prophet with yearly_seasonality=True to override this.\n",
            "INFO:fbprophet:Disabling daily seasonality. Run prophet with daily_seasonality=True to override this.\n"
          ]
        },
        {
          "output_type": "stream",
          "name": "stdout",
          "text": [
            "            ds      trend  yhat_lower  yhat_upper  trend_lower  trend_upper  \\\n",
            "374 2020-02-10  11.810796  -29.966571   65.376393    11.769270    11.846684   \n",
            "375 2020-02-11  11.754482  -36.995190   54.737987    11.702213    11.798998   \n",
            "376 2020-02-12  11.698168  -40.496191   52.933890    11.639280    11.751926   \n",
            "377 2020-02-13  11.641854  -41.857650   48.672984    11.572975    11.705736   \n",
            "378 2020-02-14  11.585541  -30.239394   59.308925    11.505226    11.660168   \n",
            "\n",
            "     additive_terms  additive_terms_lower  additive_terms_upper    weekly  \\\n",
            "374        4.058324              4.058324              4.058324  4.058324   \n",
            "375       -2.895265             -2.895265             -2.895265 -2.895265   \n",
            "376       -5.117547             -5.117547             -5.117547 -5.117547   \n",
            "377       -9.771183             -9.771183             -9.771183 -9.771183   \n",
            "378        1.543702              1.543702              1.543702  1.543702   \n",
            "\n",
            "     weekly_lower  weekly_upper  multiplicative_terms  \\\n",
            "374      4.058324      4.058324                   0.0   \n",
            "375     -2.895265     -2.895265                   0.0   \n",
            "376     -5.117547     -5.117547                   0.0   \n",
            "377     -9.771183     -9.771183                   0.0   \n",
            "378      1.543702      1.543702                   0.0   \n",
            "\n",
            "     multiplicative_terms_lower  multiplicative_terms_upper       yhat  \n",
            "374                         0.0                         0.0  15.869119  \n",
            "375                         0.0                         0.0   8.859217  \n",
            "376                         0.0                         0.0   6.580621  \n",
            "377                         0.0                         0.0   1.870671  \n",
            "378                         0.0                         0.0  13.129243  \n"
          ]
        },
        {
          "output_type": "stream",
          "name": "stderr",
          "text": [
            "INFO:fbprophet:Disabling yearly seasonality. Run prophet with yearly_seasonality=True to override this.\n",
            "INFO:fbprophet:Disabling daily seasonality. Run prophet with daily_seasonality=True to override this.\n"
          ]
        },
        {
          "output_type": "stream",
          "name": "stdout",
          "text": [
            "            ds     trend  yhat_lower  yhat_upper  trend_lower  trend_upper  \\\n",
            "374 2020-02-10 -1.042074  -46.849533   43.137213    -1.043205    -1.040960   \n",
            "375 2020-02-11 -1.059767  -44.608648   44.749676    -1.061207    -1.058424   \n",
            "376 2020-02-12 -1.077460  -46.084340   41.635505    -1.079156    -1.075872   \n",
            "377 2020-02-13 -1.095152  -45.396063   42.105130    -1.097055    -1.093221   \n",
            "378 2020-02-14 -1.112845  -31.368882   57.412204    -1.114971    -1.110614   \n",
            "\n",
            "     additive_terms  additive_terms_lower  additive_terms_upper     weekly  \\\n",
            "374       -2.363926             -2.363926             -2.363926  -2.363926   \n",
            "375       -0.750244             -0.750244             -0.750244  -0.750244   \n",
            "376       -2.328498             -2.328498             -2.328498  -2.328498   \n",
            "377       -2.310694             -2.310694             -2.310694  -2.310694   \n",
            "378       12.380546             12.380546             12.380546  12.380546   \n",
            "\n",
            "     weekly_lower  weekly_upper  multiplicative_terms  \\\n",
            "374     -2.363926     -2.363926                   0.0   \n",
            "375     -0.750244     -0.750244                   0.0   \n",
            "376     -2.328498     -2.328498                   0.0   \n",
            "377     -2.310694     -2.310694                   0.0   \n",
            "378     12.380546     12.380546                   0.0   \n",
            "\n",
            "     multiplicative_terms_lower  multiplicative_terms_upper       yhat  \n",
            "374                         0.0                         0.0  -3.406000  \n",
            "375                         0.0                         0.0  -1.810011  \n",
            "376                         0.0                         0.0  -3.405957  \n",
            "377                         0.0                         0.0  -3.405846  \n",
            "378                         0.0                         0.0  11.267701  \n"
          ]
        },
        {
          "output_type": "stream",
          "name": "stderr",
          "text": [
            "INFO:fbprophet:Disabling yearly seasonality. Run prophet with yearly_seasonality=True to override this.\n",
            "INFO:fbprophet:Disabling daily seasonality. Run prophet with daily_seasonality=True to override this.\n"
          ]
        },
        {
          "output_type": "stream",
          "name": "stdout",
          "text": [
            "            ds       trend  yhat_lower  yhat_upper  trend_lower  trend_upper  \\\n",
            "374 2020-02-10  184.451282   53.017791  265.195487   183.764101   185.094220   \n",
            "375 2020-02-11  184.998352   47.305876  269.519696   184.117455   185.837703   \n",
            "376 2020-02-12  185.545423   65.302491  298.317638   184.459185   186.601628   \n",
            "377 2020-02-13  186.092493   34.250948  256.421856   184.817266   187.283728   \n",
            "378 2020-02-14  186.639564   53.091085  264.016581   185.211552   187.992450   \n",
            "\n",
            "     additive_terms  additive_terms_lower  additive_terms_upper     weekly  \\\n",
            "374      -21.612478            -21.612478            -21.612478 -21.612478   \n",
            "375      -25.260516            -25.260516            -25.260516 -25.260516   \n",
            "376       -2.818476             -2.818476             -2.818476  -2.818476   \n",
            "377      -36.263599            -36.263599            -36.263599 -36.263599   \n",
            "378      -25.431128            -25.431128            -25.431128 -25.431128   \n",
            "\n",
            "     weekly_lower  weekly_upper  multiplicative_terms  \\\n",
            "374    -21.612478    -21.612478                   0.0   \n",
            "375    -25.260516    -25.260516                   0.0   \n",
            "376     -2.818476     -2.818476                   0.0   \n",
            "377    -36.263599    -36.263599                   0.0   \n",
            "378    -25.431128    -25.431128                   0.0   \n",
            "\n",
            "     multiplicative_terms_lower  multiplicative_terms_upper        yhat  \n",
            "374                         0.0                         0.0  162.838804  \n",
            "375                         0.0                         0.0  159.737837  \n",
            "376                         0.0                         0.0  182.726947  \n",
            "377                         0.0                         0.0  149.828894  \n",
            "378                         0.0                         0.0  161.208436  \n"
          ]
        },
        {
          "output_type": "stream",
          "name": "stderr",
          "text": [
            "INFO:fbprophet:Disabling yearly seasonality. Run prophet with yearly_seasonality=True to override this.\n",
            "INFO:fbprophet:Disabling daily seasonality. Run prophet with daily_seasonality=True to override this.\n"
          ]
        },
        {
          "output_type": "stream",
          "name": "stdout",
          "text": [
            "            ds       trend  yhat_lower  yhat_upper  trend_lower  trend_upper  \\\n",
            "354 2020-02-10  104.030687  -27.126325  222.753352   103.930988   104.127346   \n",
            "355 2020-02-11  103.885375  -38.275963  207.301798   103.759344   103.994607   \n",
            "356 2020-02-12  103.740064  -26.563077  233.748659   103.591480   103.866899   \n",
            "357 2020-02-13  103.594753  -21.409094  227.675196   103.418164   103.740615   \n",
            "358 2020-02-14  103.449442  -30.872955  217.954550   103.249797   103.617342   \n",
            "\n",
            "     additive_terms  additive_terms_lower  additive_terms_upper     weekly  \\\n",
            "354       -2.856119             -2.856119             -2.856119  -2.856119   \n",
            "355      -20.770087            -20.770087            -20.770087 -20.770087   \n",
            "356       -4.842515             -4.842515             -4.842515  -4.842515   \n",
            "357        2.975673              2.975673              2.975673   2.975673   \n",
            "358       -9.979168             -9.979168             -9.979168  -9.979168   \n",
            "\n",
            "     weekly_lower  weekly_upper  multiplicative_terms  \\\n",
            "354     -2.856119     -2.856119                   0.0   \n",
            "355    -20.770087    -20.770087                   0.0   \n",
            "356     -4.842515     -4.842515                   0.0   \n",
            "357      2.975673      2.975673                   0.0   \n",
            "358     -9.979168     -9.979168                   0.0   \n",
            "\n",
            "     multiplicative_terms_lower  multiplicative_terms_upper        yhat  \n",
            "354                         0.0                         0.0  101.174567  \n",
            "355                         0.0                         0.0   83.115288  \n",
            "356                         0.0                         0.0   98.897549  \n",
            "357                         0.0                         0.0  106.570426  \n",
            "358                         0.0                         0.0   93.470273  \n"
          ]
        },
        {
          "output_type": "stream",
          "name": "stderr",
          "text": [
            "INFO:fbprophet:Disabling yearly seasonality. Run prophet with yearly_seasonality=True to override this.\n",
            "INFO:fbprophet:Disabling daily seasonality. Run prophet with daily_seasonality=True to override this.\n"
          ]
        },
        {
          "output_type": "stream",
          "name": "stdout",
          "text": [
            "            ds       trend  yhat_lower  yhat_upper  trend_lower  trend_upper  \\\n",
            "374 2020-02-10  220.701143   60.979596  379.152918   220.146953   221.170814   \n",
            "375 2020-02-11  219.514081   40.495134  382.356924   218.852281   220.105344   \n",
            "376 2020-02-12  218.327019   56.159293  370.301583   217.521189   219.071293   \n",
            "377 2020-02-13  217.139957   87.990679  413.925681   216.224216   218.034282   \n",
            "378 2020-02-14  215.952895   57.285592  387.235965   214.851615   216.968630   \n",
            "\n",
            "     additive_terms  additive_terms_lower  additive_terms_upper     weekly  \\\n",
            "374       -1.340718             -1.340718             -1.340718  -1.340718   \n",
            "375       -9.398459             -9.398459             -9.398459  -9.398459   \n",
            "376       -3.629919             -3.629919             -3.629919  -3.629919   \n",
            "377       33.887904             33.887904             33.887904  33.887904   \n",
            "378        3.082438              3.082438              3.082438   3.082438   \n",
            "\n",
            "     weekly_lower  weekly_upper  multiplicative_terms  \\\n",
            "374     -1.340718     -1.340718                   0.0   \n",
            "375     -9.398459     -9.398459                   0.0   \n",
            "376     -3.629919     -3.629919                   0.0   \n",
            "377     33.887904     33.887904                   0.0   \n",
            "378      3.082438      3.082438                   0.0   \n",
            "\n",
            "     multiplicative_terms_lower  multiplicative_terms_upper        yhat  \n",
            "374                         0.0                         0.0  219.360424  \n",
            "375                         0.0                         0.0  210.115622  \n",
            "376                         0.0                         0.0  214.697100  \n",
            "377                         0.0                         0.0  251.027861  \n",
            "378                         0.0                         0.0  219.035333  \n"
          ]
        },
        {
          "output_type": "stream",
          "name": "stderr",
          "text": [
            "INFO:fbprophet:Disabling yearly seasonality. Run prophet with yearly_seasonality=True to override this.\n",
            "INFO:fbprophet:Disabling daily seasonality. Run prophet with daily_seasonality=True to override this.\n"
          ]
        },
        {
          "output_type": "stream",
          "name": "stdout",
          "text": [
            "            ds       trend  yhat_lower  yhat_upper  trend_lower  trend_upper  \\\n",
            "374 2020-02-10  300.151771   -9.565300  578.604766   300.094484   300.218288   \n",
            "375 2020-02-11  299.869871  -13.976630  570.144231   299.795224   299.948336   \n",
            "376 2020-02-12  299.587971    1.262810  604.358079   299.498634   299.683210   \n",
            "377 2020-02-13  299.306071   64.006596  627.129032   299.204342   299.421706   \n",
            "378 2020-02-14  299.024171  -40.781736  542.855743   298.898600   299.153014   \n",
            "\n",
            "     additive_terms  additive_terms_lower  additive_terms_upper     weekly  \\\n",
            "374      -12.293464            -12.293464            -12.293464 -12.293464   \n",
            "375      -13.556789            -13.556789            -13.556789 -13.556789   \n",
            "376       13.117416             13.117416             13.117416  13.117416   \n",
            "377       54.481285             54.481285             54.481285  54.481285   \n",
            "378      -45.820958            -45.820958            -45.820958 -45.820958   \n",
            "\n",
            "     weekly_lower  weekly_upper  multiplicative_terms  \\\n",
            "374    -12.293464    -12.293464                   0.0   \n",
            "375    -13.556789    -13.556789                   0.0   \n",
            "376     13.117416     13.117416                   0.0   \n",
            "377     54.481285     54.481285                   0.0   \n",
            "378    -45.820958    -45.820958                   0.0   \n",
            "\n",
            "     multiplicative_terms_lower  multiplicative_terms_upper        yhat  \n",
            "374                         0.0                         0.0  287.858307  \n",
            "375                         0.0                         0.0  286.313082  \n",
            "376                         0.0                         0.0  312.705387  \n",
            "377                         0.0                         0.0  353.787356  \n",
            "378                         0.0                         0.0  253.203213  \n"
          ]
        },
        {
          "output_type": "stream",
          "name": "stderr",
          "text": [
            "INFO:fbprophet:Disabling yearly seasonality. Run prophet with yearly_seasonality=True to override this.\n",
            "INFO:fbprophet:Disabling daily seasonality. Run prophet with daily_seasonality=True to override this.\n"
          ]
        },
        {
          "output_type": "stream",
          "name": "stdout",
          "text": [
            "            ds       trend  yhat_lower  yhat_upper  trend_lower  trend_upper  \\\n",
            "278 2020-02-10  624.166740  358.277167  854.811006   623.908961   624.403321   \n",
            "279 2020-02-11  625.807188  361.241351  853.877236   625.505777   626.062100   \n",
            "280 2020-02-12  627.447637  386.900216  881.407291   627.100633   627.754453   \n",
            "281 2020-02-13  629.088085  370.111013  845.510440   628.694112   629.458191   \n",
            "282 2020-02-14  630.728533  365.952998  885.545598   630.270774   631.151131   \n",
            "\n",
            "     additive_terms  additive_terms_lower  additive_terms_upper     weekly  \\\n",
            "278       -4.755090             -4.755090             -4.755090  -4.755090   \n",
            "279      -22.292341            -22.292341            -22.292341 -22.292341   \n",
            "280        0.042066              0.042066              0.042066   0.042066   \n",
            "281      -21.810138            -21.810138            -21.810138 -21.810138   \n",
            "282       -7.215164             -7.215164             -7.215164  -7.215164   \n",
            "\n",
            "     weekly_lower  weekly_upper  multiplicative_terms  \\\n",
            "278     -4.755090     -4.755090                   0.0   \n",
            "279    -22.292341    -22.292341                   0.0   \n",
            "280      0.042066      0.042066                   0.0   \n",
            "281    -21.810138    -21.810138                   0.0   \n",
            "282     -7.215164     -7.215164                   0.0   \n",
            "\n",
            "     multiplicative_terms_lower  multiplicative_terms_upper        yhat  \n",
            "278                         0.0                         0.0  619.411651  \n",
            "279                         0.0                         0.0  603.514848  \n",
            "280                         0.0                         0.0  627.489702  \n",
            "281                         0.0                         0.0  607.277946  \n",
            "282                         0.0                         0.0  623.513369  \n"
          ]
        },
        {
          "output_type": "stream",
          "name": "stderr",
          "text": [
            "INFO:fbprophet:Disabling yearly seasonality. Run prophet with yearly_seasonality=True to override this.\n",
            "INFO:fbprophet:Disabling daily seasonality. Run prophet with daily_seasonality=True to override this.\n"
          ]
        },
        {
          "output_type": "stream",
          "name": "stdout",
          "text": [
            "            ds       trend  yhat_lower  yhat_upper  trend_lower  trend_upper  \\\n",
            "374 2020-02-10  168.401713   72.135537  278.059375   168.322721   168.462936   \n",
            "375 2020-02-11  168.945014   88.352578  295.623170   168.849445   169.018119   \n",
            "376 2020-02-12  169.488315  101.647045  298.733525   169.377179   169.574280   \n",
            "377 2020-02-13  170.031616  100.881021  298.686967   169.900577   170.140493   \n",
            "378 2020-02-14  170.574917   74.294366  271.898022   170.427208   170.701368   \n",
            "\n",
            "     additive_terms  additive_terms_lower  additive_terms_upper     weekly  \\\n",
            "374       10.056024             10.056024             10.056024  10.056024   \n",
            "375       22.102827             22.102827             22.102827  22.102827   \n",
            "376       28.926632             28.926632             28.926632  28.926632   \n",
            "377       30.772674             30.772674             30.772674  30.772674   \n",
            "378        9.335077              9.335077              9.335077   9.335077   \n",
            "\n",
            "     weekly_lower  weekly_upper  multiplicative_terms  \\\n",
            "374     10.056024     10.056024                   0.0   \n",
            "375     22.102827     22.102827                   0.0   \n",
            "376     28.926632     28.926632                   0.0   \n",
            "377     30.772674     30.772674                   0.0   \n",
            "378      9.335077      9.335077                   0.0   \n",
            "\n",
            "     multiplicative_terms_lower  multiplicative_terms_upper        yhat  \n",
            "374                         0.0                         0.0  178.457737  \n",
            "375                         0.0                         0.0  191.047841  \n",
            "376                         0.0                         0.0  198.414947  \n",
            "377                         0.0                         0.0  200.804290  \n",
            "378                         0.0                         0.0  179.909993  \n"
          ]
        },
        {
          "output_type": "stream",
          "name": "stderr",
          "text": [
            "INFO:fbprophet:Disabling yearly seasonality. Run prophet with yearly_seasonality=True to override this.\n",
            "INFO:fbprophet:Disabling daily seasonality. Run prophet with daily_seasonality=True to override this.\n"
          ]
        },
        {
          "output_type": "stream",
          "name": "stdout",
          "text": [
            "            ds      trend  yhat_lower  yhat_upper  trend_lower  trend_upper  \\\n",
            "374 2020-02-10  71.337789  -48.018394  169.957824    71.215572    71.478203   \n",
            "375 2020-02-11  70.966862  -50.131100  156.255907    70.810695    71.135257   \n",
            "376 2020-02-12  70.595936  -46.630759  179.890711    70.401799    70.794143   \n",
            "377 2020-02-13  70.225009  -44.386207  176.833138    69.999827    70.459126   \n",
            "378 2020-02-14  69.854082  -52.966242  162.786638    69.597489    70.127487   \n",
            "\n",
            "     additive_terms  additive_terms_lower  additive_terms_upper     weekly  \\\n",
            "374       -9.927663             -9.927663             -9.927663  -9.927663   \n",
            "375      -15.525054            -15.525054            -15.525054 -15.525054   \n",
            "376       -5.024746             -5.024746             -5.024746  -5.024746   \n",
            "377       -5.829327             -5.829327             -5.829327  -5.829327   \n",
            "378       -8.238614             -8.238614             -8.238614  -8.238614   \n",
            "\n",
            "     weekly_lower  weekly_upper  multiplicative_terms  \\\n",
            "374     -9.927663     -9.927663                   0.0   \n",
            "375    -15.525054    -15.525054                   0.0   \n",
            "376     -5.024746     -5.024746                   0.0   \n",
            "377     -5.829327     -5.829327                   0.0   \n",
            "378     -8.238614     -8.238614                   0.0   \n",
            "\n",
            "     multiplicative_terms_lower  multiplicative_terms_upper       yhat  \n",
            "374                         0.0                         0.0  61.410127  \n",
            "375                         0.0                         0.0  55.441808  \n",
            "376                         0.0                         0.0  65.571190  \n",
            "377                         0.0                         0.0  64.395681  \n",
            "378                         0.0                         0.0  61.615468  \n"
          ]
        },
        {
          "output_type": "stream",
          "name": "stderr",
          "text": [
            "INFO:fbprophet:Disabling yearly seasonality. Run prophet with yearly_seasonality=True to override this.\n",
            "INFO:fbprophet:Disabling daily seasonality. Run prophet with daily_seasonality=True to override this.\n"
          ]
        },
        {
          "output_type": "stream",
          "name": "stdout",
          "text": [
            "            ds       trend  yhat_lower  yhat_upper  trend_lower  trend_upper  \\\n",
            "374 2020-02-10  194.094139   14.140710  617.572470   193.863778   194.250353   \n",
            "375 2020-02-11  194.283355   25.505475  612.804358   194.008893   194.482362   \n",
            "376 2020-02-12  194.472571  -24.212892  553.697293   194.137364   194.713561   \n",
            "377 2020-02-13  194.661786  -36.675793  562.238962   194.273809   194.940667   \n",
            "378 2020-02-14  194.851002  -62.102033  552.569201   194.386807   195.179761   \n",
            "\n",
            "     additive_terms  additive_terms_lower  additive_terms_upper      weekly  \\\n",
            "374      126.381288            126.381288            126.381288  126.381288   \n",
            "375      113.227323            113.227323            113.227323  113.227323   \n",
            "376       43.549566             43.549566             43.549566   43.549566   \n",
            "377       77.494510             77.494510             77.494510   77.494510   \n",
            "378       51.425470             51.425470             51.425470   51.425470   \n",
            "\n",
            "     weekly_lower  weekly_upper  multiplicative_terms  \\\n",
            "374    126.381288    126.381288                   0.0   \n",
            "375    113.227323    113.227323                   0.0   \n",
            "376     43.549566     43.549566                   0.0   \n",
            "377     77.494510     77.494510                   0.0   \n",
            "378     51.425470     51.425470                   0.0   \n",
            "\n",
            "     multiplicative_terms_lower  multiplicative_terms_upper        yhat  \n",
            "374                         0.0                         0.0  320.475427  \n",
            "375                         0.0                         0.0  307.510677  \n",
            "376                         0.0                         0.0  238.022136  \n",
            "377                         0.0                         0.0  272.156297  \n",
            "378                         0.0                         0.0  246.276473  \n"
          ]
        },
        {
          "output_type": "stream",
          "name": "stderr",
          "text": [
            "INFO:fbprophet:Disabling yearly seasonality. Run prophet with yearly_seasonality=True to override this.\n",
            "INFO:fbprophet:Disabling daily seasonality. Run prophet with daily_seasonality=True to override this.\n"
          ]
        },
        {
          "output_type": "stream",
          "name": "stdout",
          "text": [
            "            ds       trend  yhat_lower  yhat_upper  trend_lower  trend_upper  \\\n",
            "374 2020-02-10  495.274136  296.260198  701.063527   495.251981   495.297212   \n",
            "375 2020-02-11  496.116097  308.386962  728.382799   496.088412   496.144992   \n",
            "376 2020-02-12  496.958059  304.843518  699.476304   496.925190   496.992121   \n",
            "377 2020-02-13  497.800021  312.222321  720.056502   497.761345   497.840266   \n",
            "378 2020-02-14  498.641982  296.371690  704.525823   498.598901   498.688333   \n",
            "\n",
            "     additive_terms  additive_terms_lower  additive_terms_upper     weekly  \\\n",
            "374       -0.077309             -0.077309             -0.077309  -0.077309   \n",
            "375       31.132531             31.132531             31.132531  31.132531   \n",
            "376       10.894621             10.894621             10.894621  10.894621   \n",
            "377       18.350060             18.350060             18.350060  18.350060   \n",
            "378        2.593401              2.593401              2.593401   2.593401   \n",
            "\n",
            "     weekly_lower  weekly_upper  multiplicative_terms  \\\n",
            "374     -0.077309     -0.077309                   0.0   \n",
            "375     31.132531     31.132531                   0.0   \n",
            "376     10.894621     10.894621                   0.0   \n",
            "377     18.350060     18.350060                   0.0   \n",
            "378      2.593401      2.593401                   0.0   \n",
            "\n",
            "     multiplicative_terms_lower  multiplicative_terms_upper        yhat  \n",
            "374                         0.0                         0.0  495.196827  \n",
            "375                         0.0                         0.0  527.248628  \n",
            "376                         0.0                         0.0  507.852680  \n",
            "377                         0.0                         0.0  516.150080  \n",
            "378                         0.0                         0.0  501.235383  \n"
          ]
        },
        {
          "output_type": "stream",
          "name": "stderr",
          "text": [
            "INFO:fbprophet:Disabling yearly seasonality. Run prophet with yearly_seasonality=True to override this.\n",
            "INFO:fbprophet:Disabling daily seasonality. Run prophet with daily_seasonality=True to override this.\n"
          ]
        },
        {
          "output_type": "stream",
          "name": "stdout",
          "text": [
            "            ds       trend  yhat_lower  yhat_upper  trend_lower  trend_upper  \\\n",
            "374 2020-02-10  444.715702  322.449797  537.016706   444.324594   445.000340   \n",
            "375 2020-02-11  446.418010  327.736752  546.108741   445.941786   446.747712   \n",
            "376 2020-02-12  448.120318  339.201579  546.366698   447.562389   448.532635   \n",
            "377 2020-02-13  449.822626  350.169654  567.431194   449.177061   450.318657   \n",
            "378 2020-02-14  451.524934  345.932392  561.925438   450.744397   452.121679   \n",
            "\n",
            "     additive_terms  additive_terms_lower  additive_terms_upper     weekly  \\\n",
            "374      -12.777631            -12.777631            -12.777631 -12.777631   \n",
            "375      -11.542780            -11.542780            -11.542780 -11.542780   \n",
            "376       -9.316728             -9.316728             -9.316728  -9.316728   \n",
            "377        9.578302              9.578302              9.578302   9.578302   \n",
            "378        4.153884              4.153884              4.153884   4.153884   \n",
            "\n",
            "     weekly_lower  weekly_upper  multiplicative_terms  \\\n",
            "374    -12.777631    -12.777631                   0.0   \n",
            "375    -11.542780    -11.542780                   0.0   \n",
            "376     -9.316728     -9.316728                   0.0   \n",
            "377      9.578302      9.578302                   0.0   \n",
            "378      4.153884      4.153884                   0.0   \n",
            "\n",
            "     multiplicative_terms_lower  multiplicative_terms_upper        yhat  \n",
            "374                         0.0                         0.0  431.938071  \n",
            "375                         0.0                         0.0  434.875230  \n",
            "376                         0.0                         0.0  438.803589  \n",
            "377                         0.0                         0.0  459.400927  \n",
            "378                         0.0                         0.0  455.678818  \n"
          ]
        },
        {
          "output_type": "stream",
          "name": "stderr",
          "text": [
            "INFO:fbprophet:Disabling yearly seasonality. Run prophet with yearly_seasonality=True to override this.\n",
            "INFO:fbprophet:Disabling daily seasonality. Run prophet with daily_seasonality=True to override this.\n"
          ]
        },
        {
          "output_type": "stream",
          "name": "stdout",
          "text": [
            "            ds       trend  yhat_lower  yhat_upper  trend_lower  trend_upper  \\\n",
            "310 2020-02-10  231.920918   92.082524  349.263553   231.897756   231.943060   \n",
            "311 2020-02-11  231.735502   78.826212  354.661042   231.707534   231.761334   \n",
            "312 2020-02-12  231.550087  113.157721  387.026050   231.516594   231.579994   \n",
            "313 2020-02-13  231.364672   94.679233  346.963516   231.325793   231.397792   \n",
            "314 2020-02-14  231.179256  111.075463  380.463110   231.135978   231.218287   \n",
            "\n",
            "     additive_terms  additive_terms_lower  additive_terms_upper     weekly  \\\n",
            "310       -9.515051             -9.515051             -9.515051  -9.515051   \n",
            "311      -17.726442            -17.726442            -17.726442 -17.726442   \n",
            "312       27.113482             27.113482             27.113482  27.113482   \n",
            "313      -13.974367            -13.974367            -13.974367 -13.974367   \n",
            "314       19.076253             19.076253             19.076253  19.076253   \n",
            "\n",
            "     weekly_lower  weekly_upper  multiplicative_terms  \\\n",
            "310     -9.515051     -9.515051                   0.0   \n",
            "311    -17.726442    -17.726442                   0.0   \n",
            "312     27.113482     27.113482                   0.0   \n",
            "313    -13.974367    -13.974367                   0.0   \n",
            "314     19.076253     19.076253                   0.0   \n",
            "\n",
            "     multiplicative_terms_lower  multiplicative_terms_upper        yhat  \n",
            "310                         0.0                         0.0  222.405867  \n",
            "311                         0.0                         0.0  214.009060  \n",
            "312                         0.0                         0.0  258.663569  \n",
            "313                         0.0                         0.0  217.390304  \n",
            "314                         0.0                         0.0  250.255510  \n"
          ]
        },
        {
          "output_type": "stream",
          "name": "stderr",
          "text": [
            "INFO:fbprophet:Disabling yearly seasonality. Run prophet with yearly_seasonality=True to override this.\n",
            "INFO:fbprophet:Disabling daily seasonality. Run prophet with daily_seasonality=True to override this.\n"
          ]
        },
        {
          "output_type": "stream",
          "name": "stdout",
          "text": [
            "            ds        trend   yhat_lower   yhat_upper  trend_lower  \\\n",
            "356 2020-02-10 -3286.657249 -9194.872391  1851.463837 -3325.809110   \n",
            "357 2020-02-11 -3398.146523 -8515.619255  3198.101395 -3445.994535   \n",
            "358 2020-02-12 -3509.635797 -9913.040526   797.325904 -3564.726435   \n",
            "359 2020-02-13 -3621.125071 -7043.289528  4169.536994 -3686.598528   \n",
            "360 2020-02-14 -3732.614345 -9572.893354   919.657069 -3806.960302   \n",
            "\n",
            "     trend_upper  additive_terms  additive_terms_lower  additive_terms_upper  \\\n",
            "356 -3253.288637     -468.802835           -468.802835           -468.802835   \n",
            "357 -3356.457820      686.278859            686.278859            686.278859   \n",
            "358 -3461.055248     -867.170009           -867.170009           -867.170009   \n",
            "359 -3565.896881     2004.143502           2004.143502           2004.143502   \n",
            "360 -3668.584796     -349.905672           -349.905672           -349.905672   \n",
            "\n",
            "          weekly  weekly_lower  weekly_upper  multiplicative_terms  \\\n",
            "356  -468.802835   -468.802835   -468.802835                   0.0   \n",
            "357   686.278859    686.278859    686.278859                   0.0   \n",
            "358  -867.170009   -867.170009   -867.170009                   0.0   \n",
            "359  2004.143502   2004.143502   2004.143502                   0.0   \n",
            "360  -349.905672   -349.905672   -349.905672                   0.0   \n",
            "\n",
            "     multiplicative_terms_lower  multiplicative_terms_upper         yhat  \n",
            "356                         0.0                         0.0 -3755.460084  \n",
            "357                         0.0                         0.0 -2711.867664  \n",
            "358                         0.0                         0.0 -4376.805806  \n",
            "359                         0.0                         0.0 -1616.981569  \n",
            "360                         0.0                         0.0 -4082.520017  \n"
          ]
        },
        {
          "output_type": "stream",
          "name": "stderr",
          "text": [
            "INFO:fbprophet:Disabling yearly seasonality. Run prophet with yearly_seasonality=True to override this.\n",
            "INFO:fbprophet:Disabling daily seasonality. Run prophet with daily_seasonality=True to override this.\n"
          ]
        },
        {
          "output_type": "stream",
          "name": "stdout",
          "text": [
            "            ds      trend  yhat_lower  yhat_upper  trend_lower  trend_upper  \\\n",
            "278 2020-02-10  55.029096   10.287949  106.970791    55.021465    55.035385   \n",
            "279 2020-02-11  54.915607    3.126814  100.225960    54.906463    54.923211   \n",
            "280 2020-02-12  54.802119   12.417432  112.038362    54.791301    54.811237   \n",
            "281 2020-02-13  54.688630   -3.409413   95.053429    54.676435    54.699079   \n",
            "282 2020-02-14  54.575142    4.808120  107.416491    54.561602    54.586972   \n",
            "\n",
            "     additive_terms  additive_terms_lower  additive_terms_upper    weekly  \\\n",
            "278        5.638459              5.638459              5.638459  5.638459   \n",
            "279       -1.555029             -1.555029             -1.555029 -1.555029   \n",
            "280        6.784032              6.784032              6.784032  6.784032   \n",
            "281       -8.973669             -8.973669             -8.973669 -8.973669   \n",
            "282        3.428979              3.428979              3.428979  3.428979   \n",
            "\n",
            "     weekly_lower  weekly_upper  multiplicative_terms  \\\n",
            "278      5.638459      5.638459                   0.0   \n",
            "279     -1.555029     -1.555029                   0.0   \n",
            "280      6.784032      6.784032                   0.0   \n",
            "281     -8.973669     -8.973669                   0.0   \n",
            "282      3.428979      3.428979                   0.0   \n",
            "\n",
            "     multiplicative_terms_lower  multiplicative_terms_upper       yhat  \n",
            "278                         0.0                         0.0  60.667555  \n",
            "279                         0.0                         0.0  53.360578  \n",
            "280                         0.0                         0.0  61.586151  \n",
            "281                         0.0                         0.0  45.714961  \n",
            "282                         0.0                         0.0  58.004121  \n"
          ]
        },
        {
          "output_type": "stream",
          "name": "stderr",
          "text": [
            "INFO:fbprophet:Disabling yearly seasonality. Run prophet with yearly_seasonality=True to override this.\n",
            "INFO:fbprophet:Disabling daily seasonality. Run prophet with daily_seasonality=True to override this.\n"
          ]
        },
        {
          "output_type": "stream",
          "name": "stdout",
          "text": [
            "            ds       trend  yhat_lower  yhat_upper  trend_lower  trend_upper  \\\n",
            "276 2020-02-10  123.006040  -32.161291  238.960612   122.991805   123.018794   \n",
            "277 2020-02-11  123.202948  -20.492753  245.483645   123.186308   123.217796   \n",
            "278 2020-02-12  123.399856   30.611585  287.593921   123.379662   123.418067   \n",
            "279 2020-02-13  123.596764  -15.692365  248.694319   123.573992   123.618165   \n",
            "280 2020-02-14  123.793672  -18.933146  249.917021   123.767022   123.817581   \n",
            "\n",
            "     additive_terms  additive_terms_lower  additive_terms_upper     weekly  \\\n",
            "276      -13.530321            -13.530321            -13.530321 -13.530321   \n",
            "277      -14.318870            -14.318870            -14.318870 -14.318870   \n",
            "278       34.002907             34.002907             34.002907  34.002907   \n",
            "279       -9.879382             -9.879382             -9.879382  -9.879382   \n",
            "280       -2.055559             -2.055559             -2.055559  -2.055559   \n",
            "\n",
            "     weekly_lower  weekly_upper  multiplicative_terms  \\\n",
            "276    -13.530321    -13.530321                   0.0   \n",
            "277    -14.318870    -14.318870                   0.0   \n",
            "278     34.002907     34.002907                   0.0   \n",
            "279     -9.879382     -9.879382                   0.0   \n",
            "280     -2.055559     -2.055559                   0.0   \n",
            "\n",
            "     multiplicative_terms_lower  multiplicative_terms_upper        yhat  \n",
            "276                         0.0                         0.0  109.475720  \n",
            "277                         0.0                         0.0  108.884078  \n",
            "278                         0.0                         0.0  157.402763  \n",
            "279                         0.0                         0.0  113.717382  \n",
            "280                         0.0                         0.0  121.738113  \n"
          ]
        },
        {
          "output_type": "stream",
          "name": "stderr",
          "text": [
            "INFO:fbprophet:Disabling yearly seasonality. Run prophet with yearly_seasonality=True to override this.\n",
            "INFO:fbprophet:Disabling daily seasonality. Run prophet with daily_seasonality=True to override this.\n"
          ]
        },
        {
          "output_type": "stream",
          "name": "stdout",
          "text": [
            "            ds        trend   yhat_lower   yhat_upper  trend_lower  \\\n",
            "374 2020-02-10  2209.693801 -1658.068316  8584.777526  2208.263027   \n",
            "375 2020-02-11  2209.683757 -1918.957393  8128.972709  2207.990342   \n",
            "376 2020-02-12  2209.673712 -1823.655299  8384.842271  2207.544840   \n",
            "377 2020-02-13  2209.663668 -1811.313538  8250.484698  2207.175953   \n",
            "378 2020-02-14  2209.653624 -2367.578731  7556.755915  2206.743789   \n",
            "\n",
            "     trend_upper  additive_terms  additive_terms_lower  additive_terms_upper  \\\n",
            "374  2210.953999     1157.928911           1157.928911           1157.928911   \n",
            "375  2211.286931      823.046695            823.046695            823.046695   \n",
            "376  2211.699693     1178.092613           1178.092613           1178.092613   \n",
            "377  2212.184388      503.139407            503.139407            503.139407   \n",
            "378  2212.565611      206.792305            206.792305            206.792305   \n",
            "\n",
            "          weekly  weekly_lower  weekly_upper  multiplicative_terms  \\\n",
            "374  1157.928911   1157.928911   1157.928911                   0.0   \n",
            "375   823.046695    823.046695    823.046695                   0.0   \n",
            "376  1178.092613   1178.092613   1178.092613                   0.0   \n",
            "377   503.139407    503.139407    503.139407                   0.0   \n",
            "378   206.792305    206.792305    206.792305                   0.0   \n",
            "\n",
            "     multiplicative_terms_lower  multiplicative_terms_upper         yhat  \n",
            "374                         0.0                         0.0  3367.622712  \n",
            "375                         0.0                         0.0  3032.730452  \n",
            "376                         0.0                         0.0  3387.766325  \n",
            "377                         0.0                         0.0  2712.803075  \n",
            "378                         0.0                         0.0  2416.445929  \n"
          ]
        },
        {
          "output_type": "stream",
          "name": "stderr",
          "text": [
            "INFO:fbprophet:Disabling yearly seasonality. Run prophet with yearly_seasonality=True to override this.\n",
            "INFO:fbprophet:Disabling daily seasonality. Run prophet with daily_seasonality=True to override this.\n"
          ]
        },
        {
          "output_type": "stream",
          "name": "stdout",
          "text": [
            "            ds       trend  yhat_lower  yhat_upper  trend_lower  trend_upper  \\\n",
            "267 2020-02-10  126.323323 -116.312182  287.885939   126.319533   126.327708   \n",
            "268 2020-02-11  126.321523  -63.967711  298.030859   126.316737   126.326838   \n",
            "269 2020-02-12  126.319722  -57.687441  333.637794   126.314254   126.325895   \n",
            "270 2020-02-13  126.317921  -25.397643  354.810672   126.311519   126.325206   \n",
            "271 2020-02-14  126.316120  -77.798470  305.222726   126.309112   126.324176   \n",
            "\n",
            "     additive_terms  additive_terms_lower  additive_terms_upper     weekly  \\\n",
            "267      -37.911384            -37.911384            -37.911384 -37.911384   \n",
            "268      -18.435189            -18.435189            -18.435189 -18.435189   \n",
            "269        6.276454              6.276454              6.276454   6.276454   \n",
            "270       43.212985             43.212985             43.212985  43.212985   \n",
            "271      -22.590918            -22.590918            -22.590918 -22.590918   \n",
            "\n",
            "     weekly_lower  weekly_upper  multiplicative_terms  \\\n",
            "267    -37.911384    -37.911384                   0.0   \n",
            "268    -18.435189    -18.435189                   0.0   \n",
            "269      6.276454      6.276454                   0.0   \n",
            "270     43.212985     43.212985                   0.0   \n",
            "271    -22.590918    -22.590918                   0.0   \n",
            "\n",
            "     multiplicative_terms_lower  multiplicative_terms_upper        yhat  \n",
            "267                         0.0                         0.0   88.411939  \n",
            "268                         0.0                         0.0  107.886334  \n",
            "269                         0.0                         0.0  132.596176  \n",
            "270                         0.0                         0.0  169.530905  \n",
            "271                         0.0                         0.0  103.725202  \n"
          ]
        },
        {
          "output_type": "stream",
          "name": "stderr",
          "text": [
            "INFO:fbprophet:Disabling yearly seasonality. Run prophet with yearly_seasonality=True to override this.\n",
            "INFO:fbprophet:Disabling daily seasonality. Run prophet with daily_seasonality=True to override this.\n"
          ]
        },
        {
          "output_type": "stream",
          "name": "stdout",
          "text": [
            "            ds       trend  yhat_lower  yhat_upper  trend_lower  trend_upper  \\\n",
            "374 2020-02-10  301.495862  154.131842  489.887521   301.119885   301.794881   \n",
            "375 2020-02-11  300.539539  150.754890  481.178558   300.074059   300.920373   \n",
            "376 2020-02-12  299.583217  119.128432  454.938352   299.058571   300.033584   \n",
            "377 2020-02-13  298.626894  134.764106  466.833403   298.017546   299.142990   \n",
            "378 2020-02-14  297.670571  124.032705  426.306193   296.931942   298.265243   \n",
            "\n",
            "     additive_terms  additive_terms_lower  additive_terms_upper     weekly  \\\n",
            "374       22.368588             22.368588             22.368588  22.368588   \n",
            "375       12.898606             12.898606             12.898606  12.898606   \n",
            "376      -18.244588            -18.244588            -18.244588 -18.244588   \n",
            "377       -3.590138             -3.590138             -3.590138  -3.590138   \n",
            "378      -17.079518            -17.079518            -17.079518 -17.079518   \n",
            "\n",
            "     weekly_lower  weekly_upper  multiplicative_terms  \\\n",
            "374     22.368588     22.368588                   0.0   \n",
            "375     12.898606     12.898606                   0.0   \n",
            "376    -18.244588    -18.244588                   0.0   \n",
            "377     -3.590138     -3.590138                   0.0   \n",
            "378    -17.079518    -17.079518                   0.0   \n",
            "\n",
            "     multiplicative_terms_lower  multiplicative_terms_upper        yhat  \n",
            "374                         0.0                         0.0  323.864450  \n",
            "375                         0.0                         0.0  313.438145  \n",
            "376                         0.0                         0.0  281.338628  \n",
            "377                         0.0                         0.0  295.036756  \n",
            "378                         0.0                         0.0  280.591053  \n"
          ]
        },
        {
          "output_type": "stream",
          "name": "stderr",
          "text": [
            "INFO:fbprophet:Disabling yearly seasonality. Run prophet with yearly_seasonality=True to override this.\n",
            "INFO:fbprophet:Disabling daily seasonality. Run prophet with daily_seasonality=True to override this.\n"
          ]
        },
        {
          "output_type": "stream",
          "name": "stdout",
          "text": [
            "            ds       trend  yhat_lower  yhat_upper  trend_lower  trend_upper  \\\n",
            "273 2020-02-10  406.626295  286.306470  518.724048   406.626032   406.626532   \n",
            "274 2020-02-11  406.702616  234.784399  457.143114   406.702286   406.702916   \n",
            "275 2020-02-12  406.778938  289.963623  520.724287   406.778556   406.779299   \n",
            "276 2020-02-13  406.855259  289.097812  518.453645   406.854820   406.855680   \n",
            "277 2020-02-14  406.931581  298.620897  530.641207   406.931088   406.932053   \n",
            "\n",
            "     additive_terms  additive_terms_lower  additive_terms_upper     weekly  \\\n",
            "273      -13.649211            -13.649211            -13.649211 -13.649211   \n",
            "274      -59.806057            -59.806057            -59.806057 -59.806057   \n",
            "275       -5.318695             -5.318695             -5.318695  -5.318695   \n",
            "276       -4.619083             -4.619083             -4.619083  -4.619083   \n",
            "277        1.509576              1.509576              1.509576   1.509576   \n",
            "\n",
            "     weekly_lower  weekly_upper  multiplicative_terms  \\\n",
            "273    -13.649211    -13.649211                   0.0   \n",
            "274    -59.806057    -59.806057                   0.0   \n",
            "275     -5.318695     -5.318695                   0.0   \n",
            "276     -4.619083     -4.619083                   0.0   \n",
            "277      1.509576      1.509576                   0.0   \n",
            "\n",
            "     multiplicative_terms_lower  multiplicative_terms_upper        yhat  \n",
            "273                         0.0                         0.0  392.977084  \n",
            "274                         0.0                         0.0  346.896559  \n",
            "275                         0.0                         0.0  401.460243  \n",
            "276                         0.0                         0.0  402.236176  \n",
            "277                         0.0                         0.0  408.441157  \n"
          ]
        },
        {
          "output_type": "stream",
          "name": "stderr",
          "text": [
            "INFO:fbprophet:Disabling yearly seasonality. Run prophet with yearly_seasonality=True to override this.\n",
            "INFO:fbprophet:Disabling daily seasonality. Run prophet with daily_seasonality=True to override this.\n"
          ]
        },
        {
          "output_type": "stream",
          "name": "stdout",
          "text": [
            "            ds      trend  yhat_lower  yhat_upper  trend_lower  trend_upper  \\\n",
            "374 2020-02-10  -5.754866 -120.694947  116.746623    -6.326302    -5.160787   \n",
            "375 2020-02-11  -8.333840 -131.471636  103.757542    -9.072317    -7.605300   \n",
            "376 2020-02-12 -10.912815 -125.914347  110.040638   -11.771131   -10.046190   \n",
            "377 2020-02-13 -13.491789 -122.344548  122.689316   -14.507431   -12.482322   \n",
            "378 2020-02-14 -16.070763 -130.406356  108.407957   -17.180415   -14.903309   \n",
            "\n",
            "     additive_terms  additive_terms_lower  additive_terms_upper     weekly  \\\n",
            "374        6.932398              6.932398              6.932398   6.932398   \n",
            "375       -3.459861             -3.459861             -3.459861  -3.459861   \n",
            "376        4.084061              4.084061              4.084061   4.084061   \n",
            "377       15.658302             15.658302             15.658302  15.658302   \n",
            "378        2.731665              2.731665              2.731665   2.731665   \n",
            "\n",
            "     weekly_lower  weekly_upper  multiplicative_terms  \\\n",
            "374      6.932398      6.932398                   0.0   \n",
            "375     -3.459861     -3.459861                   0.0   \n",
            "376      4.084061      4.084061                   0.0   \n",
            "377     15.658302     15.658302                   0.0   \n",
            "378      2.731665      2.731665                   0.0   \n",
            "\n",
            "     multiplicative_terms_lower  multiplicative_terms_upper       yhat  \n",
            "374                         0.0                         0.0   1.177532  \n",
            "375                         0.0                         0.0 -11.793702  \n",
            "376                         0.0                         0.0  -6.828754  \n",
            "377                         0.0                         0.0   2.166513  \n",
            "378                         0.0                         0.0 -13.339098  \n"
          ]
        },
        {
          "output_type": "stream",
          "name": "stderr",
          "text": [
            "INFO:fbprophet:Disabling yearly seasonality. Run prophet with yearly_seasonality=True to override this.\n",
            "INFO:fbprophet:Disabling daily seasonality. Run prophet with daily_seasonality=True to override this.\n"
          ]
        },
        {
          "output_type": "stream",
          "name": "stdout",
          "text": [
            "            ds      trend  yhat_lower  yhat_upper  trend_lower  trend_upper  \\\n",
            "374 2020-02-10  56.392784  -16.163609  161.803761    56.388183    56.396823   \n",
            "375 2020-02-11  56.335586  -47.177688  133.404598    56.329800    56.340512   \n",
            "376 2020-02-12  56.278389  -19.160915  142.950390    56.271386    56.284566   \n",
            "377 2020-02-13  56.221191  -38.654881  138.677860    56.213217    56.228454   \n",
            "378 2020-02-14  56.163993  -27.945025  145.212325    56.154657    56.172314   \n",
            "\n",
            "     additive_terms  additive_terms_lower  additive_terms_upper     weekly  \\\n",
            "374       18.835454             18.835454             18.835454  18.835454   \n",
            "375       -9.346042             -9.346042             -9.346042  -9.346042   \n",
            "376        6.346766              6.346766              6.346766   6.346766   \n",
            "377       -0.929453             -0.929453             -0.929453  -0.929453   \n",
            "378        5.560639              5.560639              5.560639   5.560639   \n",
            "\n",
            "     weekly_lower  weekly_upper  multiplicative_terms  \\\n",
            "374     18.835454     18.835454                   0.0   \n",
            "375     -9.346042     -9.346042                   0.0   \n",
            "376      6.346766      6.346766                   0.0   \n",
            "377     -0.929453     -0.929453                   0.0   \n",
            "378      5.560639      5.560639                   0.0   \n",
            "\n",
            "     multiplicative_terms_lower  multiplicative_terms_upper       yhat  \n",
            "374                         0.0                         0.0  75.228239  \n",
            "375                         0.0                         0.0  46.989544  \n",
            "376                         0.0                         0.0  62.625155  \n",
            "377                         0.0                         0.0  55.291738  \n",
            "378                         0.0                         0.0  61.724632  \n"
          ]
        },
        {
          "output_type": "stream",
          "name": "stderr",
          "text": [
            "INFO:fbprophet:Disabling yearly seasonality. Run prophet with yearly_seasonality=True to override this.\n",
            "INFO:fbprophet:Disabling daily seasonality. Run prophet with daily_seasonality=True to override this.\n"
          ]
        },
        {
          "output_type": "stream",
          "name": "stdout",
          "text": [
            "            ds         trend    yhat_lower    yhat_upper   trend_lower  \\\n",
            "374 2020-02-10  13133.396545  10320.097489  23179.144647  13125.376456   \n",
            "375 2020-02-11  13152.290033  10278.600744  22740.220402  13142.511580   \n",
            "376 2020-02-12  13171.183520   9668.338950  23155.074096  13159.949025   \n",
            "377 2020-02-13  13190.077008  11264.043972  24085.483880  13176.998704   \n",
            "378 2020-02-14  13208.970496  10057.800114  22519.406105  13194.407623   \n",
            "\n",
            "      trend_upper  additive_terms  additive_terms_lower  additive_terms_upper  \\\n",
            "374  13140.055707     3351.584336           3351.584336           3351.584336   \n",
            "375  13160.276405     3388.628792           3388.628792           3388.628792   \n",
            "376  13180.912860     3409.762806           3409.762806           3409.762806   \n",
            "377  13201.430329     4457.144087           4457.144087           4457.144087   \n",
            "378  13221.896281     2951.919705           2951.919705           2951.919705   \n",
            "\n",
            "          weekly  weekly_lower  weekly_upper  multiplicative_terms  \\\n",
            "374  3351.584336   3351.584336   3351.584336                   0.0   \n",
            "375  3388.628792   3388.628792   3388.628792                   0.0   \n",
            "376  3409.762806   3409.762806   3409.762806                   0.0   \n",
            "377  4457.144087   4457.144087   4457.144087                   0.0   \n",
            "378  2951.919705   2951.919705   2951.919705                   0.0   \n",
            "\n",
            "     multiplicative_terms_lower  multiplicative_terms_upper          yhat  \n",
            "374                         0.0                         0.0  16484.980881  \n",
            "375                         0.0                         0.0  16540.918825  \n",
            "376                         0.0                         0.0  16580.946326  \n",
            "377                         0.0                         0.0  17647.221095  \n",
            "378                         0.0                         0.0  16160.890201  \n"
          ]
        },
        {
          "output_type": "stream",
          "name": "stderr",
          "text": [
            "INFO:fbprophet:Disabling yearly seasonality. Run prophet with yearly_seasonality=True to override this.\n",
            "INFO:fbprophet:Disabling daily seasonality. Run prophet with daily_seasonality=True to override this.\n"
          ]
        },
        {
          "output_type": "stream",
          "name": "stdout",
          "text": [
            "            ds       trend  yhat_lower  yhat_upper  trend_lower  trend_upper  \\\n",
            "374 2020-02-10  172.676173  -60.193293  359.941146   172.009200   173.494472   \n",
            "375 2020-02-11  170.196711  -94.535807  327.893417   169.345271   171.167287   \n",
            "376 2020-02-12  167.717248  -18.976188  394.817464   166.689736   168.838660   \n",
            "377 2020-02-13  165.237785  -28.085722  386.236825   164.014803   166.586553   \n",
            "378 2020-02-14  162.758323  -77.942184  327.650845   161.329300   164.270412   \n",
            "\n",
            "     additive_terms  additive_terms_lower  additive_terms_upper     weekly  \\\n",
            "374      -24.128725            -24.128725            -24.128725 -24.128725   \n",
            "375      -55.726262            -55.726262            -55.726262 -55.726262   \n",
            "376       14.725928             14.725928             14.725928  14.725928   \n",
            "377       12.523828             12.523828             12.523828  12.523828   \n",
            "378      -44.681574            -44.681574            -44.681574 -44.681574   \n",
            "\n",
            "     weekly_lower  weekly_upper  multiplicative_terms  \\\n",
            "374    -24.128725    -24.128725                   0.0   \n",
            "375    -55.726262    -55.726262                   0.0   \n",
            "376     14.725928     14.725928                   0.0   \n",
            "377     12.523828     12.523828                   0.0   \n",
            "378    -44.681574    -44.681574                   0.0   \n",
            "\n",
            "     multiplicative_terms_lower  multiplicative_terms_upper        yhat  \n",
            "374                         0.0                         0.0  148.547448  \n",
            "375                         0.0                         0.0  114.470448  \n",
            "376                         0.0                         0.0  182.443176  \n",
            "377                         0.0                         0.0  177.761613  \n",
            "378                         0.0                         0.0  118.076749  \n"
          ]
        },
        {
          "output_type": "stream",
          "name": "stderr",
          "text": [
            "INFO:fbprophet:Disabling yearly seasonality. Run prophet with yearly_seasonality=True to override this.\n",
            "INFO:fbprophet:Disabling daily seasonality. Run prophet with daily_seasonality=True to override this.\n"
          ]
        },
        {
          "output_type": "stream",
          "name": "stdout",
          "text": [
            "            ds       trend  yhat_lower  yhat_upper  trend_lower  trend_upper  \\\n",
            "374 2020-02-10  101.437115   46.782148  164.380822   101.433461   101.441273   \n",
            "375 2020-02-11  101.485727   41.244004  159.828664   101.481145   101.490929   \n",
            "376 2020-02-12  101.534340   39.409639  156.572979   101.528909   101.540535   \n",
            "377 2020-02-13  101.582953   32.170052  152.495648   101.576571   101.590209   \n",
            "378 2020-02-14  101.631566   22.049068  145.023874   101.624046   101.639762   \n",
            "\n",
            "     additive_terms  additive_terms_lower  additive_terms_upper     weekly  \\\n",
            "374        2.686337              2.686337              2.686337   2.686337   \n",
            "375       -3.411483             -3.411483             -3.411483  -3.411483   \n",
            "376       -2.090471             -2.090471             -2.090471  -2.090471   \n",
            "377      -10.597910            -10.597910            -10.597910 -10.597910   \n",
            "378      -19.709090            -19.709090            -19.709090 -19.709090   \n",
            "\n",
            "     weekly_lower  weekly_upper  multiplicative_terms  \\\n",
            "374      2.686337      2.686337                   0.0   \n",
            "375     -3.411483     -3.411483                   0.0   \n",
            "376     -2.090471     -2.090471                   0.0   \n",
            "377    -10.597910    -10.597910                   0.0   \n",
            "378    -19.709090    -19.709090                   0.0   \n",
            "\n",
            "     multiplicative_terms_lower  multiplicative_terms_upper        yhat  \n",
            "374                         0.0                         0.0  104.123452  \n",
            "375                         0.0                         0.0   98.074244  \n",
            "376                         0.0                         0.0   99.443869  \n",
            "377                         0.0                         0.0   90.985043  \n",
            "378                         0.0                         0.0   81.922476  \n"
          ]
        },
        {
          "output_type": "stream",
          "name": "stderr",
          "text": [
            "INFO:fbprophet:Disabling yearly seasonality. Run prophet with yearly_seasonality=True to override this.\n",
            "INFO:fbprophet:Disabling daily seasonality. Run prophet with daily_seasonality=True to override this.\n"
          ]
        },
        {
          "output_type": "stream",
          "name": "stdout",
          "text": [
            "            ds       trend  yhat_lower  yhat_upper  trend_lower  trend_upper  \\\n",
            "374 2020-02-10  194.842440   41.886687  342.043541   194.838660   194.844642   \n",
            "375 2020-02-11  194.806966   16.076188  321.043054   194.802378   194.809735   \n",
            "376 2020-02-12  194.771492   31.192272  337.304973   194.765968   194.774896   \n",
            "377 2020-02-13  194.736018   35.092858  340.379216   194.729361   194.739980   \n",
            "378 2020-02-14  194.700544   27.478575  330.380401   194.693112   194.705174   \n",
            "\n",
            "     additive_terms  additive_terms_lower  additive_terms_upper     weekly  \\\n",
            "374       -9.063660             -9.063660             -9.063660  -9.063660   \n",
            "375      -26.874614            -26.874614            -26.874614 -26.874614   \n",
            "376       -9.077107             -9.077107             -9.077107  -9.077107   \n",
            "377       -9.786095             -9.786095             -9.786095  -9.786095   \n",
            "378      -10.571469            -10.571469            -10.571469 -10.571469   \n",
            "\n",
            "     weekly_lower  weekly_upper  multiplicative_terms  \\\n",
            "374     -9.063660     -9.063660                   0.0   \n",
            "375    -26.874614    -26.874614                   0.0   \n",
            "376     -9.077107     -9.077107                   0.0   \n",
            "377     -9.786095     -9.786095                   0.0   \n",
            "378    -10.571469    -10.571469                   0.0   \n",
            "\n",
            "     multiplicative_terms_lower  multiplicative_terms_upper        yhat  \n",
            "374                         0.0                         0.0  185.778780  \n",
            "375                         0.0                         0.0  167.932353  \n",
            "376                         0.0                         0.0  185.694386  \n",
            "377                         0.0                         0.0  184.949923  \n",
            "378                         0.0                         0.0  184.129076  \n"
          ]
        },
        {
          "output_type": "stream",
          "name": "stderr",
          "text": [
            "INFO:fbprophet:Disabling yearly seasonality. Run prophet with yearly_seasonality=True to override this.\n",
            "INFO:fbprophet:Disabling daily seasonality. Run prophet with daily_seasonality=True to override this.\n"
          ]
        },
        {
          "output_type": "stream",
          "name": "stdout",
          "text": [
            "            ds      trend  yhat_lower  yhat_upper  trend_lower  trend_upper  \\\n",
            "374 2020-02-10  79.664820  -20.398545  160.113483    79.651931    79.680215   \n",
            "375 2020-02-11  79.625543  -47.785009  133.977552    79.609439    79.644264   \n",
            "376 2020-02-12  79.586267  -25.640827  155.005827    79.567036    79.609566   \n",
            "377 2020-02-13  79.546991  -15.756607  164.449576    79.525036    79.573533   \n",
            "378 2020-02-14  79.507715   56.951391  233.913377    79.482485    79.538599   \n",
            "\n",
            "     additive_terms  additive_terms_lower  additive_terms_upper     weekly  \\\n",
            "374       -9.179726             -9.179726             -9.179726  -9.179726   \n",
            "375      -39.088893            -39.088893            -39.088893 -39.088893   \n",
            "376      -20.981164            -20.981164            -20.981164 -20.981164   \n",
            "377       -5.020691             -5.020691             -5.020691  -5.020691   \n",
            "378       70.460339             70.460339             70.460339  70.460339   \n",
            "\n",
            "     weekly_lower  weekly_upper  multiplicative_terms  \\\n",
            "374     -9.179726     -9.179726                   0.0   \n",
            "375    -39.088893    -39.088893                   0.0   \n",
            "376    -20.981164    -20.981164                   0.0   \n",
            "377     -5.020691     -5.020691                   0.0   \n",
            "378     70.460339     70.460339                   0.0   \n",
            "\n",
            "     multiplicative_terms_lower  multiplicative_terms_upper        yhat  \n",
            "374                         0.0                         0.0   70.485093  \n",
            "375                         0.0                         0.0   40.536651  \n",
            "376                         0.0                         0.0   58.605103  \n",
            "377                         0.0                         0.0   74.526300  \n",
            "378                         0.0                         0.0  149.968053  \n"
          ]
        },
        {
          "output_type": "stream",
          "name": "stderr",
          "text": [
            "INFO:fbprophet:Disabling yearly seasonality. Run prophet with yearly_seasonality=True to override this.\n",
            "INFO:fbprophet:Disabling daily seasonality. Run prophet with daily_seasonality=True to override this.\n"
          ]
        },
        {
          "output_type": "stream",
          "name": "stdout",
          "text": [
            "            ds        trend   yhat_lower   yhat_upper  trend_lower  \\\n",
            "374 2020-02-10  3767.687377   976.673900  6175.155638  3767.686400   \n",
            "375 2020-02-11  3763.647100   879.466544  5925.028442  3763.645940   \n",
            "376 2020-02-12  3759.606824   920.855546  6012.248009  3759.605465   \n",
            "377 2020-02-13  3755.566547   781.161044  5489.437558  3755.564947   \n",
            "378 2020-02-14  3751.526271  1312.756171  6125.609200  3751.524483   \n",
            "\n",
            "     trend_upper  additive_terms  additive_terms_lower  additive_terms_upper  \\\n",
            "374  3767.688468     -263.577523           -263.577523           -263.577523   \n",
            "375  3763.648471     -398.008345           -398.008345           -398.008345   \n",
            "376  3759.608438     -306.181578           -306.181578           -306.181578   \n",
            "377  3755.568405     -600.043891           -600.043891           -600.043891   \n",
            "378  3751.528411     -119.436689           -119.436689           -119.436689   \n",
            "\n",
            "         weekly  weekly_lower  weekly_upper  multiplicative_terms  \\\n",
            "374 -263.577523   -263.577523   -263.577523                   0.0   \n",
            "375 -398.008345   -398.008345   -398.008345                   0.0   \n",
            "376 -306.181578   -306.181578   -306.181578                   0.0   \n",
            "377 -600.043891   -600.043891   -600.043891                   0.0   \n",
            "378 -119.436689   -119.436689   -119.436689                   0.0   \n",
            "\n",
            "     multiplicative_terms_lower  multiplicative_terms_upper         yhat  \n",
            "374                         0.0                         0.0  3504.109854  \n",
            "375                         0.0                         0.0  3365.638755  \n",
            "376                         0.0                         0.0  3453.425246  \n",
            "377                         0.0                         0.0  3155.522657  \n",
            "378                         0.0                         0.0  3632.089582  \n"
          ]
        },
        {
          "output_type": "stream",
          "name": "stderr",
          "text": [
            "INFO:fbprophet:Disabling yearly seasonality. Run prophet with yearly_seasonality=True to override this.\n",
            "INFO:fbprophet:Disabling daily seasonality. Run prophet with daily_seasonality=True to override this.\n"
          ]
        },
        {
          "output_type": "stream",
          "name": "stdout",
          "text": [
            "            ds       trend  yhat_lower  yhat_upper  trend_lower  trend_upper  \\\n",
            "374 2020-02-10  484.829883  293.675629  683.465945   484.810648   484.850760   \n",
            "375 2020-02-11  485.502027  273.198746  667.596057   485.477301   485.526908   \n",
            "376 2020-02-12  486.174172  332.634077  719.605689   486.145728   486.201743   \n",
            "377 2020-02-13  486.846316  259.092840  640.093026   486.813110   486.877127   \n",
            "378 2020-02-14  487.518460  314.461801  694.045352   487.480997   487.555255   \n",
            "\n",
            "     additive_terms  additive_terms_lower  additive_terms_upper     weekly  \\\n",
            "374       11.061708             11.061708             11.061708  11.061708   \n",
            "375      -19.538994            -19.538994            -19.538994 -19.538994   \n",
            "376       31.509961             31.509961             31.509961  31.509961   \n",
            "377      -38.895259            -38.895259            -38.895259 -38.895259   \n",
            "378       16.674755             16.674755             16.674755  16.674755   \n",
            "\n",
            "     weekly_lower  weekly_upper  multiplicative_terms  \\\n",
            "374     11.061708     11.061708                   0.0   \n",
            "375    -19.538994    -19.538994                   0.0   \n",
            "376     31.509961     31.509961                   0.0   \n",
            "377    -38.895259    -38.895259                   0.0   \n",
            "378     16.674755     16.674755                   0.0   \n",
            "\n",
            "     multiplicative_terms_lower  multiplicative_terms_upper        yhat  \n",
            "374                         0.0                         0.0  495.891591  \n",
            "375                         0.0                         0.0  465.963034  \n",
            "376                         0.0                         0.0  517.684132  \n",
            "377                         0.0                         0.0  447.951057  \n",
            "378                         0.0                         0.0  504.193215  \n"
          ]
        },
        {
          "output_type": "stream",
          "name": "stderr",
          "text": [
            "INFO:fbprophet:Disabling yearly seasonality. Run prophet with yearly_seasonality=True to override this.\n",
            "INFO:fbprophet:Disabling daily seasonality. Run prophet with daily_seasonality=True to override this.\n"
          ]
        },
        {
          "output_type": "stream",
          "name": "stdout",
          "text": [
            "            ds     trend  yhat_lower  yhat_upper  trend_lower  trend_upper  \\\n",
            "374 2020-02-10  2.151274    4.328461   12.998922     2.151016     2.151514   \n",
            "375 2020-02-11  2.149222   -2.478245    6.025316     2.148893     2.149521   \n",
            "376 2020-02-12  2.147169   -2.906326    5.558502     2.146781     2.147521   \n",
            "377 2020-02-13  2.145117   -4.380463    4.215860     2.144657     2.145541   \n",
            "378 2020-02-14  2.143065   -1.112841    7.364023     2.142509     2.143610   \n",
            "\n",
            "     additive_terms  additive_terms_lower  additive_terms_upper    weekly  \\\n",
            "374        6.581310              6.581310              6.581310  6.581310   \n",
            "375       -0.527469             -0.527469             -0.527469 -0.527469   \n",
            "376       -0.620740             -0.620740             -0.620740 -0.620740   \n",
            "377       -2.138814             -2.138814             -2.138814 -2.138814   \n",
            "378        0.938471              0.938471              0.938471  0.938471   \n",
            "\n",
            "     weekly_lower  weekly_upper  multiplicative_terms  \\\n",
            "374      6.581310      6.581310                   0.0   \n",
            "375     -0.527469     -0.527469                   0.0   \n",
            "376     -0.620740     -0.620740                   0.0   \n",
            "377     -2.138814     -2.138814                   0.0   \n",
            "378      0.938471      0.938471                   0.0   \n",
            "\n",
            "     multiplicative_terms_lower  multiplicative_terms_upper      yhat  \n",
            "374                         0.0                         0.0  8.732584  \n",
            "375                         0.0                         0.0  1.621753  \n",
            "376                         0.0                         0.0  1.526429  \n",
            "377                         0.0                         0.0  0.006303  \n",
            "378                         0.0                         0.0  3.081536  \n"
          ]
        },
        {
          "output_type": "stream",
          "name": "stderr",
          "text": [
            "INFO:fbprophet:Disabling yearly seasonality. Run prophet with yearly_seasonality=True to override this.\n",
            "INFO:fbprophet:Disabling daily seasonality. Run prophet with daily_seasonality=True to override this.\n"
          ]
        },
        {
          "output_type": "stream",
          "name": "stdout",
          "text": [
            "            ds      trend  yhat_lower  yhat_upper  trend_lower  trend_upper  \\\n",
            "374 2020-02-10  81.098220  -20.504687  131.963779    81.021348    81.184056   \n",
            "375 2020-02-11  81.390613  -31.163842  130.554592    81.296924    81.494944   \n",
            "376 2020-02-12  81.683006  -11.766171  160.558203    81.571540    81.805548   \n",
            "377 2020-02-13  81.975399  -39.183000  126.128114    81.847383    82.118226   \n",
            "378 2020-02-14  82.267791   57.872470  224.392164    82.121737    82.431748   \n",
            "\n",
            "     additive_terms  additive_terms_lower  additive_terms_upper     weekly  \\\n",
            "374      -23.716154            -23.716154            -23.716154 -23.716154   \n",
            "375      -33.289652            -33.289652            -33.289652 -33.289652   \n",
            "376       -6.663941             -6.663941             -6.663941  -6.663941   \n",
            "377      -43.612266            -43.612266            -43.612266 -43.612266   \n",
            "378       58.844197             58.844197             58.844197  58.844197   \n",
            "\n",
            "     weekly_lower  weekly_upper  multiplicative_terms  \\\n",
            "374    -23.716154    -23.716154                   0.0   \n",
            "375    -33.289652    -33.289652                   0.0   \n",
            "376     -6.663941     -6.663941                   0.0   \n",
            "377    -43.612266    -43.612266                   0.0   \n",
            "378     58.844197     58.844197                   0.0   \n",
            "\n",
            "     multiplicative_terms_lower  multiplicative_terms_upper        yhat  \n",
            "374                         0.0                         0.0   57.382067  \n",
            "375                         0.0                         0.0   48.100961  \n",
            "376                         0.0                         0.0   75.019065  \n",
            "377                         0.0                         0.0   38.363133  \n",
            "378                         0.0                         0.0  141.111988  \n"
          ]
        },
        {
          "output_type": "stream",
          "name": "stderr",
          "text": [
            "INFO:fbprophet:Disabling yearly seasonality. Run prophet with yearly_seasonality=True to override this.\n",
            "INFO:fbprophet:Disabling daily seasonality. Run prophet with daily_seasonality=True to override this.\n"
          ]
        },
        {
          "output_type": "stream",
          "name": "stdout",
          "text": [
            "            ds        trend  yhat_lower   yhat_upper  trend_lower  \\\n",
            "374 2020-02-10  2162.964194 -756.623902  4983.923773  2157.993042   \n",
            "375 2020-02-11  2181.220720 -680.161933  5645.113212  2175.585686   \n",
            "376 2020-02-12  2199.477245 -733.825844  5713.809574  2193.010099   \n",
            "377 2020-02-13  2217.733770 -832.670154  5266.739647  2210.478885   \n",
            "378 2020-02-14  2235.990295 -995.794980  5159.415063  2227.996618   \n",
            "\n",
            "     trend_upper  additive_terms  additive_terms_lower  additive_terms_upper  \\\n",
            "374  2166.767994      -46.409413            -46.409413            -46.409413   \n",
            "375  2185.982461      363.195195            363.195195            363.195195   \n",
            "376  2205.066311      292.781138            292.781138            292.781138   \n",
            "377  2224.112784     -137.210083           -137.210083           -137.210083   \n",
            "378  2243.640661     -216.975724           -216.975724           -216.975724   \n",
            "\n",
            "         weekly  weekly_lower  weekly_upper  multiplicative_terms  \\\n",
            "374  -46.409413    -46.409413    -46.409413                   0.0   \n",
            "375  363.195195    363.195195    363.195195                   0.0   \n",
            "376  292.781138    292.781138    292.781138                   0.0   \n",
            "377 -137.210083   -137.210083   -137.210083                   0.0   \n",
            "378 -216.975724   -216.975724   -216.975724                   0.0   \n",
            "\n",
            "     multiplicative_terms_lower  multiplicative_terms_upper         yhat  \n",
            "374                         0.0                         0.0  2116.554782  \n",
            "375                         0.0                         0.0  2544.415914  \n",
            "376                         0.0                         0.0  2492.258383  \n",
            "377                         0.0                         0.0  2080.523687  \n",
            "378                         0.0                         0.0  2019.014571  \n"
          ]
        },
        {
          "output_type": "stream",
          "name": "stderr",
          "text": [
            "INFO:fbprophet:Disabling yearly seasonality. Run prophet with yearly_seasonality=True to override this.\n",
            "INFO:fbprophet:Disabling daily seasonality. Run prophet with daily_seasonality=True to override this.\n"
          ]
        },
        {
          "output_type": "stream",
          "name": "stdout",
          "text": [
            "            ds       trend  yhat_lower  yhat_upper  trend_lower  trend_upper  \\\n",
            "374 2020-02-10  220.795168  138.018991  347.942965   220.773734   220.813617   \n",
            "375 2020-02-11  220.782124  133.714054  342.193177   220.756303   220.804809   \n",
            "376 2020-02-12  220.769080  125.878983  334.544355   220.739010   220.796257   \n",
            "377 2020-02-13  220.756035  126.373288  326.144303   220.719471   220.788084   \n",
            "378 2020-02-14  220.742991  126.309349  328.618296   220.701485   220.777994   \n",
            "\n",
            "     additive_terms  additive_terms_lower  additive_terms_upper     weekly  \\\n",
            "374       22.896534             22.896534             22.896534  22.896534   \n",
            "375       18.302943             18.302943             18.302943  18.302943   \n",
            "376       10.770761             10.770761             10.770761  10.770761   \n",
            "377       12.180228             12.180228             12.180228  12.180228   \n",
            "378        7.215204              7.215204              7.215204   7.215204   \n",
            "\n",
            "     weekly_lower  weekly_upper  multiplicative_terms  \\\n",
            "374     22.896534     22.896534                   0.0   \n",
            "375     18.302943     18.302943                   0.0   \n",
            "376     10.770761     10.770761                   0.0   \n",
            "377     12.180228     12.180228                   0.0   \n",
            "378      7.215204      7.215204                   0.0   \n",
            "\n",
            "     multiplicative_terms_lower  multiplicative_terms_upper        yhat  \n",
            "374                         0.0                         0.0  243.691702  \n",
            "375                         0.0                         0.0  239.085067  \n",
            "376                         0.0                         0.0  231.539841  \n",
            "377                         0.0                         0.0  232.936264  \n",
            "378                         0.0                         0.0  227.958195  \n"
          ]
        },
        {
          "output_type": "stream",
          "name": "stderr",
          "text": [
            "INFO:fbprophet:Disabling yearly seasonality. Run prophet with yearly_seasonality=True to override this.\n",
            "INFO:fbprophet:Disabling daily seasonality. Run prophet with daily_seasonality=True to override this.\n"
          ]
        },
        {
          "output_type": "stream",
          "name": "stdout",
          "text": [
            "            ds      trend  yhat_lower  yhat_upper  trend_lower  trend_upper  \\\n",
            "374 2020-02-10  12.370983    3.407982   26.352197    12.370983    12.370984   \n",
            "375 2020-02-11  12.365401    8.125660   32.321275    12.365401    12.365401   \n",
            "376 2020-02-12  12.359819    9.081426   33.745289    12.359818    12.359819   \n",
            "377 2020-02-13  12.354236    6.393023   30.559039    12.354236    12.354237   \n",
            "378 2020-02-14  12.348654   -0.141026   24.400428    12.348653    12.348654   \n",
            "\n",
            "     additive_terms  additive_terms_lower  additive_terms_upper    weekly  \\\n",
            "374        2.599092              2.599092              2.599092  2.599092   \n",
            "375        7.587915              7.587915              7.587915  7.587915   \n",
            "376        8.423986              8.423986              8.423986  8.423986   \n",
            "377        5.916234              5.916234              5.916234  5.916234   \n",
            "378       -0.524315             -0.524315             -0.524315 -0.524315   \n",
            "\n",
            "     weekly_lower  weekly_upper  multiplicative_terms  \\\n",
            "374      2.599092      2.599092                   0.0   \n",
            "375      7.587915      7.587915                   0.0   \n",
            "376      8.423986      8.423986                   0.0   \n",
            "377      5.916234      5.916234                   0.0   \n",
            "378     -0.524315     -0.524315                   0.0   \n",
            "\n",
            "     multiplicative_terms_lower  multiplicative_terms_upper       yhat  \n",
            "374                         0.0                         0.0  14.970075  \n",
            "375                         0.0                         0.0  19.953316  \n",
            "376                         0.0                         0.0  20.783805  \n",
            "377                         0.0                         0.0  18.270470  \n",
            "378                         0.0                         0.0  11.824339  \n"
          ]
        },
        {
          "output_type": "stream",
          "name": "stderr",
          "text": [
            "INFO:fbprophet:Disabling yearly seasonality. Run prophet with yearly_seasonality=True to override this.\n",
            "INFO:fbprophet:Disabling daily seasonality. Run prophet with daily_seasonality=True to override this.\n"
          ]
        },
        {
          "output_type": "stream",
          "name": "stdout",
          "text": [
            "            ds       trend  yhat_lower  yhat_upper  trend_lower  trend_upper  \\\n",
            "279 2020-02-10  168.019071   61.289269  258.209041   168.019058   168.019090   \n",
            "280 2020-02-11  167.809337   84.967839  280.455890   167.809319   167.809360   \n",
            "281 2020-02-12  167.599602   90.497466  291.374381   167.599581   167.599628   \n",
            "282 2020-02-13  167.389867   78.024444  284.400665   167.389842   167.389898   \n",
            "283 2020-02-14  167.180132   82.837731  275.479443   167.180104   167.180166   \n",
            "\n",
            "     additive_terms  additive_terms_lower  additive_terms_upper     weekly  \\\n",
            "279       -8.234620             -8.234620             -8.234620  -8.234620   \n",
            "280       13.288400             13.288400             13.288400  13.288400   \n",
            "281       26.403186             26.403186             26.403186  26.403186   \n",
            "282       10.593707             10.593707             10.593707  10.593707   \n",
            "283       15.629037             15.629037             15.629037  15.629037   \n",
            "\n",
            "     weekly_lower  weekly_upper  multiplicative_terms  \\\n",
            "279     -8.234620     -8.234620                   0.0   \n",
            "280     13.288400     13.288400                   0.0   \n",
            "281     26.403186     26.403186                   0.0   \n",
            "282     10.593707     10.593707                   0.0   \n",
            "283     15.629037     15.629037                   0.0   \n",
            "\n",
            "     multiplicative_terms_lower  multiplicative_terms_upper        yhat  \n",
            "279                         0.0                         0.0  159.784451  \n",
            "280                         0.0                         0.0  181.097737  \n",
            "281                         0.0                         0.0  194.002788  \n",
            "282                         0.0                         0.0  177.983574  \n",
            "283                         0.0                         0.0  182.809169  \n"
          ]
        },
        {
          "output_type": "stream",
          "name": "stderr",
          "text": [
            "INFO:fbprophet:Disabling yearly seasonality. Run prophet with yearly_seasonality=True to override this.\n",
            "INFO:fbprophet:Disabling daily seasonality. Run prophet with daily_seasonality=True to override this.\n"
          ]
        },
        {
          "output_type": "stream",
          "name": "stdout",
          "text": [
            "            ds       trend  yhat_lower  yhat_upper  trend_lower  trend_upper  \\\n",
            "374 2020-02-10  167.374812   94.394255  236.910170   167.295778   167.462207   \n",
            "375 2020-02-11  167.263935   91.623741  238.525807   167.169281   167.372679   \n",
            "376 2020-02-12  167.153059   78.760044  226.132754   167.036927   167.284492   \n",
            "377 2020-02-13  167.042182   76.587624  225.706326   166.909799   167.186848   \n",
            "378 2020-02-14  166.931305   87.658560  227.344759   166.778761   167.102775   \n",
            "\n",
            "     additive_terms  additive_terms_lower  additive_terms_upper     weekly  \\\n",
            "374       -5.190268             -5.190268             -5.190268  -5.190268   \n",
            "375       -5.317440             -5.317440             -5.317440  -5.317440   \n",
            "376      -14.039316            -14.039316            -14.039316 -14.039316   \n",
            "377      -18.666315            -18.666315            -18.666315 -18.666315   \n",
            "378      -13.507272            -13.507272            -13.507272 -13.507272   \n",
            "\n",
            "     weekly_lower  weekly_upper  multiplicative_terms  \\\n",
            "374     -5.190268     -5.190268                   0.0   \n",
            "375     -5.317440     -5.317440                   0.0   \n",
            "376    -14.039316    -14.039316                   0.0   \n",
            "377    -18.666315    -18.666315                   0.0   \n",
            "378    -13.507272    -13.507272                   0.0   \n",
            "\n",
            "     multiplicative_terms_lower  multiplicative_terms_upper        yhat  \n",
            "374                         0.0                         0.0  162.184544  \n",
            "375                         0.0                         0.0  161.946495  \n",
            "376                         0.0                         0.0  153.113743  \n",
            "377                         0.0                         0.0  148.375867  \n",
            "378                         0.0                         0.0  153.424033  \n"
          ]
        },
        {
          "output_type": "stream",
          "name": "stderr",
          "text": [
            "INFO:fbprophet:Disabling yearly seasonality. Run prophet with yearly_seasonality=True to override this.\n",
            "INFO:fbprophet:Disabling daily seasonality. Run prophet with daily_seasonality=True to override this.\n"
          ]
        },
        {
          "output_type": "stream",
          "name": "stdout",
          "text": [
            "            ds       trend  yhat_lower  yhat_upper  trend_lower  trend_upper  \\\n",
            "374 2020-02-10  301.753427  195.529463  441.356049   301.578313   301.961858   \n",
            "375 2020-02-11  302.325812  187.370742  428.196566   302.097543   302.577880   \n",
            "376 2020-02-12  302.898198  197.667632  438.370301   302.632736   303.201804   \n",
            "377 2020-02-13  303.470583  214.235853  453.209043   303.146476   303.818434   \n",
            "378 2020-02-14  304.042968  175.048792  417.190098   303.663167   304.455019   \n",
            "\n",
            "     additive_terms  additive_terms_lower  additive_terms_upper     weekly  \\\n",
            "374       17.601346             17.601346             17.601346  17.601346   \n",
            "375        0.697470              0.697470              0.697470   0.697470   \n",
            "376       15.935330             15.935330             15.935330  15.935330   \n",
            "377       24.876386             24.876386             24.876386  24.876386   \n",
            "378       -6.232538             -6.232538             -6.232538  -6.232538   \n",
            "\n",
            "     weekly_lower  weekly_upper  multiplicative_terms  \\\n",
            "374     17.601346     17.601346                   0.0   \n",
            "375      0.697470      0.697470                   0.0   \n",
            "376     15.935330     15.935330                   0.0   \n",
            "377     24.876386     24.876386                   0.0   \n",
            "378     -6.232538     -6.232538                   0.0   \n",
            "\n",
            "     multiplicative_terms_lower  multiplicative_terms_upper        yhat  \n",
            "374                         0.0                         0.0  319.354773  \n",
            "375                         0.0                         0.0  303.023282  \n",
            "376                         0.0                         0.0  318.833527  \n",
            "377                         0.0                         0.0  328.346969  \n",
            "378                         0.0                         0.0  297.810431  \n"
          ]
        },
        {
          "output_type": "stream",
          "name": "stderr",
          "text": [
            "INFO:fbprophet:Disabling yearly seasonality. Run prophet with yearly_seasonality=True to override this.\n",
            "INFO:fbprophet:Disabling daily seasonality. Run prophet with daily_seasonality=True to override this.\n"
          ]
        },
        {
          "output_type": "stream",
          "name": "stdout",
          "text": [
            "            ds       trend  yhat_lower  yhat_upper  trend_lower  trend_upper  \\\n",
            "374 2020-02-10  349.380413  184.593923  617.827347   349.157554   349.556420   \n",
            "375 2020-02-11  349.496880  125.191894  559.533193   349.235511   349.707880   \n",
            "376 2020-02-12  349.613347   96.773699  544.729175   349.296944   349.876043   \n",
            "377 2020-02-13  349.729813   80.573832  528.931874   349.358309   350.025191   \n",
            "378 2020-02-14  349.846280  113.062608  539.452365   349.420096   350.179117   \n",
            "\n",
            "     additive_terms  additive_terms_lower  additive_terms_upper     weekly  \\\n",
            "374       39.453506             39.453506             39.453506  39.453506   \n",
            "375       -8.148657             -8.148657             -8.148657  -8.148657   \n",
            "376      -22.396867            -22.396867            -22.396867 -22.396867   \n",
            "377      -31.825782            -31.825782            -31.825782 -31.825782   \n",
            "378      -25.812758            -25.812758            -25.812758 -25.812758   \n",
            "\n",
            "     weekly_lower  weekly_upper  multiplicative_terms  \\\n",
            "374     39.453506     39.453506                   0.0   \n",
            "375     -8.148657     -8.148657                   0.0   \n",
            "376    -22.396867    -22.396867                   0.0   \n",
            "377    -31.825782    -31.825782                   0.0   \n",
            "378    -25.812758    -25.812758                   0.0   \n",
            "\n",
            "     multiplicative_terms_lower  multiplicative_terms_upper        yhat  \n",
            "374                         0.0                         0.0  388.833919  \n",
            "375                         0.0                         0.0  341.348223  \n",
            "376                         0.0                         0.0  327.216480  \n",
            "377                         0.0                         0.0  317.904032  \n",
            "378                         0.0                         0.0  324.033522  \n"
          ]
        },
        {
          "output_type": "stream",
          "name": "stderr",
          "text": [
            "INFO:fbprophet:Disabling yearly seasonality. Run prophet with yearly_seasonality=True to override this.\n",
            "INFO:fbprophet:Disabling daily seasonality. Run prophet with daily_seasonality=True to override this.\n"
          ]
        },
        {
          "output_type": "stream",
          "name": "stdout",
          "text": [
            "            ds       trend  yhat_lower  yhat_upper  trend_lower  trend_upper  \\\n",
            "374 2020-02-10  272.226467  157.993054  384.870671   272.137463   272.326290   \n",
            "375 2020-02-11  271.997979  182.859731  403.906227   271.879871   272.120085   \n",
            "376 2020-02-12  271.769492  140.657135  365.258519   271.632823   271.915475   \n",
            "377 2020-02-13  271.541005  160.182110  392.075246   271.376753   271.713320   \n",
            "378 2020-02-14  271.312517  135.963744  365.156017   271.128086   271.511010   \n",
            "\n",
            "     additive_terms  additive_terms_lower  additive_terms_upper     weekly  \\\n",
            "374        4.265596              4.265596              4.265596   4.265596   \n",
            "375       19.552975             19.552975             19.552975  19.552975   \n",
            "376      -14.785145            -14.785145            -14.785145 -14.785145   \n",
            "377        9.468506              9.468506              9.468506   9.468506   \n",
            "378      -14.437464            -14.437464            -14.437464 -14.437464   \n",
            "\n",
            "     weekly_lower  weekly_upper  multiplicative_terms  \\\n",
            "374      4.265596      4.265596                   0.0   \n",
            "375     19.552975     19.552975                   0.0   \n",
            "376    -14.785145    -14.785145                   0.0   \n",
            "377      9.468506      9.468506                   0.0   \n",
            "378    -14.437464    -14.437464                   0.0   \n",
            "\n",
            "     multiplicative_terms_lower  multiplicative_terms_upper        yhat  \n",
            "374                         0.0                         0.0  276.492063  \n",
            "375                         0.0                         0.0  291.550955  \n",
            "376                         0.0                         0.0  256.984347  \n",
            "377                         0.0                         0.0  281.009511  \n",
            "378                         0.0                         0.0  256.875054  \n"
          ]
        },
        {
          "output_type": "stream",
          "name": "stderr",
          "text": [
            "INFO:fbprophet:Disabling yearly seasonality. Run prophet with yearly_seasonality=True to override this.\n",
            "INFO:fbprophet:Disabling daily seasonality. Run prophet with daily_seasonality=True to override this.\n"
          ]
        },
        {
          "output_type": "stream",
          "name": "stdout",
          "text": [
            "            ds      trend  yhat_lower  yhat_upper  trend_lower  trend_upper  \\\n",
            "374 2020-02-10  70.731465 -177.169727  299.289434    70.503365    71.073759   \n",
            "375 2020-02-11  69.742135 -194.213081  292.262370    69.449257    70.144855   \n",
            "376 2020-02-12  68.752805 -183.795367  301.179406    68.388843    69.225153   \n",
            "377 2020-02-13  67.763475 -139.256933  326.011076    67.339198    68.325075   \n",
            "378 2020-02-14  66.774145 -163.408679  300.589654    66.284476    67.411111   \n",
            "\n",
            "     additive_terms  additive_terms_lower  additive_terms_upper     weekly  \\\n",
            "374       -8.610759             -8.610759             -8.610759  -8.610759   \n",
            "375      -22.720406            -22.720406            -22.720406 -22.720406   \n",
            "376      -11.492009            -11.492009            -11.492009 -11.492009   \n",
            "377       25.498077             25.498077             25.498077  25.498077   \n",
            "378       11.162887             11.162887             11.162887  11.162887   \n",
            "\n",
            "     weekly_lower  weekly_upper  multiplicative_terms  \\\n",
            "374     -8.610759     -8.610759                   0.0   \n",
            "375    -22.720406    -22.720406                   0.0   \n",
            "376    -11.492009    -11.492009                   0.0   \n",
            "377     25.498077     25.498077                   0.0   \n",
            "378     11.162887     11.162887                   0.0   \n",
            "\n",
            "     multiplicative_terms_lower  multiplicative_terms_upper       yhat  \n",
            "374                         0.0                         0.0  62.120706  \n",
            "375                         0.0                         0.0  47.021729  \n",
            "376                         0.0                         0.0  57.260796  \n",
            "377                         0.0                         0.0  93.261551  \n",
            "378                         0.0                         0.0  77.937032  \n"
          ]
        },
        {
          "output_type": "stream",
          "name": "stderr",
          "text": [
            "INFO:fbprophet:Disabling yearly seasonality. Run prophet with yearly_seasonality=True to override this.\n",
            "INFO:fbprophet:Disabling daily seasonality. Run prophet with daily_seasonality=True to override this.\n"
          ]
        },
        {
          "output_type": "stream",
          "name": "stdout",
          "text": [
            "            ds       trend  yhat_lower  yhat_upper  trend_lower  trend_upper  \\\n",
            "374 2020-02-10  272.782966  108.450334  497.061962   272.299677   273.232295   \n",
            "375 2020-02-11  274.037666  138.353456  573.689568   273.451530   274.585369   \n",
            "376 2020-02-12  275.292366  110.019147  518.462332   274.620503   275.948790   \n",
            "377 2020-02-13  276.547065   94.674939  528.345627   275.793350   277.334986   \n",
            "378 2020-02-14  277.801765   90.729239  511.182892   276.954493   278.687890   \n",
            "\n",
            "     additive_terms  additive_terms_lower  additive_terms_upper     weekly  \\\n",
            "374       31.235376             31.235376             31.235376  31.235376   \n",
            "375       81.300720             81.300720             81.300720  81.300720   \n",
            "376       26.874877             26.874877             26.874877  26.874877   \n",
            "377       41.929565             41.929565             41.929565  41.929565   \n",
            "378       20.427117             20.427117             20.427117  20.427117   \n",
            "\n",
            "     weekly_lower  weekly_upper  multiplicative_terms  \\\n",
            "374     31.235376     31.235376                   0.0   \n",
            "375     81.300720     81.300720                   0.0   \n",
            "376     26.874877     26.874877                   0.0   \n",
            "377     41.929565     41.929565                   0.0   \n",
            "378     20.427117     20.427117                   0.0   \n",
            "\n",
            "     multiplicative_terms_lower  multiplicative_terms_upper        yhat  \n",
            "374                         0.0                         0.0  304.018342  \n",
            "375                         0.0                         0.0  355.338386  \n",
            "376                         0.0                         0.0  302.167242  \n",
            "377                         0.0                         0.0  318.476631  \n",
            "378                         0.0                         0.0  298.228882  \n"
          ]
        },
        {
          "output_type": "stream",
          "name": "stderr",
          "text": [
            "INFO:fbprophet:Disabling yearly seasonality. Run prophet with yearly_seasonality=True to override this.\n",
            "INFO:fbprophet:Disabling daily seasonality. Run prophet with daily_seasonality=True to override this.\n"
          ]
        },
        {
          "output_type": "stream",
          "name": "stdout",
          "text": [
            "            ds       trend  yhat_lower  yhat_upper  trend_lower  trend_upper  \\\n",
            "374 2020-02-10  338.809028  199.413720  510.120741   338.695102   338.908858   \n",
            "375 2020-02-11  339.176995  201.962311  498.512391   339.033616   339.295838   \n",
            "376 2020-02-12  339.544963  159.949962  465.121458   339.376611   339.691145   \n",
            "377 2020-02-13  339.912931  230.199890  525.840578   339.716431   340.083339   \n",
            "378 2020-02-14  340.280899  145.977387  446.770251   340.057998   340.483276   \n",
            "\n",
            "     additive_terms  additive_terms_lower  additive_terms_upper     weekly  \\\n",
            "374        6.585807              6.585807              6.585807   6.585807   \n",
            "375        2.576220              2.576220              2.576220   2.576220   \n",
            "376      -28.150174            -28.150174            -28.150174 -28.150174   \n",
            "377       37.400233             37.400233             37.400233  37.400233   \n",
            "378      -46.431668            -46.431668            -46.431668 -46.431668   \n",
            "\n",
            "     weekly_lower  weekly_upper  multiplicative_terms  \\\n",
            "374      6.585807      6.585807                   0.0   \n",
            "375      2.576220      2.576220                   0.0   \n",
            "376    -28.150174    -28.150174                   0.0   \n",
            "377     37.400233     37.400233                   0.0   \n",
            "378    -46.431668    -46.431668                   0.0   \n",
            "\n",
            "     multiplicative_terms_lower  multiplicative_terms_upper        yhat  \n",
            "374                         0.0                         0.0  345.394835  \n",
            "375                         0.0                         0.0  341.753215  \n",
            "376                         0.0                         0.0  311.394789  \n",
            "377                         0.0                         0.0  377.313164  \n",
            "378                         0.0                         0.0  293.849231  \n"
          ]
        },
        {
          "output_type": "stream",
          "name": "stderr",
          "text": [
            "INFO:fbprophet:Disabling yearly seasonality. Run prophet with yearly_seasonality=True to override this.\n",
            "INFO:fbprophet:Disabling daily seasonality. Run prophet with daily_seasonality=True to override this.\n"
          ]
        },
        {
          "output_type": "stream",
          "name": "stdout",
          "text": [
            "            ds       trend  yhat_lower  yhat_upper  trend_lower  trend_upper  \\\n",
            "360 2020-02-10  291.227175  103.512993  456.517266   291.084511   291.346373   \n",
            "361 2020-02-11  291.295720  145.667173  504.582542   291.119066   291.444124   \n",
            "362 2020-02-12  291.364265  136.207260  513.782840   291.161111   291.534624   \n",
            "363 2020-02-13  291.432810  125.348106  483.109408   291.195736   291.636046   \n",
            "364 2020-02-14  291.501355  109.570438  468.765332   291.224881   291.744819   \n",
            "\n",
            "     additive_terms  additive_terms_lower  additive_terms_upper     weekly  \\\n",
            "360       -7.753548             -7.753548             -7.753548  -7.753548   \n",
            "361       26.681832             26.681832             26.681832  26.681832   \n",
            "362       38.455987             38.455987             38.455987  38.455987   \n",
            "363        7.429986              7.429986              7.429986   7.429986   \n",
            "364       -5.422399             -5.422399             -5.422399  -5.422399   \n",
            "\n",
            "     weekly_lower  weekly_upper  multiplicative_terms  \\\n",
            "360     -7.753548     -7.753548                   0.0   \n",
            "361     26.681832     26.681832                   0.0   \n",
            "362     38.455987     38.455987                   0.0   \n",
            "363      7.429986      7.429986                   0.0   \n",
            "364     -5.422399     -5.422399                   0.0   \n",
            "\n",
            "     multiplicative_terms_lower  multiplicative_terms_upper        yhat  \n",
            "360                         0.0                         0.0  283.473627  \n",
            "361                         0.0                         0.0  317.977553  \n",
            "362                         0.0                         0.0  329.820253  \n",
            "363                         0.0                         0.0  298.862796  \n",
            "364                         0.0                         0.0  286.078956  \n"
          ]
        },
        {
          "output_type": "stream",
          "name": "stderr",
          "text": [
            "INFO:fbprophet:Disabling yearly seasonality. Run prophet with yearly_seasonality=True to override this.\n",
            "INFO:fbprophet:Disabling daily seasonality. Run prophet with daily_seasonality=True to override this.\n"
          ]
        },
        {
          "output_type": "stream",
          "name": "stdout",
          "text": [
            "            ds     trend  yhat_lower  yhat_upper  trend_lower  trend_upper  \\\n",
            "374 2020-02-10 -0.185337   -8.577152    7.936516    -0.188613    -0.182598   \n",
            "375 2020-02-11 -0.191021   -9.356525    8.263340    -0.195163    -0.187512   \n",
            "376 2020-02-12 -0.196705   -9.641166    7.709581    -0.201652    -0.192425   \n",
            "377 2020-02-13 -0.202388   -9.509000    7.798362    -0.208216    -0.197608   \n",
            "378 2020-02-14 -0.208072   -8.259142    8.946979    -0.214691    -0.202562   \n",
            "\n",
            "     additive_terms  additive_terms_lower  additive_terms_upper    weekly  \\\n",
            "374       -0.591397             -0.591397             -0.591397 -0.591397   \n",
            "375       -0.638598             -0.638598             -0.638598 -0.638598   \n",
            "376       -0.618658             -0.618658             -0.618658 -0.618658   \n",
            "377       -0.617592             -0.617592             -0.617592 -0.617592   \n",
            "378        0.618956              0.618956              0.618956  0.618956   \n",
            "\n",
            "     weekly_lower  weekly_upper  multiplicative_terms  \\\n",
            "374     -0.591397     -0.591397                   0.0   \n",
            "375     -0.638598     -0.638598                   0.0   \n",
            "376     -0.618658     -0.618658                   0.0   \n",
            "377     -0.617592     -0.617592                   0.0   \n",
            "378      0.618956      0.618956                   0.0   \n",
            "\n",
            "     multiplicative_terms_lower  multiplicative_terms_upper      yhat  \n",
            "374                         0.0                         0.0 -0.776734  \n",
            "375                         0.0                         0.0 -0.829620  \n",
            "376                         0.0                         0.0 -0.815363  \n",
            "377                         0.0                         0.0 -0.819980  \n",
            "378                         0.0                         0.0  0.410884  \n"
          ]
        },
        {
          "output_type": "stream",
          "name": "stderr",
          "text": [
            "INFO:fbprophet:Disabling yearly seasonality. Run prophet with yearly_seasonality=True to override this.\n",
            "INFO:fbprophet:Disabling daily seasonality. Run prophet with daily_seasonality=True to override this.\n"
          ]
        },
        {
          "output_type": "stream",
          "name": "stdout",
          "text": [
            "            ds       trend  yhat_lower  yhat_upper  trend_lower  trend_upper  \\\n",
            "347 2020-02-10  165.120546  -28.565406  333.625788   164.909278   165.358613   \n",
            "348 2020-02-11  164.394863   27.772592  389.697006   164.138805   164.690680   \n",
            "349 2020-02-12  163.669180  -23.937120  342.941212   163.360345   164.048069   \n",
            "350 2020-02-13  162.943497  -31.717537  343.808769   162.580844   163.387881   \n",
            "351 2020-02-14  162.217813    6.406188  380.947080   161.811638   162.747157   \n",
            "\n",
            "     additive_terms  additive_terms_lower  additive_terms_upper     weekly  \\\n",
            "347       -7.049615             -7.049615             -7.049615  -7.049615   \n",
            "348       39.502393             39.502393             39.502393  39.502393   \n",
            "349       -4.848812             -4.848812             -4.848812  -4.848812   \n",
            "350       -6.590548             -6.590548             -6.590548  -6.590548   \n",
            "351       36.798099             36.798099             36.798099  36.798099   \n",
            "\n",
            "     weekly_lower  weekly_upper  multiplicative_terms  \\\n",
            "347     -7.049615     -7.049615                   0.0   \n",
            "348     39.502393     39.502393                   0.0   \n",
            "349     -4.848812     -4.848812                   0.0   \n",
            "350     -6.590548     -6.590548                   0.0   \n",
            "351     36.798099     36.798099                   0.0   \n",
            "\n",
            "     multiplicative_terms_lower  multiplicative_terms_upper        yhat  \n",
            "347                         0.0                         0.0  158.070931  \n",
            "348                         0.0                         0.0  203.897256  \n",
            "349                         0.0                         0.0  158.820368  \n",
            "350                         0.0                         0.0  156.352949  \n",
            "351                         0.0                         0.0  199.015912  \n"
          ]
        },
        {
          "output_type": "stream",
          "name": "stderr",
          "text": [
            "INFO:fbprophet:Disabling yearly seasonality. Run prophet with yearly_seasonality=True to override this.\n",
            "INFO:fbprophet:Disabling daily seasonality. Run prophet with daily_seasonality=True to override this.\n"
          ]
        },
        {
          "output_type": "stream",
          "name": "stdout",
          "text": [
            "            ds      trend  yhat_lower  yhat_upper  trend_lower  trend_upper  \\\n",
            "374 2020-02-10  30.288871   11.824505   67.223340    30.269840    30.308677   \n",
            "375 2020-02-11  30.209250   10.034817   67.236529    30.186369    30.232127   \n",
            "376 2020-02-12  30.129629    6.067674   63.454311    30.102857    30.157067   \n",
            "377 2020-02-13  30.050008   11.843107   72.069248    30.017517    30.080932   \n",
            "378 2020-02-14  29.970387   12.798570   68.221812    29.933999    30.006701   \n",
            "\n",
            "     additive_terms  additive_terms_lower  additive_terms_upper     weekly  \\\n",
            "374        8.409291              8.409291              8.409291   8.409291   \n",
            "375        8.966725              8.966725              8.966725   8.966725   \n",
            "376        5.391553              5.391553              5.391553   5.391553   \n",
            "377       12.257889             12.257889             12.257889  12.257889   \n",
            "378       10.961077             10.961077             10.961077  10.961077   \n",
            "\n",
            "     weekly_lower  weekly_upper  multiplicative_terms  \\\n",
            "374      8.409291      8.409291                   0.0   \n",
            "375      8.966725      8.966725                   0.0   \n",
            "376      5.391553      5.391553                   0.0   \n",
            "377     12.257889     12.257889                   0.0   \n",
            "378     10.961077     10.961077                   0.0   \n",
            "\n",
            "     multiplicative_terms_lower  multiplicative_terms_upper       yhat  \n",
            "374                         0.0                         0.0  38.698162  \n",
            "375                         0.0                         0.0  39.175974  \n",
            "376                         0.0                         0.0  35.521182  \n",
            "377                         0.0                         0.0  42.307897  \n",
            "378                         0.0                         0.0  40.931464  \n"
          ]
        },
        {
          "output_type": "stream",
          "name": "stderr",
          "text": [
            "INFO:fbprophet:Disabling yearly seasonality. Run prophet with yearly_seasonality=True to override this.\n",
            "INFO:fbprophet:Disabling daily seasonality. Run prophet with daily_seasonality=True to override this.\n"
          ]
        },
        {
          "output_type": "stream",
          "name": "stdout",
          "text": [
            "            ds      trend  yhat_lower  yhat_upper  trend_lower  trend_upper  \\\n",
            "374 2020-02-10  10.438180  -14.134620   35.731524    10.390156    10.493386   \n",
            "375 2020-02-11  10.282106   -8.929368   38.176259    10.226482    10.348339   \n",
            "376 2020-02-12  10.126033  -17.637052   36.745101    10.060119    10.201743   \n",
            "377 2020-02-13   9.969959  -12.419875   38.844054     9.887115    10.057918   \n",
            "378 2020-02-14   9.813886  -12.080515   37.000035     9.714660     9.915369   \n",
            "\n",
            "     additive_terms  additive_terms_lower  additive_terms_upper    weekly  \\\n",
            "374       -0.159686             -0.159686             -0.159686 -0.159686   \n",
            "375        4.763134              4.763134              4.763134  4.763134   \n",
            "376        0.738779              0.738779              0.738779  0.738779   \n",
            "377        3.546214              3.546214              3.546214  3.546214   \n",
            "378        1.336913              1.336913              1.336913  1.336913   \n",
            "\n",
            "     weekly_lower  weekly_upper  multiplicative_terms  \\\n",
            "374     -0.159686     -0.159686                   0.0   \n",
            "375      4.763134      4.763134                   0.0   \n",
            "376      0.738779      0.738779                   0.0   \n",
            "377      3.546214      3.546214                   0.0   \n",
            "378      1.336913      1.336913                   0.0   \n",
            "\n",
            "     multiplicative_terms_lower  multiplicative_terms_upper       yhat  \n",
            "374                         0.0                         0.0  10.278494  \n",
            "375                         0.0                         0.0  15.045240  \n",
            "376                         0.0                         0.0  10.864812  \n",
            "377                         0.0                         0.0  13.516174  \n",
            "378                         0.0                         0.0  11.150799  \n"
          ]
        },
        {
          "output_type": "stream",
          "name": "stderr",
          "text": [
            "INFO:fbprophet:Disabling yearly seasonality. Run prophet with yearly_seasonality=True to override this.\n",
            "INFO:fbprophet:Disabling daily seasonality. Run prophet with daily_seasonality=True to override this.\n"
          ]
        },
        {
          "output_type": "stream",
          "name": "stdout",
          "text": [
            "            ds  trend    yhat_lower    yhat_upper   trend_lower   trend_upper  \\\n",
            "361 2020-02-10    0.0 -1.311203e-09  1.422634e-09 -1.301688e-10  1.404149e-10   \n",
            "362 2020-02-11    0.0 -1.311296e-09  1.347081e-09 -1.498462e-10  1.624145e-10   \n",
            "363 2020-02-12    0.0 -1.307485e-09  1.302795e-09 -1.745068e-10  1.884607e-10   \n",
            "364 2020-02-13    0.0 -1.250856e-09  1.276029e-09 -2.087510e-10  2.114633e-10   \n",
            "365 2020-02-14    0.0 -1.440726e-09  1.390787e-09 -2.412703e-10  2.553136e-10   \n",
            "\n",
            "     additive_terms  additive_terms_lower  additive_terms_upper  weekly  \\\n",
            "361             0.0                   0.0                   0.0     0.0   \n",
            "362             0.0                   0.0                   0.0     0.0   \n",
            "363             0.0                   0.0                   0.0     0.0   \n",
            "364             0.0                   0.0                   0.0     0.0   \n",
            "365             0.0                   0.0                   0.0     0.0   \n",
            "\n",
            "     weekly_lower  weekly_upper  multiplicative_terms  \\\n",
            "361           0.0           0.0                   0.0   \n",
            "362           0.0           0.0                   0.0   \n",
            "363           0.0           0.0                   0.0   \n",
            "364           0.0           0.0                   0.0   \n",
            "365           0.0           0.0                   0.0   \n",
            "\n",
            "     multiplicative_terms_lower  multiplicative_terms_upper  yhat  \n",
            "361                         0.0                         0.0   0.0  \n",
            "362                         0.0                         0.0   0.0  \n",
            "363                         0.0                         0.0   0.0  \n",
            "364                         0.0                         0.0   0.0  \n",
            "365                         0.0                         0.0   0.0  \n"
          ]
        },
        {
          "output_type": "stream",
          "name": "stderr",
          "text": [
            "INFO:fbprophet:Disabling yearly seasonality. Run prophet with yearly_seasonality=True to override this.\n",
            "INFO:fbprophet:Disabling daily seasonality. Run prophet with daily_seasonality=True to override this.\n"
          ]
        },
        {
          "output_type": "stream",
          "name": "stdout",
          "text": [
            "            ds       trend  yhat_lower  yhat_upper  trend_lower  trend_upper  \\\n",
            "374 2020-02-10  545.179118  390.358823  705.117867   545.179107   545.179126   \n",
            "375 2020-02-11  545.044283  370.334374  675.358514   545.044270   545.044292   \n",
            "376 2020-02-12  544.909448  409.208339  727.887291   544.909433   544.909460   \n",
            "377 2020-02-13  544.774613  347.277622  655.567141   544.774596   544.774627   \n",
            "378 2020-02-14  544.639778  344.426912  657.669630   544.639759   544.639793   \n",
            "\n",
            "     additive_terms  additive_terms_lower  additive_terms_upper     weekly  \\\n",
            "374       -3.621665             -3.621665             -3.621665  -3.621665   \n",
            "375      -19.220419            -19.220419            -19.220419 -19.220419   \n",
            "376       22.595127             22.595127             22.595127  22.595127   \n",
            "377      -38.688193            -38.688193            -38.688193 -38.688193   \n",
            "378      -40.117307            -40.117307            -40.117307 -40.117307   \n",
            "\n",
            "     weekly_lower  weekly_upper  multiplicative_terms  \\\n",
            "374     -3.621665     -3.621665                   0.0   \n",
            "375    -19.220419    -19.220419                   0.0   \n",
            "376     22.595127     22.595127                   0.0   \n",
            "377    -38.688193    -38.688193                   0.0   \n",
            "378    -40.117307    -40.117307                   0.0   \n",
            "\n",
            "     multiplicative_terms_lower  multiplicative_terms_upper        yhat  \n",
            "374                         0.0                         0.0  541.557453  \n",
            "375                         0.0                         0.0  525.823863  \n",
            "376                         0.0                         0.0  567.504575  \n",
            "377                         0.0                         0.0  506.086420  \n",
            "378                         0.0                         0.0  504.522471  \n"
          ]
        },
        {
          "output_type": "stream",
          "name": "stderr",
          "text": [
            "INFO:fbprophet:Disabling yearly seasonality. Run prophet with yearly_seasonality=True to override this.\n",
            "INFO:fbprophet:Disabling daily seasonality. Run prophet with daily_seasonality=True to override this.\n"
          ]
        },
        {
          "output_type": "stream",
          "name": "stdout",
          "text": [
            "            ds       trend  yhat_lower  yhat_upper  trend_lower  trend_upper  \\\n",
            "374 2020-02-10  127.713640   21.607414  186.491099   127.699416   127.736615   \n",
            "375 2020-02-11  127.722379   28.255948  188.503737   127.704255   127.750092   \n",
            "376 2020-02-12  127.731119   47.071816  204.608855   127.707620   127.764788   \n",
            "377 2020-02-13  127.739859   30.206609  200.429550   127.710452   127.778918   \n",
            "378 2020-02-14  127.748599   48.196371  210.968740   127.713829   127.793279   \n",
            "\n",
            "     additive_terms  additive_terms_lower  additive_terms_upper     weekly  \\\n",
            "374      -21.325074            -21.325074            -21.325074 -21.325074   \n",
            "375      -14.018775            -14.018775            -14.018775 -14.018775   \n",
            "376       -5.989178             -5.989178             -5.989178  -5.989178   \n",
            "377      -15.051352            -15.051352            -15.051352 -15.051352   \n",
            "378        2.854739              2.854739              2.854739   2.854739   \n",
            "\n",
            "     weekly_lower  weekly_upper  multiplicative_terms  \\\n",
            "374    -21.325074    -21.325074                   0.0   \n",
            "375    -14.018775    -14.018775                   0.0   \n",
            "376     -5.989178     -5.989178                   0.0   \n",
            "377    -15.051352    -15.051352                   0.0   \n",
            "378      2.854739      2.854739                   0.0   \n",
            "\n",
            "     multiplicative_terms_lower  multiplicative_terms_upper        yhat  \n",
            "374                         0.0                         0.0  106.388566  \n",
            "375                         0.0                         0.0  113.703604  \n",
            "376                         0.0                         0.0  121.741942  \n",
            "377                         0.0                         0.0  112.688507  \n",
            "378                         0.0                         0.0  130.603338  \n"
          ]
        },
        {
          "output_type": "stream",
          "name": "stderr",
          "text": [
            "INFO:fbprophet:Disabling yearly seasonality. Run prophet with yearly_seasonality=True to override this.\n",
            "INFO:fbprophet:Disabling daily seasonality. Run prophet with daily_seasonality=True to override this.\n"
          ]
        },
        {
          "output_type": "stream",
          "name": "stdout",
          "text": [
            "            ds       trend  yhat_lower  yhat_upper  trend_lower  trend_upper  \\\n",
            "374 2020-02-10  128.200280   30.414208  228.101568   128.020092   128.361024   \n",
            "375 2020-02-11  128.724598   41.549529  242.778692   128.521359   128.923092   \n",
            "376 2020-02-12  129.248916   48.359873  250.513465   129.013429   129.507101   \n",
            "377 2020-02-13  129.773234   48.739505  252.611103   129.481865   130.079787   \n",
            "378 2020-02-14  130.297552   12.202110  216.406090   129.948868   130.645345   \n",
            "\n",
            "     additive_terms  additive_terms_lower  additive_terms_upper     weekly  \\\n",
            "374       -0.008057             -0.008057             -0.008057  -0.008057   \n",
            "375       11.834623             11.834623             11.834623  11.834623   \n",
            "376       24.069243             24.069243             24.069243  24.069243   \n",
            "377       19.083528             19.083528             19.083528  19.083528   \n",
            "378       -9.241998             -9.241998             -9.241998  -9.241998   \n",
            "\n",
            "     weekly_lower  weekly_upper  multiplicative_terms  \\\n",
            "374     -0.008057     -0.008057                   0.0   \n",
            "375     11.834623     11.834623                   0.0   \n",
            "376     24.069243     24.069243                   0.0   \n",
            "377     19.083528     19.083528                   0.0   \n",
            "378     -9.241998     -9.241998                   0.0   \n",
            "\n",
            "     multiplicative_terms_lower  multiplicative_terms_upper        yhat  \n",
            "374                         0.0                         0.0  128.192223  \n",
            "375                         0.0                         0.0  140.559221  \n",
            "376                         0.0                         0.0  153.318159  \n",
            "377                         0.0                         0.0  148.856761  \n",
            "378                         0.0                         0.0  121.055554  \n"
          ]
        },
        {
          "output_type": "stream",
          "name": "stderr",
          "text": [
            "INFO:fbprophet:Disabling yearly seasonality. Run prophet with yearly_seasonality=True to override this.\n",
            "INFO:fbprophet:Disabling daily seasonality. Run prophet with daily_seasonality=True to override this.\n"
          ]
        },
        {
          "output_type": "stream",
          "name": "stdout",
          "text": [
            "            ds       trend   yhat_lower   yhat_upper  trend_lower  \\\n",
            "374 2020-02-10  151.788000 -1782.333093   965.848333   151.511348   \n",
            "375 2020-02-11  147.197922  -989.010483  1825.894103   146.842391   \n",
            "376 2020-02-12  142.607845 -1556.485475  1167.476959   142.160262   \n",
            "377 2020-02-13  138.017768  -895.948474  1729.358201   137.499140   \n",
            "378 2020-02-14  133.427691 -1368.917753  1310.420350   132.822109   \n",
            "\n",
            "     trend_upper  additive_terms  additive_terms_lower  additive_terms_upper  \\\n",
            "374   152.170458     -541.178170           -541.178170           -541.178170   \n",
            "375   147.655015      278.830781            278.830781            278.830781   \n",
            "376   143.155217     -247.250160           -247.250160           -247.250160   \n",
            "377   138.676540      348.760877            348.760877            348.760877   \n",
            "378   134.188842     -149.856164           -149.856164           -149.856164   \n",
            "\n",
            "         weekly  weekly_lower  weekly_upper  multiplicative_terms  \\\n",
            "374 -541.178170   -541.178170   -541.178170                   0.0   \n",
            "375  278.830781    278.830781    278.830781                   0.0   \n",
            "376 -247.250160   -247.250160   -247.250160                   0.0   \n",
            "377  348.760877    348.760877    348.760877                   0.0   \n",
            "378 -149.856164   -149.856164   -149.856164                   0.0   \n",
            "\n",
            "     multiplicative_terms_lower  multiplicative_terms_upper        yhat  \n",
            "374                         0.0                         0.0 -389.390171  \n",
            "375                         0.0                         0.0  426.028703  \n",
            "376                         0.0                         0.0 -104.642315  \n",
            "377                         0.0                         0.0  486.778645  \n",
            "378                         0.0                         0.0  -16.428473  \n"
          ]
        },
        {
          "output_type": "stream",
          "name": "stderr",
          "text": [
            "INFO:fbprophet:Disabling yearly seasonality. Run prophet with yearly_seasonality=True to override this.\n",
            "INFO:fbprophet:Disabling daily seasonality. Run prophet with daily_seasonality=True to override this.\n"
          ]
        },
        {
          "output_type": "stream",
          "name": "stdout",
          "text": [
            "            ds     trend  yhat_lower  yhat_upper  trend_lower  trend_upper  \\\n",
            "280 2020-02-10  0.167945   -3.033272    3.163007     0.115747     0.218849   \n",
            "281 2020-02-11  0.166383   -2.687942    3.317206     0.102934     0.229415   \n",
            "282 2020-02-12  0.164821   -2.791512    3.228834     0.088219     0.241243   \n",
            "283 2020-02-13  0.163258   -2.462007    3.350873     0.075851     0.248494   \n",
            "284 2020-02-14  0.161696   -2.930356    2.753385     0.061006     0.258535   \n",
            "\n",
            "     additive_terms  additive_terms_lower  additive_terms_upper    weekly  \\\n",
            "280       -0.059869             -0.059869             -0.059869 -0.059869   \n",
            "281        0.108067              0.108067              0.108067  0.108067   \n",
            "282        0.060459              0.060459              0.060459  0.060459   \n",
            "283        0.319959              0.319959              0.319959  0.319959   \n",
            "284       -0.311376             -0.311376             -0.311376 -0.311376   \n",
            "\n",
            "     weekly_lower  weekly_upper  multiplicative_terms  \\\n",
            "280     -0.059869     -0.059869                   0.0   \n",
            "281      0.108067      0.108067                   0.0   \n",
            "282      0.060459      0.060459                   0.0   \n",
            "283      0.319959      0.319959                   0.0   \n",
            "284     -0.311376     -0.311376                   0.0   \n",
            "\n",
            "     multiplicative_terms_lower  multiplicative_terms_upper      yhat  \n",
            "280                         0.0                         0.0  0.108076  \n",
            "281                         0.0                         0.0  0.274450  \n",
            "282                         0.0                         0.0  0.225279  \n",
            "283                         0.0                         0.0  0.483218  \n",
            "284                         0.0                         0.0 -0.149679  \n"
          ]
        },
        {
          "output_type": "stream",
          "name": "stderr",
          "text": [
            "INFO:fbprophet:Disabling yearly seasonality. Run prophet with yearly_seasonality=True to override this.\n",
            "INFO:fbprophet:Disabling daily seasonality. Run prophet with daily_seasonality=True to override this.\n"
          ]
        },
        {
          "output_type": "stream",
          "name": "stdout",
          "text": [
            "            ds      trend  yhat_lower  yhat_upper  trend_lower  trend_upper  \\\n",
            "363 2020-02-10  57.429173    8.593784  141.151011    57.420967    57.440768   \n",
            "364 2020-02-11  57.463763  -14.260044  117.995304    57.453485    57.477681   \n",
            "365 2020-02-12  57.498353   25.801398  156.659351    57.484689    57.515647   \n",
            "366 2020-02-13  57.532943  -31.945260  104.128267    57.516227    57.553142   \n",
            "367 2020-02-14  57.567533   -5.509899  130.823544    57.548515    57.590825   \n",
            "\n",
            "     additive_terms  additive_terms_lower  additive_terms_upper     weekly  \\\n",
            "363       16.274558             16.274558             16.274558  16.274558   \n",
            "364       -3.167242             -3.167242             -3.167242  -3.167242   \n",
            "365       33.728624             33.728624             33.728624  33.728624   \n",
            "366      -20.163427            -20.163427            -20.163427 -20.163427   \n",
            "367        6.633912              6.633912              6.633912   6.633912   \n",
            "\n",
            "     weekly_lower  weekly_upper  multiplicative_terms  \\\n",
            "363     16.274558     16.274558                   0.0   \n",
            "364     -3.167242     -3.167242                   0.0   \n",
            "365     33.728624     33.728624                   0.0   \n",
            "366    -20.163427    -20.163427                   0.0   \n",
            "367      6.633912      6.633912                   0.0   \n",
            "\n",
            "     multiplicative_terms_lower  multiplicative_terms_upper       yhat  \n",
            "363                         0.0                         0.0  73.703731  \n",
            "364                         0.0                         0.0  54.296522  \n",
            "365                         0.0                         0.0  91.226977  \n",
            "366                         0.0                         0.0  37.369517  \n",
            "367                         0.0                         0.0  64.201445  \n"
          ]
        },
        {
          "output_type": "stream",
          "name": "stderr",
          "text": [
            "INFO:fbprophet:Disabling yearly seasonality. Run prophet with yearly_seasonality=True to override this.\n",
            "INFO:fbprophet:Disabling daily seasonality. Run prophet with daily_seasonality=True to override this.\n"
          ]
        },
        {
          "output_type": "stream",
          "name": "stdout",
          "text": [
            "            ds       trend  yhat_lower  yhat_upper  trend_lower  trend_upper  \\\n",
            "273 2020-02-10  258.801448  177.797247  341.498014   258.794030   258.808338   \n",
            "274 2020-02-11  258.911066  175.574490  338.843914   258.902039   258.919962   \n",
            "275 2020-02-12  259.020684  178.335575  339.008179   259.010077   259.031477   \n",
            "276 2020-02-13  259.130303  178.996454  340.832687   259.117966   259.142978   \n",
            "277 2020-02-14  259.239921  178.353207  339.252075   259.225776   259.254274   \n",
            "\n",
            "     additive_terms  additive_terms_lower  additive_terms_upper    weekly  \\\n",
            "273        3.994052              3.994052              3.994052  3.994052   \n",
            "274       -0.413616             -0.413616             -0.413616 -0.413616   \n",
            "275       -1.999097             -1.999097             -1.999097 -1.999097   \n",
            "276       -0.637258             -0.637258             -0.637258 -0.637258   \n",
            "277       -2.820095             -2.820095             -2.820095 -2.820095   \n",
            "\n",
            "     weekly_lower  weekly_upper  multiplicative_terms  \\\n",
            "273      3.994052      3.994052                   0.0   \n",
            "274     -0.413616     -0.413616                   0.0   \n",
            "275     -1.999097     -1.999097                   0.0   \n",
            "276     -0.637258     -0.637258                   0.0   \n",
            "277     -2.820095     -2.820095                   0.0   \n",
            "\n",
            "     multiplicative_terms_lower  multiplicative_terms_upper        yhat  \n",
            "273                         0.0                         0.0  262.795501  \n",
            "274                         0.0                         0.0  258.497451  \n",
            "275                         0.0                         0.0  257.021587  \n",
            "276                         0.0                         0.0  258.493044  \n",
            "277                         0.0                         0.0  256.419826  \n"
          ]
        },
        {
          "output_type": "stream",
          "name": "stderr",
          "text": [
            "INFO:fbprophet:Disabling yearly seasonality. Run prophet with yearly_seasonality=True to override this.\n",
            "INFO:fbprophet:Disabling daily seasonality. Run prophet with daily_seasonality=True to override this.\n"
          ]
        },
        {
          "output_type": "stream",
          "name": "stdout",
          "text": [
            "            ds       trend  yhat_lower  yhat_upper  trend_lower  trend_upper  \\\n",
            "374 2020-02-10  200.749125  169.467375  443.857557   200.749119   200.749132   \n",
            "375 2020-02-11  200.760000  -24.667086  247.991967   200.759993   200.760008   \n",
            "376 2020-02-12  200.770876  115.530569  370.504325   200.770867   200.770885   \n",
            "377 2020-02-13  200.781751    7.770796  269.218419   200.781740   200.781763   \n",
            "378 2020-02-14  200.792627   93.828364  366.458355   200.792614   200.792640   \n",
            "\n",
            "     additive_terms  additive_terms_lower  additive_terms_upper      weekly  \\\n",
            "374      101.670461            101.670461            101.670461  101.670461   \n",
            "375      -86.255730            -86.255730            -86.255730  -86.255730   \n",
            "376       34.882460             34.882460             34.882460   34.882460   \n",
            "377      -62.739393            -62.739393            -62.739393  -62.739393   \n",
            "378       28.699212             28.699212             28.699212   28.699212   \n",
            "\n",
            "     weekly_lower  weekly_upper  multiplicative_terms  \\\n",
            "374    101.670461    101.670461                   0.0   \n",
            "375    -86.255730    -86.255730                   0.0   \n",
            "376     34.882460     34.882460                   0.0   \n",
            "377    -62.739393    -62.739393                   0.0   \n",
            "378     28.699212     28.699212                   0.0   \n",
            "\n",
            "     multiplicative_terms_lower  multiplicative_terms_upper        yhat  \n",
            "374                         0.0                         0.0  302.419586  \n",
            "375                         0.0                         0.0  114.504270  \n",
            "376                         0.0                         0.0  235.653336  \n",
            "377                         0.0                         0.0  138.042358  \n",
            "378                         0.0                         0.0  229.491839  \n"
          ]
        },
        {
          "output_type": "stream",
          "name": "stderr",
          "text": [
            "INFO:fbprophet:Disabling yearly seasonality. Run prophet with yearly_seasonality=True to override this.\n",
            "INFO:fbprophet:Disabling daily seasonality. Run prophet with daily_seasonality=True to override this.\n"
          ]
        },
        {
          "output_type": "stream",
          "name": "stdout",
          "text": [
            "            ds       trend  yhat_lower  yhat_upper  trend_lower  trend_upper  \\\n",
            "279 2020-02-10  215.672281   71.154740  384.896072   215.439772   215.915316   \n",
            "280 2020-02-11  214.944864   48.865706  376.537381   214.675592   215.219698   \n",
            "281 2020-02-12  214.217447   41.640257  376.375618   213.896911   214.546632   \n",
            "282 2020-02-13  213.490030  110.669344  420.255214   213.125213   213.860534   \n",
            "283 2020-02-14  212.762613   33.034294  358.680236   212.335666   213.187543   \n",
            "\n",
            "     additive_terms  additive_terms_lower  additive_terms_upper     weekly  \\\n",
            "279       14.278641             14.278641             14.278641  14.278641   \n",
            "280        6.308552              6.308552              6.308552   6.308552   \n",
            "281       -8.501943             -8.501943             -8.501943  -8.501943   \n",
            "282       47.284234             47.284234             47.284234  47.284234   \n",
            "283      -16.857574            -16.857574            -16.857574 -16.857574   \n",
            "\n",
            "     weekly_lower  weekly_upper  multiplicative_terms  \\\n",
            "279     14.278641     14.278641                   0.0   \n",
            "280      6.308552      6.308552                   0.0   \n",
            "281     -8.501943     -8.501943                   0.0   \n",
            "282     47.284234     47.284234                   0.0   \n",
            "283    -16.857574    -16.857574                   0.0   \n",
            "\n",
            "     multiplicative_terms_lower  multiplicative_terms_upper        yhat  \n",
            "279                         0.0                         0.0  229.950922  \n",
            "280                         0.0                         0.0  221.253416  \n",
            "281                         0.0                         0.0  205.715504  \n",
            "282                         0.0                         0.0  260.774264  \n",
            "283                         0.0                         0.0  195.905039  \n"
          ]
        },
        {
          "output_type": "stream",
          "name": "stderr",
          "text": [
            "INFO:fbprophet:Disabling yearly seasonality. Run prophet with yearly_seasonality=True to override this.\n",
            "INFO:fbprophet:Disabling daily seasonality. Run prophet with daily_seasonality=True to override this.\n"
          ]
        },
        {
          "output_type": "stream",
          "name": "stdout",
          "text": [
            "            ds       trend  yhat_lower  yhat_upper  trend_lower  trend_upper  \\\n",
            "374 2020-02-10  228.731938   86.179039  294.796751   228.717404   228.742160   \n",
            "375 2020-02-11  228.769785   97.651792  306.571927   228.753111   228.782092   \n",
            "376 2020-02-12  228.807632   76.459510  283.004518   228.786912   228.822141   \n",
            "377 2020-02-13  228.845479  114.046686  308.964318   228.821546   228.862601   \n",
            "378 2020-02-14  228.883326   68.287666  271.059855   228.855975   228.903043   \n",
            "\n",
            "     additive_terms  additive_terms_lower  additive_terms_upper     weekly  \\\n",
            "374      -38.194378            -38.194378            -38.194378 -38.194378   \n",
            "375      -22.685089            -22.685089            -22.685089 -22.685089   \n",
            "376      -52.511015            -52.511015            -52.511015 -52.511015   \n",
            "377      -22.195303            -22.195303            -22.195303 -22.195303   \n",
            "378      -52.954340            -52.954340            -52.954340 -52.954340   \n",
            "\n",
            "     weekly_lower  weekly_upper  multiplicative_terms  \\\n",
            "374    -38.194378    -38.194378                   0.0   \n",
            "375    -22.685089    -22.685089                   0.0   \n",
            "376    -52.511015    -52.511015                   0.0   \n",
            "377    -22.195303    -22.195303                   0.0   \n",
            "378    -52.954340    -52.954340                   0.0   \n",
            "\n",
            "     multiplicative_terms_lower  multiplicative_terms_upper        yhat  \n",
            "374                         0.0                         0.0  190.537560  \n",
            "375                         0.0                         0.0  206.084696  \n",
            "376                         0.0                         0.0  176.296617  \n",
            "377                         0.0                         0.0  206.650177  \n",
            "378                         0.0                         0.0  175.928986  \n"
          ]
        },
        {
          "output_type": "stream",
          "name": "stderr",
          "text": [
            "INFO:fbprophet:Disabling yearly seasonality. Run prophet with yearly_seasonality=True to override this.\n",
            "INFO:fbprophet:Disabling daily seasonality. Run prophet with daily_seasonality=True to override this.\n"
          ]
        },
        {
          "output_type": "stream",
          "name": "stdout",
          "text": [
            "            ds       trend  yhat_lower  yhat_upper  trend_lower  trend_upper  \\\n",
            "355 2020-02-10  181.965163  139.449109  349.584279   181.965091   181.965243   \n",
            "356 2020-02-11  181.892396  160.092981  362.659064   181.892308   181.892494   \n",
            "357 2020-02-12  181.819628  167.323942  377.420584   181.819521   181.819742   \n",
            "358 2020-02-13  181.746861  166.495788  357.093318   181.746731   181.746994   \n",
            "359 2020-02-14  181.674093  114.931678  323.890727   181.673946   181.674258   \n",
            "\n",
            "     additive_terms  additive_terms_lower  additive_terms_upper     weekly  \\\n",
            "355       63.522073             63.522073             63.522073  63.522073   \n",
            "356       77.487235             77.487235             77.487235  77.487235   \n",
            "357       89.629341             89.629341             89.629341  89.629341   \n",
            "358       79.345241             79.345241             79.345241  79.345241   \n",
            "359       40.880570             40.880570             40.880570  40.880570   \n",
            "\n",
            "     weekly_lower  weekly_upper  multiplicative_terms  \\\n",
            "355     63.522073     63.522073                   0.0   \n",
            "356     77.487235     77.487235                   0.0   \n",
            "357     89.629341     89.629341                   0.0   \n",
            "358     79.345241     79.345241                   0.0   \n",
            "359     40.880570     40.880570                   0.0   \n",
            "\n",
            "     multiplicative_terms_lower  multiplicative_terms_upper        yhat  \n",
            "355                         0.0                         0.0  245.487237  \n",
            "356                         0.0                         0.0  259.379631  \n",
            "357                         0.0                         0.0  271.448969  \n",
            "358                         0.0                         0.0  261.092102  \n",
            "359                         0.0                         0.0  222.554663  \n"
          ]
        },
        {
          "output_type": "stream",
          "name": "stderr",
          "text": [
            "INFO:fbprophet:Disabling yearly seasonality. Run prophet with yearly_seasonality=True to override this.\n",
            "INFO:fbprophet:Disabling daily seasonality. Run prophet with daily_seasonality=True to override this.\n"
          ]
        },
        {
          "output_type": "stream",
          "name": "stdout",
          "text": [
            "            ds     trend  yhat_lower  yhat_upper  trend_lower  trend_upper  \\\n",
            "310 2020-02-10 -2.544506  -42.113054   31.589546    -2.601234    -2.487841   \n",
            "311 2020-02-11 -2.675555  -33.938708   41.030573    -2.746605    -2.608843   \n",
            "312 2020-02-12 -2.806604  -40.769938   31.855907    -2.891739    -2.728006   \n",
            "313 2020-02-13 -2.937653  -22.865746   52.069132    -3.039142    -2.845044   \n",
            "314 2020-02-14 -3.068702  -46.091299   31.543155    -3.187094    -2.961333   \n",
            "\n",
            "     additive_terms  additive_terms_lower  additive_terms_upper     weekly  \\\n",
            "310       -3.831962             -3.831962             -3.831962  -3.831962   \n",
            "311        6.331866              6.331866              6.331866   6.331866   \n",
            "312       -1.194354             -1.194354             -1.194354  -1.194354   \n",
            "313       18.711047             18.711047             18.711047  18.711047   \n",
            "314       -4.931177             -4.931177             -4.931177  -4.931177   \n",
            "\n",
            "     weekly_lower  weekly_upper  multiplicative_terms  \\\n",
            "310     -3.831962     -3.831962                   0.0   \n",
            "311      6.331866      6.331866                   0.0   \n",
            "312     -1.194354     -1.194354                   0.0   \n",
            "313     18.711047     18.711047                   0.0   \n",
            "314     -4.931177     -4.931177                   0.0   \n",
            "\n",
            "     multiplicative_terms_lower  multiplicative_terms_upper       yhat  \n",
            "310                         0.0                         0.0  -6.376468  \n",
            "311                         0.0                         0.0   3.656311  \n",
            "312                         0.0                         0.0  -4.000958  \n",
            "313                         0.0                         0.0  15.773394  \n",
            "314                         0.0                         0.0  -7.999880  \n"
          ]
        },
        {
          "output_type": "stream",
          "name": "stderr",
          "text": [
            "INFO:fbprophet:Disabling yearly seasonality. Run prophet with yearly_seasonality=True to override this.\n",
            "INFO:fbprophet:Disabling daily seasonality. Run prophet with daily_seasonality=True to override this.\n"
          ]
        },
        {
          "output_type": "stream",
          "name": "stdout",
          "text": [
            "            ds       trend  yhat_lower  yhat_upper  trend_lower  trend_upper  \\\n",
            "374 2020-02-10  123.002767   48.263733  188.859680   122.872027   123.134515   \n",
            "375 2020-02-11  123.094382   41.929655  188.342903   122.934829   123.255090   \n",
            "376 2020-02-12  123.185997   45.249006  191.934908   122.982394   123.385156   \n",
            "377 2020-02-13  123.277612   42.947720  189.911837   123.034596   123.518913   \n",
            "378 2020-02-14  123.369227   44.761451  186.926887   123.084747   123.649199   \n",
            "\n",
            "     additive_terms  additive_terms_lower  additive_terms_upper    weekly  \\\n",
            "374       -6.365341             -6.365341             -6.365341 -6.365341   \n",
            "375       -6.897155             -6.897155             -6.897155 -6.897155   \n",
            "376       -4.062153             -4.062153             -4.062153 -4.062153   \n",
            "377       -6.666593             -6.666593             -6.666593 -6.666593   \n",
            "378       -8.445490             -8.445490             -8.445490 -8.445490   \n",
            "\n",
            "     weekly_lower  weekly_upper  multiplicative_terms  \\\n",
            "374     -6.365341     -6.365341                   0.0   \n",
            "375     -6.897155     -6.897155                   0.0   \n",
            "376     -4.062153     -4.062153                   0.0   \n",
            "377     -6.666593     -6.666593                   0.0   \n",
            "378     -8.445490     -8.445490                   0.0   \n",
            "\n",
            "     multiplicative_terms_lower  multiplicative_terms_upper        yhat  \n",
            "374                         0.0                         0.0  116.637427  \n",
            "375                         0.0                         0.0  116.197227  \n",
            "376                         0.0                         0.0  119.123844  \n",
            "377                         0.0                         0.0  116.611018  \n",
            "378                         0.0                         0.0  114.923737  \n"
          ]
        },
        {
          "output_type": "stream",
          "name": "stderr",
          "text": [
            "INFO:fbprophet:Disabling yearly seasonality. Run prophet with yearly_seasonality=True to override this.\n",
            "INFO:fbprophet:Disabling daily seasonality. Run prophet with daily_seasonality=True to override this.\n"
          ]
        },
        {
          "output_type": "stream",
          "name": "stdout",
          "text": [
            "            ds       trend  yhat_lower  yhat_upper  trend_lower  trend_upper  \\\n",
            "374 2020-02-10  365.608447  225.909881  490.335607   362.576615   369.365525   \n",
            "375 2020-02-11  363.646374  215.233839  482.617612   359.822378   368.437088   \n",
            "376 2020-02-12  361.684301  240.138909  502.892886   357.101971   367.394576   \n",
            "377 2020-02-13  359.722227  220.256267  475.492185   354.346051   366.112824   \n",
            "378 2020-02-14  357.760154  217.028595  476.743962   351.577156   365.019703   \n",
            "\n",
            "     additive_terms  additive_terms_lower  additive_terms_upper     weekly  \\\n",
            "374      -13.874964            -13.874964            -13.874964 -13.874964   \n",
            "375      -12.949491            -12.949491            -12.949491 -12.949491   \n",
            "376        9.822385              9.822385              9.822385   9.822385   \n",
            "377      -12.821626            -12.821626            -12.821626 -12.821626   \n",
            "378       -9.934234             -9.934234             -9.934234  -9.934234   \n",
            "\n",
            "     weekly_lower  weekly_upper  multiplicative_terms  \\\n",
            "374    -13.874964    -13.874964                   0.0   \n",
            "375    -12.949491    -12.949491                   0.0   \n",
            "376      9.822385      9.822385                   0.0   \n",
            "377    -12.821626    -12.821626                   0.0   \n",
            "378     -9.934234     -9.934234                   0.0   \n",
            "\n",
            "     multiplicative_terms_lower  multiplicative_terms_upper        yhat  \n",
            "374                         0.0                         0.0  351.733483  \n",
            "375                         0.0                         0.0  350.696883  \n",
            "376                         0.0                         0.0  371.506685  \n",
            "377                         0.0                         0.0  346.900601  \n",
            "378                         0.0                         0.0  347.825921  \n"
          ]
        },
        {
          "output_type": "stream",
          "name": "stderr",
          "text": [
            "INFO:fbprophet:Disabling yearly seasonality. Run prophet with yearly_seasonality=True to override this.\n",
            "INFO:fbprophet:Disabling daily seasonality. Run prophet with daily_seasonality=True to override this.\n"
          ]
        },
        {
          "output_type": "stream",
          "name": "stdout",
          "text": [
            "            ds       trend  yhat_lower  yhat_upper  trend_lower  trend_upper  \\\n",
            "374 2020-02-10  158.109846   69.851839  250.885399   157.918704   158.333402   \n",
            "375 2020-02-11  157.319768   63.442437  247.122706   157.086523   157.611783   \n",
            "376 2020-02-12  156.529690  100.433657  296.206814   156.263000   156.867292   \n",
            "377 2020-02-13  155.739611   38.294642  227.204358   155.432409   156.161421   \n",
            "378 2020-02-14  154.949533   45.304193  228.676083   154.594072   155.442416   \n",
            "\n",
            "     additive_terms  additive_terms_lower  additive_terms_upper     weekly  \\\n",
            "374        5.555236              5.555236              5.555236   5.555236   \n",
            "375       -4.081587             -4.081587             -4.081587  -4.081587   \n",
            "376       42.670497             42.670497             42.670497  42.670497   \n",
            "377      -25.568172            -25.568172            -25.568172 -25.568172   \n",
            "378      -22.623473            -22.623473            -22.623473 -22.623473   \n",
            "\n",
            "     weekly_lower  weekly_upper  multiplicative_terms  \\\n",
            "374      5.555236      5.555236                   0.0   \n",
            "375     -4.081587     -4.081587                   0.0   \n",
            "376     42.670497     42.670497                   0.0   \n",
            "377    -25.568172    -25.568172                   0.0   \n",
            "378    -22.623473    -22.623473                   0.0   \n",
            "\n",
            "     multiplicative_terms_lower  multiplicative_terms_upper        yhat  \n",
            "374                         0.0                         0.0  163.665083  \n",
            "375                         0.0                         0.0  153.238181  \n",
            "376                         0.0                         0.0  199.200187  \n",
            "377                         0.0                         0.0  130.171440  \n",
            "378                         0.0                         0.0  132.326060  \n"
          ]
        },
        {
          "output_type": "stream",
          "name": "stderr",
          "text": [
            "INFO:fbprophet:Disabling yearly seasonality. Run prophet with yearly_seasonality=True to override this.\n",
            "INFO:fbprophet:Disabling daily seasonality. Run prophet with daily_seasonality=True to override this.\n"
          ]
        },
        {
          "output_type": "stream",
          "name": "stdout",
          "text": [
            "            ds      trend  yhat_lower  yhat_upper  trend_lower  trend_upper  \\\n",
            "374 2020-02-10  54.451100  -17.053935   87.623546    54.451098    54.451103   \n",
            "375 2020-02-11  54.472271  -19.511301   74.607884    54.472268    54.472275   \n",
            "376 2020-02-12  54.493443  -13.152890   90.002198    54.493439    54.493447   \n",
            "377 2020-02-13  54.514614   -5.357612   90.125641    54.514609    54.514619   \n",
            "378 2020-02-14  54.535785   13.369521  113.264158    54.535780    54.535791   \n",
            "\n",
            "     additive_terms  additive_terms_lower  additive_terms_upper     weekly  \\\n",
            "374      -20.306191            -20.306191            -20.306191 -20.306191   \n",
            "375      -25.307928            -25.307928            -25.307928 -25.307928   \n",
            "376      -17.630764            -17.630764            -17.630764 -17.630764   \n",
            "377       -9.156978             -9.156978             -9.156978  -9.156978   \n",
            "378        8.023529              8.023529              8.023529   8.023529   \n",
            "\n",
            "     weekly_lower  weekly_upper  multiplicative_terms  \\\n",
            "374    -20.306191    -20.306191                   0.0   \n",
            "375    -25.307928    -25.307928                   0.0   \n",
            "376    -17.630764    -17.630764                   0.0   \n",
            "377     -9.156978     -9.156978                   0.0   \n",
            "378      8.023529      8.023529                   0.0   \n",
            "\n",
            "     multiplicative_terms_lower  multiplicative_terms_upper       yhat  \n",
            "374                         0.0                         0.0  34.144909  \n",
            "375                         0.0                         0.0  29.164344  \n",
            "376                         0.0                         0.0  36.862679  \n",
            "377                         0.0                         0.0  45.357636  \n",
            "378                         0.0                         0.0  62.559314  \n"
          ]
        },
        {
          "output_type": "stream",
          "name": "stderr",
          "text": [
            "INFO:fbprophet:Disabling yearly seasonality. Run prophet with yearly_seasonality=True to override this.\n",
            "INFO:fbprophet:Disabling daily seasonality. Run prophet with daily_seasonality=True to override this.\n"
          ]
        },
        {
          "output_type": "stream",
          "name": "stdout",
          "text": [
            "            ds       trend  yhat_lower  yhat_upper  trend_lower  trend_upper  \\\n",
            "374 2020-02-10  161.216980    5.388571  299.534201   161.159291   161.316075   \n",
            "375 2020-02-11  161.260304    8.440017  297.876305   161.184686   161.374611   \n",
            "376 2020-02-12  161.303627   10.203751  314.434193   161.209362   161.432091   \n",
            "377 2020-02-13  161.346950   28.979401  327.184568   161.241195   161.494344   \n",
            "378 2020-02-14  161.390274   10.167042  311.279015   161.264685   161.556676   \n",
            "\n",
            "     additive_terms  additive_terms_lower  additive_terms_upper     weekly  \\\n",
            "374       -9.293272             -9.293272             -9.293272  -9.293272   \n",
            "375       -9.137200             -9.137200             -9.137200  -9.137200   \n",
            "376        3.204197              3.204197              3.204197   3.204197   \n",
            "377       20.571667             20.571667             20.571667  20.571667   \n",
            "378        0.770004              0.770004              0.770004   0.770004   \n",
            "\n",
            "     weekly_lower  weekly_upper  multiplicative_terms  \\\n",
            "374     -9.293272     -9.293272                   0.0   \n",
            "375     -9.137200     -9.137200                   0.0   \n",
            "376      3.204197      3.204197                   0.0   \n",
            "377     20.571667     20.571667                   0.0   \n",
            "378      0.770004      0.770004                   0.0   \n",
            "\n",
            "     multiplicative_terms_lower  multiplicative_terms_upper        yhat  \n",
            "374                         0.0                         0.0  151.923708  \n",
            "375                         0.0                         0.0  152.123104  \n",
            "376                         0.0                         0.0  164.507824  \n",
            "377                         0.0                         0.0  181.918618  \n",
            "378                         0.0                         0.0  162.160278  \n"
          ]
        },
        {
          "output_type": "stream",
          "name": "stderr",
          "text": [
            "INFO:fbprophet:Disabling yearly seasonality. Run prophet with yearly_seasonality=True to override this.\n",
            "INFO:fbprophet:Disabling daily seasonality. Run prophet with daily_seasonality=True to override this.\n"
          ]
        },
        {
          "output_type": "stream",
          "name": "stdout",
          "text": [
            "            ds     trend  yhat_lower  yhat_upper  trend_lower  trend_upper  \\\n",
            "321 2020-02-10 -4.014012  -28.458979   24.565952    -4.058172    -3.973112   \n",
            "322 2020-02-11 -4.057138  -32.074488   23.365512    -4.109047    -4.009468   \n",
            "323 2020-02-12 -4.100264  -27.089252   24.426478    -4.164725    -4.047343   \n",
            "324 2020-02-13 -4.143390  -24.146062   29.140404    -4.217214    -4.084409   \n",
            "325 2020-02-14 -4.186516  -36.733106   17.673056    -4.268075    -4.119580   \n",
            "\n",
            "     additive_terms  additive_terms_lower  additive_terms_upper    weekly  \\\n",
            "321        0.619240              0.619240              0.619240  0.619240   \n",
            "322       -0.777877             -0.777877             -0.777877 -0.777877   \n",
            "323        3.327562              3.327562              3.327562  3.327562   \n",
            "324        6.746027              6.746027              6.746027  6.746027   \n",
            "325       -5.739240             -5.739240             -5.739240 -5.739240   \n",
            "\n",
            "     weekly_lower  weekly_upper  multiplicative_terms  \\\n",
            "321      0.619240      0.619240                   0.0   \n",
            "322     -0.777877     -0.777877                   0.0   \n",
            "323      3.327562      3.327562                   0.0   \n",
            "324      6.746027      6.746027                   0.0   \n",
            "325     -5.739240     -5.739240                   0.0   \n",
            "\n",
            "     multiplicative_terms_lower  multiplicative_terms_upper      yhat  \n",
            "321                         0.0                         0.0 -3.394772  \n",
            "322                         0.0                         0.0 -4.835015  \n",
            "323                         0.0                         0.0 -0.772702  \n",
            "324                         0.0                         0.0  2.602637  \n",
            "325                         0.0                         0.0 -9.925756  \n"
          ]
        },
        {
          "output_type": "stream",
          "name": "stderr",
          "text": [
            "INFO:fbprophet:Disabling yearly seasonality. Run prophet with yearly_seasonality=True to override this.\n",
            "INFO:fbprophet:Disabling daily seasonality. Run prophet with daily_seasonality=True to override this.\n"
          ]
        },
        {
          "output_type": "stream",
          "name": "stdout",
          "text": [
            "            ds      trend  yhat_lower  yhat_upper  trend_lower  trend_upper  \\\n",
            "374 2020-02-10  17.338164   -7.851829   37.600734    17.338160    17.338169   \n",
            "375 2020-02-11  17.301971   -2.273814   44.583972    17.301966    17.301976   \n",
            "376 2020-02-12  17.265778    0.198150   48.532212    17.265772    17.265784   \n",
            "377 2020-02-13  17.229584    6.842812   53.268218    17.229578    17.229591   \n",
            "378 2020-02-14  17.193391   14.509532   59.984338    17.193383    17.193399   \n",
            "\n",
            "     additive_terms  additive_terms_lower  additive_terms_upper     weekly  \\\n",
            "374       -2.027239             -2.027239             -2.027239  -2.027239   \n",
            "375        2.476120              2.476120              2.476120   2.476120   \n",
            "376        6.375007              6.375007              6.375007   6.375007   \n",
            "377       13.293742             13.293742             13.293742  13.293742   \n",
            "378       18.841415             18.841415             18.841415  18.841415   \n",
            "\n",
            "     weekly_lower  weekly_upper  multiplicative_terms  \\\n",
            "374     -2.027239     -2.027239                   0.0   \n",
            "375      2.476120      2.476120                   0.0   \n",
            "376      6.375007      6.375007                   0.0   \n",
            "377     13.293742     13.293742                   0.0   \n",
            "378     18.841415     18.841415                   0.0   \n",
            "\n",
            "     multiplicative_terms_lower  multiplicative_terms_upper       yhat  \n",
            "374                         0.0                         0.0  15.310926  \n",
            "375                         0.0                         0.0  19.778091  \n",
            "376                         0.0                         0.0  23.640784  \n",
            "377                         0.0                         0.0  30.523326  \n",
            "378                         0.0                         0.0  36.034806  \n"
          ]
        },
        {
          "output_type": "stream",
          "name": "stderr",
          "text": [
            "INFO:fbprophet:Disabling yearly seasonality. Run prophet with yearly_seasonality=True to override this.\n",
            "INFO:fbprophet:Disabling daily seasonality. Run prophet with daily_seasonality=True to override this.\n"
          ]
        },
        {
          "output_type": "stream",
          "name": "stdout",
          "text": [
            "            ds       trend  yhat_lower  yhat_upper  trend_lower  trend_upper  \\\n",
            "374 2020-02-10  206.724580 -340.338356  722.815563   206.722393   206.726469   \n",
            "375 2020-02-11  206.421739 -365.796161  647.124579   206.419030   206.424118   \n",
            "376 2020-02-12  206.118898 -377.842939  695.533881   206.115573   206.121884   \n",
            "377 2020-02-13  205.816057 -305.339807  684.186332   205.812231   205.819383   \n",
            "378 2020-02-14  205.513216 -232.753663  798.182652   205.508873   205.517021   \n",
            "\n",
            "     additive_terms  additive_terms_lower  additive_terms_upper     weekly  \\\n",
            "374      -13.211520            -13.211520            -13.211520 -13.211520   \n",
            "375      -38.263480            -38.263480            -38.263480 -38.263480   \n",
            "376      -44.033597            -44.033597            -44.033597 -44.033597   \n",
            "377      -30.527469            -30.527469            -30.527469 -30.527469   \n",
            "378       76.229934             76.229934             76.229934  76.229934   \n",
            "\n",
            "     weekly_lower  weekly_upper  multiplicative_terms  \\\n",
            "374    -13.211520    -13.211520                   0.0   \n",
            "375    -38.263480    -38.263480                   0.0   \n",
            "376    -44.033597    -44.033597                   0.0   \n",
            "377    -30.527469    -30.527469                   0.0   \n",
            "378     76.229934     76.229934                   0.0   \n",
            "\n",
            "     multiplicative_terms_lower  multiplicative_terms_upper        yhat  \n",
            "374                         0.0                         0.0  193.513060  \n",
            "375                         0.0                         0.0  168.158259  \n",
            "376                         0.0                         0.0  162.085301  \n",
            "377                         0.0                         0.0  175.288588  \n",
            "378                         0.0                         0.0  281.743151  \n"
          ]
        },
        {
          "output_type": "stream",
          "name": "stderr",
          "text": [
            "INFO:fbprophet:Disabling yearly seasonality. Run prophet with yearly_seasonality=True to override this.\n",
            "INFO:fbprophet:Disabling daily seasonality. Run prophet with daily_seasonality=True to override this.\n"
          ]
        },
        {
          "output_type": "stream",
          "name": "stdout",
          "text": [
            "            ds      trend  yhat_lower  yhat_upper  trend_lower  trend_upper  \\\n",
            "374 2020-02-10 -39.413241 -119.033972   18.380222   -39.604828   -39.211889   \n",
            "375 2020-02-11 -40.511350 -127.617046   13.489703   -40.742771   -40.270735   \n",
            "376 2020-02-12 -41.609458 -117.428708   26.724857   -41.886645   -41.323216   \n",
            "377 2020-02-13 -42.707567 -117.879709   13.959993   -43.035043   -42.376673   \n",
            "378 2020-02-14 -43.805675  -97.404096   41.254439   -44.190517   -43.411092   \n",
            "\n",
            "     additive_terms  additive_terms_lower  additive_terms_upper     weekly  \\\n",
            "374      -12.531353            -12.531353            -12.531353 -12.531353   \n",
            "375      -17.160630            -17.160630            -17.160630 -17.160630   \n",
            "376       -4.447943             -4.447943             -4.447943  -4.447943   \n",
            "377       -8.774783             -8.774783             -8.774783  -8.774783   \n",
            "378       13.002575             13.002575             13.002575  13.002575   \n",
            "\n",
            "     weekly_lower  weekly_upper  multiplicative_terms  \\\n",
            "374    -12.531353    -12.531353                   0.0   \n",
            "375    -17.160630    -17.160630                   0.0   \n",
            "376     -4.447943     -4.447943                   0.0   \n",
            "377     -8.774783     -8.774783                   0.0   \n",
            "378     13.002575     13.002575                   0.0   \n",
            "\n",
            "     multiplicative_terms_lower  multiplicative_terms_upper       yhat  \n",
            "374                         0.0                         0.0 -51.944594  \n",
            "375                         0.0                         0.0 -57.671980  \n",
            "376                         0.0                         0.0 -46.057402  \n",
            "377                         0.0                         0.0 -51.482350  \n",
            "378                         0.0                         0.0 -30.803100  \n"
          ]
        },
        {
          "output_type": "stream",
          "name": "stderr",
          "text": [
            "INFO:fbprophet:Disabling yearly seasonality. Run prophet with yearly_seasonality=True to override this.\n",
            "INFO:fbprophet:Disabling daily seasonality. Run prophet with daily_seasonality=True to override this.\n"
          ]
        },
        {
          "output_type": "stream",
          "name": "stdout",
          "text": [
            "            ds       trend  yhat_lower  yhat_upper  trend_lower  trend_upper  \\\n",
            "374 2020-02-10  265.011655  108.402085  438.584330   264.680127   265.382027   \n",
            "375 2020-02-11  263.738911  122.023540  448.876895   263.336784   264.175361   \n",
            "376 2020-02-12  262.466166  104.146661  437.995294   261.973277   262.991393   \n",
            "377 2020-02-13  261.193422   84.039469  410.939651   260.609164   261.810346   \n",
            "378 2020-02-14  259.920678   93.636739  407.646928   259.243824   260.628671   \n",
            "\n",
            "     additive_terms  additive_terms_lower  additive_terms_upper     weekly  \\\n",
            "374        6.545565              6.545565              6.545565   6.545565   \n",
            "375       15.374437             15.374437             15.374437  15.374437   \n",
            "376        6.376969              6.376969              6.376969   6.376969   \n",
            "377       -5.367091             -5.367091             -5.367091  -5.367091   \n",
            "378      -12.758469            -12.758469            -12.758469 -12.758469   \n",
            "\n",
            "     weekly_lower  weekly_upper  multiplicative_terms  \\\n",
            "374      6.545565      6.545565                   0.0   \n",
            "375     15.374437     15.374437                   0.0   \n",
            "376      6.376969      6.376969                   0.0   \n",
            "377     -5.367091     -5.367091                   0.0   \n",
            "378    -12.758469    -12.758469                   0.0   \n",
            "\n",
            "     multiplicative_terms_lower  multiplicative_terms_upper        yhat  \n",
            "374                         0.0                         0.0  271.557220  \n",
            "375                         0.0                         0.0  279.113348  \n",
            "376                         0.0                         0.0  268.843135  \n",
            "377                         0.0                         0.0  255.826331  \n",
            "378                         0.0                         0.0  247.162209  \n"
          ]
        },
        {
          "output_type": "stream",
          "name": "stderr",
          "text": [
            "INFO:fbprophet:Disabling yearly seasonality. Run prophet with yearly_seasonality=True to override this.\n",
            "INFO:fbprophet:Disabling daily seasonality. Run prophet with daily_seasonality=True to override this.\n"
          ]
        },
        {
          "output_type": "stream",
          "name": "stdout",
          "text": [
            "            ds  trend    yhat_lower    yhat_upper   trend_lower   trend_upper  \\\n",
            "374 2020-02-10    0.0 -1.348192e-09  1.327947e-09 -1.331403e-10  1.054629e-10   \n",
            "375 2020-02-11    0.0 -1.382451e-09  1.275732e-09 -1.641471e-10  1.260429e-10   \n",
            "376 2020-02-12    0.0 -1.280775e-09  1.243020e-09 -1.990937e-10  1.525929e-10   \n",
            "377 2020-02-13    0.0 -1.299826e-09  1.268907e-09 -2.312160e-10  1.913861e-10   \n",
            "378 2020-02-14    0.0 -1.381297e-09  1.379105e-09 -2.615774e-10  2.172115e-10   \n",
            "\n",
            "     additive_terms  additive_terms_lower  additive_terms_upper  weekly  \\\n",
            "374             0.0                   0.0                   0.0     0.0   \n",
            "375             0.0                   0.0                   0.0     0.0   \n",
            "376             0.0                   0.0                   0.0     0.0   \n",
            "377             0.0                   0.0                   0.0     0.0   \n",
            "378             0.0                   0.0                   0.0     0.0   \n",
            "\n",
            "     weekly_lower  weekly_upper  multiplicative_terms  \\\n",
            "374           0.0           0.0                   0.0   \n",
            "375           0.0           0.0                   0.0   \n",
            "376           0.0           0.0                   0.0   \n",
            "377           0.0           0.0                   0.0   \n",
            "378           0.0           0.0                   0.0   \n",
            "\n",
            "     multiplicative_terms_lower  multiplicative_terms_upper  yhat  \n",
            "374                         0.0                         0.0   0.0  \n",
            "375                         0.0                         0.0   0.0  \n",
            "376                         0.0                         0.0   0.0  \n",
            "377                         0.0                         0.0   0.0  \n",
            "378                         0.0                         0.0   0.0  \n"
          ]
        },
        {
          "output_type": "stream",
          "name": "stderr",
          "text": [
            "INFO:fbprophet:Disabling yearly seasonality. Run prophet with yearly_seasonality=True to override this.\n",
            "INFO:fbprophet:Disabling daily seasonality. Run prophet with daily_seasonality=True to override this.\n"
          ]
        },
        {
          "output_type": "stream",
          "name": "stdout",
          "text": [
            "            ds       trend  yhat_lower  yhat_upper  trend_lower  trend_upper  \\\n",
            "374 2020-02-10  219.287013   95.757279  344.625338   219.285799   219.287909   \n",
            "375 2020-02-11  219.272990   86.662938  336.431696   219.271534   219.274091   \n",
            "376 2020-02-12  219.258967   91.855717  340.234478   219.257343   219.260346   \n",
            "377 2020-02-13  219.244944   51.546021  294.356962   219.243096   219.246519   \n",
            "378 2020-02-14  219.230921   77.502263  329.075727   219.228873   219.232745   \n",
            "\n",
            "     additive_terms  additive_terms_lower  additive_terms_upper     weekly  \\\n",
            "374        3.615895              3.615895              3.615895   3.615895   \n",
            "375       -2.589481             -2.589481             -2.589481  -2.589481   \n",
            "376       -5.107909             -5.107909             -5.107909  -5.107909   \n",
            "377      -40.082914            -40.082914            -40.082914 -40.082914   \n",
            "378      -20.307060            -20.307060            -20.307060 -20.307060   \n",
            "\n",
            "     weekly_lower  weekly_upper  multiplicative_terms  \\\n",
            "374      3.615895      3.615895                   0.0   \n",
            "375     -2.589481     -2.589481                   0.0   \n",
            "376     -5.107909     -5.107909                   0.0   \n",
            "377    -40.082914    -40.082914                   0.0   \n",
            "378    -20.307060    -20.307060                   0.0   \n",
            "\n",
            "     multiplicative_terms_lower  multiplicative_terms_upper        yhat  \n",
            "374                         0.0                         0.0  222.902908  \n",
            "375                         0.0                         0.0  216.683509  \n",
            "376                         0.0                         0.0  214.151058  \n",
            "377                         0.0                         0.0  179.162030  \n",
            "378                         0.0                         0.0  198.923860  \n"
          ]
        },
        {
          "output_type": "stream",
          "name": "stderr",
          "text": [
            "INFO:fbprophet:Disabling yearly seasonality. Run prophet with yearly_seasonality=True to override this.\n",
            "INFO:fbprophet:Disabling daily seasonality. Run prophet with daily_seasonality=True to override this.\n"
          ]
        },
        {
          "output_type": "stream",
          "name": "stdout",
          "text": [
            "            ds      trend  yhat_lower  yhat_upper  trend_lower  trend_upper  \\\n",
            "374 2020-02-10 -14.483276 -428.443709  438.747808   -15.029816   -14.047131   \n",
            "375 2020-02-11 -14.568007 -432.539779  412.630806   -15.233857   -14.027366   \n",
            "376 2020-02-12 -14.652737 -469.292931  416.314195   -15.480768   -13.976908   \n",
            "377 2020-02-13 -14.737468 -439.686097  443.245599   -15.648565   -13.904862   \n",
            "378 2020-02-14 -14.822199 -444.970976  432.067686   -15.851905   -13.861037   \n",
            "\n",
            "     additive_terms  additive_terms_lower  additive_terms_upper     weekly  \\\n",
            "374        5.420110              5.420110              5.420110   5.420110   \n",
            "375      -20.743479            -20.743479            -20.743479 -20.743479   \n",
            "376       -9.145204             -9.145204             -9.145204  -9.145204   \n",
            "377       -8.788949             -8.788949             -8.788949  -8.788949   \n",
            "378        7.019434              7.019434              7.019434   7.019434   \n",
            "\n",
            "     weekly_lower  weekly_upper  multiplicative_terms  \\\n",
            "374      5.420110      5.420110                   0.0   \n",
            "375    -20.743479    -20.743479                   0.0   \n",
            "376     -9.145204     -9.145204                   0.0   \n",
            "377     -8.788949     -8.788949                   0.0   \n",
            "378      7.019434      7.019434                   0.0   \n",
            "\n",
            "     multiplicative_terms_lower  multiplicative_terms_upper       yhat  \n",
            "374                         0.0                         0.0  -9.063166  \n",
            "375                         0.0                         0.0 -35.311485  \n",
            "376                         0.0                         0.0 -23.797942  \n",
            "377                         0.0                         0.0 -23.526417  \n",
            "378                         0.0                         0.0  -7.802765  \n"
          ]
        },
        {
          "output_type": "stream",
          "name": "stderr",
          "text": [
            "INFO:fbprophet:Disabling yearly seasonality. Run prophet with yearly_seasonality=True to override this.\n",
            "INFO:fbprophet:Disabling daily seasonality. Run prophet with daily_seasonality=True to override this.\n"
          ]
        },
        {
          "output_type": "stream",
          "name": "stdout",
          "text": [
            "            ds       trend  yhat_lower  yhat_upper  trend_lower  trend_upper  \\\n",
            "374 2020-02-10  299.765491  126.642975  485.377164   299.508891   299.989626   \n",
            "375 2020-02-11  300.068916   79.151714  439.985840   299.766346   300.341169   \n",
            "376 2020-02-12  300.372342  105.679619  493.787768   300.018624   300.714261   \n",
            "377 2020-02-13  300.675767   91.177310  460.187485   300.219001   301.079265   \n",
            "378 2020-02-14  300.979192   83.263118  457.761856   300.469025   301.461788   \n",
            "\n",
            "     additive_terms  additive_terms_lower  additive_terms_upper     weekly  \\\n",
            "374       10.618686             10.618686             10.618686  10.618686   \n",
            "375      -43.114278            -43.114278            -43.114278 -43.114278   \n",
            "376       -2.121358             -2.121358             -2.121358  -2.121358   \n",
            "377      -22.363824            -22.363824            -22.363824 -22.363824   \n",
            "378      -35.871770            -35.871770            -35.871770 -35.871770   \n",
            "\n",
            "     weekly_lower  weekly_upper  multiplicative_terms  \\\n",
            "374     10.618686     10.618686                   0.0   \n",
            "375    -43.114278    -43.114278                   0.0   \n",
            "376     -2.121358     -2.121358                   0.0   \n",
            "377    -22.363824    -22.363824                   0.0   \n",
            "378    -35.871770    -35.871770                   0.0   \n",
            "\n",
            "     multiplicative_terms_lower  multiplicative_terms_upper        yhat  \n",
            "374                         0.0                         0.0  310.384177  \n",
            "375                         0.0                         0.0  256.954639  \n",
            "376                         0.0                         0.0  298.250984  \n",
            "377                         0.0                         0.0  278.311943  \n",
            "378                         0.0                         0.0  265.107423  \n"
          ]
        },
        {
          "output_type": "stream",
          "name": "stderr",
          "text": [
            "INFO:fbprophet:Disabling yearly seasonality. Run prophet with yearly_seasonality=True to override this.\n",
            "INFO:fbprophet:Disabling daily seasonality. Run prophet with daily_seasonality=True to override this.\n"
          ]
        },
        {
          "output_type": "stream",
          "name": "stdout",
          "text": [
            "            ds       trend  yhat_lower  yhat_upper  trend_lower  trend_upper  \\\n",
            "374 2020-02-10  210.178730  124.364416  345.943919   210.173576   210.183252   \n",
            "375 2020-02-11  210.218168  137.865546  362.055221   210.212113   210.223651   \n",
            "376 2020-02-12  210.257607   45.358890  271.001911   210.250121   210.263889   \n",
            "377 2020-02-13  210.297045  106.934877  336.646883   210.288617   210.304415   \n",
            "378 2020-02-14  210.336484  142.972519  367.471723   210.327125   210.344912   \n",
            "\n",
            "     additive_terms  additive_terms_lower  additive_terms_upper     weekly  \\\n",
            "374       19.012934             19.012934             19.012934  19.012934   \n",
            "375       35.150994             35.150994             35.150994  35.150994   \n",
            "376      -54.084227            -54.084227            -54.084227 -54.084227   \n",
            "377        9.059574              9.059574              9.059574   9.059574   \n",
            "378       42.405710             42.405710             42.405710  42.405710   \n",
            "\n",
            "     weekly_lower  weekly_upper  multiplicative_terms  \\\n",
            "374     19.012934     19.012934                   0.0   \n",
            "375     35.150994     35.150994                   0.0   \n",
            "376    -54.084227    -54.084227                   0.0   \n",
            "377      9.059574      9.059574                   0.0   \n",
            "378     42.405710     42.405710                   0.0   \n",
            "\n",
            "     multiplicative_terms_lower  multiplicative_terms_upper        yhat  \n",
            "374                         0.0                         0.0  229.191664  \n",
            "375                         0.0                         0.0  245.369162  \n",
            "376                         0.0                         0.0  156.173380  \n",
            "377                         0.0                         0.0  219.356619  \n",
            "378                         0.0                         0.0  252.742194  \n"
          ]
        },
        {
          "output_type": "stream",
          "name": "stderr",
          "text": [
            "INFO:fbprophet:Disabling yearly seasonality. Run prophet with yearly_seasonality=True to override this.\n",
            "INFO:fbprophet:Disabling daily seasonality. Run prophet with daily_seasonality=True to override this.\n"
          ]
        },
        {
          "output_type": "stream",
          "name": "stdout",
          "text": [
            "            ds       trend  yhat_lower  yhat_upper  trend_lower  trend_upper  \\\n",
            "374 2020-02-10  115.714354   -6.722640  209.726413   114.126543   116.788514   \n",
            "375 2020-02-11  112.188230   -5.307873  209.901783   110.355825   113.520688   \n",
            "376 2020-02-12  108.662106   -6.531025  204.915328   106.611361   110.224686   \n",
            "377 2020-02-13  105.135982    6.430309  207.812222   102.786654   106.991293   \n",
            "378 2020-02-14  101.609859   -2.302114  224.839647    98.917054   103.783354   \n",
            "\n",
            "     additive_terms  additive_terms_lower  additive_terms_upper     weekly  \\\n",
            "374      -16.929045            -16.929045            -16.929045 -16.929045   \n",
            "375      -14.736789            -14.736789            -14.736789 -14.736789   \n",
            "376       -8.493858             -8.493858             -8.493858  -8.493858   \n",
            "377        1.993448              1.993448              1.993448   1.993448   \n",
            "378        9.941146              9.941146              9.941146   9.941146   \n",
            "\n",
            "     weekly_lower  weekly_upper  multiplicative_terms  \\\n",
            "374    -16.929045    -16.929045                   0.0   \n",
            "375    -14.736789    -14.736789                   0.0   \n",
            "376     -8.493858     -8.493858                   0.0   \n",
            "377      1.993448      1.993448                   0.0   \n",
            "378      9.941146      9.941146                   0.0   \n",
            "\n",
            "     multiplicative_terms_lower  multiplicative_terms_upper        yhat  \n",
            "374                         0.0                         0.0   98.785309  \n",
            "375                         0.0                         0.0   97.451441  \n",
            "376                         0.0                         0.0  100.168249  \n",
            "377                         0.0                         0.0  107.129430  \n",
            "378                         0.0                         0.0  111.551004  \n"
          ]
        },
        {
          "output_type": "stream",
          "name": "stderr",
          "text": [
            "INFO:fbprophet:Disabling yearly seasonality. Run prophet with yearly_seasonality=True to override this.\n",
            "INFO:fbprophet:Disabling daily seasonality. Run prophet with daily_seasonality=True to override this.\n"
          ]
        },
        {
          "output_type": "stream",
          "name": "stdout",
          "text": [
            "            ds        trend   yhat_lower   yhat_upper  trend_lower  \\\n",
            "374 2020-02-10  1093.949889  -626.895581  3710.378905  1092.658416   \n",
            "375 2020-02-11  1089.965534  -778.106527  3842.921657  1088.301104   \n",
            "376 2020-02-12  1085.981180  -996.225860  3413.375341  1083.973749   \n",
            "377 2020-02-13  1081.996825  -729.030273  3683.521395  1079.578331   \n",
            "378 2020-02-14  1078.012470 -1245.798404  3146.907877  1075.092392   \n",
            "\n",
            "     trend_upper  additive_terms  additive_terms_lower  additive_terms_upper  \\\n",
            "374  1095.569693      432.533081            432.533081            432.533081   \n",
            "375  1091.880747      425.145815            425.145815            425.145815   \n",
            "376  1088.248393      166.175334            166.175334            166.175334   \n",
            "377  1084.625075      410.385375            410.385375            410.385375   \n",
            "378  1080.948785     -102.995379           -102.995379           -102.995379   \n",
            "\n",
            "         weekly  weekly_lower  weekly_upper  multiplicative_terms  \\\n",
            "374  432.533081    432.533081    432.533081                   0.0   \n",
            "375  425.145815    425.145815    425.145815                   0.0   \n",
            "376  166.175334    166.175334    166.175334                   0.0   \n",
            "377  410.385375    410.385375    410.385375                   0.0   \n",
            "378 -102.995379   -102.995379   -102.995379                   0.0   \n",
            "\n",
            "     multiplicative_terms_lower  multiplicative_terms_upper         yhat  \n",
            "374                         0.0                         0.0  1526.482970  \n",
            "375                         0.0                         0.0  1515.111349  \n",
            "376                         0.0                         0.0  1252.156513  \n",
            "377                         0.0                         0.0  1492.382200  \n",
            "378                         0.0                         0.0   975.017091  \n"
          ]
        },
        {
          "output_type": "stream",
          "name": "stderr",
          "text": [
            "INFO:fbprophet:Disabling yearly seasonality. Run prophet with yearly_seasonality=True to override this.\n",
            "INFO:fbprophet:Disabling daily seasonality. Run prophet with daily_seasonality=True to override this.\n"
          ]
        },
        {
          "output_type": "stream",
          "name": "stdout",
          "text": [
            "            ds       trend  yhat_lower  yhat_upper  trend_lower  trend_upper  \\\n",
            "374 2020-02-10  197.727932  119.719119  335.752008   197.679810   197.805522   \n",
            "375 2020-02-11  197.953368  116.556532  325.605508   197.891321   198.044560   \n",
            "376 2020-02-12  198.178804  123.594193  327.028337   198.098559   198.285402   \n",
            "377 2020-02-13  198.404240  121.589453  332.894210   198.307289   198.527656   \n",
            "378 2020-02-14  198.629676   85.985811  308.612366   198.519800   198.766448   \n",
            "\n",
            "     additive_terms  additive_terms_lower  additive_terms_upper     weekly  \\\n",
            "374       24.408388             24.408388             24.408388  24.408388   \n",
            "375       21.173140             21.173140             21.173140  21.173140   \n",
            "376       28.556531             28.556531             28.556531  28.556531   \n",
            "377       23.364035             23.364035             23.364035  23.364035   \n",
            "378        8.377454              8.377454              8.377454   8.377454   \n",
            "\n",
            "     weekly_lower  weekly_upper  multiplicative_terms  \\\n",
            "374     24.408388     24.408388                   0.0   \n",
            "375     21.173140     21.173140                   0.0   \n",
            "376     28.556531     28.556531                   0.0   \n",
            "377     23.364035     23.364035                   0.0   \n",
            "378      8.377454      8.377454                   0.0   \n",
            "\n",
            "     multiplicative_terms_lower  multiplicative_terms_upper        yhat  \n",
            "374                         0.0                         0.0  222.136320  \n",
            "375                         0.0                         0.0  219.126508  \n",
            "376                         0.0                         0.0  226.735335  \n",
            "377                         0.0                         0.0  221.768275  \n",
            "378                         0.0                         0.0  207.007130  \n"
          ]
        },
        {
          "output_type": "stream",
          "name": "stderr",
          "text": [
            "INFO:fbprophet:Disabling yearly seasonality. Run prophet with yearly_seasonality=True to override this.\n",
            "INFO:fbprophet:Disabling daily seasonality. Run prophet with daily_seasonality=True to override this.\n"
          ]
        },
        {
          "output_type": "stream",
          "name": "stdout",
          "text": [
            "            ds       trend  yhat_lower  yhat_upper  trend_lower  trend_upper  \\\n",
            "374 2020-02-10  177.282019   -9.816732  379.718066   176.999972   177.661820   \n",
            "375 2020-02-11  176.530164  -25.640199  332.082335   176.158903   176.983154   \n",
            "376 2020-02-12  175.778310  -22.341711  332.726249   175.328711   176.325255   \n",
            "377 2020-02-13  175.026455  -22.336688  325.658609   174.513913   175.666355   \n",
            "378 2020-02-14  174.274601   15.602225  385.570149   173.658983   175.012747   \n",
            "\n",
            "     additive_terms  additive_terms_lower  additive_terms_upper     weekly  \\\n",
            "374        3.635280              3.635280              3.635280   3.635280   \n",
            "375      -26.749240            -26.749240            -26.749240 -26.749240   \n",
            "376      -22.985742            -22.985742            -22.985742 -22.985742   \n",
            "377      -24.794365            -24.794365            -24.794365 -24.794365   \n",
            "378       30.305734             30.305734             30.305734  30.305734   \n",
            "\n",
            "     weekly_lower  weekly_upper  multiplicative_terms  \\\n",
            "374      3.635280      3.635280                   0.0   \n",
            "375    -26.749240    -26.749240                   0.0   \n",
            "376    -22.985742    -22.985742                   0.0   \n",
            "377    -24.794365    -24.794365                   0.0   \n",
            "378     30.305734     30.305734                   0.0   \n",
            "\n",
            "     multiplicative_terms_lower  multiplicative_terms_upper        yhat  \n",
            "374                         0.0                         0.0  180.917298  \n",
            "375                         0.0                         0.0  149.780925  \n",
            "376                         0.0                         0.0  152.792568  \n",
            "377                         0.0                         0.0  150.232090  \n",
            "378                         0.0                         0.0  204.580335  \n"
          ]
        },
        {
          "output_type": "stream",
          "name": "stderr",
          "text": [
            "INFO:fbprophet:Disabling yearly seasonality. Run prophet with yearly_seasonality=True to override this.\n",
            "INFO:fbprophet:Disabling daily seasonality. Run prophet with daily_seasonality=True to override this.\n"
          ]
        },
        {
          "output_type": "stream",
          "name": "stdout",
          "text": [
            "            ds       trend  yhat_lower  yhat_upper  trend_lower  trend_upper  \\\n",
            "374 2020-02-10  135.983280   32.891524  254.771630   135.840880   136.110726   \n",
            "375 2020-02-11  135.173564   27.562540  245.190521   134.993401   135.332186   \n",
            "376 2020-02-12  134.363847   26.617951  240.894728   134.149804   134.554923   \n",
            "377 2020-02-13  133.554131   26.822956  256.981724   133.309504   133.776025   \n",
            "378 2020-02-14  132.744414   49.465810  280.099585   132.466397   132.999987   \n",
            "\n",
            "     additive_terms  additive_terms_lower  additive_terms_upper     weekly  \\\n",
            "374        7.322064              7.322064              7.322064   7.322064   \n",
            "375       -2.867980             -2.867980             -2.867980  -2.867980   \n",
            "376        3.097401              3.097401              3.097401   3.097401   \n",
            "377        4.704625              4.704625              4.704625   4.704625   \n",
            "378       34.200590             34.200590             34.200590  34.200590   \n",
            "\n",
            "     weekly_lower  weekly_upper  multiplicative_terms  \\\n",
            "374      7.322064      7.322064                   0.0   \n",
            "375     -2.867980     -2.867980                   0.0   \n",
            "376      3.097401      3.097401                   0.0   \n",
            "377      4.704625      4.704625                   0.0   \n",
            "378     34.200590     34.200590                   0.0   \n",
            "\n",
            "     multiplicative_terms_lower  multiplicative_terms_upper        yhat  \n",
            "374                         0.0                         0.0  143.305344  \n",
            "375                         0.0                         0.0  132.305584  \n",
            "376                         0.0                         0.0  137.461248  \n",
            "377                         0.0                         0.0  138.258756  \n",
            "378                         0.0                         0.0  166.945004  \n"
          ]
        },
        {
          "output_type": "stream",
          "name": "stderr",
          "text": [
            "INFO:fbprophet:Disabling yearly seasonality. Run prophet with yearly_seasonality=True to override this.\n",
            "INFO:fbprophet:Disabling daily seasonality. Run prophet with daily_seasonality=True to override this.\n"
          ]
        },
        {
          "output_type": "stream",
          "name": "stdout",
          "text": [
            "            ds       trend  yhat_lower  yhat_upper  trend_lower  trend_upper  \\\n",
            "374 2020-02-10  503.824588  195.801958  622.558605   503.448525   504.159663   \n",
            "375 2020-02-11  504.739402  255.427819  660.827462   504.278932   505.159131   \n",
            "376 2020-02-12  505.654215  247.232803  669.752054   505.129783   506.144472   \n",
            "377 2020-02-13  506.569029  268.758598  662.311718   505.975938   507.136073   \n",
            "378 2020-02-14  507.483842  330.253661  720.499189   506.821617   508.149316   \n",
            "\n",
            "     additive_terms  additive_terms_lower  additive_terms_upper     weekly  \\\n",
            "374      -94.183808            -94.183808            -94.183808 -94.183808   \n",
            "375      -46.413788            -46.413788            -46.413788 -46.413788   \n",
            "376      -46.344467            -46.344467            -46.344467 -46.344467   \n",
            "377      -57.428948            -57.428948            -57.428948 -57.428948   \n",
            "378       14.112153             14.112153             14.112153  14.112153   \n",
            "\n",
            "     weekly_lower  weekly_upper  multiplicative_terms  \\\n",
            "374    -94.183808    -94.183808                   0.0   \n",
            "375    -46.413788    -46.413788                   0.0   \n",
            "376    -46.344467    -46.344467                   0.0   \n",
            "377    -57.428948    -57.428948                   0.0   \n",
            "378     14.112153     14.112153                   0.0   \n",
            "\n",
            "     multiplicative_terms_lower  multiplicative_terms_upper        yhat  \n",
            "374                         0.0                         0.0  409.640780  \n",
            "375                         0.0                         0.0  458.325614  \n",
            "376                         0.0                         0.0  459.309748  \n",
            "377                         0.0                         0.0  449.140081  \n",
            "378                         0.0                         0.0  521.595995  \n"
          ]
        },
        {
          "output_type": "stream",
          "name": "stderr",
          "text": [
            "INFO:fbprophet:Disabling yearly seasonality. Run prophet with yearly_seasonality=True to override this.\n",
            "INFO:fbprophet:Disabling daily seasonality. Run prophet with daily_seasonality=True to override this.\n"
          ]
        },
        {
          "output_type": "stream",
          "name": "stdout",
          "text": [
            "            ds      trend  yhat_lower  yhat_upper  trend_lower  trend_upper  \\\n",
            "374 2020-02-10  22.657289  -46.349311   72.422640    22.657170    22.657420   \n",
            "375 2020-02-11  22.702634  -38.698299   81.260092    22.702491    22.702794   \n",
            "376 2020-02-12  22.747980  -44.944342   73.682167    22.747812    22.748170   \n",
            "377 2020-02-13  22.793325  -48.455652   74.120662    22.793113    22.793548   \n",
            "378 2020-02-14  22.838670  -32.891209   79.646175    22.838427    22.838917   \n",
            "\n",
            "     additive_terms  additive_terms_lower  additive_terms_upper     weekly  \\\n",
            "374       -6.369991             -6.369991             -6.369991  -6.369991   \n",
            "375       -0.812205             -0.812205             -0.812205  -0.812205   \n",
            "376       -8.074019             -8.074019             -8.074019  -8.074019   \n",
            "377      -12.445371            -12.445371            -12.445371 -12.445371   \n",
            "378        3.211922              3.211922              3.211922   3.211922   \n",
            "\n",
            "     weekly_lower  weekly_upper  multiplicative_terms  \\\n",
            "374     -6.369991     -6.369991                   0.0   \n",
            "375     -0.812205     -0.812205                   0.0   \n",
            "376     -8.074019     -8.074019                   0.0   \n",
            "377    -12.445371    -12.445371                   0.0   \n",
            "378      3.211922      3.211922                   0.0   \n",
            "\n",
            "     multiplicative_terms_lower  multiplicative_terms_upper       yhat  \n",
            "374                         0.0                         0.0  16.287298  \n",
            "375                         0.0                         0.0  21.890430  \n",
            "376                         0.0                         0.0  14.673960  \n",
            "377                         0.0                         0.0  10.347954  \n",
            "378                         0.0                         0.0  26.050592  \n"
          ]
        },
        {
          "output_type": "stream",
          "name": "stderr",
          "text": [
            "INFO:fbprophet:Disabling yearly seasonality. Run prophet with yearly_seasonality=True to override this.\n",
            "INFO:fbprophet:Disabling daily seasonality. Run prophet with daily_seasonality=True to override this.\n"
          ]
        },
        {
          "output_type": "stream",
          "name": "stdout",
          "text": [
            "            ds       trend  yhat_lower  yhat_upper  trend_lower  trend_upper  \\\n",
            "374 2020-02-10  369.664254  116.924772  602.313142   369.664028   369.664454   \n",
            "375 2020-02-11  369.514592  119.542311  611.669935   369.514303   369.514842   \n",
            "376 2020-02-12  369.364930   94.311584  595.411444   369.364573   369.365249   \n",
            "377 2020-02-13  369.215268   94.682137  584.101477   369.214837   369.215646   \n",
            "378 2020-02-14  369.065605  130.370116  612.684854   369.065107   369.066051   \n",
            "\n",
            "     additive_terms  additive_terms_lower  additive_terms_upper     weekly  \\\n",
            "374      -13.151602            -13.151602            -13.151602 -13.151602   \n",
            "375      -14.312913            -14.312913            -14.312913 -14.312913   \n",
            "376      -26.269650            -26.269650            -26.269650 -26.269650   \n",
            "377      -14.354137            -14.354137            -14.354137 -14.354137   \n",
            "378        5.650496              5.650496              5.650496   5.650496   \n",
            "\n",
            "     weekly_lower  weekly_upper  multiplicative_terms  \\\n",
            "374    -13.151602    -13.151602                   0.0   \n",
            "375    -14.312913    -14.312913                   0.0   \n",
            "376    -26.269650    -26.269650                   0.0   \n",
            "377    -14.354137    -14.354137                   0.0   \n",
            "378      5.650496      5.650496                   0.0   \n",
            "\n",
            "     multiplicative_terms_lower  multiplicative_terms_upper        yhat  \n",
            "374                         0.0                         0.0  356.512652  \n",
            "375                         0.0                         0.0  355.201679  \n",
            "376                         0.0                         0.0  343.095280  \n",
            "377                         0.0                         0.0  354.861131  \n",
            "378                         0.0                         0.0  374.716102  \n"
          ]
        },
        {
          "output_type": "stream",
          "name": "stderr",
          "text": [
            "INFO:fbprophet:Disabling yearly seasonality. Run prophet with yearly_seasonality=True to override this.\n",
            "INFO:fbprophet:Disabling daily seasonality. Run prophet with daily_seasonality=True to override this.\n"
          ]
        },
        {
          "output_type": "stream",
          "name": "stdout",
          "text": [
            "            ds       trend  yhat_lower  yhat_upper  trend_lower  trend_upper  \\\n",
            "374 2020-02-10  303.661195   73.856999  519.316664   303.661195   303.661196   \n",
            "375 2020-02-11  303.943609   68.005794  502.436091   303.943608   303.943609   \n",
            "376 2020-02-12  304.226022   75.503560  504.123859   304.226021   304.226023   \n",
            "377 2020-02-13  304.508435   73.033041  505.583581   304.508434   304.508436   \n",
            "378 2020-02-14  304.790848  119.987038  556.984537   304.790847   304.790850   \n",
            "\n",
            "     additive_terms  additive_terms_lower  additive_terms_upper     weekly  \\\n",
            "374       -4.997619             -4.997619             -4.997619  -4.997619   \n",
            "375      -38.399398            -38.399398            -38.399398 -38.399398   \n",
            "376      -14.118652            -14.118652            -14.118652 -14.118652   \n",
            "377       -9.463694             -9.463694             -9.463694  -9.463694   \n",
            "378       35.034471             35.034471             35.034471  35.034471   \n",
            "\n",
            "     weekly_lower  weekly_upper  multiplicative_terms  \\\n",
            "374     -4.997619     -4.997619                   0.0   \n",
            "375    -38.399398    -38.399398                   0.0   \n",
            "376    -14.118652    -14.118652                   0.0   \n",
            "377     -9.463694     -9.463694                   0.0   \n",
            "378     35.034471     35.034471                   0.0   \n",
            "\n",
            "     multiplicative_terms_lower  multiplicative_terms_upper        yhat  \n",
            "374                         0.0                         0.0  298.663577  \n",
            "375                         0.0                         0.0  265.544211  \n",
            "376                         0.0                         0.0  290.107370  \n",
            "377                         0.0                         0.0  295.044741  \n",
            "378                         0.0                         0.0  339.825319  \n"
          ]
        },
        {
          "output_type": "stream",
          "name": "stderr",
          "text": [
            "INFO:fbprophet:Disabling yearly seasonality. Run prophet with yearly_seasonality=True to override this.\n",
            "INFO:fbprophet:Disabling daily seasonality. Run prophet with daily_seasonality=True to override this.\n"
          ]
        },
        {
          "output_type": "stream",
          "name": "stdout",
          "text": [
            "            ds       trend  yhat_lower  yhat_upper  trend_lower  trend_upper  \\\n",
            "374 2020-02-10  334.225227  206.669252  479.863835   333.816157   334.571645   \n",
            "375 2020-02-11  333.594830  205.565897  474.247552   333.094820   334.007564   \n",
            "376 2020-02-12  332.964432  205.957333  487.515447   332.386395   333.479933   \n",
            "377 2020-02-13  332.334035  187.098014  461.034784   331.680290   332.942280   \n",
            "378 2020-02-14  331.703637  164.759022  445.372120   330.957023   332.401055   \n",
            "\n",
            "     additive_terms  additive_terms_lower  additive_terms_upper     weekly  \\\n",
            "374        7.824709              7.824709              7.824709   7.824709   \n",
            "375        8.933256              8.933256              8.933256   8.933256   \n",
            "376       12.563769             12.563769             12.563769  12.563769   \n",
            "377       -5.533332             -5.533332             -5.533332  -5.533332   \n",
            "378      -31.172772            -31.172772            -31.172772 -31.172772   \n",
            "\n",
            "     weekly_lower  weekly_upper  multiplicative_terms  \\\n",
            "374      7.824709      7.824709                   0.0   \n",
            "375      8.933256      8.933256                   0.0   \n",
            "376     12.563769     12.563769                   0.0   \n",
            "377     -5.533332     -5.533332                   0.0   \n",
            "378    -31.172772    -31.172772                   0.0   \n",
            "\n",
            "     multiplicative_terms_lower  multiplicative_terms_upper        yhat  \n",
            "374                         0.0                         0.0  342.049936  \n",
            "375                         0.0                         0.0  342.528086  \n",
            "376                         0.0                         0.0  345.528201  \n",
            "377                         0.0                         0.0  326.800702  \n",
            "378                         0.0                         0.0  300.530865  \n"
          ]
        },
        {
          "output_type": "stream",
          "name": "stderr",
          "text": [
            "INFO:fbprophet:Disabling yearly seasonality. Run prophet with yearly_seasonality=True to override this.\n",
            "INFO:fbprophet:Disabling daily seasonality. Run prophet with daily_seasonality=True to override this.\n"
          ]
        },
        {
          "output_type": "stream",
          "name": "stdout",
          "text": [
            "            ds       trend  yhat_lower  yhat_upper  trend_lower  trend_upper  \\\n",
            "374 2020-02-10  265.082908  320.225040  604.002350   265.082908   265.082909   \n",
            "375 2020-02-11  265.113014   77.254905  367.677039   265.113014   265.113014   \n",
            "376 2020-02-12  265.143120   52.596911  349.023734   265.143119   265.143120   \n",
            "377 2020-02-13  265.173225  135.262401  422.785547   265.173225   265.173226   \n",
            "378 2020-02-14  265.203331   87.425015  386.271627   265.203331   265.203331   \n",
            "\n",
            "     additive_terms  additive_terms_lower  additive_terms_upper      weekly  \\\n",
            "374      198.400164            198.400164            198.400164  198.400164   \n",
            "375      -45.944657            -45.944657            -45.944657  -45.944657   \n",
            "376      -57.925166            -57.925166            -57.925166  -57.925166   \n",
            "377       11.773470             11.773470             11.773470   11.773470   \n",
            "378      -29.756312            -29.756312            -29.756312  -29.756312   \n",
            "\n",
            "     weekly_lower  weekly_upper  multiplicative_terms  \\\n",
            "374    198.400164    198.400164                   0.0   \n",
            "375    -45.944657    -45.944657                   0.0   \n",
            "376    -57.925166    -57.925166                   0.0   \n",
            "377     11.773470     11.773470                   0.0   \n",
            "378    -29.756312    -29.756312                   0.0   \n",
            "\n",
            "     multiplicative_terms_lower  multiplicative_terms_upper        yhat  \n",
            "374                         0.0                         0.0  463.483073  \n",
            "375                         0.0                         0.0  219.168358  \n",
            "376                         0.0                         0.0  207.217953  \n",
            "377                         0.0                         0.0  276.946695  \n",
            "378                         0.0                         0.0  235.447019  \n"
          ]
        },
        {
          "output_type": "stream",
          "name": "stderr",
          "text": [
            "INFO:fbprophet:Disabling yearly seasonality. Run prophet with yearly_seasonality=True to override this.\n",
            "INFO:fbprophet:Disabling daily seasonality. Run prophet with daily_seasonality=True to override this.\n"
          ]
        },
        {
          "output_type": "stream",
          "name": "stdout",
          "text": [
            "            ds       trend  yhat_lower  yhat_upper  trend_lower  trend_upper  \\\n",
            "374 2020-02-10  141.289724   57.932054  255.095969   141.286470   141.293167   \n",
            "375 2020-02-11  141.278670   61.647977  263.803566   141.274365   141.282641   \n",
            "376 2020-02-12  141.267616   37.550070  241.344547   141.262468   141.272442   \n",
            "377 2020-02-13  141.256562   18.634813  228.586781   141.250551   141.262353   \n",
            "378 2020-02-14  141.245509   41.498925  243.160478   141.238770   141.252088   \n",
            "\n",
            "     additive_terms  additive_terms_lower  additive_terms_upper     weekly  \\\n",
            "374        9.580001              9.580001              9.580001   9.580001   \n",
            "375       18.018369             18.018369             18.018369  18.018369   \n",
            "376        1.007348              1.007348              1.007348   1.007348   \n",
            "377      -14.998858            -14.998858            -14.998858 -14.998858   \n",
            "378        0.139527              0.139527              0.139527   0.139527   \n",
            "\n",
            "     weekly_lower  weekly_upper  multiplicative_terms  \\\n",
            "374      9.580001      9.580001                   0.0   \n",
            "375     18.018369     18.018369                   0.0   \n",
            "376      1.007348      1.007348                   0.0   \n",
            "377    -14.998858    -14.998858                   0.0   \n",
            "378      0.139527      0.139527                   0.0   \n",
            "\n",
            "     multiplicative_terms_lower  multiplicative_terms_upper        yhat  \n",
            "374                         0.0                         0.0  150.869724  \n",
            "375                         0.0                         0.0  159.297039  \n",
            "376                         0.0                         0.0  142.274964  \n",
            "377                         0.0                         0.0  126.257704  \n",
            "378                         0.0                         0.0  141.385036  \n"
          ]
        },
        {
          "output_type": "stream",
          "name": "stderr",
          "text": [
            "INFO:fbprophet:Disabling yearly seasonality. Run prophet with yearly_seasonality=True to override this.\n",
            "INFO:fbprophet:Disabling daily seasonality. Run prophet with daily_seasonality=True to override this.\n"
          ]
        },
        {
          "output_type": "stream",
          "name": "stdout",
          "text": [
            "            ds       trend  yhat_lower  yhat_upper  trend_lower  trend_upper  \\\n",
            "374 2020-02-10  216.267893  154.847921  301.656371   216.267892   216.267894   \n",
            "375 2020-02-11  216.313845  149.734023  282.941904   216.313844   216.313846   \n",
            "376 2020-02-12  216.359797  142.779221  286.188566   216.359796   216.359799   \n",
            "377 2020-02-13  216.405750  143.284482  287.989573   216.405748   216.405752   \n",
            "378 2020-02-14  216.451702  134.364859  272.676031   216.451700   216.451705   \n",
            "\n",
            "     additive_terms  additive_terms_lower  additive_terms_upper     weekly  \\\n",
            "374       14.672537             14.672537             14.672537  14.672537   \n",
            "375        0.055069              0.055069              0.055069   0.055069   \n",
            "376       -2.999525             -2.999525             -2.999525  -2.999525   \n",
            "377       -1.156341             -1.156341             -1.156341  -1.156341   \n",
            "378      -10.867186            -10.867186            -10.867186 -10.867186   \n",
            "\n",
            "     weekly_lower  weekly_upper  multiplicative_terms  \\\n",
            "374     14.672537     14.672537                   0.0   \n",
            "375      0.055069      0.055069                   0.0   \n",
            "376     -2.999525     -2.999525                   0.0   \n",
            "377     -1.156341     -1.156341                   0.0   \n",
            "378    -10.867186    -10.867186                   0.0   \n",
            "\n",
            "     multiplicative_terms_lower  multiplicative_terms_upper        yhat  \n",
            "374                         0.0                         0.0  230.940430  \n",
            "375                         0.0                         0.0  216.368914  \n",
            "376                         0.0                         0.0  213.360273  \n",
            "377                         0.0                         0.0  215.249409  \n",
            "378                         0.0                         0.0  205.584517  \n"
          ]
        },
        {
          "output_type": "stream",
          "name": "stderr",
          "text": [
            "INFO:fbprophet:Disabling yearly seasonality. Run prophet with yearly_seasonality=True to override this.\n",
            "INFO:fbprophet:Disabling daily seasonality. Run prophet with daily_seasonality=True to override this.\n"
          ]
        },
        {
          "output_type": "stream",
          "name": "stdout",
          "text": [
            "            ds       trend  yhat_lower  yhat_upper  trend_lower  trend_upper  \\\n",
            "374 2020-02-10  516.155227  258.614123  714.642619   514.942276   517.038217   \n",
            "375 2020-02-11  516.996920  308.862558  752.192800   515.511431   518.127496   \n",
            "376 2020-02-12  517.838613  298.254217  737.834725   516.027918   519.166840   \n",
            "377 2020-02-13  518.680306  296.265333  773.464501   516.490847   520.212926   \n",
            "378 2020-02-14  519.521999  293.636972  752.559745   517.128552   521.390086   \n",
            "\n",
            "     additive_terms  additive_terms_lower  additive_terms_upper     weekly  \\\n",
            "374      -27.674209            -27.674209            -27.674209 -27.674209   \n",
            "375       15.415585             15.415585             15.415585  15.415585   \n",
            "376        1.179483              1.179483              1.179483   1.179483   \n",
            "377        9.159055              9.159055              9.159055   9.159055   \n",
            "378       10.546440             10.546440             10.546440  10.546440   \n",
            "\n",
            "     weekly_lower  weekly_upper  multiplicative_terms  \\\n",
            "374    -27.674209    -27.674209                   0.0   \n",
            "375     15.415585     15.415585                   0.0   \n",
            "376      1.179483      1.179483                   0.0   \n",
            "377      9.159055      9.159055                   0.0   \n",
            "378     10.546440     10.546440                   0.0   \n",
            "\n",
            "     multiplicative_terms_lower  multiplicative_terms_upper        yhat  \n",
            "374                         0.0                         0.0  488.481018  \n",
            "375                         0.0                         0.0  532.412505  \n",
            "376                         0.0                         0.0  519.018095  \n",
            "377                         0.0                         0.0  527.839361  \n",
            "378                         0.0                         0.0  530.068438  \n"
          ]
        },
        {
          "output_type": "stream",
          "name": "stderr",
          "text": [
            "INFO:fbprophet:Disabling yearly seasonality. Run prophet with yearly_seasonality=True to override this.\n",
            "INFO:fbprophet:Disabling daily seasonality. Run prophet with daily_seasonality=True to override this.\n"
          ]
        },
        {
          "output_type": "stream",
          "name": "stdout",
          "text": [
            "            ds       trend  yhat_lower  yhat_upper  trend_lower  trend_upper  \\\n",
            "374 2020-02-10  191.372331   73.728699  326.801873   191.371881   191.372841   \n",
            "375 2020-02-11  191.416320   71.622597  332.525655   191.415749   191.416939   \n",
            "376 2020-02-12  191.460308   71.639077  333.016737   191.459564   191.461073   \n",
            "377 2020-02-13  191.504297   53.569508  309.739402   191.503392   191.505190   \n",
            "378 2020-02-14  191.548285   37.915150  290.157430   191.547247   191.549298   \n",
            "\n",
            "     additive_terms  additive_terms_lower  additive_terms_upper     weekly  \\\n",
            "374        5.704486              5.704486              5.704486   5.704486   \n",
            "375       15.146951             15.146951             15.146951  15.146951   \n",
            "376        8.917397              8.917397              8.917397   8.917397   \n",
            "377      -13.634865            -13.634865            -13.634865 -13.634865   \n",
            "378      -19.070386            -19.070386            -19.070386 -19.070386   \n",
            "\n",
            "     weekly_lower  weekly_upper  multiplicative_terms  \\\n",
            "374      5.704486      5.704486                   0.0   \n",
            "375     15.146951     15.146951                   0.0   \n",
            "376      8.917397      8.917397                   0.0   \n",
            "377    -13.634865    -13.634865                   0.0   \n",
            "378    -19.070386    -19.070386                   0.0   \n",
            "\n",
            "     multiplicative_terms_lower  multiplicative_terms_upper        yhat  \n",
            "374                         0.0                         0.0  197.076817  \n",
            "375                         0.0                         0.0  206.563271  \n",
            "376                         0.0                         0.0  200.377705  \n",
            "377                         0.0                         0.0  177.869432  \n",
            "378                         0.0                         0.0  172.477899  \n"
          ]
        },
        {
          "output_type": "stream",
          "name": "stderr",
          "text": [
            "INFO:fbprophet:Disabling yearly seasonality. Run prophet with yearly_seasonality=True to override this.\n",
            "INFO:fbprophet:Disabling daily seasonality. Run prophet with daily_seasonality=True to override this.\n"
          ]
        },
        {
          "output_type": "stream",
          "name": "stdout",
          "text": [
            "            ds       trend  yhat_lower  yhat_upper  trend_lower  trend_upper  \\\n",
            "374 2020-02-10  239.517952   27.362705  534.000993   239.072700   240.110345   \n",
            "375 2020-02-11  240.311373   -5.194979  508.632370   239.763536   241.027898   \n",
            "376 2020-02-12  241.104793    4.994957  515.304748   240.422987   241.930921   \n",
            "377 2020-02-13  241.898214   20.657294  535.922638   241.073934   242.890174   \n",
            "378 2020-02-14  242.691634  -28.230662  482.119703   241.744316   243.816136   \n",
            "\n",
            "     additive_terms  additive_terms_lower  additive_terms_upper     weekly  \\\n",
            "374       49.885461             49.885461             49.885461  49.885461   \n",
            "375        6.845767              6.845767              6.845767   6.845767   \n",
            "376       10.366567             10.366567             10.366567  10.366567   \n",
            "377       21.662236             21.662236             21.662236  21.662236   \n",
            "378      -15.937889            -15.937889            -15.937889 -15.937889   \n",
            "\n",
            "     weekly_lower  weekly_upper  multiplicative_terms  \\\n",
            "374     49.885461     49.885461                   0.0   \n",
            "375      6.845767      6.845767                   0.0   \n",
            "376     10.366567     10.366567                   0.0   \n",
            "377     21.662236     21.662236                   0.0   \n",
            "378    -15.937889    -15.937889                   0.0   \n",
            "\n",
            "     multiplicative_terms_lower  multiplicative_terms_upper        yhat  \n",
            "374                         0.0                         0.0  289.403413  \n",
            "375                         0.0                         0.0  247.157140  \n",
            "376                         0.0                         0.0  251.471360  \n",
            "377                         0.0                         0.0  263.560450  \n",
            "378                         0.0                         0.0  226.753745  \n"
          ]
        },
        {
          "output_type": "stream",
          "name": "stderr",
          "text": [
            "INFO:fbprophet:Disabling yearly seasonality. Run prophet with yearly_seasonality=True to override this.\n",
            "INFO:fbprophet:Disabling daily seasonality. Run prophet with daily_seasonality=True to override this.\n"
          ]
        },
        {
          "output_type": "stream",
          "name": "stdout",
          "text": [
            "            ds        trend   yhat_lower    yhat_upper  trend_lower  \\\n",
            "374 2020-02-10  8037.905395  1424.372948   9841.675834  8037.713474   \n",
            "375 2020-02-11  8031.690524  2986.160070  12056.638074  8031.457089   \n",
            "376 2020-02-12  8025.475653  4190.849282  13388.196369  8025.204502   \n",
            "377 2020-02-13  8019.260782  2749.070991  11733.544781  8018.946415   \n",
            "378 2020-02-14  8013.045911  3834.659099  12861.371556  8012.692848   \n",
            "\n",
            "     trend_upper  additive_terms  additive_terms_lower  additive_terms_upper  \\\n",
            "374  8038.136642    -2382.439418          -2382.439418          -2382.439418   \n",
            "375  8031.977518     -540.810411           -540.810411           -540.810411   \n",
            "376  8025.845625      719.167666            719.167666            719.167666   \n",
            "377  8019.699366     -386.932446           -386.932446           -386.932446   \n",
            "378  8013.536116      144.870400            144.870400            144.870400   \n",
            "\n",
            "          weekly  weekly_lower  weekly_upper  multiplicative_terms  \\\n",
            "374 -2382.439418  -2382.439418  -2382.439418                   0.0   \n",
            "375  -540.810411   -540.810411   -540.810411                   0.0   \n",
            "376   719.167666    719.167666    719.167666                   0.0   \n",
            "377  -386.932446   -386.932446   -386.932446                   0.0   \n",
            "378   144.870400    144.870400    144.870400                   0.0   \n",
            "\n",
            "     multiplicative_terms_lower  multiplicative_terms_upper         yhat  \n",
            "374                         0.0                         0.0  5655.465977  \n",
            "375                         0.0                         0.0  7490.880113  \n",
            "376                         0.0                         0.0  8744.643319  \n",
            "377                         0.0                         0.0  7632.328336  \n",
            "378                         0.0                         0.0  8157.916312  \n"
          ]
        },
        {
          "output_type": "stream",
          "name": "stderr",
          "text": [
            "INFO:fbprophet:Disabling yearly seasonality. Run prophet with yearly_seasonality=True to override this.\n",
            "INFO:fbprophet:Disabling daily seasonality. Run prophet with daily_seasonality=True to override this.\n"
          ]
        },
        {
          "output_type": "stream",
          "name": "stdout",
          "text": [
            "            ds       trend  yhat_lower  yhat_upper  trend_lower  trend_upper  \\\n",
            "371 2020-02-10  386.899230  232.242650  556.077763   386.755543   387.031680   \n",
            "372 2020-02-11  387.478866  279.405826  607.079145   387.298606   387.642281   \n",
            "373 2020-02-12  388.058502  217.820518  524.524002   387.848331   388.245984   \n",
            "374 2020-02-13  388.638137  149.804183  467.556828   388.389724   388.869053   \n",
            "375 2020-02-14  389.217773  192.796022  516.796529   388.929297   389.492377   \n",
            "\n",
            "     additive_terms  additive_terms_lower  additive_terms_upper     weekly  \\\n",
            "371        7.167752              7.167752              7.167752   7.167752   \n",
            "372       52.306541             52.306541             52.306541  52.306541   \n",
            "373      -21.557415            -21.557415            -21.557415 -21.557415   \n",
            "374      -72.213546            -72.213546            -72.213546 -72.213546   \n",
            "375      -34.130521            -34.130521            -34.130521 -34.130521   \n",
            "\n",
            "     weekly_lower  weekly_upper  multiplicative_terms  \\\n",
            "371      7.167752      7.167752                   0.0   \n",
            "372     52.306541     52.306541                   0.0   \n",
            "373    -21.557415    -21.557415                   0.0   \n",
            "374    -72.213546    -72.213546                   0.0   \n",
            "375    -34.130521    -34.130521                   0.0   \n",
            "\n",
            "     multiplicative_terms_lower  multiplicative_terms_upper        yhat  \n",
            "371                         0.0                         0.0  394.066982  \n",
            "372                         0.0                         0.0  439.785407  \n",
            "373                         0.0                         0.0  366.501087  \n",
            "374                         0.0                         0.0  316.424592  \n",
            "375                         0.0                         0.0  355.087253  \n"
          ]
        },
        {
          "output_type": "stream",
          "name": "stderr",
          "text": [
            "INFO:fbprophet:Disabling yearly seasonality. Run prophet with yearly_seasonality=True to override this.\n",
            "INFO:fbprophet:Disabling daily seasonality. Run prophet with daily_seasonality=True to override this.\n"
          ]
        },
        {
          "output_type": "stream",
          "name": "stdout",
          "text": [
            "            ds       trend  yhat_lower  yhat_upper  trend_lower  trend_upper  \\\n",
            "334 2020-02-10  132.140874 -267.686323  376.737509   128.202145   136.936015   \n",
            "335 2020-02-11  123.462757 -209.319183  426.671645   118.559678   128.961767   \n",
            "336 2020-02-12  114.784640 -286.416925  373.929478   108.877478   121.739799   \n",
            "337 2020-02-13  106.106523 -290.863987  413.831001    98.871199   114.018691   \n",
            "338 2020-02-14   97.428407 -243.738197  420.742245    88.927441   106.320260   \n",
            "\n",
            "     additive_terms  additive_terms_lower  additive_terms_upper     weekly  \\\n",
            "334      -66.517977            -66.517977            -66.517977 -66.517977   \n",
            "335       -9.343837             -9.343837             -9.343837  -9.343837   \n",
            "336      -73.429228            -73.429228            -73.429228 -73.429228   \n",
            "337      -31.812169            -31.812169            -31.812169 -31.812169   \n",
            "338       -5.489694             -5.489694             -5.489694  -5.489694   \n",
            "\n",
            "     weekly_lower  weekly_upper  multiplicative_terms  \\\n",
            "334    -66.517977    -66.517977                   0.0   \n",
            "335     -9.343837     -9.343837                   0.0   \n",
            "336    -73.429228    -73.429228                   0.0   \n",
            "337    -31.812169    -31.812169                   0.0   \n",
            "338     -5.489694     -5.489694                   0.0   \n",
            "\n",
            "     multiplicative_terms_lower  multiplicative_terms_upper        yhat  \n",
            "334                         0.0                         0.0   65.622897  \n",
            "335                         0.0                         0.0  114.118920  \n",
            "336                         0.0                         0.0   41.355412  \n",
            "337                         0.0                         0.0   74.294355  \n",
            "338                         0.0                         0.0   91.938712  \n"
          ]
        },
        {
          "output_type": "stream",
          "name": "stderr",
          "text": [
            "INFO:fbprophet:Disabling yearly seasonality. Run prophet with yearly_seasonality=True to override this.\n",
            "INFO:fbprophet:Disabling daily seasonality. Run prophet with daily_seasonality=True to override this.\n"
          ]
        },
        {
          "output_type": "stream",
          "name": "stdout",
          "text": [
            "            ds       trend  yhat_lower  yhat_upper  trend_lower  trend_upper  \\\n",
            "374 2020-02-10  259.201967  120.181460  441.414539   259.055209   259.331835   \n",
            "375 2020-02-11  258.824303  116.727183  430.945736   258.646114   258.975541   \n",
            "376 2020-02-12  258.446639   85.541777  399.267008   258.230726   258.628193   \n",
            "377 2020-02-13  258.068975   74.556859  392.554324   257.817558   258.290514   \n",
            "378 2020-02-14  257.691311   65.481145  380.020241   257.411040   257.941584   \n",
            "\n",
            "     additive_terms  additive_terms_lower  additive_terms_upper     weekly  \\\n",
            "374       11.290390             11.290390             11.290390  11.290390   \n",
            "375       20.516339             20.516339             20.516339  20.516339   \n",
            "376      -17.987299            -17.987299            -17.987299 -17.987299   \n",
            "377      -18.098633            -18.098633            -18.098633 -18.098633   \n",
            "378      -41.222145            -41.222145            -41.222145 -41.222145   \n",
            "\n",
            "     weekly_lower  weekly_upper  multiplicative_terms  \\\n",
            "374     11.290390     11.290390                   0.0   \n",
            "375     20.516339     20.516339                   0.0   \n",
            "376    -17.987299    -17.987299                   0.0   \n",
            "377    -18.098633    -18.098633                   0.0   \n",
            "378    -41.222145    -41.222145                   0.0   \n",
            "\n",
            "     multiplicative_terms_lower  multiplicative_terms_upper        yhat  \n",
            "374                         0.0                         0.0  270.492357  \n",
            "375                         0.0                         0.0  279.340642  \n",
            "376                         0.0                         0.0  240.459340  \n",
            "377                         0.0                         0.0  239.970342  \n",
            "378                         0.0                         0.0  216.469166  \n"
          ]
        },
        {
          "output_type": "stream",
          "name": "stderr",
          "text": [
            "INFO:fbprophet:Disabling yearly seasonality. Run prophet with yearly_seasonality=True to override this.\n",
            "INFO:fbprophet:Disabling daily seasonality. Run prophet with daily_seasonality=True to override this.\n"
          ]
        },
        {
          "output_type": "stream",
          "name": "stdout",
          "text": [
            "            ds       trend  yhat_lower  yhat_upper  trend_lower  trend_upper  \\\n",
            "374 2020-02-10  234.381414  116.509829  357.946711   234.361631   234.401031   \n",
            "375 2020-02-11  234.506066  124.016750  355.429675   234.482643   234.530055   \n",
            "376 2020-02-12  234.630719  100.183709  335.368043   234.603844   234.658289   \n",
            "377 2020-02-13  234.755372  100.289949  336.675285   234.724815   234.786612   \n",
            "378 2020-02-14  234.880025  106.138856  335.306548   234.846302   234.916942   \n",
            "\n",
            "     additive_terms  additive_terms_lower  additive_terms_upper     weekly  \\\n",
            "374        1.786921              1.786921              1.786921   1.786921   \n",
            "375        4.257503              4.257503              4.257503   4.257503   \n",
            "376      -13.534117            -13.534117            -13.534117 -13.534117   \n",
            "377      -15.738223            -15.738223            -15.738223 -15.738223   \n",
            "378       -9.529309             -9.529309             -9.529309  -9.529309   \n",
            "\n",
            "     weekly_lower  weekly_upper  multiplicative_terms  \\\n",
            "374      1.786921      1.786921                   0.0   \n",
            "375      4.257503      4.257503                   0.0   \n",
            "376    -13.534117    -13.534117                   0.0   \n",
            "377    -15.738223    -15.738223                   0.0   \n",
            "378     -9.529309     -9.529309                   0.0   \n",
            "\n",
            "     multiplicative_terms_lower  multiplicative_terms_upper        yhat  \n",
            "374                         0.0                         0.0  236.168335  \n",
            "375                         0.0                         0.0  238.763570  \n",
            "376                         0.0                         0.0  221.096602  \n",
            "377                         0.0                         0.0  219.017149  \n",
            "378                         0.0                         0.0  225.350716  \n"
          ]
        },
        {
          "output_type": "stream",
          "name": "stderr",
          "text": [
            "INFO:fbprophet:Disabling yearly seasonality. Run prophet with yearly_seasonality=True to override this.\n",
            "INFO:fbprophet:Disabling daily seasonality. Run prophet with daily_seasonality=True to override this.\n"
          ]
        },
        {
          "output_type": "stream",
          "name": "stdout",
          "text": [
            "            ds       trend  yhat_lower  yhat_upper  trend_lower  trend_upper  \\\n",
            "110 2020-02-05  229.157383  113.834403  437.096256   229.157061   229.157845   \n",
            "111 2020-02-06  228.903657  142.447780  443.855336   228.903253   228.904223   \n",
            "112 2020-02-07  228.649932   50.945252  353.934647   228.649436   228.650621   \n",
            "113 2020-02-08  228.396206   80.477839  391.829775   228.395622   228.397013   \n",
            "114 2020-02-09  228.142481   11.581210  335.362647   228.141806   228.143448   \n",
            "\n",
            "     additive_terms  additive_terms_lower  additive_terms_upper     weekly  \\\n",
            "110       51.364281             51.364281             51.364281  51.364281   \n",
            "111       62.318357             62.318357             62.318357  62.318357   \n",
            "112      -24.691017            -24.691017            -24.691017 -24.691017   \n",
            "113        1.288345              1.288345              1.288345   1.288345   \n",
            "114      -61.847089            -61.847089            -61.847089 -61.847089   \n",
            "\n",
            "     weekly_lower  weekly_upper  multiplicative_terms  \\\n",
            "110     51.364281     51.364281                   0.0   \n",
            "111     62.318357     62.318357                   0.0   \n",
            "112    -24.691017    -24.691017                   0.0   \n",
            "113      1.288345      1.288345                   0.0   \n",
            "114    -61.847089    -61.847089                   0.0   \n",
            "\n",
            "     multiplicative_terms_lower  multiplicative_terms_upper        yhat  \n",
            "110                         0.0                         0.0  280.521664  \n",
            "111                         0.0                         0.0  291.222014  \n",
            "112                         0.0                         0.0  203.958915  \n",
            "113                         0.0                         0.0  229.684551  \n",
            "114                         0.0                         0.0  166.295392  \n"
          ]
        },
        {
          "output_type": "stream",
          "name": "stderr",
          "text": [
            "INFO:fbprophet:Disabling yearly seasonality. Run prophet with yearly_seasonality=True to override this.\n",
            "INFO:fbprophet:Disabling daily seasonality. Run prophet with daily_seasonality=True to override this.\n"
          ]
        },
        {
          "output_type": "stream",
          "name": "stdout",
          "text": [
            "            ds      trend  yhat_lower  yhat_upper  trend_lower  trend_upper  \\\n",
            "374 2020-02-10  82.657857   41.282603  198.448720    82.501124    82.836665   \n",
            "375 2020-02-11  82.607486   22.646404  168.593907    82.409420    82.826924   \n",
            "376 2020-02-12  82.557116   12.719053  172.953167    82.314676    82.814344   \n",
            "377 2020-02-13  82.506745   18.071104  170.354737    82.226257    82.792342   \n",
            "378 2020-02-14  82.456375   33.377129  188.895857    82.139008    82.784766   \n",
            "\n",
            "     additive_terms  additive_terms_lower  additive_terms_upper     weekly  \\\n",
            "374       36.925097             36.925097             36.925097  36.925097   \n",
            "375        9.832325              9.832325              9.832325   9.832325   \n",
            "376       12.066411             12.066411             12.066411  12.066411   \n",
            "377       14.110141             14.110141             14.110141  14.110141   \n",
            "378       26.178968             26.178968             26.178968  26.178968   \n",
            "\n",
            "     weekly_lower  weekly_upper  multiplicative_terms  \\\n",
            "374     36.925097     36.925097                   0.0   \n",
            "375      9.832325      9.832325                   0.0   \n",
            "376     12.066411     12.066411                   0.0   \n",
            "377     14.110141     14.110141                   0.0   \n",
            "378     26.178968     26.178968                   0.0   \n",
            "\n",
            "     multiplicative_terms_lower  multiplicative_terms_upper        yhat  \n",
            "374                         0.0                         0.0  119.582954  \n",
            "375                         0.0                         0.0   92.439811  \n",
            "376                         0.0                         0.0   94.623527  \n",
            "377                         0.0                         0.0   96.616887  \n",
            "378                         0.0                         0.0  108.635343  \n"
          ]
        },
        {
          "output_type": "stream",
          "name": "stderr",
          "text": [
            "INFO:fbprophet:Disabling yearly seasonality. Run prophet with yearly_seasonality=True to override this.\n",
            "INFO:fbprophet:Disabling daily seasonality. Run prophet with daily_seasonality=True to override this.\n"
          ]
        },
        {
          "output_type": "stream",
          "name": "stdout",
          "text": [
            "            ds       trend  yhat_lower  yhat_upper  trend_lower  trend_upper  \\\n",
            "374 2020-02-10  417.836619  249.392421  597.920498   417.732295   417.951336   \n",
            "375 2020-02-11  418.231928  324.827304  675.009251   418.105097   418.371640   \n",
            "376 2020-02-12  418.627236  240.794276  581.100428   418.478003   418.796053   \n",
            "377 2020-02-13  419.022544  228.697849  571.406748   418.845680   419.221243   \n",
            "378 2020-02-14  419.417852  192.469614  554.162207   419.219256   419.643758   \n",
            "\n",
            "     additive_terms  additive_terms_lower  additive_terms_upper     weekly  \\\n",
            "374        2.744841              2.744841              2.744841   2.744841   \n",
            "375       81.542754             81.542754             81.542754  81.542754   \n",
            "376       -7.677923             -7.677923             -7.677923  -7.677923   \n",
            "377      -13.550632            -13.550632            -13.550632 -13.550632   \n",
            "378      -50.332882            -50.332882            -50.332882 -50.332882   \n",
            "\n",
            "     weekly_lower  weekly_upper  multiplicative_terms  \\\n",
            "374      2.744841      2.744841                   0.0   \n",
            "375     81.542754     81.542754                   0.0   \n",
            "376     -7.677923     -7.677923                   0.0   \n",
            "377    -13.550632    -13.550632                   0.0   \n",
            "378    -50.332882    -50.332882                   0.0   \n",
            "\n",
            "     multiplicative_terms_lower  multiplicative_terms_upper        yhat  \n",
            "374                         0.0                         0.0  420.581460  \n",
            "375                         0.0                         0.0  499.774682  \n",
            "376                         0.0                         0.0  410.949313  \n",
            "377                         0.0                         0.0  405.471912  \n",
            "378                         0.0                         0.0  369.084970  \n"
          ]
        },
        {
          "output_type": "stream",
          "name": "stderr",
          "text": [
            "INFO:fbprophet:Disabling yearly seasonality. Run prophet with yearly_seasonality=True to override this.\n",
            "INFO:fbprophet:Disabling daily seasonality. Run prophet with daily_seasonality=True to override this.\n"
          ]
        },
        {
          "output_type": "stream",
          "name": "stdout",
          "text": [
            "            ds       trend  yhat_lower  yhat_upper  trend_lower  trend_upper  \\\n",
            "374 2020-02-10  281.090294  198.446903  447.618336   281.014689   281.174884   \n",
            "375 2020-02-11  281.552448  196.156710  442.542549   281.454927   281.654424   \n",
            "376 2020-02-12  282.014602  112.308562  356.581945   281.905144   282.141947   \n",
            "377 2020-02-13  282.476756  129.547684  380.595575   282.344582   282.624136   \n",
            "378 2020-02-14  282.938910  108.166553  348.476994   282.787566   283.108246   \n",
            "\n",
            "     additive_terms  additive_terms_lower  additive_terms_upper     weekly  \\\n",
            "374       32.555349             32.555349             32.555349  32.555349   \n",
            "375       38.945866             38.945866             38.945866  38.945866   \n",
            "376      -45.575112            -45.575112            -45.575112 -45.575112   \n",
            "377      -20.376813            -20.376813            -20.376813 -20.376813   \n",
            "378      -55.454533            -55.454533            -55.454533 -55.454533   \n",
            "\n",
            "     weekly_lower  weekly_upper  multiplicative_terms  \\\n",
            "374     32.555349     32.555349                   0.0   \n",
            "375     38.945866     38.945866                   0.0   \n",
            "376    -45.575112    -45.575112                   0.0   \n",
            "377    -20.376813    -20.376813                   0.0   \n",
            "378    -55.454533    -55.454533                   0.0   \n",
            "\n",
            "     multiplicative_terms_lower  multiplicative_terms_upper        yhat  \n",
            "374                         0.0                         0.0  313.645643  \n",
            "375                         0.0                         0.0  320.498314  \n",
            "376                         0.0                         0.0  236.439490  \n",
            "377                         0.0                         0.0  262.099942  \n",
            "378                         0.0                         0.0  227.484377  \n"
          ]
        },
        {
          "output_type": "stream",
          "name": "stderr",
          "text": [
            "INFO:fbprophet:Disabling yearly seasonality. Run prophet with yearly_seasonality=True to override this.\n",
            "INFO:fbprophet:Disabling daily seasonality. Run prophet with daily_seasonality=True to override this.\n"
          ]
        },
        {
          "output_type": "stream",
          "name": "stdout",
          "text": [
            "            ds       trend  yhat_lower   yhat_upper  trend_lower  trend_upper  \\\n",
            "374 2020-02-10  515.576971  185.659786   987.201873   514.274267   517.221898   \n",
            "375 2020-02-11  517.125901  257.068820  1060.104706   515.632261   519.028205   \n",
            "376 2020-02-12  518.674832  248.462530  1030.065834   516.828655   520.971098   \n",
            "377 2020-02-13  520.223762  326.143951  1128.450388   518.148490   522.937239   \n",
            "378 2020-02-14  521.772693  273.845755  1060.328978   519.385440   524.765268   \n",
            "\n",
            "     additive_terms  additive_terms_lower  additive_terms_upper      weekly  \\\n",
            "374       67.637345             67.637345             67.637345   67.637345   \n",
            "375      157.182545            157.182545            157.182545  157.182545   \n",
            "376      120.482141            120.482141            120.482141  120.482141   \n",
            "377      198.555221            198.555221            198.555221  198.555221   \n",
            "378      132.461875            132.461875            132.461875  132.461875   \n",
            "\n",
            "     weekly_lower  weekly_upper  multiplicative_terms  \\\n",
            "374     67.637345     67.637345                   0.0   \n",
            "375    157.182545    157.182545                   0.0   \n",
            "376    120.482141    120.482141                   0.0   \n",
            "377    198.555221    198.555221                   0.0   \n",
            "378    132.461875    132.461875                   0.0   \n",
            "\n",
            "     multiplicative_terms_lower  multiplicative_terms_upper        yhat  \n",
            "374                         0.0                         0.0  583.214316  \n",
            "375                         0.0                         0.0  674.308447  \n",
            "376                         0.0                         0.0  639.156973  \n",
            "377                         0.0                         0.0  718.778983  \n",
            "378                         0.0                         0.0  654.234568  \n"
          ]
        },
        {
          "output_type": "stream",
          "name": "stderr",
          "text": [
            "INFO:fbprophet:Disabling yearly seasonality. Run prophet with yearly_seasonality=True to override this.\n",
            "INFO:fbprophet:Disabling daily seasonality. Run prophet with daily_seasonality=True to override this.\n"
          ]
        },
        {
          "output_type": "stream",
          "name": "stdout",
          "text": [
            "            ds       trend  yhat_lower  yhat_upper  trend_lower  trend_upper  \\\n",
            "374 2020-02-10  495.402671  384.549597  677.750188   495.400446   495.404224   \n",
            "375 2020-02-11  495.689581  359.120046  661.185178   495.686903   495.691535   \n",
            "376 2020-02-12  495.976491  344.813289  648.722263   495.973309   495.978888   \n",
            "377 2020-02-13  496.263402  368.085564  656.250585   496.259697   496.266343   \n",
            "378 2020-02-14  496.550312  355.318131  640.751904   496.545969   496.553852   \n",
            "\n",
            "     additive_terms  additive_terms_lower  additive_terms_upper     weekly  \\\n",
            "374       29.961910             29.961910             29.961910  29.961910   \n",
            "375       13.510898             13.510898             13.510898  13.510898   \n",
            "376        6.247917              6.247917              6.247917   6.247917   \n",
            "377        3.877918              3.877918              3.877918   3.877918   \n",
            "378        5.107845              5.107845              5.107845   5.107845   \n",
            "\n",
            "     weekly_lower  weekly_upper  multiplicative_terms  \\\n",
            "374     29.961910     29.961910                   0.0   \n",
            "375     13.510898     13.510898                   0.0   \n",
            "376      6.247917      6.247917                   0.0   \n",
            "377      3.877918      3.877918                   0.0   \n",
            "378      5.107845      5.107845                   0.0   \n",
            "\n",
            "     multiplicative_terms_lower  multiplicative_terms_upper        yhat  \n",
            "374                         0.0                         0.0  525.364581  \n",
            "375                         0.0                         0.0  509.200479  \n",
            "376                         0.0                         0.0  502.224408  \n",
            "377                         0.0                         0.0  500.141319  \n",
            "378                         0.0                         0.0  501.658157  \n"
          ]
        },
        {
          "output_type": "stream",
          "name": "stderr",
          "text": [
            "INFO:fbprophet:Disabling yearly seasonality. Run prophet with yearly_seasonality=True to override this.\n",
            "INFO:fbprophet:Disabling daily seasonality. Run prophet with daily_seasonality=True to override this.\n"
          ]
        },
        {
          "output_type": "stream",
          "name": "stdout",
          "text": [
            "            ds        trend    yhat_lower    yhat_upper  trend_lower  \\\n",
            "374 2020-02-10  -933.787482  -6162.484311   9968.057145  -943.770491   \n",
            "375 2020-02-11  -989.908715  -4978.565632  10903.377632 -1002.014758   \n",
            "376 2020-02-12 -1046.029948  -5974.169033  10327.473577 -1060.289316   \n",
            "377 2020-02-13 -1102.151180  -6158.170200   9319.943547 -1119.441399   \n",
            "378 2020-02-14 -1158.272413 -10775.122327   4806.649057 -1178.399499   \n",
            "\n",
            "     trend_upper  additive_terms  additive_terms_lower  additive_terms_upper  \\\n",
            "374  -922.036687     2980.006320           2980.006320           2980.006320   \n",
            "375  -975.939691     3885.247503           3885.247503           3885.247503   \n",
            "376 -1029.306883     3025.483951           3025.483951           3025.483951   \n",
            "377 -1082.354132     2841.785520           2841.785520           2841.785520   \n",
            "378 -1136.176184    -2005.694711          -2005.694711          -2005.694711   \n",
            "\n",
            "          weekly  weekly_lower  weekly_upper  multiplicative_terms  \\\n",
            "374  2980.006320   2980.006320   2980.006320                   0.0   \n",
            "375  3885.247503   3885.247503   3885.247503                   0.0   \n",
            "376  3025.483951   3025.483951   3025.483951                   0.0   \n",
            "377  2841.785520   2841.785520   2841.785520                   0.0   \n",
            "378 -2005.694711  -2005.694711  -2005.694711                   0.0   \n",
            "\n",
            "     multiplicative_terms_lower  multiplicative_terms_upper         yhat  \n",
            "374                         0.0                         0.0  2046.218838  \n",
            "375                         0.0                         0.0  2895.338788  \n",
            "376                         0.0                         0.0  1979.454003  \n",
            "377                         0.0                         0.0  1739.634339  \n",
            "378                         0.0                         0.0 -3163.967125  \n"
          ]
        },
        {
          "output_type": "stream",
          "name": "stderr",
          "text": [
            "INFO:fbprophet:Disabling yearly seasonality. Run prophet with yearly_seasonality=True to override this.\n",
            "INFO:fbprophet:Disabling daily seasonality. Run prophet with daily_seasonality=True to override this.\n"
          ]
        },
        {
          "output_type": "stream",
          "name": "stdout",
          "text": [
            "            ds      trend  yhat_lower  yhat_upper  trend_lower  trend_upper  \\\n",
            "374 2020-02-10 -13.697599 -467.909154  393.493141   -13.762175   -13.653312   \n",
            "375 2020-02-11 -13.955816 -446.548015  381.589248   -14.029836   -13.898807   \n",
            "376 2020-02-12 -14.214033 -450.475200  406.881662   -14.303404   -14.145834   \n",
            "377 2020-02-13 -14.472250 -344.685770  479.504258   -14.576045   -14.388122   \n",
            "378 2020-02-14 -14.730467 -365.819721  433.395438   -14.848535   -14.632521   \n",
            "\n",
            "     additive_terms  additive_terms_lower  additive_terms_upper     weekly  \\\n",
            "374      -20.896867            -20.896867            -20.896867 -20.896867   \n",
            "375      -21.942753            -21.942753            -21.942753 -21.942753   \n",
            "376      -23.563922            -23.563922            -23.563922 -23.563922   \n",
            "377       64.464653             64.464653             64.464653  64.464653   \n",
            "378       58.159087             58.159087             58.159087  58.159087   \n",
            "\n",
            "     weekly_lower  weekly_upper  multiplicative_terms  \\\n",
            "374    -20.896867    -20.896867                   0.0   \n",
            "375    -21.942753    -21.942753                   0.0   \n",
            "376    -23.563922    -23.563922                   0.0   \n",
            "377     64.464653     64.464653                   0.0   \n",
            "378     58.159087     58.159087                   0.0   \n",
            "\n",
            "     multiplicative_terms_lower  multiplicative_terms_upper       yhat  \n",
            "374                         0.0                         0.0 -34.594466  \n",
            "375                         0.0                         0.0 -35.898569  \n",
            "376                         0.0                         0.0 -37.777956  \n",
            "377                         0.0                         0.0  49.992403  \n",
            "378                         0.0                         0.0  43.428620  \n"
          ]
        },
        {
          "output_type": "stream",
          "name": "stderr",
          "text": [
            "INFO:fbprophet:Disabling yearly seasonality. Run prophet with yearly_seasonality=True to override this.\n",
            "INFO:fbprophet:Disabling daily seasonality. Run prophet with daily_seasonality=True to override this.\n"
          ]
        },
        {
          "output_type": "stream",
          "name": "stdout",
          "text": [
            "            ds       trend  yhat_lower   yhat_upper  trend_lower  trend_upper  \\\n",
            "374 2020-02-10  609.951289  323.362477  1177.044968   609.951278   609.951302   \n",
            "375 2020-02-11  609.990225  425.391652  1244.818497   609.990210   609.990240   \n",
            "376 2020-02-12  610.029160  424.669949  1231.871975   610.029143   610.029178   \n",
            "377 2020-02-13  610.068096  406.013367  1246.237384   610.068077   610.068117   \n",
            "378 2020-02-14  610.107032  237.515305  1093.192040   610.107010   610.107055   \n",
            "\n",
            "     additive_terms  additive_terms_lower  additive_terms_upper      weekly  \\\n",
            "374      156.246630            156.246630            156.246630  156.246630   \n",
            "375      222.150101            222.150101            222.150101  222.150101   \n",
            "376      218.254644            218.254644            218.254644  218.254644   \n",
            "377      207.757985            207.757985            207.757985  207.757985   \n",
            "378       80.452663             80.452663             80.452663   80.452663   \n",
            "\n",
            "     weekly_lower  weekly_upper  multiplicative_terms  \\\n",
            "374    156.246630    156.246630                   0.0   \n",
            "375    222.150101    222.150101                   0.0   \n",
            "376    218.254644    218.254644                   0.0   \n",
            "377    207.757985    207.757985                   0.0   \n",
            "378     80.452663     80.452663                   0.0   \n",
            "\n",
            "     multiplicative_terms_lower  multiplicative_terms_upper        yhat  \n",
            "374                         0.0                         0.0  766.197920  \n",
            "375                         0.0                         0.0  832.140326  \n",
            "376                         0.0                         0.0  828.283805  \n",
            "377                         0.0                         0.0  817.826081  \n",
            "378                         0.0                         0.0  690.559694  \n"
          ]
        },
        {
          "output_type": "stream",
          "name": "stderr",
          "text": [
            "INFO:fbprophet:Disabling yearly seasonality. Run prophet with yearly_seasonality=True to override this.\n",
            "INFO:fbprophet:Disabling daily seasonality. Run prophet with daily_seasonality=True to override this.\n"
          ]
        },
        {
          "output_type": "stream",
          "name": "stdout",
          "text": [
            "            ds       trend  yhat_lower  yhat_upper  trend_lower  trend_upper  \\\n",
            "374 2020-02-10  536.744823  404.861770  723.030362   536.717581   536.779839   \n",
            "375 2020-02-11  536.460606  386.885150  698.932250   536.427076   536.502512   \n",
            "376 2020-02-12  536.176390  421.337564  738.377289   536.135392   536.224705   \n",
            "377 2020-02-13  535.892174  427.989605  738.474803   535.841569   535.947998   \n",
            "378 2020-02-14  535.607957  396.164844  696.576478   535.550610   535.670412   \n",
            "\n",
            "     additive_terms  additive_terms_lower  additive_terms_upper     weekly  \\\n",
            "374       26.173289             26.173289             26.173289  26.173289   \n",
            "375       21.151399             21.151399             21.151399  21.151399   \n",
            "376       39.459916             39.459916             39.459916  39.459916   \n",
            "377       41.092218             41.092218             41.092218  41.092218   \n",
            "378       10.857442             10.857442             10.857442  10.857442   \n",
            "\n",
            "     weekly_lower  weekly_upper  multiplicative_terms  \\\n",
            "374     26.173289     26.173289                   0.0   \n",
            "375     21.151399     21.151399                   0.0   \n",
            "376     39.459916     39.459916                   0.0   \n",
            "377     41.092218     41.092218                   0.0   \n",
            "378     10.857442     10.857442                   0.0   \n",
            "\n",
            "     multiplicative_terms_lower  multiplicative_terms_upper        yhat  \n",
            "374                         0.0                         0.0  562.918111  \n",
            "375                         0.0                         0.0  557.612005  \n",
            "376                         0.0                         0.0  575.636306  \n",
            "377                         0.0                         0.0  576.984391  \n",
            "378                         0.0                         0.0  546.465400  \n"
          ]
        },
        {
          "output_type": "stream",
          "name": "stderr",
          "text": [
            "INFO:fbprophet:Disabling yearly seasonality. Run prophet with yearly_seasonality=True to override this.\n",
            "INFO:fbprophet:Disabling daily seasonality. Run prophet with daily_seasonality=True to override this.\n"
          ]
        },
        {
          "output_type": "stream",
          "name": "stdout",
          "text": [
            "            ds       trend  yhat_lower  yhat_upper  trend_lower  trend_upper  \\\n",
            "374 2020-02-10  345.284731  191.957275  466.084762   345.264312   345.312682   \n",
            "375 2020-02-11  345.152552  209.836035  468.044665   345.125109   345.187646   \n",
            "376 2020-02-12  345.020374  206.241192  471.648745   344.987064   345.062637   \n",
            "377 2020-02-13  344.888196  227.545550  490.315428   344.847970   344.936277   \n",
            "378 2020-02-14  344.756017  189.456722  458.400698   344.709588   344.810371   \n",
            "\n",
            "     additive_terms  additive_terms_lower  additive_terms_upper     weekly  \\\n",
            "374      -23.566165            -23.566165            -23.566165 -23.566165   \n",
            "375       -5.151056             -5.151056             -5.151056  -5.151056   \n",
            "376      -10.839850            -10.839850            -10.839850 -10.839850   \n",
            "377        9.529135              9.529135              9.529135   9.529135   \n",
            "378      -28.122012            -28.122012            -28.122012 -28.122012   \n",
            "\n",
            "     weekly_lower  weekly_upper  multiplicative_terms  \\\n",
            "374    -23.566165    -23.566165                   0.0   \n",
            "375     -5.151056     -5.151056                   0.0   \n",
            "376    -10.839850    -10.839850                   0.0   \n",
            "377      9.529135      9.529135                   0.0   \n",
            "378    -28.122012    -28.122012                   0.0   \n",
            "\n",
            "     multiplicative_terms_lower  multiplicative_terms_upper        yhat  \n",
            "374                         0.0                         0.0  321.718566  \n",
            "375                         0.0                         0.0  340.001496  \n",
            "376                         0.0                         0.0  334.180524  \n",
            "377                         0.0                         0.0  354.417330  \n",
            "378                         0.0                         0.0  316.634005  \n"
          ]
        },
        {
          "output_type": "stream",
          "name": "stderr",
          "text": [
            "INFO:fbprophet:Disabling yearly seasonality. Run prophet with yearly_seasonality=True to override this.\n",
            "INFO:fbprophet:Disabling daily seasonality. Run prophet with daily_seasonality=True to override this.\n"
          ]
        },
        {
          "output_type": "stream",
          "name": "stdout",
          "text": [
            "            ds       trend  yhat_lower  yhat_upper  trend_lower  trend_upper  \\\n",
            "374 2020-02-10  575.089759  416.332235  711.470202   574.787653   575.346167   \n",
            "375 2020-02-11  575.860326  372.774554  661.674984   575.497516   576.183383   \n",
            "376 2020-02-12  576.630894  508.376218  828.023520   576.202486   577.012731   \n",
            "377 2020-02-13  577.401462  399.855577  684.299564   576.900756   577.849256   \n",
            "378 2020-02-14  578.172029  349.704936  639.624870   577.574417   578.699503   \n",
            "\n",
            "     additive_terms  additive_terms_lower  additive_terms_upper      weekly  \\\n",
            "374      -10.266874            -10.266874            -10.266874  -10.266874   \n",
            "375      -68.805023            -68.805023            -68.805023  -68.805023   \n",
            "376      100.631689            100.631689            100.631689  100.631689   \n",
            "377      -38.672402            -38.672402            -38.672402  -38.672402   \n",
            "378      -81.147747            -81.147747            -81.147747  -81.147747   \n",
            "\n",
            "     weekly_lower  weekly_upper  multiplicative_terms  \\\n",
            "374    -10.266874    -10.266874                   0.0   \n",
            "375    -68.805023    -68.805023                   0.0   \n",
            "376    100.631689    100.631689                   0.0   \n",
            "377    -38.672402    -38.672402                   0.0   \n",
            "378    -81.147747    -81.147747                   0.0   \n",
            "\n",
            "     multiplicative_terms_lower  multiplicative_terms_upper        yhat  \n",
            "374                         0.0                         0.0  564.822885  \n",
            "375                         0.0                         0.0  507.055303  \n",
            "376                         0.0                         0.0  677.262583  \n",
            "377                         0.0                         0.0  538.729059  \n",
            "378                         0.0                         0.0  497.024283  \n"
          ]
        },
        {
          "output_type": "stream",
          "name": "stderr",
          "text": [
            "INFO:fbprophet:Disabling yearly seasonality. Run prophet with yearly_seasonality=True to override this.\n",
            "INFO:fbprophet:Disabling daily seasonality. Run prophet with daily_seasonality=True to override this.\n"
          ]
        },
        {
          "output_type": "stream",
          "name": "stdout",
          "text": [
            "            ds       trend  yhat_lower  yhat_upper  trend_lower  trend_upper  \\\n",
            "374 2020-02-10  200.222930  123.922216  292.389124   200.141371   200.313556   \n",
            "375 2020-02-11  199.952024   80.081871  261.756600   199.846291   200.059225   \n",
            "376 2020-02-12  199.681117   90.027170  264.776302   199.562761   199.807196   \n",
            "377 2020-02-13  199.410211   99.299309  284.914276   199.263867   199.554562   \n",
            "378 2020-02-14  199.139305  110.713620  295.577656   198.970775   199.300659   \n",
            "\n",
            "     additive_terms  additive_terms_lower  additive_terms_upper     weekly  \\\n",
            "374       10.168699             10.168699             10.168699  10.168699   \n",
            "375      -28.429769            -28.429769            -28.429769 -28.429769   \n",
            "376      -22.104772            -22.104772            -22.104772 -22.104772   \n",
            "377       -5.066143             -5.066143             -5.066143  -5.066143   \n",
            "378        2.887856              2.887856              2.887856   2.887856   \n",
            "\n",
            "     weekly_lower  weekly_upper  multiplicative_terms  \\\n",
            "374     10.168699     10.168699                   0.0   \n",
            "375    -28.429769    -28.429769                   0.0   \n",
            "376    -22.104772    -22.104772                   0.0   \n",
            "377     -5.066143     -5.066143                   0.0   \n",
            "378      2.887856      2.887856                   0.0   \n",
            "\n",
            "     multiplicative_terms_lower  multiplicative_terms_upper        yhat  \n",
            "374                         0.0                         0.0  210.391629  \n",
            "375                         0.0                         0.0  171.522255  \n",
            "376                         0.0                         0.0  177.576345  \n",
            "377                         0.0                         0.0  194.344068  \n",
            "378                         0.0                         0.0  202.027161  \n"
          ]
        },
        {
          "output_type": "stream",
          "name": "stderr",
          "text": [
            "INFO:fbprophet:Disabling yearly seasonality. Run prophet with yearly_seasonality=True to override this.\n",
            "INFO:fbprophet:Disabling daily seasonality. Run prophet with daily_seasonality=True to override this.\n"
          ]
        },
        {
          "output_type": "stream",
          "name": "stdout",
          "text": [
            "            ds       trend  yhat_lower  yhat_upper  trend_lower  trend_upper  \\\n",
            "374 2020-02-10  303.884896  168.327347  508.820037   303.884268   303.885542   \n",
            "375 2020-02-11  303.895884  146.732898  468.330228   303.895104   303.896671   \n",
            "376 2020-02-12  303.906872  164.554730  509.160369   303.905903   303.907828   \n",
            "377 2020-02-13  303.917860  145.352531  510.297972   303.916691   303.919004   \n",
            "378 2020-02-14  303.928848  119.976822  491.808744   303.927496   303.930175   \n",
            "\n",
            "     additive_terms  additive_terms_lower  additive_terms_upper     weekly  \\\n",
            "374       40.064025             40.064025             40.064025  40.064025   \n",
            "375       -4.296091             -4.296091             -4.296091  -4.296091   \n",
            "376       33.307627             33.307627             33.307627  33.307627   \n",
            "377       24.515119             24.515119             24.515119  24.515119   \n",
            "378        9.922590              9.922590              9.922590   9.922590   \n",
            "\n",
            "     weekly_lower  weekly_upper  multiplicative_terms  \\\n",
            "374     40.064025     40.064025                   0.0   \n",
            "375     -4.296091     -4.296091                   0.0   \n",
            "376     33.307627     33.307627                   0.0   \n",
            "377     24.515119     24.515119                   0.0   \n",
            "378      9.922590      9.922590                   0.0   \n",
            "\n",
            "     multiplicative_terms_lower  multiplicative_terms_upper        yhat  \n",
            "374                         0.0                         0.0  343.948921  \n",
            "375                         0.0                         0.0  299.599794  \n",
            "376                         0.0                         0.0  337.214499  \n",
            "377                         0.0                         0.0  328.432979  \n",
            "378                         0.0                         0.0  313.851438  \n"
          ]
        },
        {
          "output_type": "stream",
          "name": "stderr",
          "text": [
            "INFO:fbprophet:Disabling yearly seasonality. Run prophet with yearly_seasonality=True to override this.\n",
            "INFO:fbprophet:Disabling daily seasonality. Run prophet with daily_seasonality=True to override this.\n"
          ]
        },
        {
          "output_type": "stream",
          "name": "stdout",
          "text": [
            "            ds       trend  yhat_lower  yhat_upper  trend_lower  trend_upper  \\\n",
            "374 2020-02-10  196.991680    9.549232  303.148256   196.725372   197.221159   \n",
            "375 2020-02-11  196.596463   44.009751  345.156618   196.251909   196.886262   \n",
            "376 2020-02-12  196.201245   36.698923  347.402668   195.777820   196.554321   \n",
            "377 2020-02-13  195.806027   38.991611  343.765965   195.300443   196.225433   \n",
            "378 2020-02-14  195.410810   53.827885  345.272509   194.811648   195.878894   \n",
            "\n",
            "     additive_terms  additive_terms_lower  additive_terms_upper     weekly  \\\n",
            "374      -40.928131            -40.928131            -40.928131 -40.928131   \n",
            "375       -2.374978             -2.374978             -2.374978  -2.374978   \n",
            "376        2.772743              2.772743              2.772743   2.772743   \n",
            "377      -10.333499            -10.333499            -10.333499 -10.333499   \n",
            "378        0.227201              0.227201              0.227201   0.227201   \n",
            "\n",
            "     weekly_lower  weekly_upper  multiplicative_terms  \\\n",
            "374    -40.928131    -40.928131                   0.0   \n",
            "375     -2.374978     -2.374978                   0.0   \n",
            "376      2.772743      2.772743                   0.0   \n",
            "377    -10.333499    -10.333499                   0.0   \n",
            "378      0.227201      0.227201                   0.0   \n",
            "\n",
            "     multiplicative_terms_lower  multiplicative_terms_upper        yhat  \n",
            "374                         0.0                         0.0  156.063549  \n",
            "375                         0.0                         0.0  194.221484  \n",
            "376                         0.0                         0.0  198.973988  \n",
            "377                         0.0                         0.0  185.472529  \n",
            "378                         0.0                         0.0  195.638011  \n"
          ]
        },
        {
          "output_type": "stream",
          "name": "stderr",
          "text": [
            "INFO:fbprophet:Disabling yearly seasonality. Run prophet with yearly_seasonality=True to override this.\n",
            "INFO:fbprophet:Disabling daily seasonality. Run prophet with daily_seasonality=True to override this.\n"
          ]
        },
        {
          "output_type": "stream",
          "name": "stdout",
          "text": [
            "            ds       trend  yhat_lower  yhat_upper  trend_lower  trend_upper  \\\n",
            "374 2020-02-10  129.050560   62.331950  197.394716   128.942676   129.164630   \n",
            "375 2020-02-11  129.456842   59.358493  200.606666   129.319490   129.598813   \n",
            "376 2020-02-12  129.863125   56.267513  203.509479   129.699857   130.042127   \n",
            "377 2020-02-13  130.269408   41.256070  193.779678   130.070929   130.480707   \n",
            "378 2020-02-14  130.675691   44.609022  184.355518   130.451914   130.915005   \n",
            "\n",
            "     additive_terms  additive_terms_lower  additive_terms_upper     weekly  \\\n",
            "374       -0.140186             -0.140186             -0.140186  -0.140186   \n",
            "375        3.275938              3.275938              3.275938   3.275938   \n",
            "376        0.520426              0.520426              0.520426   0.520426   \n",
            "377      -13.369630            -13.369630            -13.369630 -13.369630   \n",
            "378      -14.305855            -14.305855            -14.305855 -14.305855   \n",
            "\n",
            "     weekly_lower  weekly_upper  multiplicative_terms  \\\n",
            "374     -0.140186     -0.140186                   0.0   \n",
            "375      3.275938      3.275938                   0.0   \n",
            "376      0.520426      0.520426                   0.0   \n",
            "377    -13.369630    -13.369630                   0.0   \n",
            "378    -14.305855    -14.305855                   0.0   \n",
            "\n",
            "     multiplicative_terms_lower  multiplicative_terms_upper        yhat  \n",
            "374                         0.0                         0.0  128.910374  \n",
            "375                         0.0                         0.0  132.732780  \n",
            "376                         0.0                         0.0  130.383551  \n",
            "377                         0.0                         0.0  116.899778  \n",
            "378                         0.0                         0.0  116.369836  \n"
          ]
        },
        {
          "output_type": "stream",
          "name": "stderr",
          "text": [
            "INFO:fbprophet:Disabling yearly seasonality. Run prophet with yearly_seasonality=True to override this.\n",
            "INFO:fbprophet:Disabling daily seasonality. Run prophet with daily_seasonality=True to override this.\n"
          ]
        },
        {
          "output_type": "stream",
          "name": "stdout",
          "text": [
            "            ds       trend  yhat_lower  yhat_upper  trend_lower  trend_upper  \\\n",
            "374 2020-02-10  334.966931  192.817774  404.290261   334.825570   335.115586   \n",
            "375 2020-02-11  334.572253  215.016554  425.152157   334.401890   334.760765   \n",
            "376 2020-02-12  334.177575  224.422241  421.181782   333.977219   334.399369   \n",
            "377 2020-02-13  333.782897  235.843790  443.133354   333.548990   334.042833   \n",
            "378 2020-02-14  333.388220  230.236014  434.074719   333.112634   333.675587   \n",
            "\n",
            "     additive_terms  additive_terms_lower  additive_terms_upper     weekly  \\\n",
            "374      -32.908616            -32.908616            -32.908616 -32.908616   \n",
            "375      -15.242244            -15.242244            -15.242244 -15.242244   \n",
            "376      -12.626533            -12.626533            -12.626533 -12.626533   \n",
            "377        8.003389              8.003389              8.003389   8.003389   \n",
            "378       -0.350092             -0.350092             -0.350092  -0.350092   \n",
            "\n",
            "     weekly_lower  weekly_upper  multiplicative_terms  \\\n",
            "374    -32.908616    -32.908616                   0.0   \n",
            "375    -15.242244    -15.242244                   0.0   \n",
            "376    -12.626533    -12.626533                   0.0   \n",
            "377      8.003389      8.003389                   0.0   \n",
            "378     -0.350092     -0.350092                   0.0   \n",
            "\n",
            "     multiplicative_terms_lower  multiplicative_terms_upper        yhat  \n",
            "374                         0.0                         0.0  302.058315  \n",
            "375                         0.0                         0.0  319.330009  \n",
            "376                         0.0                         0.0  321.551043  \n",
            "377                         0.0                         0.0  341.786286  \n",
            "378                         0.0                         0.0  333.038128  \n"
          ]
        },
        {
          "output_type": "stream",
          "name": "stderr",
          "text": [
            "INFO:fbprophet:Disabling yearly seasonality. Run prophet with yearly_seasonality=True to override this.\n",
            "INFO:fbprophet:Disabling daily seasonality. Run prophet with daily_seasonality=True to override this.\n"
          ]
        },
        {
          "output_type": "stream",
          "name": "stdout",
          "text": [
            "            ds       trend  yhat_lower   yhat_upper  trend_lower  trend_upper  \\\n",
            "374 2020-02-10  338.159357 -271.534324  1200.268467   329.475102   347.002834   \n",
            "375 2020-02-11  321.661425 -421.254387  1064.865971   311.299757   332.321808   \n",
            "376 2020-02-12  305.163493 -308.503187  1170.326213   292.624829   317.843432   \n",
            "377 2020-02-13  288.665560 -416.302111  1139.516209   273.967770   303.440795   \n",
            "378 2020-02-14  272.167628 -361.099950  1121.547942   254.681396   289.476838   \n",
            "\n",
            "     additive_terms  additive_terms_lower  additive_terms_upper      weekly  \\\n",
            "374      111.109423            111.109423            111.109423  111.109423   \n",
            "375       -1.249221             -1.249221             -1.249221   -1.249221   \n",
            "376      170.709286            170.709286            170.709286  170.709286   \n",
            "377       84.515751             84.515751             84.515751   84.515751   \n",
            "378      138.217955            138.217955            138.217955  138.217955   \n",
            "\n",
            "     weekly_lower  weekly_upper  multiplicative_terms  \\\n",
            "374    111.109423    111.109423                   0.0   \n",
            "375     -1.249221     -1.249221                   0.0   \n",
            "376    170.709286    170.709286                   0.0   \n",
            "377     84.515751     84.515751                   0.0   \n",
            "378    138.217955    138.217955                   0.0   \n",
            "\n",
            "     multiplicative_terms_lower  multiplicative_terms_upper        yhat  \n",
            "374                         0.0                         0.0  449.268780  \n",
            "375                         0.0                         0.0  320.412204  \n",
            "376                         0.0                         0.0  475.872778  \n",
            "377                         0.0                         0.0  373.181311  \n",
            "378                         0.0                         0.0  410.385582  \n"
          ]
        },
        {
          "output_type": "stream",
          "name": "stderr",
          "text": [
            "INFO:fbprophet:Disabling yearly seasonality. Run prophet with yearly_seasonality=True to override this.\n",
            "INFO:fbprophet:Disabling daily seasonality. Run prophet with daily_seasonality=True to override this.\n"
          ]
        },
        {
          "output_type": "stream",
          "name": "stdout",
          "text": [
            "            ds       trend  yhat_lower   yhat_upper  trend_lower  trend_upper  \\\n",
            "374 2020-02-10  691.500911  527.670955  1026.901962   691.281106   691.725450   \n",
            "375 2020-02-11  692.471492  466.325965   985.866020   692.205973   692.755853   \n",
            "376 2020-02-12  693.442072  447.686669   953.125051   693.109588   693.776677   \n",
            "377 2020-02-13  694.412653  477.085700   976.397636   694.039832   694.811082   \n",
            "378 2020-02-14  695.383233  483.335007   973.969798   694.959538   695.827584   \n",
            "\n",
            "     additive_terms  additive_terms_lower  additive_terms_upper     weekly  \\\n",
            "374       87.260809             87.260809             87.260809  87.260809   \n",
            "375       28.191240             28.191240             28.191240  28.191240   \n",
            "376       16.630784             16.630784             16.630784  16.630784   \n",
            "377       24.499653             24.499653             24.499653  24.499653   \n",
            "378       48.394079             48.394079             48.394079  48.394079   \n",
            "\n",
            "     weekly_lower  weekly_upper  multiplicative_terms  \\\n",
            "374     87.260809     87.260809                   0.0   \n",
            "375     28.191240     28.191240                   0.0   \n",
            "376     16.630784     16.630784                   0.0   \n",
            "377     24.499653     24.499653                   0.0   \n",
            "378     48.394079     48.394079                   0.0   \n",
            "\n",
            "     multiplicative_terms_lower  multiplicative_terms_upper        yhat  \n",
            "374                         0.0                         0.0  778.761720  \n",
            "375                         0.0                         0.0  720.662731  \n",
            "376                         0.0                         0.0  710.072856  \n",
            "377                         0.0                         0.0  718.912306  \n",
            "378                         0.0                         0.0  743.777312  \n"
          ]
        },
        {
          "output_type": "stream",
          "name": "stderr",
          "text": [
            "INFO:fbprophet:Disabling yearly seasonality. Run prophet with yearly_seasonality=True to override this.\n",
            "INFO:fbprophet:Disabling daily seasonality. Run prophet with daily_seasonality=True to override this.\n"
          ]
        },
        {
          "output_type": "stream",
          "name": "stdout",
          "text": [
            "            ds       trend  yhat_lower  yhat_upper  trend_lower  trend_upper  \\\n",
            "276 2020-02-10  415.007822  159.590413  621.728645   414.999209   415.016528   \n",
            "277 2020-02-11  415.982746  231.605674  654.210120   415.972516   415.992725   \n",
            "278 2020-02-12  416.957670  185.488876  628.148911   416.945543   416.969381   \n",
            "279 2020-02-13  417.932595  186.270256  641.267383   417.917934   417.945899   \n",
            "280 2020-02-14  418.907519  170.848128  631.782559   418.890658   418.923412   \n",
            "\n",
            "     additive_terms  additive_terms_lower  additive_terms_upper     weekly  \\\n",
            "276      -34.223419            -34.223419            -34.223419 -34.223419   \n",
            "277       16.779828             16.779828             16.779828  16.779828   \n",
            "278        0.359048              0.359048              0.359048   0.359048   \n",
            "279       -4.957140             -4.957140             -4.957140  -4.957140   \n",
            "280       -7.469619             -7.469619             -7.469619  -7.469619   \n",
            "\n",
            "     weekly_lower  weekly_upper  multiplicative_terms  \\\n",
            "276    -34.223419    -34.223419                   0.0   \n",
            "277     16.779828     16.779828                   0.0   \n",
            "278      0.359048      0.359048                   0.0   \n",
            "279     -4.957140     -4.957140                   0.0   \n",
            "280     -7.469619     -7.469619                   0.0   \n",
            "\n",
            "     multiplicative_terms_lower  multiplicative_terms_upper        yhat  \n",
            "276                         0.0                         0.0  380.784403  \n",
            "277                         0.0                         0.0  432.762575  \n",
            "278                         0.0                         0.0  417.316719  \n",
            "279                         0.0                         0.0  412.975455  \n",
            "280                         0.0                         0.0  411.437900  \n"
          ]
        },
        {
          "output_type": "stream",
          "name": "stderr",
          "text": [
            "INFO:fbprophet:Disabling yearly seasonality. Run prophet with yearly_seasonality=True to override this.\n",
            "INFO:fbprophet:Disabling daily seasonality. Run prophet with daily_seasonality=True to override this.\n"
          ]
        },
        {
          "output_type": "stream",
          "name": "stdout",
          "text": [
            "            ds       trend  yhat_lower  yhat_upper  trend_lower  trend_upper  \\\n",
            "266 2020-02-10  133.094496   25.733973  200.937990   133.094464   133.094538   \n",
            "267 2020-02-11  133.372268   22.347451  201.688398   133.372230   133.372317   \n",
            "268 2020-02-12  133.650040   35.050870  211.292874   133.649994   133.650098   \n",
            "269 2020-02-13  133.927813   37.514865  219.983206   133.927759   133.927878   \n",
            "270 2020-02-14  134.205585   34.641730  218.034160   134.205524   134.205660   \n",
            "\n",
            "     additive_terms  additive_terms_lower  additive_terms_upper     weekly  \\\n",
            "266      -18.877385            -18.877385            -18.877385 -18.877385   \n",
            "267      -21.946135            -21.946135            -21.946135 -21.946135   \n",
            "268       -9.640441             -9.640441             -9.640441  -9.640441   \n",
            "269        1.200605              1.200605              1.200605   1.200605   \n",
            "270       -6.124375             -6.124375             -6.124375  -6.124375   \n",
            "\n",
            "     weekly_lower  weekly_upper  multiplicative_terms  \\\n",
            "266    -18.877385    -18.877385                   0.0   \n",
            "267    -21.946135    -21.946135                   0.0   \n",
            "268     -9.640441     -9.640441                   0.0   \n",
            "269      1.200605      1.200605                   0.0   \n",
            "270     -6.124375     -6.124375                   0.0   \n",
            "\n",
            "     multiplicative_terms_lower  multiplicative_terms_upper        yhat  \n",
            "266                         0.0                         0.0  114.217110  \n",
            "267                         0.0                         0.0  111.426133  \n",
            "268                         0.0                         0.0  124.009599  \n",
            "269                         0.0                         0.0  135.128418  \n",
            "270                         0.0                         0.0  128.081210  \n"
          ]
        },
        {
          "output_type": "stream",
          "name": "stderr",
          "text": [
            "INFO:fbprophet:Disabling yearly seasonality. Run prophet with yearly_seasonality=True to override this.\n",
            "INFO:fbprophet:Disabling daily seasonality. Run prophet with daily_seasonality=True to override this.\n"
          ]
        },
        {
          "output_type": "stream",
          "name": "stdout",
          "text": [
            "            ds       trend  yhat_lower  yhat_upper  trend_lower  trend_upper  \\\n",
            "374 2020-02-10  228.105551  151.529752  331.910521   228.045031   228.184867   \n",
            "375 2020-02-11  228.249578  155.656546  336.642983   228.175993   228.349887   \n",
            "376 2020-02-12  228.393604  127.575445  301.668347   228.306837   228.516145   \n",
            "377 2020-02-13  228.537631  151.204482  330.805473   228.434306   228.677977   \n",
            "378 2020-02-14  228.681658  154.637797  338.348816   228.559149   228.839721   \n",
            "\n",
            "     additive_terms  additive_terms_lower  additive_terms_upper     weekly  \\\n",
            "374       11.509319             11.509319             11.509319  11.509319   \n",
            "375       21.166685             21.166685             21.166685  21.166685   \n",
            "376       -9.557158             -9.557158             -9.557158  -9.557158   \n",
            "377       12.580079             12.580079             12.580079  12.580079   \n",
            "378       17.559000             17.559000             17.559000  17.559000   \n",
            "\n",
            "     weekly_lower  weekly_upper  multiplicative_terms  \\\n",
            "374     11.509319     11.509319                   0.0   \n",
            "375     21.166685     21.166685                   0.0   \n",
            "376     -9.557158     -9.557158                   0.0   \n",
            "377     12.580079     12.580079                   0.0   \n",
            "378     17.559000     17.559000                   0.0   \n",
            "\n",
            "     multiplicative_terms_lower  multiplicative_terms_upper        yhat  \n",
            "374                         0.0                         0.0  239.614870  \n",
            "375                         0.0                         0.0  249.416263  \n",
            "376                         0.0                         0.0  218.836446  \n",
            "377                         0.0                         0.0  241.117710  \n",
            "378                         0.0                         0.0  246.240658  \n"
          ]
        },
        {
          "output_type": "stream",
          "name": "stderr",
          "text": [
            "INFO:fbprophet:Disabling yearly seasonality. Run prophet with yearly_seasonality=True to override this.\n",
            "INFO:fbprophet:Disabling daily seasonality. Run prophet with daily_seasonality=True to override this.\n"
          ]
        },
        {
          "output_type": "stream",
          "name": "stdout",
          "text": [
            "            ds     trend  yhat_lower  yhat_upper  trend_lower  trend_upper  \\\n",
            "351 2020-02-10 -0.075486   -5.605842    4.632047    -0.080499    -0.070604   \n",
            "352 2020-02-11 -0.096372   -4.219823    6.049176    -0.102416    -0.090282   \n",
            "353 2020-02-12 -0.117258   -3.481067    6.161522    -0.124233    -0.109991   \n",
            "354 2020-02-13 -0.138145   -4.374032    5.141475    -0.146322    -0.129565   \n",
            "355 2020-02-14 -0.159031   -4.885259    5.600680    -0.169038    -0.149156   \n",
            "\n",
            "     additive_terms  additive_terms_lower  additive_terms_upper    weekly  \\\n",
            "351       -0.256131             -0.256131             -0.256131 -0.256131   \n",
            "352        1.085628              1.085628              1.085628  1.085628   \n",
            "353        1.927566              1.927566              1.927566  1.927566   \n",
            "354        0.384860              0.384860              0.384860  0.384860   \n",
            "355        0.658123              0.658123              0.658123  0.658123   \n",
            "\n",
            "     weekly_lower  weekly_upper  multiplicative_terms  \\\n",
            "351     -0.256131     -0.256131                   0.0   \n",
            "352      1.085628      1.085628                   0.0   \n",
            "353      1.927566      1.927566                   0.0   \n",
            "354      0.384860      0.384860                   0.0   \n",
            "355      0.658123      0.658123                   0.0   \n",
            "\n",
            "     multiplicative_terms_lower  multiplicative_terms_upper      yhat  \n",
            "351                         0.0                         0.0 -0.331617  \n",
            "352                         0.0                         0.0  0.989256  \n",
            "353                         0.0                         0.0  1.810308  \n",
            "354                         0.0                         0.0  0.246715  \n",
            "355                         0.0                         0.0  0.499092  \n"
          ]
        },
        {
          "output_type": "stream",
          "name": "stderr",
          "text": [
            "INFO:fbprophet:Disabling yearly seasonality. Run prophet with yearly_seasonality=True to override this.\n",
            "INFO:fbprophet:Disabling daily seasonality. Run prophet with daily_seasonality=True to override this.\n"
          ]
        },
        {
          "output_type": "stream",
          "name": "stdout",
          "text": [
            "            ds       trend  yhat_lower  yhat_upper  trend_lower  trend_upper  \\\n",
            "374 2020-02-10  295.018079   -8.799155  452.770295   294.947573   295.069882   \n",
            "375 2020-02-11  295.090171  103.723758  539.513655   295.004570   295.151575   \n",
            "376 2020-02-12  295.162263   64.220394  538.698262   295.064213   295.234048   \n",
            "377 2020-02-13  295.234354  100.475507  558.717722   295.119771   295.322669   \n",
            "378 2020-02-14  295.306446   20.167263  445.677643   295.179970   295.410821   \n",
            "\n",
            "     additive_terms  additive_terms_lower  additive_terms_upper     weekly  \\\n",
            "374      -80.322429            -80.322429            -80.322429 -80.322429   \n",
            "375       26.357641             26.357641             26.357641  26.357641   \n",
            "376        3.668906              3.668906              3.668906   3.668906   \n",
            "377       44.117580             44.117580             44.117580  44.117580   \n",
            "378      -57.005321            -57.005321            -57.005321 -57.005321   \n",
            "\n",
            "     weekly_lower  weekly_upper  multiplicative_terms  \\\n",
            "374    -80.322429    -80.322429                   0.0   \n",
            "375     26.357641     26.357641                   0.0   \n",
            "376      3.668906      3.668906                   0.0   \n",
            "377     44.117580     44.117580                   0.0   \n",
            "378    -57.005321    -57.005321                   0.0   \n",
            "\n",
            "     multiplicative_terms_lower  multiplicative_terms_upper        yhat  \n",
            "374                         0.0                         0.0  214.695650  \n",
            "375                         0.0                         0.0  321.447812  \n",
            "376                         0.0                         0.0  298.831169  \n",
            "377                         0.0                         0.0  339.351934  \n",
            "378                         0.0                         0.0  238.301126  \n"
          ]
        },
        {
          "output_type": "stream",
          "name": "stderr",
          "text": [
            "INFO:fbprophet:Disabling yearly seasonality. Run prophet with yearly_seasonality=True to override this.\n",
            "INFO:fbprophet:Disabling daily seasonality. Run prophet with daily_seasonality=True to override this.\n"
          ]
        },
        {
          "output_type": "stream",
          "name": "stdout",
          "text": [
            "            ds       trend  yhat_lower  yhat_upper  trend_lower  trend_upper  \\\n",
            "374 2020-02-10  240.416904   49.196309  338.567079   240.397178   240.442455   \n",
            "375 2020-02-11  240.574210   64.777663  369.732342   240.548425   240.606954   \n",
            "376 2020-02-12  240.731516  118.701963  392.151939   240.699794   240.768702   \n",
            "377 2020-02-13  240.888822   65.498579  337.762319   240.850741   240.931033   \n",
            "378 2020-02-14  241.046128  119.928588  409.158465   241.002357   241.095892   \n",
            "\n",
            "     additive_terms  additive_terms_lower  additive_terms_upper     weekly  \\\n",
            "374      -42.129987            -42.129987            -42.129987 -42.129987   \n",
            "375      -30.438623            -30.438623            -30.438623 -30.438623   \n",
            "376        9.363313              9.363313              9.363313   9.363313   \n",
            "377      -35.726430            -35.726430            -35.726430 -35.726430   \n",
            "378       19.064052             19.064052             19.064052  19.064052   \n",
            "\n",
            "     weekly_lower  weekly_upper  multiplicative_terms  \\\n",
            "374    -42.129987    -42.129987                   0.0   \n",
            "375    -30.438623    -30.438623                   0.0   \n",
            "376      9.363313      9.363313                   0.0   \n",
            "377    -35.726430    -35.726430                   0.0   \n",
            "378     19.064052     19.064052                   0.0   \n",
            "\n",
            "     multiplicative_terms_lower  multiplicative_terms_upper        yhat  \n",
            "374                         0.0                         0.0  198.286917  \n",
            "375                         0.0                         0.0  210.135587  \n",
            "376                         0.0                         0.0  250.094829  \n",
            "377                         0.0                         0.0  205.162392  \n",
            "378                         0.0                         0.0  260.110180  \n"
          ]
        },
        {
          "output_type": "stream",
          "name": "stderr",
          "text": [
            "INFO:fbprophet:Disabling yearly seasonality. Run prophet with yearly_seasonality=True to override this.\n",
            "INFO:fbprophet:Disabling daily seasonality. Run prophet with daily_seasonality=True to override this.\n"
          ]
        },
        {
          "output_type": "stream",
          "name": "stdout",
          "text": [
            "            ds       trend  yhat_lower  yhat_upper  trend_lower  trend_upper  \\\n",
            "374 2020-02-10  430.239231  135.923529  665.208913   428.806854   431.809827   \n",
            "375 2020-02-11  426.509474  121.390416  671.024693   424.737207   428.483850   \n",
            "376 2020-02-12  422.779716  196.747981  724.771448   420.656024   425.053782   \n",
            "377 2020-02-13  419.049958  155.781901  689.265143   416.615741   421.662289   \n",
            "378 2020-02-14  415.320200  106.182148  662.540556   412.472305   418.283233   \n",
            "\n",
            "     additive_terms  additive_terms_lower  additive_terms_upper     weekly  \\\n",
            "374      -37.467506            -37.467506            -37.467506 -37.467506   \n",
            "375      -20.034637            -20.034637            -20.034637 -20.034637   \n",
            "376       40.669260             40.669260             40.669260  40.669260   \n",
            "377        5.582961              5.582961              5.582961   5.582961   \n",
            "378      -22.897300            -22.897300            -22.897300 -22.897300   \n",
            "\n",
            "     weekly_lower  weekly_upper  multiplicative_terms  \\\n",
            "374    -37.467506    -37.467506                   0.0   \n",
            "375    -20.034637    -20.034637                   0.0   \n",
            "376     40.669260     40.669260                   0.0   \n",
            "377      5.582961      5.582961                   0.0   \n",
            "378    -22.897300    -22.897300                   0.0   \n",
            "\n",
            "     multiplicative_terms_lower  multiplicative_terms_upper        yhat  \n",
            "374                         0.0                         0.0  392.771726  \n",
            "375                         0.0                         0.0  406.474836  \n",
            "376                         0.0                         0.0  463.448976  \n",
            "377                         0.0                         0.0  424.632919  \n",
            "378                         0.0                         0.0  392.422899  \n"
          ]
        },
        {
          "output_type": "stream",
          "name": "stderr",
          "text": [
            "INFO:fbprophet:Disabling yearly seasonality. Run prophet with yearly_seasonality=True to override this.\n",
            "INFO:fbprophet:Disabling daily seasonality. Run prophet with daily_seasonality=True to override this.\n"
          ]
        },
        {
          "output_type": "stream",
          "name": "stdout",
          "text": [
            "            ds       trend  yhat_lower  yhat_upper  trend_lower  trend_upper  \\\n",
            "374 2020-02-10  184.373704  112.960358  230.225806   184.231366   184.514752   \n",
            "375 2020-02-11  185.163036  107.503227  231.328834   184.985945   185.330917   \n",
            "376 2020-02-12  185.952368  120.793113  234.004121   185.738323   186.139871   \n",
            "377 2020-02-13  186.741700  134.490844  251.251610   186.490631   186.944798   \n",
            "378 2020-02-14  187.531032  123.888974  244.143442   187.240454   187.760332   \n",
            "\n",
            "     additive_terms  additive_terms_lower  additive_terms_upper     weekly  \\\n",
            "374      -13.653497            -13.653497            -13.653497 -13.653497   \n",
            "375      -16.385103            -16.385103            -16.385103 -16.385103   \n",
            "376       -6.764312             -6.764312             -6.764312  -6.764312   \n",
            "377        7.345143              7.345143              7.345143   7.345143   \n",
            "378       -2.371932             -2.371932             -2.371932  -2.371932   \n",
            "\n",
            "     weekly_lower  weekly_upper  multiplicative_terms  \\\n",
            "374    -13.653497    -13.653497                   0.0   \n",
            "375    -16.385103    -16.385103                   0.0   \n",
            "376     -6.764312     -6.764312                   0.0   \n",
            "377      7.345143      7.345143                   0.0   \n",
            "378     -2.371932     -2.371932                   0.0   \n",
            "\n",
            "     multiplicative_terms_lower  multiplicative_terms_upper        yhat  \n",
            "374                         0.0                         0.0  170.720207  \n",
            "375                         0.0                         0.0  168.777932  \n",
            "376                         0.0                         0.0  179.188056  \n",
            "377                         0.0                         0.0  194.086843  \n",
            "378                         0.0                         0.0  185.159100  \n"
          ]
        },
        {
          "output_type": "stream",
          "name": "stderr",
          "text": [
            "INFO:fbprophet:Disabling yearly seasonality. Run prophet with yearly_seasonality=True to override this.\n",
            "INFO:fbprophet:Disabling daily seasonality. Run prophet with daily_seasonality=True to override this.\n"
          ]
        },
        {
          "output_type": "stream",
          "name": "stdout",
          "text": [
            "            ds       trend  yhat_lower  yhat_upper  trend_lower  trend_upper  \\\n",
            "374 2020-02-10  150.010519   93.007861  231.715887   149.976034   150.053096   \n",
            "375 2020-02-11  150.313417  101.147931  236.598368   150.270130   150.367416   \n",
            "376 2020-02-12  150.616315   71.360734  214.308977   150.563101   150.681823   \n",
            "377 2020-02-13  150.919213   92.612118  230.123466   150.857053   150.994077   \n",
            "378 2020-02-14  151.222110   82.661187  221.929095   151.149177   151.313007   \n",
            "\n",
            "     additive_terms  additive_terms_lower  additive_terms_upper     weekly  \\\n",
            "374       10.567841             10.567841             10.567841  10.567841   \n",
            "375       12.920654             12.920654             12.920654  12.920654   \n",
            "376       -9.016463             -9.016463             -9.016463  -9.016463   \n",
            "377        8.798193              8.798193              8.798193   8.798193   \n",
            "378        2.345301              2.345301              2.345301   2.345301   \n",
            "\n",
            "     weekly_lower  weekly_upper  multiplicative_terms  \\\n",
            "374     10.567841     10.567841                   0.0   \n",
            "375     12.920654     12.920654                   0.0   \n",
            "376     -9.016463     -9.016463                   0.0   \n",
            "377      8.798193      8.798193                   0.0   \n",
            "378      2.345301      2.345301                   0.0   \n",
            "\n",
            "     multiplicative_terms_lower  multiplicative_terms_upper        yhat  \n",
            "374                         0.0                         0.0  160.578360  \n",
            "375                         0.0                         0.0  163.234071  \n",
            "376                         0.0                         0.0  141.599852  \n",
            "377                         0.0                         0.0  159.717405  \n",
            "378                         0.0                         0.0  153.567412  \n"
          ]
        },
        {
          "output_type": "stream",
          "name": "stderr",
          "text": [
            "INFO:fbprophet:Disabling yearly seasonality. Run prophet with yearly_seasonality=True to override this.\n",
            "INFO:fbprophet:Disabling daily seasonality. Run prophet with daily_seasonality=True to override this.\n"
          ]
        },
        {
          "output_type": "stream",
          "name": "stdout",
          "text": [
            "            ds       trend  yhat_lower  yhat_upper  trend_lower  trend_upper  \\\n",
            "374 2020-02-10  336.240811  -51.052716  671.592669   336.110308   336.388983   \n",
            "375 2020-02-11  336.644018  -66.731316  652.458093   336.475111   336.828164   \n",
            "376 2020-02-12  337.047225  -56.573106  674.908723   336.850162   337.269295   \n",
            "377 2020-02-13  337.450432  -43.392762  711.540272   337.224233   337.701676   \n",
            "378 2020-02-14  337.853639  -37.986695  722.412411   337.581353   338.151579   \n",
            "\n",
            "     additive_terms  additive_terms_lower  additive_terms_upper     weekly  \\\n",
            "374      -34.797211            -34.797211            -34.797211 -34.797211   \n",
            "375      -28.710428            -28.710428            -28.710428 -28.710428   \n",
            "376      -16.527124            -16.527124            -16.527124 -16.527124   \n",
            "377       -1.797249             -1.797249             -1.797249  -1.797249   \n",
            "378       20.938619             20.938619             20.938619  20.938619   \n",
            "\n",
            "     weekly_lower  weekly_upper  multiplicative_terms  \\\n",
            "374    -34.797211    -34.797211                   0.0   \n",
            "375    -28.710428    -28.710428                   0.0   \n",
            "376    -16.527124    -16.527124                   0.0   \n",
            "377     -1.797249     -1.797249                   0.0   \n",
            "378     20.938619     20.938619                   0.0   \n",
            "\n",
            "     multiplicative_terms_lower  multiplicative_terms_upper        yhat  \n",
            "374                         0.0                         0.0  301.443600  \n",
            "375                         0.0                         0.0  307.933590  \n",
            "376                         0.0                         0.0  320.520101  \n",
            "377                         0.0                         0.0  335.653184  \n",
            "378                         0.0                         0.0  358.792259  \n"
          ]
        },
        {
          "output_type": "stream",
          "name": "stderr",
          "text": [
            "INFO:fbprophet:Disabling yearly seasonality. Run prophet with yearly_seasonality=True to override this.\n",
            "INFO:fbprophet:Disabling daily seasonality. Run prophet with daily_seasonality=True to override this.\n"
          ]
        },
        {
          "output_type": "stream",
          "name": "stdout",
          "text": [
            "            ds       trend  yhat_lower  yhat_upper  trend_lower  trend_upper  \\\n",
            "280 2020-02-10   99.709348   15.405845  170.693523    99.705458    99.713968   \n",
            "281 2020-02-11   99.865874   36.079016  197.675562    99.860978    99.871357   \n",
            "282 2020-02-12  100.022400   27.275213  184.486019   100.016794   100.028743   \n",
            "283 2020-02-13  100.178927    9.562291  173.980886   100.172151   100.186380   \n",
            "284 2020-02-14  100.335453   22.346613  181.034750   100.327779   100.344125   \n",
            "\n",
            "     additive_terms  additive_terms_lower  additive_terms_upper     weekly  \\\n",
            "280       -9.688569             -9.688569             -9.688569  -9.688569   \n",
            "281       13.228591             13.228591             13.228591  13.228591   \n",
            "282        6.623107              6.623107              6.623107   6.623107   \n",
            "283       -8.110722             -8.110722             -8.110722  -8.110722   \n",
            "284       -0.115243             -0.115243             -0.115243  -0.115243   \n",
            "\n",
            "     weekly_lower  weekly_upper  multiplicative_terms  \\\n",
            "280     -9.688569     -9.688569                   0.0   \n",
            "281     13.228591     13.228591                   0.0   \n",
            "282      6.623107      6.623107                   0.0   \n",
            "283     -8.110722     -8.110722                   0.0   \n",
            "284     -0.115243     -0.115243                   0.0   \n",
            "\n",
            "     multiplicative_terms_lower  multiplicative_terms_upper        yhat  \n",
            "280                         0.0                         0.0   90.020779  \n",
            "281                         0.0                         0.0  113.094465  \n",
            "282                         0.0                         0.0  106.645507  \n",
            "283                         0.0                         0.0   92.068205  \n",
            "284                         0.0                         0.0  100.220210  \n"
          ]
        }
      ]
    },
    {
      "cell_type": "code",
      "source": [
        "final = pd.DataFrame()\n",
        "for g in grouped.groups:\n",
        "    group = grouped.get_group(g)\n",
        "    m = Prophet()\n",
        "    m.fit(group)\n",
        "    future = m.make_future_dataframe(periods=14)\n",
        "    forecast = m.predict(future)    \n",
        "    forecast = forecast.rename(columns={'yhat': g})\n",
        "    final = pd.merge(final, forecast.set_index('ds'), how='outer', left_index=True, right_index=True)\n",
        "final = final[[ g for g in grouped.groups.keys()]]\n",
        "final"
      ],
      "metadata": {
        "id": "_VdpQyf2Cxpd"
      },
      "execution_count": null,
      "outputs": []
    },
    {
      "cell_type": "code",
      "source": [
        "predicciones=final.transpose()"
      ],
      "metadata": {
        "id": "J8h7FfVVm1lH"
      },
      "execution_count": null,
      "outputs": []
    },
    {
      "cell_type": "code",
      "source": [
        "#predicciones_finales['primera_semana'] = predicciones_finales.iloc[:,0:7].sum(axis=1)\n",
        "#predicciones_finales['segunda_semana'] = predicciones_finales.iloc[:,8:13].sum(axis=1)"
      ],
      "metadata": {
        "id": "gvlyljEunG6r"
      },
      "execution_count": 20,
      "outputs": []
    },
    {
      "cell_type": "code",
      "source": [
        "predicciones"
      ],
      "metadata": {
        "id": "05dxnygSrjJN"
      },
      "execution_count": null,
      "outputs": []
    },
    {
      "cell_type": "code",
      "source": [
        "predicciones = predicciones.fillna(0.0)\n",
        "predicciones"
      ],
      "metadata": {
        "id": "nnna_6M8rvJY"
      },
      "execution_count": null,
      "outputs": []
    },
    {
      "cell_type": "code",
      "source": [
        "#predicciones_finales_total = predicciones_finales.append([np.nan, np.nan, np.nan, np.nan, np.nan, np.nan, np.nan, np.nan, np.nan, np.nan, np.nan, np.nan, np.nan, np.nan, np.nan, np.nan, np.nan, np.nan, np.nan, np.nan, np.nan, np.nan, np.nan, np.nan], ignore_index=True)\n",
        "#predicciones_finales_total"
      ],
      "metadata": {
        "id": "ODJZACWVskUi"
      },
      "execution_count": 53,
      "outputs": []
    },
    {
      "cell_type": "code",
      "source": [
        "#predicciones.to_csv(r'/content/drive/MyDrive/Datathon_2022/predicciones.csv', index = False)"
      ],
      "metadata": {
        "id": "OOIU_TmtDXyN"
      },
      "execution_count": 54,
      "outputs": []
    },
    {
      "cell_type": "markdown",
      "source": [
        "Por medio de este código hemos sido capaces de extraer la predicción para cada uno de los contadores para los siguientes 14 días.\n",
        "Un total de 24 contadores (2407,2521,2562,2698 y los que seguían al 2726) nos han dado problemas para ejecutarlos con esta función, por lo que se han analizado individualemnte y con posterioridad se han incluido a los resultados.\n",
        "\n",
        "Tras obtener esta predicción para los siguientes 14 días hemos sido capaces de hacer la agregacion para tener la predicción de la siguiente semana y de la siguiente."
      ],
      "metadata": {
        "id": "x1VYKZmsNkGN"
      }
    },
    {
      "cell_type": "markdown",
      "source": [
        "Como explicación a este punto, primeramente para llevar a cabo el entreanmiento y la posterior aplicación del modelo ARIMA.\n",
        "Sin embargo, a la hora de aplicarlo para cada uno de contadores. Es por eso por lo que pasamos a emplear el modelo de Profet.\n",
        "Sin embargo, también nos han surgido problemas computacionales en lo que respecta a la RAM, por lo que ha sido un proceso costoso que,a nuestro parecer ha empeorado el rendimiento del modelo."
      ],
      "metadata": {
        "id": "bMtAGc6EMkza"
      }
    },
    {
      "cell_type": "markdown",
      "source": [
        "Nuestro principal objetivo como mejora pasa por correr correctamente y de una forma mas exhaustiva los dos modelos entrenados, tanto el prophet como el ARIMA, mejorando considerablemente las prediccciones."
      ],
      "metadata": {
        "id": "tDqoWWY3NU78"
      }
    }
  ]
}