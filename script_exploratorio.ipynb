{
  "nbformat": 4,
  "nbformat_minor": 0,
  "metadata": {
    "colab": {
      "name": "script_exploratorio.ipynb",
      "provenance": [],
      "collapsed_sections": [
        "a_F3HUJLBCwQ",
        "95Nk51q6Nks0",
        "cGWvxPa-4rhP",
        "KfFYuUWp_0C9"
      ]
    },
    "kernelspec": {
      "name": "python3",
      "display_name": "Python 3"
    },
    "language_info": {
      "name": "python"
    }
  },
  "cells": [
    {
      "cell_type": "markdown",
      "source": [
        "#**UNIVERSITYHACK 2022 DATATHON**:    ***Parte exploratoria:***"
      ],
      "metadata": {
        "id": "BrGiIqXlmQ7c"
      }
    },
    {
      "cell_type": "markdown",
      "source": [
        "## **INTRODUCCIÓN**"
      ],
      "metadata": {
        "id": "V3VfWDkRmqCI"
      }
    },
    {
      "cell_type": "markdown",
      "source": [
        "En este Datathon se nos ha planteado el reto de la correcta estimación de la demanda de agua potable. \n",
        "Nuestro principal objetivo ha sido identificar, aislar y emplear las variaciones temporales, así como otros factores económicos y naturales para lograr de esta forma la mejor predicción. Hemos partido de un amplio dataset con un histórico de consumos de la zona geográfica del litoral valenciano.\n",
        "\n"
      ],
      "metadata": {
        "id": "LsHHiRRTmxiL"
      }
    },
    {
      "cell_type": "markdown",
      "source": [
        "Resumen del análisis preliminar con código y explicaciones"
      ],
      "metadata": {
        "id": "wcBImAeVrn_2"
      }
    },
    {
      "cell_type": "markdown",
      "source": [
        "# 1. Importación de librerías y del dataset"
      ],
      "metadata": {
        "id": "Fdy8WU0_4Vi9"
      }
    },
    {
      "cell_type": "code",
      "source": [
        "import pandas as pd \n",
        "import numpy as np \n",
        "\n",
        "import seaborn as sns \n",
        "import matplotlib.pyplot as plt \n",
        "\n",
        "from sklearn.metrics import mean_absolute_error, mean_squared_error\n",
        "import math\n",
        "\n",
        "from array import array\n",
        "from statsmodels.tsa.stattools import adfuller\n",
        "\n",
        "import warnings \n",
        "warnings.filterwarnings('ignore')"
      ],
      "metadata": {
        "id": "qxfoKgurVFcw",
        "colab": {
          "base_uri": "https://localhost:8080/"
        },
        "outputId": "5b608755-6dd1-4f6a-f0da-4f7e4436a9c6"
      },
      "execution_count": null,
      "outputs": [
        {
          "output_type": "stream",
          "name": "stderr",
          "text": [
            "/usr/local/lib/python3.7/dist-packages/statsmodels/tools/_testing.py:19: FutureWarning: pandas.util.testing is deprecated. Use the functions in the public API at pandas.testing instead.\n",
            "  import pandas.util.testing as tm\n"
          ]
        }
      ]
    },
    {
      "cell_type": "code",
      "source": [
        "from google.colab import drive\n",
        "drive.mount('/content/drive')"
      ],
      "metadata": {
        "colab": {
          "base_uri": "https://localhost:8080/"
        },
        "id": "l00KWn241Z1t",
        "outputId": "0596bbff-11aa-4b09-a4e6-beb8a7e566d6"
      },
      "execution_count": null,
      "outputs": [
        {
          "output_type": "stream",
          "name": "stdout",
          "text": [
            "Mounted at /content/drive\n"
          ]
        }
      ]
    },
    {
      "cell_type": "code",
      "source": [
        "df = pd.read_csv(\"/content/drive/MyDrive/Datathon_2022/Modelar_UH2022.txt\", sep='|')"
      ],
      "metadata": {
        "id": "_2JGGwc7VHpY"
      },
      "execution_count": null,
      "outputs": []
    },
    {
      "cell_type": "markdown",
      "source": [
        "# 2. Análisis exploratorio "
      ],
      "metadata": {
        "id": "qrLRVTr-4c_8"
      }
    },
    {
      "cell_type": "markdown",
      "source": [
        "Nuestro dataset contiene la información sobre el consumo de agua de 2.747 contadores, ubicados en el litoral de la  Comunidad Valenciana, pudiendo comprender viviendas, locales comerciales o industrias."
      ],
      "metadata": {
        "id": "Ei-c-bBhpPgO"
      }
    },
    {
      "cell_type": "code",
      "source": [
        "df.head(8500) "
      ],
      "metadata": {
        "id": "ajhAldhyVKAR",
        "colab": {
          "base_uri": "https://localhost:8080/",
          "height": 171
        },
        "outputId": "866b1e2a-3ebb-468e-d45c-2ea57821be18"
      },
      "execution_count": null,
      "outputs": [
        {
          "output_type": "error",
          "ename": "NameError",
          "evalue": "ignored",
          "traceback": [
            "\u001b[0;31m---------------------------------------------------------------------------\u001b[0m",
            "\u001b[0;31mNameError\u001b[0m                                 Traceback (most recent call last)",
            "\u001b[0;32m<ipython-input-1-a4d68e890502>\u001b[0m in \u001b[0;36m<module>\u001b[0;34m()\u001b[0m\n\u001b[0;32m----> 1\u001b[0;31m \u001b[0mdf\u001b[0m\u001b[0;34m.\u001b[0m\u001b[0mhead\u001b[0m\u001b[0;34m(\u001b[0m\u001b[0;36m8500\u001b[0m\u001b[0;34m)\u001b[0m\u001b[0;34m\u001b[0m\u001b[0;34m\u001b[0m\u001b[0m\n\u001b[0m",
            "\u001b[0;31mNameError\u001b[0m: name 'df' is not defined"
          ]
        }
      ]
    },
    {
      "cell_type": "markdown",
      "source": [
        "Las variables son:\n",
        "\n",
        "\n",
        "      • ID: Identificador del Contador que registra la medida de lectura. \n",
        "\n",
        "      • SAMPLETIME: Fecha y hora del consumo en formato UTC.\n",
        "       Momento en el que se  produce el mensaje o el contador ha emitido el registro. \n",
        "\n",
        "      • READINGINTEGER: Medida registrada por el contador en litros. Parte entera. \n",
        "      \n",
        "      • READINGTHOUSANDTH: Medida registrada por el contador en litros. Parte decimal. \n",
        "\n",
        "      • DELTAINTEGER: Consumo calculado en litros a partir de la medida registrada por el  contador. Parte entera. \n",
        "\n",
        "      • DELTATHOUSANDTH: Consumo calculado en litros a partir de la medida registrada por el  contador. Parte decimal."
      ],
      "metadata": {
        "id": "wcHgQ12MpZh0"
      }
    },
    {
      "cell_type": "code",
      "source": [
        "print(\"Number of rows is = \", df.shape[0], \" \\nNumber of columns is = \" , df.shape[1])   "
      ],
      "metadata": {
        "colab": {
          "base_uri": "https://localhost:8080/"
        },
        "id": "t8Zmw91G4ejw",
        "outputId": "c5de1587-3d3e-4cc4-c814-0e1acc37df97"
      },
      "execution_count": null,
      "outputs": [
        {
          "output_type": "stream",
          "name": "stdout",
          "text": [
            "Number of rows is =  21404828  \n",
            "Number of columns is =  6\n"
          ]
        }
      ]
    },
    {
      "cell_type": "code",
      "source": [
        " df['ID'].unique() "
      ],
      "metadata": {
        "colab": {
          "base_uri": "https://localhost:8080/"
        },
        "id": "TlDIUqiizM3l",
        "outputId": "bbbd72b5-fbd1-4076-c088-44ca6755c90f"
      },
      "execution_count": null,
      "outputs": [
        {
          "output_type": "execute_result",
          "data": {
            "text/plain": [
              "array([   0,    1,    2, ..., 2748, 2749, 2756])"
            ]
          },
          "metadata": {},
          "execution_count": 6
        }
      ]
    },
    {
      "cell_type": "code",
      "source": [
        "df['SAMPLETIME'] = pd.to_datetime(df['SAMPLETIME'], errors='coerce')  "
      ],
      "metadata": {
        "id": "Qptksa3jXVBc"
      },
      "execution_count": null,
      "outputs": []
    },
    {
      "cell_type": "markdown",
      "source": [
        "### 2.1 Ver valores de NA "
      ],
      "metadata": {
        "id": "-nzV3H6WZ0o_"
      }
    },
    {
      "cell_type": "code",
      "source": [
        "pd.Series(df.isnull().sum()).rename_axis('features/target').to_frame('Missing Value Count')"
      ],
      "metadata": {
        "colab": {
          "base_uri": "https://localhost:8080/",
          "height": 268
        },
        "id": "ki5xQgGTZydm",
        "outputId": "b85f23ca-f91b-4744-c9f7-5330058a0df9"
      },
      "execution_count": null,
      "outputs": [
        {
          "output_type": "execute_result",
          "data": {
            "text/plain": [
              "                   Missing Value Count\n",
              "features/target                       \n",
              "ID                                   0\n",
              "SAMPLETIME                           0\n",
              "READINGINTEGER                       0\n",
              "READINGTHOUSANDTH               140056\n",
              "DELTAINTEGER                         0\n",
              "DELTATHOUSANDTH                 140056"
            ],
            "text/html": [
              "\n",
              "  <div id=\"df-1a9aa640-1625-437d-b73a-43ee2eda28a3\">\n",
              "    <div class=\"colab-df-container\">\n",
              "      <div>\n",
              "<style scoped>\n",
              "    .dataframe tbody tr th:only-of-type {\n",
              "        vertical-align: middle;\n",
              "    }\n",
              "\n",
              "    .dataframe tbody tr th {\n",
              "        vertical-align: top;\n",
              "    }\n",
              "\n",
              "    .dataframe thead th {\n",
              "        text-align: right;\n",
              "    }\n",
              "</style>\n",
              "<table border=\"1\" class=\"dataframe\">\n",
              "  <thead>\n",
              "    <tr style=\"text-align: right;\">\n",
              "      <th></th>\n",
              "      <th>Missing Value Count</th>\n",
              "    </tr>\n",
              "    <tr>\n",
              "      <th>features/target</th>\n",
              "      <th></th>\n",
              "    </tr>\n",
              "  </thead>\n",
              "  <tbody>\n",
              "    <tr>\n",
              "      <th>ID</th>\n",
              "      <td>0</td>\n",
              "    </tr>\n",
              "    <tr>\n",
              "      <th>SAMPLETIME</th>\n",
              "      <td>0</td>\n",
              "    </tr>\n",
              "    <tr>\n",
              "      <th>READINGINTEGER</th>\n",
              "      <td>0</td>\n",
              "    </tr>\n",
              "    <tr>\n",
              "      <th>READINGTHOUSANDTH</th>\n",
              "      <td>140056</td>\n",
              "    </tr>\n",
              "    <tr>\n",
              "      <th>DELTAINTEGER</th>\n",
              "      <td>0</td>\n",
              "    </tr>\n",
              "    <tr>\n",
              "      <th>DELTATHOUSANDTH</th>\n",
              "      <td>140056</td>\n",
              "    </tr>\n",
              "  </tbody>\n",
              "</table>\n",
              "</div>\n",
              "      <button class=\"colab-df-convert\" onclick=\"convertToInteractive('df-1a9aa640-1625-437d-b73a-43ee2eda28a3')\"\n",
              "              title=\"Convert this dataframe to an interactive table.\"\n",
              "              style=\"display:none;\">\n",
              "        \n",
              "  <svg xmlns=\"http://www.w3.org/2000/svg\" height=\"24px\"viewBox=\"0 0 24 24\"\n",
              "       width=\"24px\">\n",
              "    <path d=\"M0 0h24v24H0V0z\" fill=\"none\"/>\n",
              "    <path d=\"M18.56 5.44l.94 2.06.94-2.06 2.06-.94-2.06-.94-.94-2.06-.94 2.06-2.06.94zm-11 1L8.5 8.5l.94-2.06 2.06-.94-2.06-.94L8.5 2.5l-.94 2.06-2.06.94zm10 10l.94 2.06.94-2.06 2.06-.94-2.06-.94-.94-2.06-.94 2.06-2.06.94z\"/><path d=\"M17.41 7.96l-1.37-1.37c-.4-.4-.92-.59-1.43-.59-.52 0-1.04.2-1.43.59L10.3 9.45l-7.72 7.72c-.78.78-.78 2.05 0 2.83L4 21.41c.39.39.9.59 1.41.59.51 0 1.02-.2 1.41-.59l7.78-7.78 2.81-2.81c.8-.78.8-2.07 0-2.86zM5.41 20L4 18.59l7.72-7.72 1.47 1.35L5.41 20z\"/>\n",
              "  </svg>\n",
              "      </button>\n",
              "      \n",
              "  <style>\n",
              "    .colab-df-container {\n",
              "      display:flex;\n",
              "      flex-wrap:wrap;\n",
              "      gap: 12px;\n",
              "    }\n",
              "\n",
              "    .colab-df-convert {\n",
              "      background-color: #E8F0FE;\n",
              "      border: none;\n",
              "      border-radius: 50%;\n",
              "      cursor: pointer;\n",
              "      display: none;\n",
              "      fill: #1967D2;\n",
              "      height: 32px;\n",
              "      padding: 0 0 0 0;\n",
              "      width: 32px;\n",
              "    }\n",
              "\n",
              "    .colab-df-convert:hover {\n",
              "      background-color: #E2EBFA;\n",
              "      box-shadow: 0px 1px 2px rgba(60, 64, 67, 0.3), 0px 1px 3px 1px rgba(60, 64, 67, 0.15);\n",
              "      fill: #174EA6;\n",
              "    }\n",
              "\n",
              "    [theme=dark] .colab-df-convert {\n",
              "      background-color: #3B4455;\n",
              "      fill: #D2E3FC;\n",
              "    }\n",
              "\n",
              "    [theme=dark] .colab-df-convert:hover {\n",
              "      background-color: #434B5C;\n",
              "      box-shadow: 0px 1px 3px 1px rgba(0, 0, 0, 0.15);\n",
              "      filter: drop-shadow(0px 1px 2px rgba(0, 0, 0, 0.3));\n",
              "      fill: #FFFFFF;\n",
              "    }\n",
              "  </style>\n",
              "\n",
              "      <script>\n",
              "        const buttonEl =\n",
              "          document.querySelector('#df-1a9aa640-1625-437d-b73a-43ee2eda28a3 button.colab-df-convert');\n",
              "        buttonEl.style.display =\n",
              "          google.colab.kernel.accessAllowed ? 'block' : 'none';\n",
              "\n",
              "        async function convertToInteractive(key) {\n",
              "          const element = document.querySelector('#df-1a9aa640-1625-437d-b73a-43ee2eda28a3');\n",
              "          const dataTable =\n",
              "            await google.colab.kernel.invokeFunction('convertToInteractive',\n",
              "                                                     [key], {});\n",
              "          if (!dataTable) return;\n",
              "\n",
              "          const docLinkHtml = 'Like what you see? Visit the ' +\n",
              "            '<a target=\"_blank\" href=https://colab.research.google.com/notebooks/data_table.ipynb>data table notebook</a>'\n",
              "            + ' to learn more about interactive tables.';\n",
              "          element.innerHTML = '';\n",
              "          dataTable['output_type'] = 'display_data';\n",
              "          await google.colab.output.renderOutput(dataTable, element);\n",
              "          const docLink = document.createElement('div');\n",
              "          docLink.innerHTML = docLinkHtml;\n",
              "          element.appendChild(docLink);\n",
              "        }\n",
              "      </script>\n",
              "    </div>\n",
              "  </div>\n",
              "  "
            ]
          },
          "metadata": {},
          "execution_count": 8
        }
      ]
    },
    {
      "cell_type": "code",
      "source": [
        "pd.Series((df.isnull().sum() / len(df))*100).sort_values(ascending = False).to_frame('Missing Value Percent')"
      ],
      "metadata": {
        "colab": {
          "base_uri": "https://localhost:8080/",
          "height": 237
        },
        "id": "s-Gc3m8OCBAt",
        "outputId": "f462ff13-3c28-448f-993e-ab0861e9c13f"
      },
      "execution_count": null,
      "outputs": [
        {
          "output_type": "execute_result",
          "data": {
            "text/plain": [
              "                   Missing Value Percent\n",
              "READINGTHOUSANDTH                0.65432\n",
              "DELTATHOUSANDTH                  0.65432\n",
              "ID                               0.00000\n",
              "SAMPLETIME                       0.00000\n",
              "READINGINTEGER                   0.00000\n",
              "DELTAINTEGER                     0.00000"
            ],
            "text/html": [
              "\n",
              "  <div id=\"df-048bf734-7edb-4d0f-bf5a-920fab975b6d\">\n",
              "    <div class=\"colab-df-container\">\n",
              "      <div>\n",
              "<style scoped>\n",
              "    .dataframe tbody tr th:only-of-type {\n",
              "        vertical-align: middle;\n",
              "    }\n",
              "\n",
              "    .dataframe tbody tr th {\n",
              "        vertical-align: top;\n",
              "    }\n",
              "\n",
              "    .dataframe thead th {\n",
              "        text-align: right;\n",
              "    }\n",
              "</style>\n",
              "<table border=\"1\" class=\"dataframe\">\n",
              "  <thead>\n",
              "    <tr style=\"text-align: right;\">\n",
              "      <th></th>\n",
              "      <th>Missing Value Percent</th>\n",
              "    </tr>\n",
              "  </thead>\n",
              "  <tbody>\n",
              "    <tr>\n",
              "      <th>READINGTHOUSANDTH</th>\n",
              "      <td>0.65432</td>\n",
              "    </tr>\n",
              "    <tr>\n",
              "      <th>DELTATHOUSANDTH</th>\n",
              "      <td>0.65432</td>\n",
              "    </tr>\n",
              "    <tr>\n",
              "      <th>ID</th>\n",
              "      <td>0.00000</td>\n",
              "    </tr>\n",
              "    <tr>\n",
              "      <th>SAMPLETIME</th>\n",
              "      <td>0.00000</td>\n",
              "    </tr>\n",
              "    <tr>\n",
              "      <th>READINGINTEGER</th>\n",
              "      <td>0.00000</td>\n",
              "    </tr>\n",
              "    <tr>\n",
              "      <th>DELTAINTEGER</th>\n",
              "      <td>0.00000</td>\n",
              "    </tr>\n",
              "  </tbody>\n",
              "</table>\n",
              "</div>\n",
              "      <button class=\"colab-df-convert\" onclick=\"convertToInteractive('df-048bf734-7edb-4d0f-bf5a-920fab975b6d')\"\n",
              "              title=\"Convert this dataframe to an interactive table.\"\n",
              "              style=\"display:none;\">\n",
              "        \n",
              "  <svg xmlns=\"http://www.w3.org/2000/svg\" height=\"24px\"viewBox=\"0 0 24 24\"\n",
              "       width=\"24px\">\n",
              "    <path d=\"M0 0h24v24H0V0z\" fill=\"none\"/>\n",
              "    <path d=\"M18.56 5.44l.94 2.06.94-2.06 2.06-.94-2.06-.94-.94-2.06-.94 2.06-2.06.94zm-11 1L8.5 8.5l.94-2.06 2.06-.94-2.06-.94L8.5 2.5l-.94 2.06-2.06.94zm10 10l.94 2.06.94-2.06 2.06-.94-2.06-.94-.94-2.06-.94 2.06-2.06.94z\"/><path d=\"M17.41 7.96l-1.37-1.37c-.4-.4-.92-.59-1.43-.59-.52 0-1.04.2-1.43.59L10.3 9.45l-7.72 7.72c-.78.78-.78 2.05 0 2.83L4 21.41c.39.39.9.59 1.41.59.51 0 1.02-.2 1.41-.59l7.78-7.78 2.81-2.81c.8-.78.8-2.07 0-2.86zM5.41 20L4 18.59l7.72-7.72 1.47 1.35L5.41 20z\"/>\n",
              "  </svg>\n",
              "      </button>\n",
              "      \n",
              "  <style>\n",
              "    .colab-df-container {\n",
              "      display:flex;\n",
              "      flex-wrap:wrap;\n",
              "      gap: 12px;\n",
              "    }\n",
              "\n",
              "    .colab-df-convert {\n",
              "      background-color: #E8F0FE;\n",
              "      border: none;\n",
              "      border-radius: 50%;\n",
              "      cursor: pointer;\n",
              "      display: none;\n",
              "      fill: #1967D2;\n",
              "      height: 32px;\n",
              "      padding: 0 0 0 0;\n",
              "      width: 32px;\n",
              "    }\n",
              "\n",
              "    .colab-df-convert:hover {\n",
              "      background-color: #E2EBFA;\n",
              "      box-shadow: 0px 1px 2px rgba(60, 64, 67, 0.3), 0px 1px 3px 1px rgba(60, 64, 67, 0.15);\n",
              "      fill: #174EA6;\n",
              "    }\n",
              "\n",
              "    [theme=dark] .colab-df-convert {\n",
              "      background-color: #3B4455;\n",
              "      fill: #D2E3FC;\n",
              "    }\n",
              "\n",
              "    [theme=dark] .colab-df-convert:hover {\n",
              "      background-color: #434B5C;\n",
              "      box-shadow: 0px 1px 3px 1px rgba(0, 0, 0, 0.15);\n",
              "      filter: drop-shadow(0px 1px 2px rgba(0, 0, 0, 0.3));\n",
              "      fill: #FFFFFF;\n",
              "    }\n",
              "  </style>\n",
              "\n",
              "      <script>\n",
              "        const buttonEl =\n",
              "          document.querySelector('#df-048bf734-7edb-4d0f-bf5a-920fab975b6d button.colab-df-convert');\n",
              "        buttonEl.style.display =\n",
              "          google.colab.kernel.accessAllowed ? 'block' : 'none';\n",
              "\n",
              "        async function convertToInteractive(key) {\n",
              "          const element = document.querySelector('#df-048bf734-7edb-4d0f-bf5a-920fab975b6d');\n",
              "          const dataTable =\n",
              "            await google.colab.kernel.invokeFunction('convertToInteractive',\n",
              "                                                     [key], {});\n",
              "          if (!dataTable) return;\n",
              "\n",
              "          const docLinkHtml = 'Like what you see? Visit the ' +\n",
              "            '<a target=\"_blank\" href=https://colab.research.google.com/notebooks/data_table.ipynb>data table notebook</a>'\n",
              "            + ' to learn more about interactive tables.';\n",
              "          element.innerHTML = '';\n",
              "          dataTable['output_type'] = 'display_data';\n",
              "          await google.colab.output.renderOutput(dataTable, element);\n",
              "          const docLink = document.createElement('div');\n",
              "          docLink.innerHTML = docLinkHtml;\n",
              "          element.appendChild(docLink);\n",
              "        }\n",
              "      </script>\n",
              "    </div>\n",
              "  </div>\n",
              "  "
            ]
          },
          "metadata": {},
          "execution_count": 9
        }
      ]
    },
    {
      "cell_type": "code",
      "source": [
        "df[df['READINGTHOUSANDTH'].isna()]"
      ],
      "metadata": {
        "colab": {
          "base_uri": "https://localhost:8080/",
          "height": 423
        },
        "id": "BS7SAqq-Zy0E",
        "outputId": "d90ab1f5-a68e-4257-c16c-413006e97d0d"
      },
      "execution_count": null,
      "outputs": [
        {
          "output_type": "execute_result",
          "data": {
            "text/plain": [
              "            ID          SAMPLETIME  READINGINTEGER  READINGTHOUSANDTH  \\\n",
              "2085142    248 2019-06-13 18:30:00        26752630                NaN   \n",
              "2085143    248 2019-06-13 04:30:00        26676570                NaN   \n",
              "2085144    248 2019-06-13 16:30:00        26752630                NaN   \n",
              "2085145    248 2019-06-13 18:45:00        26752630                NaN   \n",
              "2085146    248 2019-06-13 09:45:00        26736300                NaN   \n",
              "...        ...                 ...             ...                ...   \n",
              "12101320  1416 2020-01-25 11:00:00        30935150                NaN   \n",
              "12101321  1416 2020-01-25 09:30:00        30933640                NaN   \n",
              "12101322  1416 2020-01-25 16:00:00        30940130                NaN   \n",
              "12101323  1416 2020-01-26 06:00:00        30954430                NaN   \n",
              "12101324  1416 2020-01-26 05:15:00        30953630                NaN   \n",
              "\n",
              "          DELTAINTEGER  DELTATHOUSANDTH  \n",
              "2085142              0              NaN  \n",
              "2085143           3290              NaN  \n",
              "2085144              0              NaN  \n",
              "2085145              0              NaN  \n",
              "2085146           2780              NaN  \n",
              "...                ...              ...  \n",
              "12101320           250              NaN  \n",
              "12101321           260              NaN  \n",
              "12101322           250              NaN  \n",
              "12101323           270              NaN  \n",
              "12101324           260              NaN  \n",
              "\n",
              "[140056 rows x 6 columns]"
            ],
            "text/html": [
              "\n",
              "  <div id=\"df-2012aff4-b26b-42fd-98ba-17346e130ad8\">\n",
              "    <div class=\"colab-df-container\">\n",
              "      <div>\n",
              "<style scoped>\n",
              "    .dataframe tbody tr th:only-of-type {\n",
              "        vertical-align: middle;\n",
              "    }\n",
              "\n",
              "    .dataframe tbody tr th {\n",
              "        vertical-align: top;\n",
              "    }\n",
              "\n",
              "    .dataframe thead th {\n",
              "        text-align: right;\n",
              "    }\n",
              "</style>\n",
              "<table border=\"1\" class=\"dataframe\">\n",
              "  <thead>\n",
              "    <tr style=\"text-align: right;\">\n",
              "      <th></th>\n",
              "      <th>ID</th>\n",
              "      <th>SAMPLETIME</th>\n",
              "      <th>READINGINTEGER</th>\n",
              "      <th>READINGTHOUSANDTH</th>\n",
              "      <th>DELTAINTEGER</th>\n",
              "      <th>DELTATHOUSANDTH</th>\n",
              "    </tr>\n",
              "  </thead>\n",
              "  <tbody>\n",
              "    <tr>\n",
              "      <th>2085142</th>\n",
              "      <td>248</td>\n",
              "      <td>2019-06-13 18:30:00</td>\n",
              "      <td>26752630</td>\n",
              "      <td>NaN</td>\n",
              "      <td>0</td>\n",
              "      <td>NaN</td>\n",
              "    </tr>\n",
              "    <tr>\n",
              "      <th>2085143</th>\n",
              "      <td>248</td>\n",
              "      <td>2019-06-13 04:30:00</td>\n",
              "      <td>26676570</td>\n",
              "      <td>NaN</td>\n",
              "      <td>3290</td>\n",
              "      <td>NaN</td>\n",
              "    </tr>\n",
              "    <tr>\n",
              "      <th>2085144</th>\n",
              "      <td>248</td>\n",
              "      <td>2019-06-13 16:30:00</td>\n",
              "      <td>26752630</td>\n",
              "      <td>NaN</td>\n",
              "      <td>0</td>\n",
              "      <td>NaN</td>\n",
              "    </tr>\n",
              "    <tr>\n",
              "      <th>2085145</th>\n",
              "      <td>248</td>\n",
              "      <td>2019-06-13 18:45:00</td>\n",
              "      <td>26752630</td>\n",
              "      <td>NaN</td>\n",
              "      <td>0</td>\n",
              "      <td>NaN</td>\n",
              "    </tr>\n",
              "    <tr>\n",
              "      <th>2085146</th>\n",
              "      <td>248</td>\n",
              "      <td>2019-06-13 09:45:00</td>\n",
              "      <td>26736300</td>\n",
              "      <td>NaN</td>\n",
              "      <td>2780</td>\n",
              "      <td>NaN</td>\n",
              "    </tr>\n",
              "    <tr>\n",
              "      <th>...</th>\n",
              "      <td>...</td>\n",
              "      <td>...</td>\n",
              "      <td>...</td>\n",
              "      <td>...</td>\n",
              "      <td>...</td>\n",
              "      <td>...</td>\n",
              "    </tr>\n",
              "    <tr>\n",
              "      <th>12101320</th>\n",
              "      <td>1416</td>\n",
              "      <td>2020-01-25 11:00:00</td>\n",
              "      <td>30935150</td>\n",
              "      <td>NaN</td>\n",
              "      <td>250</td>\n",
              "      <td>NaN</td>\n",
              "    </tr>\n",
              "    <tr>\n",
              "      <th>12101321</th>\n",
              "      <td>1416</td>\n",
              "      <td>2020-01-25 09:30:00</td>\n",
              "      <td>30933640</td>\n",
              "      <td>NaN</td>\n",
              "      <td>260</td>\n",
              "      <td>NaN</td>\n",
              "    </tr>\n",
              "    <tr>\n",
              "      <th>12101322</th>\n",
              "      <td>1416</td>\n",
              "      <td>2020-01-25 16:00:00</td>\n",
              "      <td>30940130</td>\n",
              "      <td>NaN</td>\n",
              "      <td>250</td>\n",
              "      <td>NaN</td>\n",
              "    </tr>\n",
              "    <tr>\n",
              "      <th>12101323</th>\n",
              "      <td>1416</td>\n",
              "      <td>2020-01-26 06:00:00</td>\n",
              "      <td>30954430</td>\n",
              "      <td>NaN</td>\n",
              "      <td>270</td>\n",
              "      <td>NaN</td>\n",
              "    </tr>\n",
              "    <tr>\n",
              "      <th>12101324</th>\n",
              "      <td>1416</td>\n",
              "      <td>2020-01-26 05:15:00</td>\n",
              "      <td>30953630</td>\n",
              "      <td>NaN</td>\n",
              "      <td>260</td>\n",
              "      <td>NaN</td>\n",
              "    </tr>\n",
              "  </tbody>\n",
              "</table>\n",
              "<p>140056 rows × 6 columns</p>\n",
              "</div>\n",
              "      <button class=\"colab-df-convert\" onclick=\"convertToInteractive('df-2012aff4-b26b-42fd-98ba-17346e130ad8')\"\n",
              "              title=\"Convert this dataframe to an interactive table.\"\n",
              "              style=\"display:none;\">\n",
              "        \n",
              "  <svg xmlns=\"http://www.w3.org/2000/svg\" height=\"24px\"viewBox=\"0 0 24 24\"\n",
              "       width=\"24px\">\n",
              "    <path d=\"M0 0h24v24H0V0z\" fill=\"none\"/>\n",
              "    <path d=\"M18.56 5.44l.94 2.06.94-2.06 2.06-.94-2.06-.94-.94-2.06-.94 2.06-2.06.94zm-11 1L8.5 8.5l.94-2.06 2.06-.94-2.06-.94L8.5 2.5l-.94 2.06-2.06.94zm10 10l.94 2.06.94-2.06 2.06-.94-2.06-.94-.94-2.06-.94 2.06-2.06.94z\"/><path d=\"M17.41 7.96l-1.37-1.37c-.4-.4-.92-.59-1.43-.59-.52 0-1.04.2-1.43.59L10.3 9.45l-7.72 7.72c-.78.78-.78 2.05 0 2.83L4 21.41c.39.39.9.59 1.41.59.51 0 1.02-.2 1.41-.59l7.78-7.78 2.81-2.81c.8-.78.8-2.07 0-2.86zM5.41 20L4 18.59l7.72-7.72 1.47 1.35L5.41 20z\"/>\n",
              "  </svg>\n",
              "      </button>\n",
              "      \n",
              "  <style>\n",
              "    .colab-df-container {\n",
              "      display:flex;\n",
              "      flex-wrap:wrap;\n",
              "      gap: 12px;\n",
              "    }\n",
              "\n",
              "    .colab-df-convert {\n",
              "      background-color: #E8F0FE;\n",
              "      border: none;\n",
              "      border-radius: 50%;\n",
              "      cursor: pointer;\n",
              "      display: none;\n",
              "      fill: #1967D2;\n",
              "      height: 32px;\n",
              "      padding: 0 0 0 0;\n",
              "      width: 32px;\n",
              "    }\n",
              "\n",
              "    .colab-df-convert:hover {\n",
              "      background-color: #E2EBFA;\n",
              "      box-shadow: 0px 1px 2px rgba(60, 64, 67, 0.3), 0px 1px 3px 1px rgba(60, 64, 67, 0.15);\n",
              "      fill: #174EA6;\n",
              "    }\n",
              "\n",
              "    [theme=dark] .colab-df-convert {\n",
              "      background-color: #3B4455;\n",
              "      fill: #D2E3FC;\n",
              "    }\n",
              "\n",
              "    [theme=dark] .colab-df-convert:hover {\n",
              "      background-color: #434B5C;\n",
              "      box-shadow: 0px 1px 3px 1px rgba(0, 0, 0, 0.15);\n",
              "      filter: drop-shadow(0px 1px 2px rgba(0, 0, 0, 0.3));\n",
              "      fill: #FFFFFF;\n",
              "    }\n",
              "  </style>\n",
              "\n",
              "      <script>\n",
              "        const buttonEl =\n",
              "          document.querySelector('#df-2012aff4-b26b-42fd-98ba-17346e130ad8 button.colab-df-convert');\n",
              "        buttonEl.style.display =\n",
              "          google.colab.kernel.accessAllowed ? 'block' : 'none';\n",
              "\n",
              "        async function convertToInteractive(key) {\n",
              "          const element = document.querySelector('#df-2012aff4-b26b-42fd-98ba-17346e130ad8');\n",
              "          const dataTable =\n",
              "            await google.colab.kernel.invokeFunction('convertToInteractive',\n",
              "                                                     [key], {});\n",
              "          if (!dataTable) return;\n",
              "\n",
              "          const docLinkHtml = 'Like what you see? Visit the ' +\n",
              "            '<a target=\"_blank\" href=https://colab.research.google.com/notebooks/data_table.ipynb>data table notebook</a>'\n",
              "            + ' to learn more about interactive tables.';\n",
              "          element.innerHTML = '';\n",
              "          dataTable['output_type'] = 'display_data';\n",
              "          await google.colab.output.renderOutput(dataTable, element);\n",
              "          const docLink = document.createElement('div');\n",
              "          docLink.innerHTML = docLinkHtml;\n",
              "          element.appendChild(docLink);\n",
              "        }\n",
              "      </script>\n",
              "    </div>\n",
              "  </div>\n",
              "  "
            ]
          },
          "metadata": {},
          "execution_count": 10
        }
      ]
    },
    {
      "cell_type": "code",
      "source": [
        "df['READINGTHOUSANDTH'].value_counts()"
      ],
      "metadata": {
        "colab": {
          "base_uri": "https://localhost:8080/"
        },
        "id": "pIpyNcQhaxKL",
        "outputId": "67f808f0-9862-4d54-ae5c-1c2cdc8de624"
      },
      "execution_count": null,
      "outputs": [
        {
          "output_type": "execute_result",
          "data": {
            "text/plain": [
              "0.0     18836054\n",
              "8.0       235047\n",
              "6.0       217849\n",
              "4.0       208193\n",
              "2.0       206955\n",
              "          ...   \n",
              "87.0        3462\n",
              "13.0        3460\n",
              "75.0        2769\n",
              "25.0        2762\n",
              "99.0        1235\n",
              "Name: READINGTHOUSANDTH, Length: 91, dtype: int64"
            ]
          },
          "metadata": {},
          "execution_count": 11
        }
      ]
    },
    {
      "cell_type": "markdown",
      "source": [
        "Parece que hay contadores en los que no se ha grabado el número decimal. Lo sustituimos por cero"
      ],
      "metadata": {
        "id": "CyZhy5DzaS7R"
      }
    },
    {
      "cell_type": "code",
      "source": [
        "df = df.fillna(0.0)"
      ],
      "metadata": {
        "id": "kOJJwJUsZzDl"
      },
      "execution_count": null,
      "outputs": []
    },
    {
      "cell_type": "markdown",
      "source": [
        "CONCLUSIÓN DE ESTE PUNTO\n",
        "\n",
        "Del análisis de los NAs pudimos identificar que un total de 140056 registros no tenían información en la parte decimal de la lectura (por lo tanto, ni para READING ni para DELTA). \n",
        "Decidimos imputar los valores NA por ceros, viendo la distribución previa de los ceros en los contadores y que dado que solo se observan en la parte decimal, el margen de error es despreciable."
      ],
      "metadata": {
        "id": "0jE5VThWq1gR"
      }
    },
    {
      "cell_type": "markdown",
      "source": [
        "### 2. 2 CREAMOS LA NUEVA TABLA CON LA SUMA DE PARTE ENTERA Y DECIMAL Y ORDENAMOS POR FECHA "
      ],
      "metadata": {
        "id": "5kxJCNMhSwPk"
      }
    },
    {
      "cell_type": "code",
      "source": [
        "df['READING'] = df['READINGINTEGER']+df['READINGTHOUSANDTH']/100\n",
        "\n",
        "df['DELTA'] = df['DELTAINTEGER']+df['DELTATHOUSANDTH']/100"
      ],
      "metadata": {
        "id": "9yMudYA1NkVr"
      },
      "execution_count": null,
      "outputs": []
    },
    {
      "cell_type": "code",
      "source": [
        "df= df.drop(['READINGINTEGER', 'READINGTHOUSANDTH', 'DELTAINTEGER', 'DELTATHOUSANDTH'], axis=1)\n",
        "\n",
        "df.head()"
      ],
      "metadata": {
        "colab": {
          "base_uri": "https://localhost:8080/",
          "height": 206
        },
        "id": "8Om7y4BvbrQ4",
        "outputId": "2af558c7-9d82-49f7-9f90-6a2ab273f725"
      },
      "execution_count": null,
      "outputs": [
        {
          "output_type": "execute_result",
          "data": {
            "text/plain": [
              "   ID          SAMPLETIME   READING  DELTA\n",
              "0   0 2019-06-13 08:34:09  369320.0   17.0\n",
              "1   0 2019-06-13 17:34:10  369403.0    2.0\n",
              "2   0 2019-06-13 18:34:10  369403.0    0.0\n",
              "3   0 2019-06-13 04:34:10  369284.0    1.0\n",
              "4   0 2019-06-13 14:34:10  369356.0   28.0"
            ],
            "text/html": [
              "\n",
              "  <div id=\"df-9bf76df2-9f1c-4054-abf4-9acb311d26f9\">\n",
              "    <div class=\"colab-df-container\">\n",
              "      <div>\n",
              "<style scoped>\n",
              "    .dataframe tbody tr th:only-of-type {\n",
              "        vertical-align: middle;\n",
              "    }\n",
              "\n",
              "    .dataframe tbody tr th {\n",
              "        vertical-align: top;\n",
              "    }\n",
              "\n",
              "    .dataframe thead th {\n",
              "        text-align: right;\n",
              "    }\n",
              "</style>\n",
              "<table border=\"1\" class=\"dataframe\">\n",
              "  <thead>\n",
              "    <tr style=\"text-align: right;\">\n",
              "      <th></th>\n",
              "      <th>ID</th>\n",
              "      <th>SAMPLETIME</th>\n",
              "      <th>READING</th>\n",
              "      <th>DELTA</th>\n",
              "    </tr>\n",
              "  </thead>\n",
              "  <tbody>\n",
              "    <tr>\n",
              "      <th>0</th>\n",
              "      <td>0</td>\n",
              "      <td>2019-06-13 08:34:09</td>\n",
              "      <td>369320.0</td>\n",
              "      <td>17.0</td>\n",
              "    </tr>\n",
              "    <tr>\n",
              "      <th>1</th>\n",
              "      <td>0</td>\n",
              "      <td>2019-06-13 17:34:10</td>\n",
              "      <td>369403.0</td>\n",
              "      <td>2.0</td>\n",
              "    </tr>\n",
              "    <tr>\n",
              "      <th>2</th>\n",
              "      <td>0</td>\n",
              "      <td>2019-06-13 18:34:10</td>\n",
              "      <td>369403.0</td>\n",
              "      <td>0.0</td>\n",
              "    </tr>\n",
              "    <tr>\n",
              "      <th>3</th>\n",
              "      <td>0</td>\n",
              "      <td>2019-06-13 04:34:10</td>\n",
              "      <td>369284.0</td>\n",
              "      <td>1.0</td>\n",
              "    </tr>\n",
              "    <tr>\n",
              "      <th>4</th>\n",
              "      <td>0</td>\n",
              "      <td>2019-06-13 14:34:10</td>\n",
              "      <td>369356.0</td>\n",
              "      <td>28.0</td>\n",
              "    </tr>\n",
              "  </tbody>\n",
              "</table>\n",
              "</div>\n",
              "      <button class=\"colab-df-convert\" onclick=\"convertToInteractive('df-9bf76df2-9f1c-4054-abf4-9acb311d26f9')\"\n",
              "              title=\"Convert this dataframe to an interactive table.\"\n",
              "              style=\"display:none;\">\n",
              "        \n",
              "  <svg xmlns=\"http://www.w3.org/2000/svg\" height=\"24px\"viewBox=\"0 0 24 24\"\n",
              "       width=\"24px\">\n",
              "    <path d=\"M0 0h24v24H0V0z\" fill=\"none\"/>\n",
              "    <path d=\"M18.56 5.44l.94 2.06.94-2.06 2.06-.94-2.06-.94-.94-2.06-.94 2.06-2.06.94zm-11 1L8.5 8.5l.94-2.06 2.06-.94-2.06-.94L8.5 2.5l-.94 2.06-2.06.94zm10 10l.94 2.06.94-2.06 2.06-.94-2.06-.94-.94-2.06-.94 2.06-2.06.94z\"/><path d=\"M17.41 7.96l-1.37-1.37c-.4-.4-.92-.59-1.43-.59-.52 0-1.04.2-1.43.59L10.3 9.45l-7.72 7.72c-.78.78-.78 2.05 0 2.83L4 21.41c.39.39.9.59 1.41.59.51 0 1.02-.2 1.41-.59l7.78-7.78 2.81-2.81c.8-.78.8-2.07 0-2.86zM5.41 20L4 18.59l7.72-7.72 1.47 1.35L5.41 20z\"/>\n",
              "  </svg>\n",
              "      </button>\n",
              "      \n",
              "  <style>\n",
              "    .colab-df-container {\n",
              "      display:flex;\n",
              "      flex-wrap:wrap;\n",
              "      gap: 12px;\n",
              "    }\n",
              "\n",
              "    .colab-df-convert {\n",
              "      background-color: #E8F0FE;\n",
              "      border: none;\n",
              "      border-radius: 50%;\n",
              "      cursor: pointer;\n",
              "      display: none;\n",
              "      fill: #1967D2;\n",
              "      height: 32px;\n",
              "      padding: 0 0 0 0;\n",
              "      width: 32px;\n",
              "    }\n",
              "\n",
              "    .colab-df-convert:hover {\n",
              "      background-color: #E2EBFA;\n",
              "      box-shadow: 0px 1px 2px rgba(60, 64, 67, 0.3), 0px 1px 3px 1px rgba(60, 64, 67, 0.15);\n",
              "      fill: #174EA6;\n",
              "    }\n",
              "\n",
              "    [theme=dark] .colab-df-convert {\n",
              "      background-color: #3B4455;\n",
              "      fill: #D2E3FC;\n",
              "    }\n",
              "\n",
              "    [theme=dark] .colab-df-convert:hover {\n",
              "      background-color: #434B5C;\n",
              "      box-shadow: 0px 1px 3px 1px rgba(0, 0, 0, 0.15);\n",
              "      filter: drop-shadow(0px 1px 2px rgba(0, 0, 0, 0.3));\n",
              "      fill: #FFFFFF;\n",
              "    }\n",
              "  </style>\n",
              "\n",
              "      <script>\n",
              "        const buttonEl =\n",
              "          document.querySelector('#df-9bf76df2-9f1c-4054-abf4-9acb311d26f9 button.colab-df-convert');\n",
              "        buttonEl.style.display =\n",
              "          google.colab.kernel.accessAllowed ? 'block' : 'none';\n",
              "\n",
              "        async function convertToInteractive(key) {\n",
              "          const element = document.querySelector('#df-9bf76df2-9f1c-4054-abf4-9acb311d26f9');\n",
              "          const dataTable =\n",
              "            await google.colab.kernel.invokeFunction('convertToInteractive',\n",
              "                                                     [key], {});\n",
              "          if (!dataTable) return;\n",
              "\n",
              "          const docLinkHtml = 'Like what you see? Visit the ' +\n",
              "            '<a target=\"_blank\" href=https://colab.research.google.com/notebooks/data_table.ipynb>data table notebook</a>'\n",
              "            + ' to learn more about interactive tables.';\n",
              "          element.innerHTML = '';\n",
              "          dataTable['output_type'] = 'display_data';\n",
              "          await google.colab.output.renderOutput(dataTable, element);\n",
              "          const docLink = document.createElement('div');\n",
              "          docLink.innerHTML = docLinkHtml;\n",
              "          element.appendChild(docLink);\n",
              "        }\n",
              "      </script>\n",
              "    </div>\n",
              "  </div>\n",
              "  "
            ]
          },
          "metadata": {},
          "execution_count": 14
        }
      ]
    },
    {
      "cell_type": "markdown",
      "source": [
        "Vamos a ordenar la data por fecha para poder trabajar mucho más cómodos. "
      ],
      "metadata": {
        "id": "aFcEX6tYqL1P"
      }
    },
    {
      "cell_type": "code",
      "source": [
        "df= df.sort_values(by=['ID',\"SAMPLETIME\"])"
      ],
      "metadata": {
        "id": "YN6u7WbdqNlW"
      },
      "execution_count": null,
      "outputs": []
    },
    {
      "cell_type": "markdown",
      "source": [
        "### 2.3 Registros con valores igual a 0"
      ],
      "metadata": {
        "id": "sEniApySKKwX"
      }
    },
    {
      "cell_type": "code",
      "source": [
        " registro_0=df[(df['DELTA']==0) & (df['READING']==0)]\n",
        " registro_0['ID'].unique()"
      ],
      "metadata": {
        "id": "u9hfJ-usLlAy",
        "colab": {
          "base_uri": "https://localhost:8080/"
        },
        "outputId": "e4b172a9-2b81-4791-e1a0-d3a8f46749d9"
      },
      "execution_count": null,
      "outputs": [
        {
          "output_type": "execute_result",
          "data": {
            "text/plain": [
              "array([ 272,  323,  461,  549, 1225, 1261, 1506, 1837, 1896, 2001, 2089,\n",
              "       2135, 2231, 2369, 2542, 2544, 2545, 2547, 2690])"
            ]
          },
          "metadata": {},
          "execution_count": 16
        }
      ]
    },
    {
      "cell_type": "markdown",
      "source": [
        "Observamos que estos contadores tiene en algún momento de su vida todos los registros igual a 0, nos interesa saber qué proporción del total de los registros constituye para poder tomar decisiones"
      ],
      "metadata": {
        "id": "20Q3-gqoTd4u"
      }
    },
    {
      "cell_type": "code",
      "source": [
        "l1=registro_0.groupby('ID').size()\n",
        "l1"
      ],
      "metadata": {
        "id": "B6cBtbIOMkw1",
        "colab": {
          "base_uri": "https://localhost:8080/"
        },
        "outputId": "238c0942-0fab-46e5-84c7-7b627631efe9"
      },
      "execution_count": null,
      "outputs": [
        {
          "output_type": "execute_result",
          "data": {
            "text/plain": [
              "ID\n",
              "272     8759\n",
              "323     2088\n",
              "461       64\n",
              "549      120\n",
              "1225      15\n",
              "1261     127\n",
              "1506       5\n",
              "1837     789\n",
              "1896    8759\n",
              "2001      42\n",
              "2089     119\n",
              "2135    6464\n",
              "2231      45\n",
              "2369     120\n",
              "2542    4983\n",
              "2544    4982\n",
              "2545    4982\n",
              "2547    4909\n",
              "2690      20\n",
              "dtype: int64"
            ]
          },
          "metadata": {},
          "execution_count": 17
        }
      ]
    },
    {
      "cell_type": "markdown",
      "source": [
        "Ver cuántos registros totales tienen esos contadores"
      ],
      "metadata": {
        "id": "kWcC3v2NNQNw"
      }
    },
    {
      "cell_type": "code",
      "source": [
        "mask = df['ID'].isin([272,  323,  461,  549, 1225, 1261, 1506, 1837, 1896, 2001, 2089,\n",
        "       2135, 2231, 2369, 2542, 2544, 2545, 2547, 2690])\n",
        "\n",
        "df.loc[mask]\n",
        "l2=df.loc[mask].groupby('ID').size()\n",
        "l2"
      ],
      "metadata": {
        "id": "i7ptbiPaNQ7o",
        "colab": {
          "base_uri": "https://localhost:8080/"
        },
        "outputId": "b59d234f-805f-4b7a-9a9e-20823974e105"
      },
      "execution_count": null,
      "outputs": [
        {
          "output_type": "execute_result",
          "data": {
            "text/plain": [
              "ID\n",
              "272     8759\n",
              "323     6393\n",
              "461     6438\n",
              "549     6444\n",
              "1225    6490\n",
              "1261    6392\n",
              "1506    8629\n",
              "1837    6391\n",
              "1896    8759\n",
              "2001    6153\n",
              "2089    6926\n",
              "2135    6464\n",
              "2231    6493\n",
              "2369    5917\n",
              "2542    4983\n",
              "2544    4982\n",
              "2545    4982\n",
              "2547    4909\n",
              "2690    3827\n",
              "dtype: int64"
            ]
          },
          "metadata": {},
          "execution_count": 18
        }
      ]
    },
    {
      "cell_type": "markdown",
      "source": [
        "Los contadores (272,1896,2135,2542,2544,2545,2547) tienen todos sus registros igual a 0, por lo que lo vamos a proceder a eliminarlos. Se toma esta decisión, tomando como base la teoría de que los contadores citados pueden estar averiados o fuera de uso."
      ],
      "metadata": {
        "id": "fhkl7XbiOBku"
      }
    },
    {
      "cell_type": "code",
      "source": [
        "df = df[~df['ID'].isin([272,1896,2135,2542,2544,2545,2547])]"
      ],
      "metadata": {
        "id": "2nXyLfH2RJ13"
      },
      "execution_count": null,
      "outputs": []
    },
    {
      "cell_type": "code",
      "source": [
        "len(df)"
      ],
      "metadata": {
        "colab": {
          "base_uri": "https://localhost:8080/"
        },
        "id": "U9BUO9tTsKpL",
        "outputId": "f0438a79-8669-4f3c-a3e5-54b4ffc16f9e"
      },
      "execution_count": null,
      "outputs": [
        {
          "output_type": "execute_result",
          "data": {
            "text/plain": [
              "21360990"
            ]
          },
          "metadata": {},
          "execution_count": 20
        }
      ]
    },
    {
      "cell_type": "markdown",
      "source": [
        "Se pierden un total de 43.838 registros, que constituyen tan solo 0.204% del total de los registros."
      ],
      "metadata": {
        "id": "9AnrIsRJs0Sc"
      }
    },
    {
      "cell_type": "markdown",
      "source": [
        "Para la toma de decisiones respecto al resto de contadores que presentan algún registro igual a cero, se procede a realizar un análisis temporal a fin de detectar comportamientos anómalos. Estos registros iguales a cero pueden deberse a un inicio del consumo de agua posterior a la fecha de alta del contador."
      ],
      "metadata": {
        "id": "VZ1ufDfDSFR5"
      }
    },
    {
      "cell_type": "code",
      "source": [
        "DF_323=df[(df['ID']==323)]\n",
        "DF_323.head()     \n",
        "\n",
        "# Prueba manual para corroborar lo que pensábamos de que los no registros son al principio de la vida del contador."
      ],
      "metadata": {
        "colab": {
          "base_uri": "https://localhost:8080/",
          "height": 206
        },
        "id": "hCpq8Dj_SFun",
        "outputId": "fa4fa0a8-a70f-48a9-edc4-10d795592259"
      },
      "execution_count": null,
      "outputs": [
        {
          "output_type": "execute_result",
          "data": {
            "text/plain": [
              "          ID          SAMPLETIME  READING  DELTA\n",
              "2779263  323 2019-05-10 15:36:36      0.0    0.0\n",
              "2778815  323 2019-05-10 16:36:36      0.0    0.0\n",
              "2779261  323 2019-05-10 17:36:36      0.0    0.0\n",
              "2779262  323 2019-05-10 18:36:36      0.0    0.0\n",
              "2779264  323 2019-05-10 19:36:34      0.0    0.0"
            ],
            "text/html": [
              "\n",
              "  <div id=\"df-a685226a-4e55-4659-a6f6-298621be9c4a\">\n",
              "    <div class=\"colab-df-container\">\n",
              "      <div>\n",
              "<style scoped>\n",
              "    .dataframe tbody tr th:only-of-type {\n",
              "        vertical-align: middle;\n",
              "    }\n",
              "\n",
              "    .dataframe tbody tr th {\n",
              "        vertical-align: top;\n",
              "    }\n",
              "\n",
              "    .dataframe thead th {\n",
              "        text-align: right;\n",
              "    }\n",
              "</style>\n",
              "<table border=\"1\" class=\"dataframe\">\n",
              "  <thead>\n",
              "    <tr style=\"text-align: right;\">\n",
              "      <th></th>\n",
              "      <th>ID</th>\n",
              "      <th>SAMPLETIME</th>\n",
              "      <th>READING</th>\n",
              "      <th>DELTA</th>\n",
              "    </tr>\n",
              "  </thead>\n",
              "  <tbody>\n",
              "    <tr>\n",
              "      <th>2779263</th>\n",
              "      <td>323</td>\n",
              "      <td>2019-05-10 15:36:36</td>\n",
              "      <td>0.0</td>\n",
              "      <td>0.0</td>\n",
              "    </tr>\n",
              "    <tr>\n",
              "      <th>2778815</th>\n",
              "      <td>323</td>\n",
              "      <td>2019-05-10 16:36:36</td>\n",
              "      <td>0.0</td>\n",
              "      <td>0.0</td>\n",
              "    </tr>\n",
              "    <tr>\n",
              "      <th>2779261</th>\n",
              "      <td>323</td>\n",
              "      <td>2019-05-10 17:36:36</td>\n",
              "      <td>0.0</td>\n",
              "      <td>0.0</td>\n",
              "    </tr>\n",
              "    <tr>\n",
              "      <th>2779262</th>\n",
              "      <td>323</td>\n",
              "      <td>2019-05-10 18:36:36</td>\n",
              "      <td>0.0</td>\n",
              "      <td>0.0</td>\n",
              "    </tr>\n",
              "    <tr>\n",
              "      <th>2779264</th>\n",
              "      <td>323</td>\n",
              "      <td>2019-05-10 19:36:34</td>\n",
              "      <td>0.0</td>\n",
              "      <td>0.0</td>\n",
              "    </tr>\n",
              "  </tbody>\n",
              "</table>\n",
              "</div>\n",
              "      <button class=\"colab-df-convert\" onclick=\"convertToInteractive('df-a685226a-4e55-4659-a6f6-298621be9c4a')\"\n",
              "              title=\"Convert this dataframe to an interactive table.\"\n",
              "              style=\"display:none;\">\n",
              "        \n",
              "  <svg xmlns=\"http://www.w3.org/2000/svg\" height=\"24px\"viewBox=\"0 0 24 24\"\n",
              "       width=\"24px\">\n",
              "    <path d=\"M0 0h24v24H0V0z\" fill=\"none\"/>\n",
              "    <path d=\"M18.56 5.44l.94 2.06.94-2.06 2.06-.94-2.06-.94-.94-2.06-.94 2.06-2.06.94zm-11 1L8.5 8.5l.94-2.06 2.06-.94-2.06-.94L8.5 2.5l-.94 2.06-2.06.94zm10 10l.94 2.06.94-2.06 2.06-.94-2.06-.94-.94-2.06-.94 2.06-2.06.94z\"/><path d=\"M17.41 7.96l-1.37-1.37c-.4-.4-.92-.59-1.43-.59-.52 0-1.04.2-1.43.59L10.3 9.45l-7.72 7.72c-.78.78-.78 2.05 0 2.83L4 21.41c.39.39.9.59 1.41.59.51 0 1.02-.2 1.41-.59l7.78-7.78 2.81-2.81c.8-.78.8-2.07 0-2.86zM5.41 20L4 18.59l7.72-7.72 1.47 1.35L5.41 20z\"/>\n",
              "  </svg>\n",
              "      </button>\n",
              "      \n",
              "  <style>\n",
              "    .colab-df-container {\n",
              "      display:flex;\n",
              "      flex-wrap:wrap;\n",
              "      gap: 12px;\n",
              "    }\n",
              "\n",
              "    .colab-df-convert {\n",
              "      background-color: #E8F0FE;\n",
              "      border: none;\n",
              "      border-radius: 50%;\n",
              "      cursor: pointer;\n",
              "      display: none;\n",
              "      fill: #1967D2;\n",
              "      height: 32px;\n",
              "      padding: 0 0 0 0;\n",
              "      width: 32px;\n",
              "    }\n",
              "\n",
              "    .colab-df-convert:hover {\n",
              "      background-color: #E2EBFA;\n",
              "      box-shadow: 0px 1px 2px rgba(60, 64, 67, 0.3), 0px 1px 3px 1px rgba(60, 64, 67, 0.15);\n",
              "      fill: #174EA6;\n",
              "    }\n",
              "\n",
              "    [theme=dark] .colab-df-convert {\n",
              "      background-color: #3B4455;\n",
              "      fill: #D2E3FC;\n",
              "    }\n",
              "\n",
              "    [theme=dark] .colab-df-convert:hover {\n",
              "      background-color: #434B5C;\n",
              "      box-shadow: 0px 1px 3px 1px rgba(0, 0, 0, 0.15);\n",
              "      filter: drop-shadow(0px 1px 2px rgba(0, 0, 0, 0.3));\n",
              "      fill: #FFFFFF;\n",
              "    }\n",
              "  </style>\n",
              "\n",
              "      <script>\n",
              "        const buttonEl =\n",
              "          document.querySelector('#df-a685226a-4e55-4659-a6f6-298621be9c4a button.colab-df-convert');\n",
              "        buttonEl.style.display =\n",
              "          google.colab.kernel.accessAllowed ? 'block' : 'none';\n",
              "\n",
              "        async function convertToInteractive(key) {\n",
              "          const element = document.querySelector('#df-a685226a-4e55-4659-a6f6-298621be9c4a');\n",
              "          const dataTable =\n",
              "            await google.colab.kernel.invokeFunction('convertToInteractive',\n",
              "                                                     [key], {});\n",
              "          if (!dataTable) return;\n",
              "\n",
              "          const docLinkHtml = 'Like what you see? Visit the ' +\n",
              "            '<a target=\"_blank\" href=https://colab.research.google.com/notebooks/data_table.ipynb>data table notebook</a>'\n",
              "            + ' to learn more about interactive tables.';\n",
              "          element.innerHTML = '';\n",
              "          dataTable['output_type'] = 'display_data';\n",
              "          await google.colab.output.renderOutput(dataTable, element);\n",
              "          const docLink = document.createElement('div');\n",
              "          docLink.innerHTML = docLinkHtml;\n",
              "          element.appendChild(docLink);\n",
              "        }\n",
              "      </script>\n",
              "    </div>\n",
              "  </div>\n",
              "  "
            ]
          },
          "metadata": {},
          "execution_count": 21
        }
      ]
    },
    {
      "cell_type": "code",
      "source": [
        "# FECHAS EN LAS QUE EMPIEZAN DEJAN DE SER CEROS\n",
        "df_new=df[(df['READING']!=0)].loc[mask].groupby(['ID']).agg({'SAMPLETIME': [np.min]})\n",
        "df_new"
      ],
      "metadata": {
        "colab": {
          "base_uri": "https://localhost:8080/",
          "height": 488
        },
        "id": "8iWND14TSF11",
        "outputId": "62e3b533-2b85-4429-9f8d-a837cb9d36c6"
      },
      "execution_count": null,
      "outputs": [
        {
          "output_type": "execute_result",
          "data": {
            "text/plain": [
              "              SAMPLETIME\n",
              "                    amin\n",
              "ID                      \n",
              "323  2019-08-05 15:33:04\n",
              "461  2019-05-11 10:35:50\n",
              "549  2019-05-13 12:00:00\n",
              "1225 2019-05-07 05:30:27\n",
              "1261 2019-05-15 23:11:52\n",
              "1506 2019-02-01 00:00:00\n",
              "1837 2019-06-12 14:34:03\n",
              "2001 2019-05-22 09:50:47\n",
              "2089 2019-04-23 09:01:55\n",
              "2231 2019-05-08 08:55:27\n",
              "2369 2019-06-04 11:47:36\n",
              "2690 2019-05-08 11:57:08"
            ],
            "text/html": [
              "\n",
              "  <div id=\"df-1d3b762a-0702-4af9-99a7-0c875de5d4c8\">\n",
              "    <div class=\"colab-df-container\">\n",
              "      <div>\n",
              "<style scoped>\n",
              "    .dataframe tbody tr th:only-of-type {\n",
              "        vertical-align: middle;\n",
              "    }\n",
              "\n",
              "    .dataframe tbody tr th {\n",
              "        vertical-align: top;\n",
              "    }\n",
              "\n",
              "    .dataframe thead tr th {\n",
              "        text-align: left;\n",
              "    }\n",
              "\n",
              "    .dataframe thead tr:last-of-type th {\n",
              "        text-align: right;\n",
              "    }\n",
              "</style>\n",
              "<table border=\"1\" class=\"dataframe\">\n",
              "  <thead>\n",
              "    <tr>\n",
              "      <th></th>\n",
              "      <th>SAMPLETIME</th>\n",
              "    </tr>\n",
              "    <tr>\n",
              "      <th></th>\n",
              "      <th>amin</th>\n",
              "    </tr>\n",
              "    <tr>\n",
              "      <th>ID</th>\n",
              "      <th></th>\n",
              "    </tr>\n",
              "  </thead>\n",
              "  <tbody>\n",
              "    <tr>\n",
              "      <th>323</th>\n",
              "      <td>2019-08-05 15:33:04</td>\n",
              "    </tr>\n",
              "    <tr>\n",
              "      <th>461</th>\n",
              "      <td>2019-05-11 10:35:50</td>\n",
              "    </tr>\n",
              "    <tr>\n",
              "      <th>549</th>\n",
              "      <td>2019-05-13 12:00:00</td>\n",
              "    </tr>\n",
              "    <tr>\n",
              "      <th>1225</th>\n",
              "      <td>2019-05-07 05:30:27</td>\n",
              "    </tr>\n",
              "    <tr>\n",
              "      <th>1261</th>\n",
              "      <td>2019-05-15 23:11:52</td>\n",
              "    </tr>\n",
              "    <tr>\n",
              "      <th>1506</th>\n",
              "      <td>2019-02-01 00:00:00</td>\n",
              "    </tr>\n",
              "    <tr>\n",
              "      <th>1837</th>\n",
              "      <td>2019-06-12 14:34:03</td>\n",
              "    </tr>\n",
              "    <tr>\n",
              "      <th>2001</th>\n",
              "      <td>2019-05-22 09:50:47</td>\n",
              "    </tr>\n",
              "    <tr>\n",
              "      <th>2089</th>\n",
              "      <td>2019-04-23 09:01:55</td>\n",
              "    </tr>\n",
              "    <tr>\n",
              "      <th>2231</th>\n",
              "      <td>2019-05-08 08:55:27</td>\n",
              "    </tr>\n",
              "    <tr>\n",
              "      <th>2369</th>\n",
              "      <td>2019-06-04 11:47:36</td>\n",
              "    </tr>\n",
              "    <tr>\n",
              "      <th>2690</th>\n",
              "      <td>2019-05-08 11:57:08</td>\n",
              "    </tr>\n",
              "  </tbody>\n",
              "</table>\n",
              "</div>\n",
              "      <button class=\"colab-df-convert\" onclick=\"convertToInteractive('df-1d3b762a-0702-4af9-99a7-0c875de5d4c8')\"\n",
              "              title=\"Convert this dataframe to an interactive table.\"\n",
              "              style=\"display:none;\">\n",
              "        \n",
              "  <svg xmlns=\"http://www.w3.org/2000/svg\" height=\"24px\"viewBox=\"0 0 24 24\"\n",
              "       width=\"24px\">\n",
              "    <path d=\"M0 0h24v24H0V0z\" fill=\"none\"/>\n",
              "    <path d=\"M18.56 5.44l.94 2.06.94-2.06 2.06-.94-2.06-.94-.94-2.06-.94 2.06-2.06.94zm-11 1L8.5 8.5l.94-2.06 2.06-.94-2.06-.94L8.5 2.5l-.94 2.06-2.06.94zm10 10l.94 2.06.94-2.06 2.06-.94-2.06-.94-.94-2.06-.94 2.06-2.06.94z\"/><path d=\"M17.41 7.96l-1.37-1.37c-.4-.4-.92-.59-1.43-.59-.52 0-1.04.2-1.43.59L10.3 9.45l-7.72 7.72c-.78.78-.78 2.05 0 2.83L4 21.41c.39.39.9.59 1.41.59.51 0 1.02-.2 1.41-.59l7.78-7.78 2.81-2.81c.8-.78.8-2.07 0-2.86zM5.41 20L4 18.59l7.72-7.72 1.47 1.35L5.41 20z\"/>\n",
              "  </svg>\n",
              "      </button>\n",
              "      \n",
              "  <style>\n",
              "    .colab-df-container {\n",
              "      display:flex;\n",
              "      flex-wrap:wrap;\n",
              "      gap: 12px;\n",
              "    }\n",
              "\n",
              "    .colab-df-convert {\n",
              "      background-color: #E8F0FE;\n",
              "      border: none;\n",
              "      border-radius: 50%;\n",
              "      cursor: pointer;\n",
              "      display: none;\n",
              "      fill: #1967D2;\n",
              "      height: 32px;\n",
              "      padding: 0 0 0 0;\n",
              "      width: 32px;\n",
              "    }\n",
              "\n",
              "    .colab-df-convert:hover {\n",
              "      background-color: #E2EBFA;\n",
              "      box-shadow: 0px 1px 2px rgba(60, 64, 67, 0.3), 0px 1px 3px 1px rgba(60, 64, 67, 0.15);\n",
              "      fill: #174EA6;\n",
              "    }\n",
              "\n",
              "    [theme=dark] .colab-df-convert {\n",
              "      background-color: #3B4455;\n",
              "      fill: #D2E3FC;\n",
              "    }\n",
              "\n",
              "    [theme=dark] .colab-df-convert:hover {\n",
              "      background-color: #434B5C;\n",
              "      box-shadow: 0px 1px 3px 1px rgba(0, 0, 0, 0.15);\n",
              "      filter: drop-shadow(0px 1px 2px rgba(0, 0, 0, 0.3));\n",
              "      fill: #FFFFFF;\n",
              "    }\n",
              "  </style>\n",
              "\n",
              "      <script>\n",
              "        const buttonEl =\n",
              "          document.querySelector('#df-1d3b762a-0702-4af9-99a7-0c875de5d4c8 button.colab-df-convert');\n",
              "        buttonEl.style.display =\n",
              "          google.colab.kernel.accessAllowed ? 'block' : 'none';\n",
              "\n",
              "        async function convertToInteractive(key) {\n",
              "          const element = document.querySelector('#df-1d3b762a-0702-4af9-99a7-0c875de5d4c8');\n",
              "          const dataTable =\n",
              "            await google.colab.kernel.invokeFunction('convertToInteractive',\n",
              "                                                     [key], {});\n",
              "          if (!dataTable) return;\n",
              "\n",
              "          const docLinkHtml = 'Like what you see? Visit the ' +\n",
              "            '<a target=\"_blank\" href=https://colab.research.google.com/notebooks/data_table.ipynb>data table notebook</a>'\n",
              "            + ' to learn more about interactive tables.';\n",
              "          element.innerHTML = '';\n",
              "          dataTable['output_type'] = 'display_data';\n",
              "          await google.colab.output.renderOutput(dataTable, element);\n",
              "          const docLink = document.createElement('div');\n",
              "          docLink.innerHTML = docLinkHtml;\n",
              "          element.appendChild(docLink);\n",
              "        }\n",
              "      </script>\n",
              "    </div>\n",
              "  </div>\n",
              "  "
            ]
          },
          "metadata": {},
          "execution_count": 22
        }
      ]
    },
    {
      "cell_type": "code",
      "source": [
        "# PRIMERA FECHA DE REGISTRO\n",
        "\n",
        "df_new=df.loc[mask].groupby(['ID']).agg({'SAMPLETIME': [np.min]})\n",
        "df_new"
      ],
      "metadata": {
        "colab": {
          "base_uri": "https://localhost:8080/",
          "height": 488
        },
        "id": "9WuYcwPKVk_n",
        "outputId": "6f1a9f6a-deab-4ddc-cb97-911681546a0e"
      },
      "execution_count": null,
      "outputs": [
        {
          "output_type": "execute_result",
          "data": {
            "text/plain": [
              "              SAMPLETIME\n",
              "                    amin\n",
              "ID                      \n",
              "323  2019-05-10 15:36:36\n",
              "461  2019-05-08 18:35:58\n",
              "549  2019-05-08 12:06:50\n",
              "1225 2019-05-06 14:30:31\n",
              "1261 2019-05-10 16:12:03\n",
              "1506 2019-02-01 00:00:00\n",
              "1837 2019-05-10 17:35:37\n",
              "2001 2019-05-20 15:50:50\n",
              "2089 2019-04-18 10:02:05\n",
              "2231 2019-05-06 11:55:34\n",
              "2369 2019-05-30 11:47:47\n",
              "2690 2019-05-07 15:57:08"
            ],
            "text/html": [
              "\n",
              "  <div id=\"df-96f74cd5-4f5a-44fa-aab8-8226dbfc67a1\">\n",
              "    <div class=\"colab-df-container\">\n",
              "      <div>\n",
              "<style scoped>\n",
              "    .dataframe tbody tr th:only-of-type {\n",
              "        vertical-align: middle;\n",
              "    }\n",
              "\n",
              "    .dataframe tbody tr th {\n",
              "        vertical-align: top;\n",
              "    }\n",
              "\n",
              "    .dataframe thead tr th {\n",
              "        text-align: left;\n",
              "    }\n",
              "\n",
              "    .dataframe thead tr:last-of-type th {\n",
              "        text-align: right;\n",
              "    }\n",
              "</style>\n",
              "<table border=\"1\" class=\"dataframe\">\n",
              "  <thead>\n",
              "    <tr>\n",
              "      <th></th>\n",
              "      <th>SAMPLETIME</th>\n",
              "    </tr>\n",
              "    <tr>\n",
              "      <th></th>\n",
              "      <th>amin</th>\n",
              "    </tr>\n",
              "    <tr>\n",
              "      <th>ID</th>\n",
              "      <th></th>\n",
              "    </tr>\n",
              "  </thead>\n",
              "  <tbody>\n",
              "    <tr>\n",
              "      <th>323</th>\n",
              "      <td>2019-05-10 15:36:36</td>\n",
              "    </tr>\n",
              "    <tr>\n",
              "      <th>461</th>\n",
              "      <td>2019-05-08 18:35:58</td>\n",
              "    </tr>\n",
              "    <tr>\n",
              "      <th>549</th>\n",
              "      <td>2019-05-08 12:06:50</td>\n",
              "    </tr>\n",
              "    <tr>\n",
              "      <th>1225</th>\n",
              "      <td>2019-05-06 14:30:31</td>\n",
              "    </tr>\n",
              "    <tr>\n",
              "      <th>1261</th>\n",
              "      <td>2019-05-10 16:12:03</td>\n",
              "    </tr>\n",
              "    <tr>\n",
              "      <th>1506</th>\n",
              "      <td>2019-02-01 00:00:00</td>\n",
              "    </tr>\n",
              "    <tr>\n",
              "      <th>1837</th>\n",
              "      <td>2019-05-10 17:35:37</td>\n",
              "    </tr>\n",
              "    <tr>\n",
              "      <th>2001</th>\n",
              "      <td>2019-05-20 15:50:50</td>\n",
              "    </tr>\n",
              "    <tr>\n",
              "      <th>2089</th>\n",
              "      <td>2019-04-18 10:02:05</td>\n",
              "    </tr>\n",
              "    <tr>\n",
              "      <th>2231</th>\n",
              "      <td>2019-05-06 11:55:34</td>\n",
              "    </tr>\n",
              "    <tr>\n",
              "      <th>2369</th>\n",
              "      <td>2019-05-30 11:47:47</td>\n",
              "    </tr>\n",
              "    <tr>\n",
              "      <th>2690</th>\n",
              "      <td>2019-05-07 15:57:08</td>\n",
              "    </tr>\n",
              "  </tbody>\n",
              "</table>\n",
              "</div>\n",
              "      <button class=\"colab-df-convert\" onclick=\"convertToInteractive('df-96f74cd5-4f5a-44fa-aab8-8226dbfc67a1')\"\n",
              "              title=\"Convert this dataframe to an interactive table.\"\n",
              "              style=\"display:none;\">\n",
              "        \n",
              "  <svg xmlns=\"http://www.w3.org/2000/svg\" height=\"24px\"viewBox=\"0 0 24 24\"\n",
              "       width=\"24px\">\n",
              "    <path d=\"M0 0h24v24H0V0z\" fill=\"none\"/>\n",
              "    <path d=\"M18.56 5.44l.94 2.06.94-2.06 2.06-.94-2.06-.94-.94-2.06-.94 2.06-2.06.94zm-11 1L8.5 8.5l.94-2.06 2.06-.94-2.06-.94L8.5 2.5l-.94 2.06-2.06.94zm10 10l.94 2.06.94-2.06 2.06-.94-2.06-.94-.94-2.06-.94 2.06-2.06.94z\"/><path d=\"M17.41 7.96l-1.37-1.37c-.4-.4-.92-.59-1.43-.59-.52 0-1.04.2-1.43.59L10.3 9.45l-7.72 7.72c-.78.78-.78 2.05 0 2.83L4 21.41c.39.39.9.59 1.41.59.51 0 1.02-.2 1.41-.59l7.78-7.78 2.81-2.81c.8-.78.8-2.07 0-2.86zM5.41 20L4 18.59l7.72-7.72 1.47 1.35L5.41 20z\"/>\n",
              "  </svg>\n",
              "      </button>\n",
              "      \n",
              "  <style>\n",
              "    .colab-df-container {\n",
              "      display:flex;\n",
              "      flex-wrap:wrap;\n",
              "      gap: 12px;\n",
              "    }\n",
              "\n",
              "    .colab-df-convert {\n",
              "      background-color: #E8F0FE;\n",
              "      border: none;\n",
              "      border-radius: 50%;\n",
              "      cursor: pointer;\n",
              "      display: none;\n",
              "      fill: #1967D2;\n",
              "      height: 32px;\n",
              "      padding: 0 0 0 0;\n",
              "      width: 32px;\n",
              "    }\n",
              "\n",
              "    .colab-df-convert:hover {\n",
              "      background-color: #E2EBFA;\n",
              "      box-shadow: 0px 1px 2px rgba(60, 64, 67, 0.3), 0px 1px 3px 1px rgba(60, 64, 67, 0.15);\n",
              "      fill: #174EA6;\n",
              "    }\n",
              "\n",
              "    [theme=dark] .colab-df-convert {\n",
              "      background-color: #3B4455;\n",
              "      fill: #D2E3FC;\n",
              "    }\n",
              "\n",
              "    [theme=dark] .colab-df-convert:hover {\n",
              "      background-color: #434B5C;\n",
              "      box-shadow: 0px 1px 3px 1px rgba(0, 0, 0, 0.15);\n",
              "      filter: drop-shadow(0px 1px 2px rgba(0, 0, 0, 0.3));\n",
              "      fill: #FFFFFF;\n",
              "    }\n",
              "  </style>\n",
              "\n",
              "      <script>\n",
              "        const buttonEl =\n",
              "          document.querySelector('#df-96f74cd5-4f5a-44fa-aab8-8226dbfc67a1 button.colab-df-convert');\n",
              "        buttonEl.style.display =\n",
              "          google.colab.kernel.accessAllowed ? 'block' : 'none';\n",
              "\n",
              "        async function convertToInteractive(key) {\n",
              "          const element = document.querySelector('#df-96f74cd5-4f5a-44fa-aab8-8226dbfc67a1');\n",
              "          const dataTable =\n",
              "            await google.colab.kernel.invokeFunction('convertToInteractive',\n",
              "                                                     [key], {});\n",
              "          if (!dataTable) return;\n",
              "\n",
              "          const docLinkHtml = 'Like what you see? Visit the ' +\n",
              "            '<a target=\"_blank\" href=https://colab.research.google.com/notebooks/data_table.ipynb>data table notebook</a>'\n",
              "            + ' to learn more about interactive tables.';\n",
              "          element.innerHTML = '';\n",
              "          dataTable['output_type'] = 'display_data';\n",
              "          await google.colab.output.renderOutput(dataTable, element);\n",
              "          const docLink = document.createElement('div');\n",
              "          docLink.innerHTML = docLinkHtml;\n",
              "          element.appendChild(docLink);\n",
              "        }\n",
              "      </script>\n",
              "    </div>\n",
              "  </div>\n",
              "  "
            ]
          },
          "metadata": {},
          "execution_count": 23
        }
      ]
    },
    {
      "cell_type": "markdown",
      "source": [
        "CONCLUSIÓN DE ESTE PUNTO\n",
        "\n",
        "Se ha procedido a eliminar un total de 7 contadores  (272,1896,2135,2542,2544,2545,2547) al tener todos sus registros igual a 0.\n",
        "\n",
        "Respecto al resto de contadores, se observa que los ragistros igual a cero se corresponden con los primeros días de medida, confirmando nuestra teoría (el inicio de consumo de agua tiene lugar posterior a la fecha de alta del contador)."
      ],
      "metadata": {
        "id": "ZHWcSaB8sNkv"
      }
    },
    {
      "cell_type": "markdown",
      "source": [
        "### 2.3 Análisis de negativos"
      ],
      "metadata": {
        "id": "v07saZwwKKle"
      }
    },
    {
      "cell_type": "markdown",
      "source": [
        "En primer lugar, se procede a realizar un análisis del número de negativos exitente en la variable READING, la variable DELTA y en ambas variables."
      ],
      "metadata": {
        "id": "zrfKFVZTomKo"
      }
    },
    {
      "cell_type": "code",
      "source": [
        "delta_negativo= df[(df['DELTA']<0)]\n",
        "delta_negativo"
      ],
      "metadata": {
        "colab": {
          "base_uri": "https://localhost:8080/",
          "height": 423
        },
        "id": "4m5kcuUhol-Q",
        "outputId": "146b686f-a673-4f72-a42b-c510dd4df34e"
      },
      "execution_count": null,
      "outputs": [
        {
          "output_type": "execute_result",
          "data": {
            "text/plain": [
              "            ID          SAMPLETIME   READING  DELTA\n",
              "32172        3 2019-05-10 11:44:54  193908.0   -1.0\n",
              "62351        7 2019-04-25 11:36:10  200781.0   -4.0\n",
              "62348        7 2019-04-25 12:36:10  200780.0   -1.0\n",
              "66829        7 2019-04-25 13:36:10  200779.0   -1.0\n",
              "83620        9 2019-05-24 01:32:09  211841.0   -5.0\n",
              "...        ...                 ...       ...    ...\n",
              "21396527  2711 2019-12-16 10:22:29  -63614.0 -161.0\n",
              "21396533  2711 2019-12-16 11:22:29  -63736.0 -122.0\n",
              "21396539  2711 2019-12-16 12:22:29  -63854.0 -118.0\n",
              "21396538  2711 2019-12-16 13:22:30  -63961.0 -107.0\n",
              "21396547  2711 2019-12-16 14:22:30  -64078.0 -117.0\n",
              "\n",
              "[8653 rows x 4 columns]"
            ],
            "text/html": [
              "\n",
              "  <div id=\"df-07e94a14-2de8-4f1d-aeeb-cd8802bc1b61\">\n",
              "    <div class=\"colab-df-container\">\n",
              "      <div>\n",
              "<style scoped>\n",
              "    .dataframe tbody tr th:only-of-type {\n",
              "        vertical-align: middle;\n",
              "    }\n",
              "\n",
              "    .dataframe tbody tr th {\n",
              "        vertical-align: top;\n",
              "    }\n",
              "\n",
              "    .dataframe thead th {\n",
              "        text-align: right;\n",
              "    }\n",
              "</style>\n",
              "<table border=\"1\" class=\"dataframe\">\n",
              "  <thead>\n",
              "    <tr style=\"text-align: right;\">\n",
              "      <th></th>\n",
              "      <th>ID</th>\n",
              "      <th>SAMPLETIME</th>\n",
              "      <th>READING</th>\n",
              "      <th>DELTA</th>\n",
              "    </tr>\n",
              "  </thead>\n",
              "  <tbody>\n",
              "    <tr>\n",
              "      <th>32172</th>\n",
              "      <td>3</td>\n",
              "      <td>2019-05-10 11:44:54</td>\n",
              "      <td>193908.0</td>\n",
              "      <td>-1.0</td>\n",
              "    </tr>\n",
              "    <tr>\n",
              "      <th>62351</th>\n",
              "      <td>7</td>\n",
              "      <td>2019-04-25 11:36:10</td>\n",
              "      <td>200781.0</td>\n",
              "      <td>-4.0</td>\n",
              "    </tr>\n",
              "    <tr>\n",
              "      <th>62348</th>\n",
              "      <td>7</td>\n",
              "      <td>2019-04-25 12:36:10</td>\n",
              "      <td>200780.0</td>\n",
              "      <td>-1.0</td>\n",
              "    </tr>\n",
              "    <tr>\n",
              "      <th>66829</th>\n",
              "      <td>7</td>\n",
              "      <td>2019-04-25 13:36:10</td>\n",
              "      <td>200779.0</td>\n",
              "      <td>-1.0</td>\n",
              "    </tr>\n",
              "    <tr>\n",
              "      <th>83620</th>\n",
              "      <td>9</td>\n",
              "      <td>2019-05-24 01:32:09</td>\n",
              "      <td>211841.0</td>\n",
              "      <td>-5.0</td>\n",
              "    </tr>\n",
              "    <tr>\n",
              "      <th>...</th>\n",
              "      <td>...</td>\n",
              "      <td>...</td>\n",
              "      <td>...</td>\n",
              "      <td>...</td>\n",
              "    </tr>\n",
              "    <tr>\n",
              "      <th>21396527</th>\n",
              "      <td>2711</td>\n",
              "      <td>2019-12-16 10:22:29</td>\n",
              "      <td>-63614.0</td>\n",
              "      <td>-161.0</td>\n",
              "    </tr>\n",
              "    <tr>\n",
              "      <th>21396533</th>\n",
              "      <td>2711</td>\n",
              "      <td>2019-12-16 11:22:29</td>\n",
              "      <td>-63736.0</td>\n",
              "      <td>-122.0</td>\n",
              "    </tr>\n",
              "    <tr>\n",
              "      <th>21396539</th>\n",
              "      <td>2711</td>\n",
              "      <td>2019-12-16 12:22:29</td>\n",
              "      <td>-63854.0</td>\n",
              "      <td>-118.0</td>\n",
              "    </tr>\n",
              "    <tr>\n",
              "      <th>21396538</th>\n",
              "      <td>2711</td>\n",
              "      <td>2019-12-16 13:22:30</td>\n",
              "      <td>-63961.0</td>\n",
              "      <td>-107.0</td>\n",
              "    </tr>\n",
              "    <tr>\n",
              "      <th>21396547</th>\n",
              "      <td>2711</td>\n",
              "      <td>2019-12-16 14:22:30</td>\n",
              "      <td>-64078.0</td>\n",
              "      <td>-117.0</td>\n",
              "    </tr>\n",
              "  </tbody>\n",
              "</table>\n",
              "<p>8653 rows × 4 columns</p>\n",
              "</div>\n",
              "      <button class=\"colab-df-convert\" onclick=\"convertToInteractive('df-07e94a14-2de8-4f1d-aeeb-cd8802bc1b61')\"\n",
              "              title=\"Convert this dataframe to an interactive table.\"\n",
              "              style=\"display:none;\">\n",
              "        \n",
              "  <svg xmlns=\"http://www.w3.org/2000/svg\" height=\"24px\"viewBox=\"0 0 24 24\"\n",
              "       width=\"24px\">\n",
              "    <path d=\"M0 0h24v24H0V0z\" fill=\"none\"/>\n",
              "    <path d=\"M18.56 5.44l.94 2.06.94-2.06 2.06-.94-2.06-.94-.94-2.06-.94 2.06-2.06.94zm-11 1L8.5 8.5l.94-2.06 2.06-.94-2.06-.94L8.5 2.5l-.94 2.06-2.06.94zm10 10l.94 2.06.94-2.06 2.06-.94-2.06-.94-.94-2.06-.94 2.06-2.06.94z\"/><path d=\"M17.41 7.96l-1.37-1.37c-.4-.4-.92-.59-1.43-.59-.52 0-1.04.2-1.43.59L10.3 9.45l-7.72 7.72c-.78.78-.78 2.05 0 2.83L4 21.41c.39.39.9.59 1.41.59.51 0 1.02-.2 1.41-.59l7.78-7.78 2.81-2.81c.8-.78.8-2.07 0-2.86zM5.41 20L4 18.59l7.72-7.72 1.47 1.35L5.41 20z\"/>\n",
              "  </svg>\n",
              "      </button>\n",
              "      \n",
              "  <style>\n",
              "    .colab-df-container {\n",
              "      display:flex;\n",
              "      flex-wrap:wrap;\n",
              "      gap: 12px;\n",
              "    }\n",
              "\n",
              "    .colab-df-convert {\n",
              "      background-color: #E8F0FE;\n",
              "      border: none;\n",
              "      border-radius: 50%;\n",
              "      cursor: pointer;\n",
              "      display: none;\n",
              "      fill: #1967D2;\n",
              "      height: 32px;\n",
              "      padding: 0 0 0 0;\n",
              "      width: 32px;\n",
              "    }\n",
              "\n",
              "    .colab-df-convert:hover {\n",
              "      background-color: #E2EBFA;\n",
              "      box-shadow: 0px 1px 2px rgba(60, 64, 67, 0.3), 0px 1px 3px 1px rgba(60, 64, 67, 0.15);\n",
              "      fill: #174EA6;\n",
              "    }\n",
              "\n",
              "    [theme=dark] .colab-df-convert {\n",
              "      background-color: #3B4455;\n",
              "      fill: #D2E3FC;\n",
              "    }\n",
              "\n",
              "    [theme=dark] .colab-df-convert:hover {\n",
              "      background-color: #434B5C;\n",
              "      box-shadow: 0px 1px 3px 1px rgba(0, 0, 0, 0.15);\n",
              "      filter: drop-shadow(0px 1px 2px rgba(0, 0, 0, 0.3));\n",
              "      fill: #FFFFFF;\n",
              "    }\n",
              "  </style>\n",
              "\n",
              "      <script>\n",
              "        const buttonEl =\n",
              "          document.querySelector('#df-07e94a14-2de8-4f1d-aeeb-cd8802bc1b61 button.colab-df-convert');\n",
              "        buttonEl.style.display =\n",
              "          google.colab.kernel.accessAllowed ? 'block' : 'none';\n",
              "\n",
              "        async function convertToInteractive(key) {\n",
              "          const element = document.querySelector('#df-07e94a14-2de8-4f1d-aeeb-cd8802bc1b61');\n",
              "          const dataTable =\n",
              "            await google.colab.kernel.invokeFunction('convertToInteractive',\n",
              "                                                     [key], {});\n",
              "          if (!dataTable) return;\n",
              "\n",
              "          const docLinkHtml = 'Like what you see? Visit the ' +\n",
              "            '<a target=\"_blank\" href=https://colab.research.google.com/notebooks/data_table.ipynb>data table notebook</a>'\n",
              "            + ' to learn more about interactive tables.';\n",
              "          element.innerHTML = '';\n",
              "          dataTable['output_type'] = 'display_data';\n",
              "          await google.colab.output.renderOutput(dataTable, element);\n",
              "          const docLink = document.createElement('div');\n",
              "          docLink.innerHTML = docLinkHtml;\n",
              "          element.appendChild(docLink);\n",
              "        }\n",
              "      </script>\n",
              "    </div>\n",
              "  </div>\n",
              "  "
            ]
          },
          "metadata": {},
          "execution_count": 24
        }
      ]
    },
    {
      "cell_type": "code",
      "source": [
        "len(delta_negativo['ID'].unique())"
      ],
      "metadata": {
        "colab": {
          "base_uri": "https://localhost:8080/"
        },
        "id": "QnZRBk2IttcW",
        "outputId": "352ea523-a691-4cf2-e11c-469c3ae406aa"
      },
      "execution_count": null,
      "outputs": [
        {
          "output_type": "execute_result",
          "data": {
            "text/plain": [
              "486"
            ]
          },
          "metadata": {},
          "execution_count": 25
        }
      ]
    },
    {
      "cell_type": "markdown",
      "source": [
        "Un total de 486 contadores presentan algún registro con DELTA negativo."
      ],
      "metadata": {
        "id": "skSf1S5FtyBx"
      }
    },
    {
      "cell_type": "code",
      "source": [
        "reading_negativo=df[(df['READING']<0)]\n",
        "reading_negativo"
      ],
      "metadata": {
        "colab": {
          "base_uri": "https://localhost:8080/",
          "height": 423
        },
        "id": "XjXNSQDRprdC",
        "outputId": "d7a3c527-f35d-47a1-833e-9b418d7633fe"
      },
      "execution_count": null,
      "outputs": [
        {
          "output_type": "execute_result",
          "data": {
            "text/plain": [
              "            ID          SAMPLETIME  READING  DELTA\n",
              "8892982   1041 2019-02-01 00:44:59 -29505.0    0.0\n",
              "8892975   1041 2019-02-01 01:44:59 -29505.0    0.0\n",
              "8892991   1041 2019-02-01 02:00:00 -29505.0    0.0\n",
              "8892980   1041 2019-02-01 03:00:00 -29505.0    0.0\n",
              "8892974   1041 2019-02-01 04:00:00 -29505.0    0.0\n",
              "...        ...                 ...      ...    ...\n",
              "21395487  2711 2020-01-31 19:20:51 -12934.0    1.0\n",
              "21395485  2711 2020-01-31 20:20:51 -12933.0    1.0\n",
              "21395486  2711 2020-01-31 21:20:54 -12925.0    8.0\n",
              "21395482  2711 2020-01-31 22:20:54 -12924.0    1.0\n",
              "21395480  2711 2020-01-31 23:20:54 -12924.0    0.0\n",
              "\n",
              "[11529 rows x 4 columns]"
            ],
            "text/html": [
              "\n",
              "  <div id=\"df-98aba069-d4d6-4733-a5ff-c8415c79535d\">\n",
              "    <div class=\"colab-df-container\">\n",
              "      <div>\n",
              "<style scoped>\n",
              "    .dataframe tbody tr th:only-of-type {\n",
              "        vertical-align: middle;\n",
              "    }\n",
              "\n",
              "    .dataframe tbody tr th {\n",
              "        vertical-align: top;\n",
              "    }\n",
              "\n",
              "    .dataframe thead th {\n",
              "        text-align: right;\n",
              "    }\n",
              "</style>\n",
              "<table border=\"1\" class=\"dataframe\">\n",
              "  <thead>\n",
              "    <tr style=\"text-align: right;\">\n",
              "      <th></th>\n",
              "      <th>ID</th>\n",
              "      <th>SAMPLETIME</th>\n",
              "      <th>READING</th>\n",
              "      <th>DELTA</th>\n",
              "    </tr>\n",
              "  </thead>\n",
              "  <tbody>\n",
              "    <tr>\n",
              "      <th>8892982</th>\n",
              "      <td>1041</td>\n",
              "      <td>2019-02-01 00:44:59</td>\n",
              "      <td>-29505.0</td>\n",
              "      <td>0.0</td>\n",
              "    </tr>\n",
              "    <tr>\n",
              "      <th>8892975</th>\n",
              "      <td>1041</td>\n",
              "      <td>2019-02-01 01:44:59</td>\n",
              "      <td>-29505.0</td>\n",
              "      <td>0.0</td>\n",
              "    </tr>\n",
              "    <tr>\n",
              "      <th>8892991</th>\n",
              "      <td>1041</td>\n",
              "      <td>2019-02-01 02:00:00</td>\n",
              "      <td>-29505.0</td>\n",
              "      <td>0.0</td>\n",
              "    </tr>\n",
              "    <tr>\n",
              "      <th>8892980</th>\n",
              "      <td>1041</td>\n",
              "      <td>2019-02-01 03:00:00</td>\n",
              "      <td>-29505.0</td>\n",
              "      <td>0.0</td>\n",
              "    </tr>\n",
              "    <tr>\n",
              "      <th>8892974</th>\n",
              "      <td>1041</td>\n",
              "      <td>2019-02-01 04:00:00</td>\n",
              "      <td>-29505.0</td>\n",
              "      <td>0.0</td>\n",
              "    </tr>\n",
              "    <tr>\n",
              "      <th>...</th>\n",
              "      <td>...</td>\n",
              "      <td>...</td>\n",
              "      <td>...</td>\n",
              "      <td>...</td>\n",
              "    </tr>\n",
              "    <tr>\n",
              "      <th>21395487</th>\n",
              "      <td>2711</td>\n",
              "      <td>2020-01-31 19:20:51</td>\n",
              "      <td>-12934.0</td>\n",
              "      <td>1.0</td>\n",
              "    </tr>\n",
              "    <tr>\n",
              "      <th>21395485</th>\n",
              "      <td>2711</td>\n",
              "      <td>2020-01-31 20:20:51</td>\n",
              "      <td>-12933.0</td>\n",
              "      <td>1.0</td>\n",
              "    </tr>\n",
              "    <tr>\n",
              "      <th>21395486</th>\n",
              "      <td>2711</td>\n",
              "      <td>2020-01-31 21:20:54</td>\n",
              "      <td>-12925.0</td>\n",
              "      <td>8.0</td>\n",
              "    </tr>\n",
              "    <tr>\n",
              "      <th>21395482</th>\n",
              "      <td>2711</td>\n",
              "      <td>2020-01-31 22:20:54</td>\n",
              "      <td>-12924.0</td>\n",
              "      <td>1.0</td>\n",
              "    </tr>\n",
              "    <tr>\n",
              "      <th>21395480</th>\n",
              "      <td>2711</td>\n",
              "      <td>2020-01-31 23:20:54</td>\n",
              "      <td>-12924.0</td>\n",
              "      <td>0.0</td>\n",
              "    </tr>\n",
              "  </tbody>\n",
              "</table>\n",
              "<p>11529 rows × 4 columns</p>\n",
              "</div>\n",
              "      <button class=\"colab-df-convert\" onclick=\"convertToInteractive('df-98aba069-d4d6-4733-a5ff-c8415c79535d')\"\n",
              "              title=\"Convert this dataframe to an interactive table.\"\n",
              "              style=\"display:none;\">\n",
              "        \n",
              "  <svg xmlns=\"http://www.w3.org/2000/svg\" height=\"24px\"viewBox=\"0 0 24 24\"\n",
              "       width=\"24px\">\n",
              "    <path d=\"M0 0h24v24H0V0z\" fill=\"none\"/>\n",
              "    <path d=\"M18.56 5.44l.94 2.06.94-2.06 2.06-.94-2.06-.94-.94-2.06-.94 2.06-2.06.94zm-11 1L8.5 8.5l.94-2.06 2.06-.94-2.06-.94L8.5 2.5l-.94 2.06-2.06.94zm10 10l.94 2.06.94-2.06 2.06-.94-2.06-.94-.94-2.06-.94 2.06-2.06.94z\"/><path d=\"M17.41 7.96l-1.37-1.37c-.4-.4-.92-.59-1.43-.59-.52 0-1.04.2-1.43.59L10.3 9.45l-7.72 7.72c-.78.78-.78 2.05 0 2.83L4 21.41c.39.39.9.59 1.41.59.51 0 1.02-.2 1.41-.59l7.78-7.78 2.81-2.81c.8-.78.8-2.07 0-2.86zM5.41 20L4 18.59l7.72-7.72 1.47 1.35L5.41 20z\"/>\n",
              "  </svg>\n",
              "      </button>\n",
              "      \n",
              "  <style>\n",
              "    .colab-df-container {\n",
              "      display:flex;\n",
              "      flex-wrap:wrap;\n",
              "      gap: 12px;\n",
              "    }\n",
              "\n",
              "    .colab-df-convert {\n",
              "      background-color: #E8F0FE;\n",
              "      border: none;\n",
              "      border-radius: 50%;\n",
              "      cursor: pointer;\n",
              "      display: none;\n",
              "      fill: #1967D2;\n",
              "      height: 32px;\n",
              "      padding: 0 0 0 0;\n",
              "      width: 32px;\n",
              "    }\n",
              "\n",
              "    .colab-df-convert:hover {\n",
              "      background-color: #E2EBFA;\n",
              "      box-shadow: 0px 1px 2px rgba(60, 64, 67, 0.3), 0px 1px 3px 1px rgba(60, 64, 67, 0.15);\n",
              "      fill: #174EA6;\n",
              "    }\n",
              "\n",
              "    [theme=dark] .colab-df-convert {\n",
              "      background-color: #3B4455;\n",
              "      fill: #D2E3FC;\n",
              "    }\n",
              "\n",
              "    [theme=dark] .colab-df-convert:hover {\n",
              "      background-color: #434B5C;\n",
              "      box-shadow: 0px 1px 3px 1px rgba(0, 0, 0, 0.15);\n",
              "      filter: drop-shadow(0px 1px 2px rgba(0, 0, 0, 0.3));\n",
              "      fill: #FFFFFF;\n",
              "    }\n",
              "  </style>\n",
              "\n",
              "      <script>\n",
              "        const buttonEl =\n",
              "          document.querySelector('#df-98aba069-d4d6-4733-a5ff-c8415c79535d button.colab-df-convert');\n",
              "        buttonEl.style.display =\n",
              "          google.colab.kernel.accessAllowed ? 'block' : 'none';\n",
              "\n",
              "        async function convertToInteractive(key) {\n",
              "          const element = document.querySelector('#df-98aba069-d4d6-4733-a5ff-c8415c79535d');\n",
              "          const dataTable =\n",
              "            await google.colab.kernel.invokeFunction('convertToInteractive',\n",
              "                                                     [key], {});\n",
              "          if (!dataTable) return;\n",
              "\n",
              "          const docLinkHtml = 'Like what you see? Visit the ' +\n",
              "            '<a target=\"_blank\" href=https://colab.research.google.com/notebooks/data_table.ipynb>data table notebook</a>'\n",
              "            + ' to learn more about interactive tables.';\n",
              "          element.innerHTML = '';\n",
              "          dataTable['output_type'] = 'display_data';\n",
              "          await google.colab.output.renderOutput(dataTable, element);\n",
              "          const docLink = document.createElement('div');\n",
              "          docLink.innerHTML = docLinkHtml;\n",
              "          element.appendChild(docLink);\n",
              "        }\n",
              "      </script>\n",
              "    </div>\n",
              "  </div>\n",
              "  "
            ]
          },
          "metadata": {},
          "execution_count": 26
        }
      ]
    },
    {
      "cell_type": "code",
      "source": [
        "len(reading_negativo['ID'].unique())"
      ],
      "metadata": {
        "colab": {
          "base_uri": "https://localhost:8080/"
        },
        "id": "Fv1AnvrMt4nR",
        "outputId": "3e026677-9dc3-4457-bc43-01360a5eb937"
      },
      "execution_count": null,
      "outputs": [
        {
          "output_type": "execute_result",
          "data": {
            "text/plain": [
              "2"
            ]
          },
          "metadata": {},
          "execution_count": 27
        }
      ]
    },
    {
      "cell_type": "code",
      "source": [
        "reading_negativo['ID'].unique()"
      ],
      "metadata": {
        "colab": {
          "base_uri": "https://localhost:8080/"
        },
        "id": "husEWuc3t41p",
        "outputId": "0743bbe7-3d9e-4e25-b755-b9245c4ab8d5"
      },
      "execution_count": null,
      "outputs": [
        {
          "output_type": "execute_result",
          "data": {
            "text/plain": [
              "array([1041, 2711])"
            ]
          },
          "metadata": {},
          "execution_count": 28
        }
      ]
    },
    {
      "cell_type": "markdown",
      "source": [
        "Unicamente dos contadores presentan registros de lectura negativos (el 1041 y el 2711)."
      ],
      "metadata": {
        "id": "yeBzm-gBuBIT"
      }
    },
    {
      "cell_type": "code",
      "source": [
        "los_dos_negativos=df[(df['DELTA']<0) & (df['READING']<0)]\n",
        "los_dos_negativos"
      ],
      "metadata": {
        "colab": {
          "base_uri": "https://localhost:8080/",
          "height": 423
        },
        "id": "xtcuX5_sps1Q",
        "outputId": "6bbb95da-101f-4ad7-dee5-9ae32901c94d"
      },
      "execution_count": null,
      "outputs": [
        {
          "output_type": "execute_result",
          "data": {
            "text/plain": [
              "            ID          SAMPLETIME  READING  DELTA\n",
              "8899519   1041 2019-12-19 14:29:24 -23199.0  -10.0\n",
              "8899515   1041 2019-12-19 15:29:24 -23202.0   -3.0\n",
              "21396079  2711 2019-10-08 15:25:03  -8498.0 -153.0\n",
              "21396080  2711 2019-10-08 16:25:03  -8592.0  -94.0\n",
              "21396085  2711 2019-10-08 17:25:03  -8756.0 -164.0\n",
              "...        ...                 ...      ...    ...\n",
              "21396527  2711 2019-12-16 10:22:29 -63614.0 -161.0\n",
              "21396533  2711 2019-12-16 11:22:29 -63736.0 -122.0\n",
              "21396539  2711 2019-12-16 12:22:29 -63854.0 -118.0\n",
              "21396538  2711 2019-12-16 13:22:30 -63961.0 -107.0\n",
              "21396547  2711 2019-12-16 14:22:30 -64078.0 -117.0\n",
              "\n",
              "[910 rows x 4 columns]"
            ],
            "text/html": [
              "\n",
              "  <div id=\"df-3744ad2e-30cf-44a3-9518-27ea5f8daa2b\">\n",
              "    <div class=\"colab-df-container\">\n",
              "      <div>\n",
              "<style scoped>\n",
              "    .dataframe tbody tr th:only-of-type {\n",
              "        vertical-align: middle;\n",
              "    }\n",
              "\n",
              "    .dataframe tbody tr th {\n",
              "        vertical-align: top;\n",
              "    }\n",
              "\n",
              "    .dataframe thead th {\n",
              "        text-align: right;\n",
              "    }\n",
              "</style>\n",
              "<table border=\"1\" class=\"dataframe\">\n",
              "  <thead>\n",
              "    <tr style=\"text-align: right;\">\n",
              "      <th></th>\n",
              "      <th>ID</th>\n",
              "      <th>SAMPLETIME</th>\n",
              "      <th>READING</th>\n",
              "      <th>DELTA</th>\n",
              "    </tr>\n",
              "  </thead>\n",
              "  <tbody>\n",
              "    <tr>\n",
              "      <th>8899519</th>\n",
              "      <td>1041</td>\n",
              "      <td>2019-12-19 14:29:24</td>\n",
              "      <td>-23199.0</td>\n",
              "      <td>-10.0</td>\n",
              "    </tr>\n",
              "    <tr>\n",
              "      <th>8899515</th>\n",
              "      <td>1041</td>\n",
              "      <td>2019-12-19 15:29:24</td>\n",
              "      <td>-23202.0</td>\n",
              "      <td>-3.0</td>\n",
              "    </tr>\n",
              "    <tr>\n",
              "      <th>21396079</th>\n",
              "      <td>2711</td>\n",
              "      <td>2019-10-08 15:25:03</td>\n",
              "      <td>-8498.0</td>\n",
              "      <td>-153.0</td>\n",
              "    </tr>\n",
              "    <tr>\n",
              "      <th>21396080</th>\n",
              "      <td>2711</td>\n",
              "      <td>2019-10-08 16:25:03</td>\n",
              "      <td>-8592.0</td>\n",
              "      <td>-94.0</td>\n",
              "    </tr>\n",
              "    <tr>\n",
              "      <th>21396085</th>\n",
              "      <td>2711</td>\n",
              "      <td>2019-10-08 17:25:03</td>\n",
              "      <td>-8756.0</td>\n",
              "      <td>-164.0</td>\n",
              "    </tr>\n",
              "    <tr>\n",
              "      <th>...</th>\n",
              "      <td>...</td>\n",
              "      <td>...</td>\n",
              "      <td>...</td>\n",
              "      <td>...</td>\n",
              "    </tr>\n",
              "    <tr>\n",
              "      <th>21396527</th>\n",
              "      <td>2711</td>\n",
              "      <td>2019-12-16 10:22:29</td>\n",
              "      <td>-63614.0</td>\n",
              "      <td>-161.0</td>\n",
              "    </tr>\n",
              "    <tr>\n",
              "      <th>21396533</th>\n",
              "      <td>2711</td>\n",
              "      <td>2019-12-16 11:22:29</td>\n",
              "      <td>-63736.0</td>\n",
              "      <td>-122.0</td>\n",
              "    </tr>\n",
              "    <tr>\n",
              "      <th>21396539</th>\n",
              "      <td>2711</td>\n",
              "      <td>2019-12-16 12:22:29</td>\n",
              "      <td>-63854.0</td>\n",
              "      <td>-118.0</td>\n",
              "    </tr>\n",
              "    <tr>\n",
              "      <th>21396538</th>\n",
              "      <td>2711</td>\n",
              "      <td>2019-12-16 13:22:30</td>\n",
              "      <td>-63961.0</td>\n",
              "      <td>-107.0</td>\n",
              "    </tr>\n",
              "    <tr>\n",
              "      <th>21396547</th>\n",
              "      <td>2711</td>\n",
              "      <td>2019-12-16 14:22:30</td>\n",
              "      <td>-64078.0</td>\n",
              "      <td>-117.0</td>\n",
              "    </tr>\n",
              "  </tbody>\n",
              "</table>\n",
              "<p>910 rows × 4 columns</p>\n",
              "</div>\n",
              "      <button class=\"colab-df-convert\" onclick=\"convertToInteractive('df-3744ad2e-30cf-44a3-9518-27ea5f8daa2b')\"\n",
              "              title=\"Convert this dataframe to an interactive table.\"\n",
              "              style=\"display:none;\">\n",
              "        \n",
              "  <svg xmlns=\"http://www.w3.org/2000/svg\" height=\"24px\"viewBox=\"0 0 24 24\"\n",
              "       width=\"24px\">\n",
              "    <path d=\"M0 0h24v24H0V0z\" fill=\"none\"/>\n",
              "    <path d=\"M18.56 5.44l.94 2.06.94-2.06 2.06-.94-2.06-.94-.94-2.06-.94 2.06-2.06.94zm-11 1L8.5 8.5l.94-2.06 2.06-.94-2.06-.94L8.5 2.5l-.94 2.06-2.06.94zm10 10l.94 2.06.94-2.06 2.06-.94-2.06-.94-.94-2.06-.94 2.06-2.06.94z\"/><path d=\"M17.41 7.96l-1.37-1.37c-.4-.4-.92-.59-1.43-.59-.52 0-1.04.2-1.43.59L10.3 9.45l-7.72 7.72c-.78.78-.78 2.05 0 2.83L4 21.41c.39.39.9.59 1.41.59.51 0 1.02-.2 1.41-.59l7.78-7.78 2.81-2.81c.8-.78.8-2.07 0-2.86zM5.41 20L4 18.59l7.72-7.72 1.47 1.35L5.41 20z\"/>\n",
              "  </svg>\n",
              "      </button>\n",
              "      \n",
              "  <style>\n",
              "    .colab-df-container {\n",
              "      display:flex;\n",
              "      flex-wrap:wrap;\n",
              "      gap: 12px;\n",
              "    }\n",
              "\n",
              "    .colab-df-convert {\n",
              "      background-color: #E8F0FE;\n",
              "      border: none;\n",
              "      border-radius: 50%;\n",
              "      cursor: pointer;\n",
              "      display: none;\n",
              "      fill: #1967D2;\n",
              "      height: 32px;\n",
              "      padding: 0 0 0 0;\n",
              "      width: 32px;\n",
              "    }\n",
              "\n",
              "    .colab-df-convert:hover {\n",
              "      background-color: #E2EBFA;\n",
              "      box-shadow: 0px 1px 2px rgba(60, 64, 67, 0.3), 0px 1px 3px 1px rgba(60, 64, 67, 0.15);\n",
              "      fill: #174EA6;\n",
              "    }\n",
              "\n",
              "    [theme=dark] .colab-df-convert {\n",
              "      background-color: #3B4455;\n",
              "      fill: #D2E3FC;\n",
              "    }\n",
              "\n",
              "    [theme=dark] .colab-df-convert:hover {\n",
              "      background-color: #434B5C;\n",
              "      box-shadow: 0px 1px 3px 1px rgba(0, 0, 0, 0.15);\n",
              "      filter: drop-shadow(0px 1px 2px rgba(0, 0, 0, 0.3));\n",
              "      fill: #FFFFFF;\n",
              "    }\n",
              "  </style>\n",
              "\n",
              "      <script>\n",
              "        const buttonEl =\n",
              "          document.querySelector('#df-3744ad2e-30cf-44a3-9518-27ea5f8daa2b button.colab-df-convert');\n",
              "        buttonEl.style.display =\n",
              "          google.colab.kernel.accessAllowed ? 'block' : 'none';\n",
              "\n",
              "        async function convertToInteractive(key) {\n",
              "          const element = document.querySelector('#df-3744ad2e-30cf-44a3-9518-27ea5f8daa2b');\n",
              "          const dataTable =\n",
              "            await google.colab.kernel.invokeFunction('convertToInteractive',\n",
              "                                                     [key], {});\n",
              "          if (!dataTable) return;\n",
              "\n",
              "          const docLinkHtml = 'Like what you see? Visit the ' +\n",
              "            '<a target=\"_blank\" href=https://colab.research.google.com/notebooks/data_table.ipynb>data table notebook</a>'\n",
              "            + ' to learn more about interactive tables.';\n",
              "          element.innerHTML = '';\n",
              "          dataTable['output_type'] = 'display_data';\n",
              "          await google.colab.output.renderOutput(dataTable, element);\n",
              "          const docLink = document.createElement('div');\n",
              "          docLink.innerHTML = docLinkHtml;\n",
              "          element.appendChild(docLink);\n",
              "        }\n",
              "      </script>\n",
              "    </div>\n",
              "  </div>\n",
              "  "
            ]
          },
          "metadata": {},
          "execution_count": 29
        }
      ]
    },
    {
      "cell_type": "code",
      "source": [
        "los_dos_negativos['ID'].unique()"
      ],
      "metadata": {
        "colab": {
          "base_uri": "https://localhost:8080/"
        },
        "id": "S_KoDvUguK_Z",
        "outputId": "2e273e01-9400-4483-a9b6-221944505c20"
      },
      "execution_count": null,
      "outputs": [
        {
          "output_type": "execute_result",
          "data": {
            "text/plain": [
              "array([1041, 2711])"
            ]
          },
          "metadata": {},
          "execution_count": 30
        }
      ]
    },
    {
      "cell_type": "markdown",
      "source": [
        "Se detecta, además, que los dos contadores con READING negativo presentan también un DELTA negativo."
      ],
      "metadata": {
        "id": "_r88NCWJAI4G"
      }
    },
    {
      "cell_type": "markdown",
      "source": [
        "Veamos que ocurre con estos dos contadores problematicos (1041, 2711)"
      ],
      "metadata": {
        "id": "35Jeujoxuc9E"
      }
    },
    {
      "cell_type": "markdown",
      "source": [
        "#### 2.3.1. ANÁLISIS CONTADOR PROBLEMÁTICO 2711"
      ],
      "metadata": {
        "id": "T_zmnyM-Ak3x"
      }
    },
    {
      "cell_type": "code",
      "source": [
        "DF_2711= df[(df['ID']==2711)]\n",
        "DF_2711.head(15)"
      ],
      "metadata": {
        "colab": {
          "base_uri": "https://localhost:8080/",
          "height": 520
        },
        "id": "U3OvhNN_olN_",
        "outputId": "69a520e4-0ae9-44d5-eae4-88f05b6e8bce"
      },
      "execution_count": null,
      "outputs": [
        {
          "output_type": "execute_result",
          "data": {
            "text/plain": [
              "            ID          SAMPLETIME  READING  DELTA\n",
              "21396086  2711 2019-10-08 14:25:03  -8345.0    0.0\n",
              "21396079  2711 2019-10-08 15:25:03  -8498.0 -153.0\n",
              "21396080  2711 2019-10-08 16:25:03  -8592.0  -94.0\n",
              "21396085  2711 2019-10-08 17:25:03  -8756.0 -164.0\n",
              "21396083  2711 2019-10-08 18:25:02  -8856.0 -100.0\n",
              "21396087  2711 2019-10-08 19:25:02  -8878.0  -22.0\n",
              "21396082  2711 2019-10-08 20:25:02  -8879.0   -1.0\n",
              "21396084  2711 2019-10-08 21:25:02  -8880.0   -1.0\n",
              "21396081  2711 2019-10-08 22:25:03  -8880.0    0.0\n",
              "21395260  2711 2019-10-08 23:25:03  -8880.0    0.0\n",
              "21396100  2711 2019-10-09 00:25:03  -8881.0   -1.0\n",
              "21396105  2711 2019-10-09 01:25:03  -8882.0   -1.0\n",
              "21396104  2711 2019-10-09 02:24:58  -8882.0    0.0\n",
              "21396088  2711 2019-10-09 03:24:58  -8883.0   -1.0\n",
              "21396098  2711 2019-10-09 04:24:58  -8883.0    0.0"
            ],
            "text/html": [
              "\n",
              "  <div id=\"df-db026c50-9f45-49e4-8e67-b672e7ae3fc3\">\n",
              "    <div class=\"colab-df-container\">\n",
              "      <div>\n",
              "<style scoped>\n",
              "    .dataframe tbody tr th:only-of-type {\n",
              "        vertical-align: middle;\n",
              "    }\n",
              "\n",
              "    .dataframe tbody tr th {\n",
              "        vertical-align: top;\n",
              "    }\n",
              "\n",
              "    .dataframe thead th {\n",
              "        text-align: right;\n",
              "    }\n",
              "</style>\n",
              "<table border=\"1\" class=\"dataframe\">\n",
              "  <thead>\n",
              "    <tr style=\"text-align: right;\">\n",
              "      <th></th>\n",
              "      <th>ID</th>\n",
              "      <th>SAMPLETIME</th>\n",
              "      <th>READING</th>\n",
              "      <th>DELTA</th>\n",
              "    </tr>\n",
              "  </thead>\n",
              "  <tbody>\n",
              "    <tr>\n",
              "      <th>21396086</th>\n",
              "      <td>2711</td>\n",
              "      <td>2019-10-08 14:25:03</td>\n",
              "      <td>-8345.0</td>\n",
              "      <td>0.0</td>\n",
              "    </tr>\n",
              "    <tr>\n",
              "      <th>21396079</th>\n",
              "      <td>2711</td>\n",
              "      <td>2019-10-08 15:25:03</td>\n",
              "      <td>-8498.0</td>\n",
              "      <td>-153.0</td>\n",
              "    </tr>\n",
              "    <tr>\n",
              "      <th>21396080</th>\n",
              "      <td>2711</td>\n",
              "      <td>2019-10-08 16:25:03</td>\n",
              "      <td>-8592.0</td>\n",
              "      <td>-94.0</td>\n",
              "    </tr>\n",
              "    <tr>\n",
              "      <th>21396085</th>\n",
              "      <td>2711</td>\n",
              "      <td>2019-10-08 17:25:03</td>\n",
              "      <td>-8756.0</td>\n",
              "      <td>-164.0</td>\n",
              "    </tr>\n",
              "    <tr>\n",
              "      <th>21396083</th>\n",
              "      <td>2711</td>\n",
              "      <td>2019-10-08 18:25:02</td>\n",
              "      <td>-8856.0</td>\n",
              "      <td>-100.0</td>\n",
              "    </tr>\n",
              "    <tr>\n",
              "      <th>21396087</th>\n",
              "      <td>2711</td>\n",
              "      <td>2019-10-08 19:25:02</td>\n",
              "      <td>-8878.0</td>\n",
              "      <td>-22.0</td>\n",
              "    </tr>\n",
              "    <tr>\n",
              "      <th>21396082</th>\n",
              "      <td>2711</td>\n",
              "      <td>2019-10-08 20:25:02</td>\n",
              "      <td>-8879.0</td>\n",
              "      <td>-1.0</td>\n",
              "    </tr>\n",
              "    <tr>\n",
              "      <th>21396084</th>\n",
              "      <td>2711</td>\n",
              "      <td>2019-10-08 21:25:02</td>\n",
              "      <td>-8880.0</td>\n",
              "      <td>-1.0</td>\n",
              "    </tr>\n",
              "    <tr>\n",
              "      <th>21396081</th>\n",
              "      <td>2711</td>\n",
              "      <td>2019-10-08 22:25:03</td>\n",
              "      <td>-8880.0</td>\n",
              "      <td>0.0</td>\n",
              "    </tr>\n",
              "    <tr>\n",
              "      <th>21395260</th>\n",
              "      <td>2711</td>\n",
              "      <td>2019-10-08 23:25:03</td>\n",
              "      <td>-8880.0</td>\n",
              "      <td>0.0</td>\n",
              "    </tr>\n",
              "    <tr>\n",
              "      <th>21396100</th>\n",
              "      <td>2711</td>\n",
              "      <td>2019-10-09 00:25:03</td>\n",
              "      <td>-8881.0</td>\n",
              "      <td>-1.0</td>\n",
              "    </tr>\n",
              "    <tr>\n",
              "      <th>21396105</th>\n",
              "      <td>2711</td>\n",
              "      <td>2019-10-09 01:25:03</td>\n",
              "      <td>-8882.0</td>\n",
              "      <td>-1.0</td>\n",
              "    </tr>\n",
              "    <tr>\n",
              "      <th>21396104</th>\n",
              "      <td>2711</td>\n",
              "      <td>2019-10-09 02:24:58</td>\n",
              "      <td>-8882.0</td>\n",
              "      <td>0.0</td>\n",
              "    </tr>\n",
              "    <tr>\n",
              "      <th>21396088</th>\n",
              "      <td>2711</td>\n",
              "      <td>2019-10-09 03:24:58</td>\n",
              "      <td>-8883.0</td>\n",
              "      <td>-1.0</td>\n",
              "    </tr>\n",
              "    <tr>\n",
              "      <th>21396098</th>\n",
              "      <td>2711</td>\n",
              "      <td>2019-10-09 04:24:58</td>\n",
              "      <td>-8883.0</td>\n",
              "      <td>0.0</td>\n",
              "    </tr>\n",
              "  </tbody>\n",
              "</table>\n",
              "</div>\n",
              "      <button class=\"colab-df-convert\" onclick=\"convertToInteractive('df-db026c50-9f45-49e4-8e67-b672e7ae3fc3')\"\n",
              "              title=\"Convert this dataframe to an interactive table.\"\n",
              "              style=\"display:none;\">\n",
              "        \n",
              "  <svg xmlns=\"http://www.w3.org/2000/svg\" height=\"24px\"viewBox=\"0 0 24 24\"\n",
              "       width=\"24px\">\n",
              "    <path d=\"M0 0h24v24H0V0z\" fill=\"none\"/>\n",
              "    <path d=\"M18.56 5.44l.94 2.06.94-2.06 2.06-.94-2.06-.94-.94-2.06-.94 2.06-2.06.94zm-11 1L8.5 8.5l.94-2.06 2.06-.94-2.06-.94L8.5 2.5l-.94 2.06-2.06.94zm10 10l.94 2.06.94-2.06 2.06-.94-2.06-.94-.94-2.06-.94 2.06-2.06.94z\"/><path d=\"M17.41 7.96l-1.37-1.37c-.4-.4-.92-.59-1.43-.59-.52 0-1.04.2-1.43.59L10.3 9.45l-7.72 7.72c-.78.78-.78 2.05 0 2.83L4 21.41c.39.39.9.59 1.41.59.51 0 1.02-.2 1.41-.59l7.78-7.78 2.81-2.81c.8-.78.8-2.07 0-2.86zM5.41 20L4 18.59l7.72-7.72 1.47 1.35L5.41 20z\"/>\n",
              "  </svg>\n",
              "      </button>\n",
              "      \n",
              "  <style>\n",
              "    .colab-df-container {\n",
              "      display:flex;\n",
              "      flex-wrap:wrap;\n",
              "      gap: 12px;\n",
              "    }\n",
              "\n",
              "    .colab-df-convert {\n",
              "      background-color: #E8F0FE;\n",
              "      border: none;\n",
              "      border-radius: 50%;\n",
              "      cursor: pointer;\n",
              "      display: none;\n",
              "      fill: #1967D2;\n",
              "      height: 32px;\n",
              "      padding: 0 0 0 0;\n",
              "      width: 32px;\n",
              "    }\n",
              "\n",
              "    .colab-df-convert:hover {\n",
              "      background-color: #E2EBFA;\n",
              "      box-shadow: 0px 1px 2px rgba(60, 64, 67, 0.3), 0px 1px 3px 1px rgba(60, 64, 67, 0.15);\n",
              "      fill: #174EA6;\n",
              "    }\n",
              "\n",
              "    [theme=dark] .colab-df-convert {\n",
              "      background-color: #3B4455;\n",
              "      fill: #D2E3FC;\n",
              "    }\n",
              "\n",
              "    [theme=dark] .colab-df-convert:hover {\n",
              "      background-color: #434B5C;\n",
              "      box-shadow: 0px 1px 3px 1px rgba(0, 0, 0, 0.15);\n",
              "      filter: drop-shadow(0px 1px 2px rgba(0, 0, 0, 0.3));\n",
              "      fill: #FFFFFF;\n",
              "    }\n",
              "  </style>\n",
              "\n",
              "      <script>\n",
              "        const buttonEl =\n",
              "          document.querySelector('#df-db026c50-9f45-49e4-8e67-b672e7ae3fc3 button.colab-df-convert');\n",
              "        buttonEl.style.display =\n",
              "          google.colab.kernel.accessAllowed ? 'block' : 'none';\n",
              "\n",
              "        async function convertToInteractive(key) {\n",
              "          const element = document.querySelector('#df-db026c50-9f45-49e4-8e67-b672e7ae3fc3');\n",
              "          const dataTable =\n",
              "            await google.colab.kernel.invokeFunction('convertToInteractive',\n",
              "                                                     [key], {});\n",
              "          if (!dataTable) return;\n",
              "\n",
              "          const docLinkHtml = 'Like what you see? Visit the ' +\n",
              "            '<a target=\"_blank\" href=https://colab.research.google.com/notebooks/data_table.ipynb>data table notebook</a>'\n",
              "            + ' to learn more about interactive tables.';\n",
              "          element.innerHTML = '';\n",
              "          dataTable['output_type'] = 'display_data';\n",
              "          await google.colab.output.renderOutput(dataTable, element);\n",
              "          const docLink = document.createElement('div');\n",
              "          docLink.innerHTML = docLinkHtml;\n",
              "          element.appendChild(docLink);\n",
              "        }\n",
              "      </script>\n",
              "    </div>\n",
              "  </div>\n",
              "  "
            ]
          },
          "metadata": {},
          "execution_count": 31
        }
      ]
    },
    {
      "cell_type": "markdown",
      "source": [
        "Se observa que en la mayoría de los casos, a pesar de ser el valor de lectura negativo, el DELTA aumenta en valor absoluto. Veamos si existe algún registro en el que el DELTA sea positivo, lo que indicaría que el DELTA disminuye en términos de valor absoluto."
      ],
      "metadata": {
        "id": "QG3hVCF_uyit"
      }
    },
    {
      "cell_type": "code",
      "source": [
        "DF_2711[DF_2711['DELTA']>0]"
      ],
      "metadata": {
        "colab": {
          "base_uri": "https://localhost:8080/",
          "height": 423
        },
        "id": "adx7gdJOu5Hr",
        "outputId": "769d6471-e4f9-4c98-aa4d-cf73eeaa5219"
      },
      "execution_count": null,
      "outputs": [
        {
          "output_type": "execute_result",
          "data": {
            "text/plain": [
              "            ID          SAMPLETIME   READING  DELTA\n",
              "21396102  2711 2019-10-09 18:00:00  -9662.96   0.04\n",
              "21396106  2711 2019-10-09 19:00:00  -9662.92   0.04\n",
              "21395263  2711 2019-10-09 20:00:00  -9663.98   0.04\n",
              "21396091  2711 2019-10-09 21:00:00  -9663.94   0.04\n",
              "21396093  2711 2019-10-09 22:24:57  -9665.00   0.04\n",
              "...        ...                 ...       ...    ...\n",
              "21395481  2711 2020-01-31 17:20:51 -12935.00   2.00\n",
              "21395487  2711 2020-01-31 19:20:51 -12934.00   1.00\n",
              "21395485  2711 2020-01-31 20:20:51 -12933.00   1.00\n",
              "21395486  2711 2020-01-31 21:20:54 -12925.00   8.00\n",
              "21395482  2711 2020-01-31 22:20:54 -12924.00   1.00\n",
              "\n",
              "[727 rows x 4 columns]"
            ],
            "text/html": [
              "\n",
              "  <div id=\"df-633086b8-3727-4677-95a7-0f1cf59ae86d\">\n",
              "    <div class=\"colab-df-container\">\n",
              "      <div>\n",
              "<style scoped>\n",
              "    .dataframe tbody tr th:only-of-type {\n",
              "        vertical-align: middle;\n",
              "    }\n",
              "\n",
              "    .dataframe tbody tr th {\n",
              "        vertical-align: top;\n",
              "    }\n",
              "\n",
              "    .dataframe thead th {\n",
              "        text-align: right;\n",
              "    }\n",
              "</style>\n",
              "<table border=\"1\" class=\"dataframe\">\n",
              "  <thead>\n",
              "    <tr style=\"text-align: right;\">\n",
              "      <th></th>\n",
              "      <th>ID</th>\n",
              "      <th>SAMPLETIME</th>\n",
              "      <th>READING</th>\n",
              "      <th>DELTA</th>\n",
              "    </tr>\n",
              "  </thead>\n",
              "  <tbody>\n",
              "    <tr>\n",
              "      <th>21396102</th>\n",
              "      <td>2711</td>\n",
              "      <td>2019-10-09 18:00:00</td>\n",
              "      <td>-9662.96</td>\n",
              "      <td>0.04</td>\n",
              "    </tr>\n",
              "    <tr>\n",
              "      <th>21396106</th>\n",
              "      <td>2711</td>\n",
              "      <td>2019-10-09 19:00:00</td>\n",
              "      <td>-9662.92</td>\n",
              "      <td>0.04</td>\n",
              "    </tr>\n",
              "    <tr>\n",
              "      <th>21395263</th>\n",
              "      <td>2711</td>\n",
              "      <td>2019-10-09 20:00:00</td>\n",
              "      <td>-9663.98</td>\n",
              "      <td>0.04</td>\n",
              "    </tr>\n",
              "    <tr>\n",
              "      <th>21396091</th>\n",
              "      <td>2711</td>\n",
              "      <td>2019-10-09 21:00:00</td>\n",
              "      <td>-9663.94</td>\n",
              "      <td>0.04</td>\n",
              "    </tr>\n",
              "    <tr>\n",
              "      <th>21396093</th>\n",
              "      <td>2711</td>\n",
              "      <td>2019-10-09 22:24:57</td>\n",
              "      <td>-9665.00</td>\n",
              "      <td>0.04</td>\n",
              "    </tr>\n",
              "    <tr>\n",
              "      <th>...</th>\n",
              "      <td>...</td>\n",
              "      <td>...</td>\n",
              "      <td>...</td>\n",
              "      <td>...</td>\n",
              "    </tr>\n",
              "    <tr>\n",
              "      <th>21395481</th>\n",
              "      <td>2711</td>\n",
              "      <td>2020-01-31 17:20:51</td>\n",
              "      <td>-12935.00</td>\n",
              "      <td>2.00</td>\n",
              "    </tr>\n",
              "    <tr>\n",
              "      <th>21395487</th>\n",
              "      <td>2711</td>\n",
              "      <td>2020-01-31 19:20:51</td>\n",
              "      <td>-12934.00</td>\n",
              "      <td>1.00</td>\n",
              "    </tr>\n",
              "    <tr>\n",
              "      <th>21395485</th>\n",
              "      <td>2711</td>\n",
              "      <td>2020-01-31 20:20:51</td>\n",
              "      <td>-12933.00</td>\n",
              "      <td>1.00</td>\n",
              "    </tr>\n",
              "    <tr>\n",
              "      <th>21395486</th>\n",
              "      <td>2711</td>\n",
              "      <td>2020-01-31 21:20:54</td>\n",
              "      <td>-12925.00</td>\n",
              "      <td>8.00</td>\n",
              "    </tr>\n",
              "    <tr>\n",
              "      <th>21395482</th>\n",
              "      <td>2711</td>\n",
              "      <td>2020-01-31 22:20:54</td>\n",
              "      <td>-12924.00</td>\n",
              "      <td>1.00</td>\n",
              "    </tr>\n",
              "  </tbody>\n",
              "</table>\n",
              "<p>727 rows × 4 columns</p>\n",
              "</div>\n",
              "      <button class=\"colab-df-convert\" onclick=\"convertToInteractive('df-633086b8-3727-4677-95a7-0f1cf59ae86d')\"\n",
              "              title=\"Convert this dataframe to an interactive table.\"\n",
              "              style=\"display:none;\">\n",
              "        \n",
              "  <svg xmlns=\"http://www.w3.org/2000/svg\" height=\"24px\"viewBox=\"0 0 24 24\"\n",
              "       width=\"24px\">\n",
              "    <path d=\"M0 0h24v24H0V0z\" fill=\"none\"/>\n",
              "    <path d=\"M18.56 5.44l.94 2.06.94-2.06 2.06-.94-2.06-.94-.94-2.06-.94 2.06-2.06.94zm-11 1L8.5 8.5l.94-2.06 2.06-.94-2.06-.94L8.5 2.5l-.94 2.06-2.06.94zm10 10l.94 2.06.94-2.06 2.06-.94-2.06-.94-.94-2.06-.94 2.06-2.06.94z\"/><path d=\"M17.41 7.96l-1.37-1.37c-.4-.4-.92-.59-1.43-.59-.52 0-1.04.2-1.43.59L10.3 9.45l-7.72 7.72c-.78.78-.78 2.05 0 2.83L4 21.41c.39.39.9.59 1.41.59.51 0 1.02-.2 1.41-.59l7.78-7.78 2.81-2.81c.8-.78.8-2.07 0-2.86zM5.41 20L4 18.59l7.72-7.72 1.47 1.35L5.41 20z\"/>\n",
              "  </svg>\n",
              "      </button>\n",
              "      \n",
              "  <style>\n",
              "    .colab-df-container {\n",
              "      display:flex;\n",
              "      flex-wrap:wrap;\n",
              "      gap: 12px;\n",
              "    }\n",
              "\n",
              "    .colab-df-convert {\n",
              "      background-color: #E8F0FE;\n",
              "      border: none;\n",
              "      border-radius: 50%;\n",
              "      cursor: pointer;\n",
              "      display: none;\n",
              "      fill: #1967D2;\n",
              "      height: 32px;\n",
              "      padding: 0 0 0 0;\n",
              "      width: 32px;\n",
              "    }\n",
              "\n",
              "    .colab-df-convert:hover {\n",
              "      background-color: #E2EBFA;\n",
              "      box-shadow: 0px 1px 2px rgba(60, 64, 67, 0.3), 0px 1px 3px 1px rgba(60, 64, 67, 0.15);\n",
              "      fill: #174EA6;\n",
              "    }\n",
              "\n",
              "    [theme=dark] .colab-df-convert {\n",
              "      background-color: #3B4455;\n",
              "      fill: #D2E3FC;\n",
              "    }\n",
              "\n",
              "    [theme=dark] .colab-df-convert:hover {\n",
              "      background-color: #434B5C;\n",
              "      box-shadow: 0px 1px 3px 1px rgba(0, 0, 0, 0.15);\n",
              "      filter: drop-shadow(0px 1px 2px rgba(0, 0, 0, 0.3));\n",
              "      fill: #FFFFFF;\n",
              "    }\n",
              "  </style>\n",
              "\n",
              "      <script>\n",
              "        const buttonEl =\n",
              "          document.querySelector('#df-633086b8-3727-4677-95a7-0f1cf59ae86d button.colab-df-convert');\n",
              "        buttonEl.style.display =\n",
              "          google.colab.kernel.accessAllowed ? 'block' : 'none';\n",
              "\n",
              "        async function convertToInteractive(key) {\n",
              "          const element = document.querySelector('#df-633086b8-3727-4677-95a7-0f1cf59ae86d');\n",
              "          const dataTable =\n",
              "            await google.colab.kernel.invokeFunction('convertToInteractive',\n",
              "                                                     [key], {});\n",
              "          if (!dataTable) return;\n",
              "\n",
              "          const docLinkHtml = 'Like what you see? Visit the ' +\n",
              "            '<a target=\"_blank\" href=https://colab.research.google.com/notebooks/data_table.ipynb>data table notebook</a>'\n",
              "            + ' to learn more about interactive tables.';\n",
              "          element.innerHTML = '';\n",
              "          dataTable['output_type'] = 'display_data';\n",
              "          await google.colab.output.renderOutput(dataTable, element);\n",
              "          const docLink = document.createElement('div');\n",
              "          docLink.innerHTML = docLinkHtml;\n",
              "          element.appendChild(docLink);\n",
              "        }\n",
              "      </script>\n",
              "    </div>\n",
              "  </div>\n",
              "  "
            ]
          },
          "metadata": {},
          "execution_count": 32
        }
      ]
    },
    {
      "cell_type": "code",
      "source": [
        "len(DF_2711)"
      ],
      "metadata": {
        "colab": {
          "base_uri": "https://localhost:8080/"
        },
        "id": "oxPBXIqzvBqZ",
        "outputId": "6f78b438-7030-4c69-a229-651d3f08608c"
      },
      "execution_count": null,
      "outputs": [
        {
          "output_type": "execute_result",
          "data": {
            "text/plain": [
              "2770"
            ]
          },
          "metadata": {},
          "execution_count": 33
        }
      ]
    },
    {
      "cell_type": "markdown",
      "source": [
        "Se observa que en el contador 2711 no se produce un aumento del DELTA en valor absoluto en 727 registros de lectura, de un total de 2770 registros (lo que se corresponde casi con un tercio de los registros."
      ],
      "metadata": {
        "id": "q7nRmPOrvKy_"
      }
    },
    {
      "cell_type": "markdown",
      "source": [
        "#### 2.3.2. ANÁLISIS CONTADOR PROBLEMÁTICO 1041"
      ],
      "metadata": {
        "id": "a_F3HUJLBCwQ"
      }
    },
    {
      "cell_type": "markdown",
      "source": [
        "Realicemos el mismo análisis con el contador 1041."
      ],
      "metadata": {
        "id": "e5EMkDbowP_E"
      }
    },
    {
      "cell_type": "code",
      "source": [
        "DF_1041= df[(df['ID']==1041)]\n",
        "DF_1041"
      ],
      "metadata": {
        "colab": {
          "base_uri": "https://localhost:8080/"
        },
        "id": "BQsm1wjzolce",
        "outputId": "71dfc333-d692-4e8a-971b-4271ec6f672f"
      },
      "execution_count": null,
      "outputs": [
        {
          "output_type": "execute_result",
          "data": {
            "text/plain": [
              "           ID          SAMPLETIME  READING  DELTA\n",
              "8892982  1041 2019-02-01 00:44:59 -29505.0    0.0\n",
              "8892975  1041 2019-02-01 01:44:59 -29505.0    0.0\n",
              "8892991  1041 2019-02-01 02:00:00 -29505.0    0.0\n",
              "8892980  1041 2019-02-01 03:00:00 -29505.0    0.0\n",
              "8892974  1041 2019-02-01 04:00:00 -29505.0    0.0\n",
              "...       ...                 ...      ...    ...\n",
              "8897982  1041 2020-01-31 19:27:32 -22759.0    6.0\n",
              "8897975  1041 2020-01-31 20:27:32 -22759.0    0.0\n",
              "8897972  1041 2020-01-31 21:27:32 -22759.0    0.0\n",
              "8897989  1041 2020-01-31 22:27:34 -22759.0    0.0\n",
              "8897976  1041 2020-01-31 23:27:34 -22759.0    0.0\n",
              "\n",
              "[8759 rows x 4 columns]"
            ],
            "text/html": [
              "\n",
              "  <div id=\"df-6260adb0-f894-4344-a83b-26ad8e2d3f97\">\n",
              "    <div class=\"colab-df-container\">\n",
              "      <div>\n",
              "<style scoped>\n",
              "    .dataframe tbody tr th:only-of-type {\n",
              "        vertical-align: middle;\n",
              "    }\n",
              "\n",
              "    .dataframe tbody tr th {\n",
              "        vertical-align: top;\n",
              "    }\n",
              "\n",
              "    .dataframe thead th {\n",
              "        text-align: right;\n",
              "    }\n",
              "</style>\n",
              "<table border=\"1\" class=\"dataframe\">\n",
              "  <thead>\n",
              "    <tr style=\"text-align: right;\">\n",
              "      <th></th>\n",
              "      <th>ID</th>\n",
              "      <th>SAMPLETIME</th>\n",
              "      <th>READING</th>\n",
              "      <th>DELTA</th>\n",
              "    </tr>\n",
              "  </thead>\n",
              "  <tbody>\n",
              "    <tr>\n",
              "      <th>8892982</th>\n",
              "      <td>1041</td>\n",
              "      <td>2019-02-01 00:44:59</td>\n",
              "      <td>-29505.0</td>\n",
              "      <td>0.0</td>\n",
              "    </tr>\n",
              "    <tr>\n",
              "      <th>8892975</th>\n",
              "      <td>1041</td>\n",
              "      <td>2019-02-01 01:44:59</td>\n",
              "      <td>-29505.0</td>\n",
              "      <td>0.0</td>\n",
              "    </tr>\n",
              "    <tr>\n",
              "      <th>8892991</th>\n",
              "      <td>1041</td>\n",
              "      <td>2019-02-01 02:00:00</td>\n",
              "      <td>-29505.0</td>\n",
              "      <td>0.0</td>\n",
              "    </tr>\n",
              "    <tr>\n",
              "      <th>8892980</th>\n",
              "      <td>1041</td>\n",
              "      <td>2019-02-01 03:00:00</td>\n",
              "      <td>-29505.0</td>\n",
              "      <td>0.0</td>\n",
              "    </tr>\n",
              "    <tr>\n",
              "      <th>8892974</th>\n",
              "      <td>1041</td>\n",
              "      <td>2019-02-01 04:00:00</td>\n",
              "      <td>-29505.0</td>\n",
              "      <td>0.0</td>\n",
              "    </tr>\n",
              "    <tr>\n",
              "      <th>...</th>\n",
              "      <td>...</td>\n",
              "      <td>...</td>\n",
              "      <td>...</td>\n",
              "      <td>...</td>\n",
              "    </tr>\n",
              "    <tr>\n",
              "      <th>8897982</th>\n",
              "      <td>1041</td>\n",
              "      <td>2020-01-31 19:27:32</td>\n",
              "      <td>-22759.0</td>\n",
              "      <td>6.0</td>\n",
              "    </tr>\n",
              "    <tr>\n",
              "      <th>8897975</th>\n",
              "      <td>1041</td>\n",
              "      <td>2020-01-31 20:27:32</td>\n",
              "      <td>-22759.0</td>\n",
              "      <td>0.0</td>\n",
              "    </tr>\n",
              "    <tr>\n",
              "      <th>8897972</th>\n",
              "      <td>1041</td>\n",
              "      <td>2020-01-31 21:27:32</td>\n",
              "      <td>-22759.0</td>\n",
              "      <td>0.0</td>\n",
              "    </tr>\n",
              "    <tr>\n",
              "      <th>8897989</th>\n",
              "      <td>1041</td>\n",
              "      <td>2020-01-31 22:27:34</td>\n",
              "      <td>-22759.0</td>\n",
              "      <td>0.0</td>\n",
              "    </tr>\n",
              "    <tr>\n",
              "      <th>8897976</th>\n",
              "      <td>1041</td>\n",
              "      <td>2020-01-31 23:27:34</td>\n",
              "      <td>-22759.0</td>\n",
              "      <td>0.0</td>\n",
              "    </tr>\n",
              "  </tbody>\n",
              "</table>\n",
              "<p>8759 rows × 4 columns</p>\n",
              "</div>\n",
              "      <button class=\"colab-df-convert\" onclick=\"convertToInteractive('df-6260adb0-f894-4344-a83b-26ad8e2d3f97')\"\n",
              "              title=\"Convert this dataframe to an interactive table.\"\n",
              "              style=\"display:none;\">\n",
              "        \n",
              "  <svg xmlns=\"http://www.w3.org/2000/svg\" height=\"24px\"viewBox=\"0 0 24 24\"\n",
              "       width=\"24px\">\n",
              "    <path d=\"M0 0h24v24H0V0z\" fill=\"none\"/>\n",
              "    <path d=\"M18.56 5.44l.94 2.06.94-2.06 2.06-.94-2.06-.94-.94-2.06-.94 2.06-2.06.94zm-11 1L8.5 8.5l.94-2.06 2.06-.94-2.06-.94L8.5 2.5l-.94 2.06-2.06.94zm10 10l.94 2.06.94-2.06 2.06-.94-2.06-.94-.94-2.06-.94 2.06-2.06.94z\"/><path d=\"M17.41 7.96l-1.37-1.37c-.4-.4-.92-.59-1.43-.59-.52 0-1.04.2-1.43.59L10.3 9.45l-7.72 7.72c-.78.78-.78 2.05 0 2.83L4 21.41c.39.39.9.59 1.41.59.51 0 1.02-.2 1.41-.59l7.78-7.78 2.81-2.81c.8-.78.8-2.07 0-2.86zM5.41 20L4 18.59l7.72-7.72 1.47 1.35L5.41 20z\"/>\n",
              "  </svg>\n",
              "      </button>\n",
              "      \n",
              "  <style>\n",
              "    .colab-df-container {\n",
              "      display:flex;\n",
              "      flex-wrap:wrap;\n",
              "      gap: 12px;\n",
              "    }\n",
              "\n",
              "    .colab-df-convert {\n",
              "      background-color: #E8F0FE;\n",
              "      border: none;\n",
              "      border-radius: 50%;\n",
              "      cursor: pointer;\n",
              "      display: none;\n",
              "      fill: #1967D2;\n",
              "      height: 32px;\n",
              "      padding: 0 0 0 0;\n",
              "      width: 32px;\n",
              "    }\n",
              "\n",
              "    .colab-df-convert:hover {\n",
              "      background-color: #E2EBFA;\n",
              "      box-shadow: 0px 1px 2px rgba(60, 64, 67, 0.3), 0px 1px 3px 1px rgba(60, 64, 67, 0.15);\n",
              "      fill: #174EA6;\n",
              "    }\n",
              "\n",
              "    [theme=dark] .colab-df-convert {\n",
              "      background-color: #3B4455;\n",
              "      fill: #D2E3FC;\n",
              "    }\n",
              "\n",
              "    [theme=dark] .colab-df-convert:hover {\n",
              "      background-color: #434B5C;\n",
              "      box-shadow: 0px 1px 3px 1px rgba(0, 0, 0, 0.15);\n",
              "      filter: drop-shadow(0px 1px 2px rgba(0, 0, 0, 0.3));\n",
              "      fill: #FFFFFF;\n",
              "    }\n",
              "  </style>\n",
              "\n",
              "      <script>\n",
              "        const buttonEl =\n",
              "          document.querySelector('#df-6260adb0-f894-4344-a83b-26ad8e2d3f97 button.colab-df-convert');\n",
              "        buttonEl.style.display =\n",
              "          google.colab.kernel.accessAllowed ? 'block' : 'none';\n",
              "\n",
              "        async function convertToInteractive(key) {\n",
              "          const element = document.querySelector('#df-6260adb0-f894-4344-a83b-26ad8e2d3f97');\n",
              "          const dataTable =\n",
              "            await google.colab.kernel.invokeFunction('convertToInteractive',\n",
              "                                                     [key], {});\n",
              "          if (!dataTable) return;\n",
              "\n",
              "          const docLinkHtml = 'Like what you see? Visit the ' +\n",
              "            '<a target=\"_blank\" href=https://colab.research.google.com/notebooks/data_table.ipynb>data table notebook</a>'\n",
              "            + ' to learn more about interactive tables.';\n",
              "          element.innerHTML = '';\n",
              "          dataTable['output_type'] = 'display_data';\n",
              "          await google.colab.output.renderOutput(dataTable, element);\n",
              "          const docLink = document.createElement('div');\n",
              "          docLink.innerHTML = docLinkHtml;\n",
              "          element.appendChild(docLink);\n",
              "        }\n",
              "      </script>\n",
              "    </div>\n",
              "  </div>\n",
              "  "
            ]
          },
          "metadata": {},
          "execution_count": 34
        }
      ]
    },
    {
      "cell_type": "code",
      "source": [
        "DF_1041[DF_1041['DELTA']>0]"
      ],
      "metadata": {
        "colab": {
          "base_uri": "https://localhost:8080/"
        },
        "id": "n_Xs_GY3wbAP",
        "outputId": "f35c971c-7c62-462f-a1d6-6e3ac053ea5e"
      },
      "execution_count": null,
      "outputs": [
        {
          "output_type": "execute_result",
          "data": {
            "text/plain": [
              "           ID          SAMPLETIME  READING  DELTA\n",
              "8898295  1041 2019-02-04 20:44:48 -29496.0    9.0\n",
              "8893038  1041 2019-02-04 21:44:48 -29491.0    5.0\n",
              "8893063  1041 2019-02-05 14:44:46 -29489.0    2.0\n",
              "8893055  1041 2019-02-05 17:44:46 -29484.0    5.0\n",
              "8893066  1041 2019-02-05 18:44:45 -29479.0    5.0\n",
              "...       ...                 ...      ...    ...\n",
              "8897954  1041 2020-01-30 18:27:34 -22781.0    5.0\n",
              "8897955  1041 2020-01-30 19:27:34 -22775.0    6.0\n",
              "8897953  1041 2020-01-30 20:27:34 -22770.0    5.0\n",
              "8897956  1041 2020-01-30 21:27:34 -22765.0    5.0\n",
              "8897982  1041 2020-01-31 19:27:32 -22759.0    6.0\n",
              "\n",
              "[812 rows x 4 columns]"
            ],
            "text/html": [
              "\n",
              "  <div id=\"df-d0fbbd08-94ca-4b21-bdde-1e1d5efc5d2e\">\n",
              "    <div class=\"colab-df-container\">\n",
              "      <div>\n",
              "<style scoped>\n",
              "    .dataframe tbody tr th:only-of-type {\n",
              "        vertical-align: middle;\n",
              "    }\n",
              "\n",
              "    .dataframe tbody tr th {\n",
              "        vertical-align: top;\n",
              "    }\n",
              "\n",
              "    .dataframe thead th {\n",
              "        text-align: right;\n",
              "    }\n",
              "</style>\n",
              "<table border=\"1\" class=\"dataframe\">\n",
              "  <thead>\n",
              "    <tr style=\"text-align: right;\">\n",
              "      <th></th>\n",
              "      <th>ID</th>\n",
              "      <th>SAMPLETIME</th>\n",
              "      <th>READING</th>\n",
              "      <th>DELTA</th>\n",
              "    </tr>\n",
              "  </thead>\n",
              "  <tbody>\n",
              "    <tr>\n",
              "      <th>8898295</th>\n",
              "      <td>1041</td>\n",
              "      <td>2019-02-04 20:44:48</td>\n",
              "      <td>-29496.0</td>\n",
              "      <td>9.0</td>\n",
              "    </tr>\n",
              "    <tr>\n",
              "      <th>8893038</th>\n",
              "      <td>1041</td>\n",
              "      <td>2019-02-04 21:44:48</td>\n",
              "      <td>-29491.0</td>\n",
              "      <td>5.0</td>\n",
              "    </tr>\n",
              "    <tr>\n",
              "      <th>8893063</th>\n",
              "      <td>1041</td>\n",
              "      <td>2019-02-05 14:44:46</td>\n",
              "      <td>-29489.0</td>\n",
              "      <td>2.0</td>\n",
              "    </tr>\n",
              "    <tr>\n",
              "      <th>8893055</th>\n",
              "      <td>1041</td>\n",
              "      <td>2019-02-05 17:44:46</td>\n",
              "      <td>-29484.0</td>\n",
              "      <td>5.0</td>\n",
              "    </tr>\n",
              "    <tr>\n",
              "      <th>8893066</th>\n",
              "      <td>1041</td>\n",
              "      <td>2019-02-05 18:44:45</td>\n",
              "      <td>-29479.0</td>\n",
              "      <td>5.0</td>\n",
              "    </tr>\n",
              "    <tr>\n",
              "      <th>...</th>\n",
              "      <td>...</td>\n",
              "      <td>...</td>\n",
              "      <td>...</td>\n",
              "      <td>...</td>\n",
              "    </tr>\n",
              "    <tr>\n",
              "      <th>8897954</th>\n",
              "      <td>1041</td>\n",
              "      <td>2020-01-30 18:27:34</td>\n",
              "      <td>-22781.0</td>\n",
              "      <td>5.0</td>\n",
              "    </tr>\n",
              "    <tr>\n",
              "      <th>8897955</th>\n",
              "      <td>1041</td>\n",
              "      <td>2020-01-30 19:27:34</td>\n",
              "      <td>-22775.0</td>\n",
              "      <td>6.0</td>\n",
              "    </tr>\n",
              "    <tr>\n",
              "      <th>8897953</th>\n",
              "      <td>1041</td>\n",
              "      <td>2020-01-30 20:27:34</td>\n",
              "      <td>-22770.0</td>\n",
              "      <td>5.0</td>\n",
              "    </tr>\n",
              "    <tr>\n",
              "      <th>8897956</th>\n",
              "      <td>1041</td>\n",
              "      <td>2020-01-30 21:27:34</td>\n",
              "      <td>-22765.0</td>\n",
              "      <td>5.0</td>\n",
              "    </tr>\n",
              "    <tr>\n",
              "      <th>8897982</th>\n",
              "      <td>1041</td>\n",
              "      <td>2020-01-31 19:27:32</td>\n",
              "      <td>-22759.0</td>\n",
              "      <td>6.0</td>\n",
              "    </tr>\n",
              "  </tbody>\n",
              "</table>\n",
              "<p>812 rows × 4 columns</p>\n",
              "</div>\n",
              "      <button class=\"colab-df-convert\" onclick=\"convertToInteractive('df-d0fbbd08-94ca-4b21-bdde-1e1d5efc5d2e')\"\n",
              "              title=\"Convert this dataframe to an interactive table.\"\n",
              "              style=\"display:none;\">\n",
              "        \n",
              "  <svg xmlns=\"http://www.w3.org/2000/svg\" height=\"24px\"viewBox=\"0 0 24 24\"\n",
              "       width=\"24px\">\n",
              "    <path d=\"M0 0h24v24H0V0z\" fill=\"none\"/>\n",
              "    <path d=\"M18.56 5.44l.94 2.06.94-2.06 2.06-.94-2.06-.94-.94-2.06-.94 2.06-2.06.94zm-11 1L8.5 8.5l.94-2.06 2.06-.94-2.06-.94L8.5 2.5l-.94 2.06-2.06.94zm10 10l.94 2.06.94-2.06 2.06-.94-2.06-.94-.94-2.06-.94 2.06-2.06.94z\"/><path d=\"M17.41 7.96l-1.37-1.37c-.4-.4-.92-.59-1.43-.59-.52 0-1.04.2-1.43.59L10.3 9.45l-7.72 7.72c-.78.78-.78 2.05 0 2.83L4 21.41c.39.39.9.59 1.41.59.51 0 1.02-.2 1.41-.59l7.78-7.78 2.81-2.81c.8-.78.8-2.07 0-2.86zM5.41 20L4 18.59l7.72-7.72 1.47 1.35L5.41 20z\"/>\n",
              "  </svg>\n",
              "      </button>\n",
              "      \n",
              "  <style>\n",
              "    .colab-df-container {\n",
              "      display:flex;\n",
              "      flex-wrap:wrap;\n",
              "      gap: 12px;\n",
              "    }\n",
              "\n",
              "    .colab-df-convert {\n",
              "      background-color: #E8F0FE;\n",
              "      border: none;\n",
              "      border-radius: 50%;\n",
              "      cursor: pointer;\n",
              "      display: none;\n",
              "      fill: #1967D2;\n",
              "      height: 32px;\n",
              "      padding: 0 0 0 0;\n",
              "      width: 32px;\n",
              "    }\n",
              "\n",
              "    .colab-df-convert:hover {\n",
              "      background-color: #E2EBFA;\n",
              "      box-shadow: 0px 1px 2px rgba(60, 64, 67, 0.3), 0px 1px 3px 1px rgba(60, 64, 67, 0.15);\n",
              "      fill: #174EA6;\n",
              "    }\n",
              "\n",
              "    [theme=dark] .colab-df-convert {\n",
              "      background-color: #3B4455;\n",
              "      fill: #D2E3FC;\n",
              "    }\n",
              "\n",
              "    [theme=dark] .colab-df-convert:hover {\n",
              "      background-color: #434B5C;\n",
              "      box-shadow: 0px 1px 3px 1px rgba(0, 0, 0, 0.15);\n",
              "      filter: drop-shadow(0px 1px 2px rgba(0, 0, 0, 0.3));\n",
              "      fill: #FFFFFF;\n",
              "    }\n",
              "  </style>\n",
              "\n",
              "      <script>\n",
              "        const buttonEl =\n",
              "          document.querySelector('#df-d0fbbd08-94ca-4b21-bdde-1e1d5efc5d2e button.colab-df-convert');\n",
              "        buttonEl.style.display =\n",
              "          google.colab.kernel.accessAllowed ? 'block' : 'none';\n",
              "\n",
              "        async function convertToInteractive(key) {\n",
              "          const element = document.querySelector('#df-d0fbbd08-94ca-4b21-bdde-1e1d5efc5d2e');\n",
              "          const dataTable =\n",
              "            await google.colab.kernel.invokeFunction('convertToInteractive',\n",
              "                                                     [key], {});\n",
              "          if (!dataTable) return;\n",
              "\n",
              "          const docLinkHtml = 'Like what you see? Visit the ' +\n",
              "            '<a target=\"_blank\" href=https://colab.research.google.com/notebooks/data_table.ipynb>data table notebook</a>'\n",
              "            + ' to learn more about interactive tables.';\n",
              "          element.innerHTML = '';\n",
              "          dataTable['output_type'] = 'display_data';\n",
              "          await google.colab.output.renderOutput(dataTable, element);\n",
              "          const docLink = document.createElement('div');\n",
              "          docLink.innerHTML = docLinkHtml;\n",
              "          element.appendChild(docLink);\n",
              "        }\n",
              "      </script>\n",
              "    </div>\n",
              "  </div>\n",
              "  "
            ]
          },
          "metadata": {},
          "execution_count": 35
        }
      ]
    },
    {
      "cell_type": "code",
      "source": [
        "DF_1041[DF_1041['DELTA']<0]"
      ],
      "metadata": {
        "colab": {
          "base_uri": "https://localhost:8080/"
        },
        "id": "DIZysxV5wbNq",
        "outputId": "a6a483a8-c54f-453e-8d87-b5048bb26cab"
      },
      "execution_count": null,
      "outputs": [
        {
          "output_type": "execute_result",
          "data": {
            "text/plain": [
              "           ID          SAMPLETIME  READING  DELTA\n",
              "8899519  1041 2019-12-19 14:29:24 -23199.0  -10.0\n",
              "8899515  1041 2019-12-19 15:29:24 -23202.0   -3.0"
            ],
            "text/html": [
              "\n",
              "  <div id=\"df-0b878a72-8e47-4046-9c61-0244929cdb31\">\n",
              "    <div class=\"colab-df-container\">\n",
              "      <div>\n",
              "<style scoped>\n",
              "    .dataframe tbody tr th:only-of-type {\n",
              "        vertical-align: middle;\n",
              "    }\n",
              "\n",
              "    .dataframe tbody tr th {\n",
              "        vertical-align: top;\n",
              "    }\n",
              "\n",
              "    .dataframe thead th {\n",
              "        text-align: right;\n",
              "    }\n",
              "</style>\n",
              "<table border=\"1\" class=\"dataframe\">\n",
              "  <thead>\n",
              "    <tr style=\"text-align: right;\">\n",
              "      <th></th>\n",
              "      <th>ID</th>\n",
              "      <th>SAMPLETIME</th>\n",
              "      <th>READING</th>\n",
              "      <th>DELTA</th>\n",
              "    </tr>\n",
              "  </thead>\n",
              "  <tbody>\n",
              "    <tr>\n",
              "      <th>8899519</th>\n",
              "      <td>1041</td>\n",
              "      <td>2019-12-19 14:29:24</td>\n",
              "      <td>-23199.0</td>\n",
              "      <td>-10.0</td>\n",
              "    </tr>\n",
              "    <tr>\n",
              "      <th>8899515</th>\n",
              "      <td>1041</td>\n",
              "      <td>2019-12-19 15:29:24</td>\n",
              "      <td>-23202.0</td>\n",
              "      <td>-3.0</td>\n",
              "    </tr>\n",
              "  </tbody>\n",
              "</table>\n",
              "</div>\n",
              "      <button class=\"colab-df-convert\" onclick=\"convertToInteractive('df-0b878a72-8e47-4046-9c61-0244929cdb31')\"\n",
              "              title=\"Convert this dataframe to an interactive table.\"\n",
              "              style=\"display:none;\">\n",
              "        \n",
              "  <svg xmlns=\"http://www.w3.org/2000/svg\" height=\"24px\"viewBox=\"0 0 24 24\"\n",
              "       width=\"24px\">\n",
              "    <path d=\"M0 0h24v24H0V0z\" fill=\"none\"/>\n",
              "    <path d=\"M18.56 5.44l.94 2.06.94-2.06 2.06-.94-2.06-.94-.94-2.06-.94 2.06-2.06.94zm-11 1L8.5 8.5l.94-2.06 2.06-.94-2.06-.94L8.5 2.5l-.94 2.06-2.06.94zm10 10l.94 2.06.94-2.06 2.06-.94-2.06-.94-.94-2.06-.94 2.06-2.06.94z\"/><path d=\"M17.41 7.96l-1.37-1.37c-.4-.4-.92-.59-1.43-.59-.52 0-1.04.2-1.43.59L10.3 9.45l-7.72 7.72c-.78.78-.78 2.05 0 2.83L4 21.41c.39.39.9.59 1.41.59.51 0 1.02-.2 1.41-.59l7.78-7.78 2.81-2.81c.8-.78.8-2.07 0-2.86zM5.41 20L4 18.59l7.72-7.72 1.47 1.35L5.41 20z\"/>\n",
              "  </svg>\n",
              "      </button>\n",
              "      \n",
              "  <style>\n",
              "    .colab-df-container {\n",
              "      display:flex;\n",
              "      flex-wrap:wrap;\n",
              "      gap: 12px;\n",
              "    }\n",
              "\n",
              "    .colab-df-convert {\n",
              "      background-color: #E8F0FE;\n",
              "      border: none;\n",
              "      border-radius: 50%;\n",
              "      cursor: pointer;\n",
              "      display: none;\n",
              "      fill: #1967D2;\n",
              "      height: 32px;\n",
              "      padding: 0 0 0 0;\n",
              "      width: 32px;\n",
              "    }\n",
              "\n",
              "    .colab-df-convert:hover {\n",
              "      background-color: #E2EBFA;\n",
              "      box-shadow: 0px 1px 2px rgba(60, 64, 67, 0.3), 0px 1px 3px 1px rgba(60, 64, 67, 0.15);\n",
              "      fill: #174EA6;\n",
              "    }\n",
              "\n",
              "    [theme=dark] .colab-df-convert {\n",
              "      background-color: #3B4455;\n",
              "      fill: #D2E3FC;\n",
              "    }\n",
              "\n",
              "    [theme=dark] .colab-df-convert:hover {\n",
              "      background-color: #434B5C;\n",
              "      box-shadow: 0px 1px 3px 1px rgba(0, 0, 0, 0.15);\n",
              "      filter: drop-shadow(0px 1px 2px rgba(0, 0, 0, 0.3));\n",
              "      fill: #FFFFFF;\n",
              "    }\n",
              "  </style>\n",
              "\n",
              "      <script>\n",
              "        const buttonEl =\n",
              "          document.querySelector('#df-0b878a72-8e47-4046-9c61-0244929cdb31 button.colab-df-convert');\n",
              "        buttonEl.style.display =\n",
              "          google.colab.kernel.accessAllowed ? 'block' : 'none';\n",
              "\n",
              "        async function convertToInteractive(key) {\n",
              "          const element = document.querySelector('#df-0b878a72-8e47-4046-9c61-0244929cdb31');\n",
              "          const dataTable =\n",
              "            await google.colab.kernel.invokeFunction('convertToInteractive',\n",
              "                                                     [key], {});\n",
              "          if (!dataTable) return;\n",
              "\n",
              "          const docLinkHtml = 'Like what you see? Visit the ' +\n",
              "            '<a target=\"_blank\" href=https://colab.research.google.com/notebooks/data_table.ipynb>data table notebook</a>'\n",
              "            + ' to learn more about interactive tables.';\n",
              "          element.innerHTML = '';\n",
              "          dataTable['output_type'] = 'display_data';\n",
              "          await google.colab.output.renderOutput(dataTable, element);\n",
              "          const docLink = document.createElement('div');\n",
              "          docLink.innerHTML = docLinkHtml;\n",
              "          element.appendChild(docLink);\n",
              "        }\n",
              "      </script>\n",
              "    </div>\n",
              "  </div>\n",
              "  "
            ]
          },
          "metadata": {},
          "execution_count": 36
        }
      ]
    },
    {
      "cell_type": "markdown",
      "source": [
        "El contador 1041, además de presentar registros negativos, sigue un comportamiento practicamente constante. Cuando no se mantiene constante, sigue una tendencia decreciente, en el DELTA, en términos de valor absoluto."
      ],
      "metadata": {
        "id": "1WgRN4Qiwu07"
      }
    },
    {
      "cell_type": "markdown",
      "source": [
        "#### 2.3.3. DECISIÓN RESPECTO A CONTADORES PROBLEMÁTICOS"
      ],
      "metadata": {
        "id": "ItJ7uJkWBVnv"
      }
    },
    {
      "cell_type": "markdown",
      "source": [
        "Puesto que no se encuentra un razonamiento lógico al comportamiento de estos contadores, se toma la decision de eliminarlos del conjunto de registros."
      ],
      "metadata": {
        "id": "-cmhPdbHw668"
      }
    },
    {
      "cell_type": "code",
      "source": [
        "df = df[~df['ID'].isin([2711, 1041])]"
      ],
      "metadata": {
        "id": "jFG86bu5xOFc"
      },
      "execution_count": null,
      "outputs": []
    },
    {
      "cell_type": "code",
      "source": [
        "len(df)"
      ],
      "metadata": {
        "colab": {
          "base_uri": "https://localhost:8080/"
        },
        "id": "WZyQUCUhxkzv",
        "outputId": "7d5df84d-fc59-4298-e7c7-a81413aa2521"
      },
      "execution_count": null,
      "outputs": [
        {
          "output_type": "execute_result",
          "data": {
            "text/plain": [
              "21349461"
            ]
          },
          "metadata": {},
          "execution_count": 38
        }
      ]
    },
    {
      "cell_type": "markdown",
      "source": [
        "Se renuncia a un total de 11.529 registros."
      ],
      "metadata": {
        "id": "xXwThbBkxwXC"
      }
    },
    {
      "cell_type": "markdown",
      "source": [
        "#### 2.3.4. ANÁLISIS CONTADORES CON SOLO DELTA NEGATIVO"
      ],
      "metadata": {
        "id": "BQOcakBpBg77"
      }
    },
    {
      "cell_type": "markdown",
      "source": [
        "Pasamos ahora a la problemática de los que tienen el DELTA negativo en alguno de sus puntos. Se considera que esta problemática se debe a errores en la lectura, por lo que se opta por sustituir dichos DELTAS negativos por cero."
      ],
      "metadata": {
        "id": "glmf2Bltt2aU"
      }
    },
    {
      "cell_type": "code",
      "source": [
        "len(df[df['DELTA']<0])"
      ],
      "metadata": {
        "colab": {
          "base_uri": "https://localhost:8080/"
        },
        "id": "6HPIGjKUOgwP",
        "outputId": "26209fc3-f095-42bf-f6ff-84a11b303150"
      },
      "execution_count": null,
      "outputs": [
        {
          "output_type": "execute_result",
          "data": {
            "text/plain": [
              "7743"
            ]
          },
          "metadata": {},
          "execution_count": 39
        }
      ]
    },
    {
      "cell_type": "code",
      "source": [
        "len(df[df['DELTA']==0])"
      ],
      "metadata": {
        "colab": {
          "base_uri": "https://localhost:8080/"
        },
        "id": "ZBP7akHUOhAi",
        "outputId": "f0ff997a-02d8-455d-c51e-3d835aee4e26"
      },
      "execution_count": null,
      "outputs": [
        {
          "output_type": "execute_result",
          "data": {
            "text/plain": [
              "10672308"
            ]
          },
          "metadata": {},
          "execution_count": 40
        }
      ]
    },
    {
      "cell_type": "code",
      "source": [
        "df['DELTA'] = df['DELTA'].apply(lambda x: 0 if x<0 else x)"
      ],
      "metadata": {
        "id": "Ua-r90NYyTYj"
      },
      "execution_count": null,
      "outputs": []
    },
    {
      "cell_type": "markdown",
      "source": [
        "Pasamos a comprobar que, efectivamente, los valores negativos de DELTA han sido eliminados. "
      ],
      "metadata": {
        "id": "UMCJQp5HyveY"
      }
    },
    {
      "cell_type": "code",
      "source": [
        "df[df['DELTA']<0]"
      ],
      "metadata": {
        "colab": {
          "base_uri": "https://localhost:8080/",
          "height": 50
        },
        "id": "QqeHeBf4y7fW",
        "outputId": "b16989b4-a267-4a91-e1e9-3a3d16582b3e"
      },
      "execution_count": null,
      "outputs": [
        {
          "output_type": "execute_result",
          "data": {
            "text/plain": [
              "Empty DataFrame\n",
              "Columns: [ID, SAMPLETIME, READING, DELTA]\n",
              "Index: []"
            ],
            "text/html": [
              "\n",
              "  <div id=\"df-307c0be4-46a5-440d-abcb-9bf381408fda\">\n",
              "    <div class=\"colab-df-container\">\n",
              "      <div>\n",
              "<style scoped>\n",
              "    .dataframe tbody tr th:only-of-type {\n",
              "        vertical-align: middle;\n",
              "    }\n",
              "\n",
              "    .dataframe tbody tr th {\n",
              "        vertical-align: top;\n",
              "    }\n",
              "\n",
              "    .dataframe thead th {\n",
              "        text-align: right;\n",
              "    }\n",
              "</style>\n",
              "<table border=\"1\" class=\"dataframe\">\n",
              "  <thead>\n",
              "    <tr style=\"text-align: right;\">\n",
              "      <th></th>\n",
              "      <th>ID</th>\n",
              "      <th>SAMPLETIME</th>\n",
              "      <th>READING</th>\n",
              "      <th>DELTA</th>\n",
              "    </tr>\n",
              "  </thead>\n",
              "  <tbody>\n",
              "  </tbody>\n",
              "</table>\n",
              "</div>\n",
              "      <button class=\"colab-df-convert\" onclick=\"convertToInteractive('df-307c0be4-46a5-440d-abcb-9bf381408fda')\"\n",
              "              title=\"Convert this dataframe to an interactive table.\"\n",
              "              style=\"display:none;\">\n",
              "        \n",
              "  <svg xmlns=\"http://www.w3.org/2000/svg\" height=\"24px\"viewBox=\"0 0 24 24\"\n",
              "       width=\"24px\">\n",
              "    <path d=\"M0 0h24v24H0V0z\" fill=\"none\"/>\n",
              "    <path d=\"M18.56 5.44l.94 2.06.94-2.06 2.06-.94-2.06-.94-.94-2.06-.94 2.06-2.06.94zm-11 1L8.5 8.5l.94-2.06 2.06-.94-2.06-.94L8.5 2.5l-.94 2.06-2.06.94zm10 10l.94 2.06.94-2.06 2.06-.94-2.06-.94-.94-2.06-.94 2.06-2.06.94z\"/><path d=\"M17.41 7.96l-1.37-1.37c-.4-.4-.92-.59-1.43-.59-.52 0-1.04.2-1.43.59L10.3 9.45l-7.72 7.72c-.78.78-.78 2.05 0 2.83L4 21.41c.39.39.9.59 1.41.59.51 0 1.02-.2 1.41-.59l7.78-7.78 2.81-2.81c.8-.78.8-2.07 0-2.86zM5.41 20L4 18.59l7.72-7.72 1.47 1.35L5.41 20z\"/>\n",
              "  </svg>\n",
              "      </button>\n",
              "      \n",
              "  <style>\n",
              "    .colab-df-container {\n",
              "      display:flex;\n",
              "      flex-wrap:wrap;\n",
              "      gap: 12px;\n",
              "    }\n",
              "\n",
              "    .colab-df-convert {\n",
              "      background-color: #E8F0FE;\n",
              "      border: none;\n",
              "      border-radius: 50%;\n",
              "      cursor: pointer;\n",
              "      display: none;\n",
              "      fill: #1967D2;\n",
              "      height: 32px;\n",
              "      padding: 0 0 0 0;\n",
              "      width: 32px;\n",
              "    }\n",
              "\n",
              "    .colab-df-convert:hover {\n",
              "      background-color: #E2EBFA;\n",
              "      box-shadow: 0px 1px 2px rgba(60, 64, 67, 0.3), 0px 1px 3px 1px rgba(60, 64, 67, 0.15);\n",
              "      fill: #174EA6;\n",
              "    }\n",
              "\n",
              "    [theme=dark] .colab-df-convert {\n",
              "      background-color: #3B4455;\n",
              "      fill: #D2E3FC;\n",
              "    }\n",
              "\n",
              "    [theme=dark] .colab-df-convert:hover {\n",
              "      background-color: #434B5C;\n",
              "      box-shadow: 0px 1px 3px 1px rgba(0, 0, 0, 0.15);\n",
              "      filter: drop-shadow(0px 1px 2px rgba(0, 0, 0, 0.3));\n",
              "      fill: #FFFFFF;\n",
              "    }\n",
              "  </style>\n",
              "\n",
              "      <script>\n",
              "        const buttonEl =\n",
              "          document.querySelector('#df-307c0be4-46a5-440d-abcb-9bf381408fda button.colab-df-convert');\n",
              "        buttonEl.style.display =\n",
              "          google.colab.kernel.accessAllowed ? 'block' : 'none';\n",
              "\n",
              "        async function convertToInteractive(key) {\n",
              "          const element = document.querySelector('#df-307c0be4-46a5-440d-abcb-9bf381408fda');\n",
              "          const dataTable =\n",
              "            await google.colab.kernel.invokeFunction('convertToInteractive',\n",
              "                                                     [key], {});\n",
              "          if (!dataTable) return;\n",
              "\n",
              "          const docLinkHtml = 'Like what you see? Visit the ' +\n",
              "            '<a target=\"_blank\" href=https://colab.research.google.com/notebooks/data_table.ipynb>data table notebook</a>'\n",
              "            + ' to learn more about interactive tables.';\n",
              "          element.innerHTML = '';\n",
              "          dataTable['output_type'] = 'display_data';\n",
              "          await google.colab.output.renderOutput(dataTable, element);\n",
              "          const docLink = document.createElement('div');\n",
              "          docLink.innerHTML = docLinkHtml;\n",
              "          element.appendChild(docLink);\n",
              "        }\n",
              "      </script>\n",
              "    </div>\n",
              "  </div>\n",
              "  "
            ]
          },
          "metadata": {},
          "execution_count": 42
        }
      ]
    },
    {
      "cell_type": "code",
      "source": [
        "len(df[df['DELTA']==0])"
      ],
      "metadata": {
        "colab": {
          "base_uri": "https://localhost:8080/"
        },
        "id": "Eo5UNyaGPNUx",
        "outputId": "7144a522-b375-43cc-fd80-61454d985144"
      },
      "execution_count": null,
      "outputs": [
        {
          "output_type": "execute_result",
          "data": {
            "text/plain": [
              "10680051"
            ]
          },
          "metadata": {},
          "execution_count": 43
        }
      ]
    },
    {
      "cell_type": "markdown",
      "source": [
        "Se puede comprobar la correcta transformación de negativos, por la nueva cantidad de ceros en la variable DELTA."
      ],
      "metadata": {
        "id": "_GTY3pVozOaW"
      }
    },
    {
      "cell_type": "markdown",
      "source": [
        "CONCLUSION DE ESTE PUNTO\n",
        "\n",
        "Se considera que los dos contadores con READING negativos se deben a errores de lectura y, puesto que no se encuentra un comportamiento lógico en los mismos, se opta por eliminarlos del registro.\n",
        "\n",
        "Por otro lado, el resto de registros que tienen signo negativo en el DELTA, se considera que se mantiene constante la lectura y que se trata de un error. En base a ello, el valor de los DELTAS negativos ha sido sustituido por cero."
      ],
      "metadata": {
        "id": "AkxUYrpeumsN"
      }
    },
    {
      "cell_type": "markdown",
      "source": [
        "### 2.4 Análisis de outliers"
      ],
      "metadata": {
        "id": "95Nk51q6Nks0"
      }
    },
    {
      "cell_type": "markdown",
      "source": [
        "Se realizará a continuación una exploración de los outliers de la variable 'DELTA'."
      ],
      "metadata": {
        "id": "QoGdcyb4P-85"
      }
    },
    {
      "cell_type": "code",
      "source": [
        "sns.boxplot(x=df['DELTA'])"
      ],
      "metadata": {
        "colab": {
          "base_uri": "https://localhost:8080/"
        },
        "id": "qJeySyvZP5yL",
        "outputId": "0407df02-e05f-415c-e025-ebf6177c8387"
      },
      "execution_count": null,
      "outputs": [
        {
          "output_type": "execute_result",
          "data": {
            "text/plain": [
              "<matplotlib.axes._subplots.AxesSubplot at 0x7fd497ba5290>"
            ]
          },
          "metadata": {},
          "execution_count": 44
        },
        {
          "output_type": "display_data",
          "data": {
            "text/plain": [
              "<Figure size 432x288 with 1 Axes>"
            ],
            "image/png": "[encoded data removed]"
          },
          "metadata": {
            "needs_background": "light"
          }
        }
      ]
    },
    {
      "cell_type": "code",
      "source": [
        "df['DELTA'].describe()"
      ],
      "metadata": {
        "colab": {
          "base_uri": "https://localhost:8080/"
        },
        "id": "EVQljTxRP5zn",
        "outputId": "8c474c12-aff3-4a48-a62f-08de53cf0295"
      },
      "execution_count": null,
      "outputs": [
        {
          "output_type": "execute_result",
          "data": {
            "text/plain": [
              "count    2.134946e+07\n",
              "mean     2.294445e+01\n",
              "std      1.512642e+03\n",
              "min      0.000000e+00\n",
              "25%      0.000000e+00\n",
              "50%      0.000000e+00\n",
              "75%      9.560000e+00\n",
              "max      9.499812e+05\n",
              "Name: DELTA, dtype: float64"
            ]
          },
          "metadata": {},
          "execution_count": 45
        }
      ]
    },
    {
      "cell_type": "markdown",
      "source": [
        "#### 2.4.1 MÉTODO ZSCORE"
      ],
      "metadata": {
        "id": "tsbUa904x9VO"
      }
    },
    {
      "cell_type": "code",
      "source": [
        "from scipy import stats\n",
        "\n",
        "z_delta = np.abs(stats.zscore(df['DELTA']))\n",
        "print(z_delta)"
      ],
      "metadata": {
        "colab": {
          "base_uri": "https://localhost:8080/"
        },
        "id": "t4Pa8nUEQZIX",
        "outputId": "b24bd7ba-3381-441d-968e-528070f59dce"
      },
      "execution_count": null,
      "outputs": [
        {
          "output_type": "stream",
          "name": "stdout",
          "text": [
            "[0.01516847 0.01516847 0.01516847 ... 0.01516847 0.01516847 0.00723532]\n"
          ]
        }
      ]
    },
    {
      "cell_type": "markdown",
      "source": [
        "Según la teoría de puntuaciones z, un valor puede ser considerado atípico cuando toma valores por debajo de -3 o superiores a 3."
      ],
      "metadata": {
        "id": "YtmqCfNmRzEr"
      }
    },
    {
      "cell_type": "code",
      "source": [
        "x = np.array(np.where(z_delta>3))\n",
        "x[0]"
      ],
      "metadata": {
        "colab": {
          "base_uri": "https://localhost:8080/"
        },
        "id": "5AiHoysQtmxt",
        "outputId": "54522468-81aa-4dbf-f3bd-42acfba504a4"
      },
      "execution_count": null,
      "outputs": [
        {
          "output_type": "execute_result",
          "data": {
            "text/plain": [
              "array([  285274,   285418,   285514, ..., 21262118, 21263820, 21348621])"
            ]
          },
          "metadata": {},
          "execution_count": 47
        }
      ]
    },
    {
      "cell_type": "code",
      "source": [
        "print(len(np.where(z_delta > 3)[0]))"
      ],
      "metadata": {
        "colab": {
          "base_uri": "https://localhost:8080/"
        },
        "id": "ELToEt5oP54U",
        "outputId": "0b70389d-a758-4974-fb94-09e99039f3f1"
      },
      "execution_count": null,
      "outputs": [
        {
          "output_type": "stream",
          "name": "stdout",
          "text": [
            "6150\n"
          ]
        }
      ]
    },
    {
      "cell_type": "markdown",
      "source": [
        "Según este método existirían un total de 6150 outliear, veamos a cuantos contadores afectan."
      ],
      "metadata": {
        "id": "Savru4-bSdzz"
      }
    },
    {
      "cell_type": "code",
      "source": [
        "rows_outliers = np.array(np.where(z_delta > 3)[0])\n",
        "rows_outliers"
      ],
      "metadata": {
        "colab": {
          "base_uri": "https://localhost:8080/"
        },
        "id": "SF-WirfAVDtN",
        "outputId": "66ed631d-a626-4ccc-8e78-2fa44fdeee40"
      },
      "execution_count": null,
      "outputs": [
        {
          "output_type": "execute_result",
          "data": {
            "text/plain": [
              "array([  285274,   285418,   285514, ..., 21262118, 21263820, 21348621])"
            ]
          },
          "metadata": {},
          "execution_count": 49
        }
      ]
    },
    {
      "cell_type": "code",
      "source": [
        "df_outliers = df.iloc[rows_outliers, :]\n",
        "df_outliers"
      ],
      "metadata": {
        "colab": {
          "base_uri": "https://localhost:8080/"
        },
        "id": "TDj6PuiKTVwS",
        "outputId": "c21f7dcf-30e0-4f1e-eaf0-41defef3ae37"
      },
      "execution_count": null,
      "outputs": [
        {
          "output_type": "execute_result",
          "data": {
            "text/plain": [
              "            ID          SAMPLETIME    READING   DELTA\n",
              "283840      33 2019-06-07 02:30:16  8806851.0  4821.0\n",
              "283938      33 2019-06-13 02:30:06  8897723.0  5380.0\n",
              "282328      33 2019-06-17 02:29:58  8963594.0  4698.0\n",
              "282360      33 2019-06-18 02:29:57  8976465.0  4752.0\n",
              "283505      33 2019-06-20 02:29:53  9007621.0  5366.0\n",
              "...        ...                 ...        ...     ...\n",
              "21280871  2655 2020-01-28 12:00:18   515575.0  6326.0\n",
              "21280870  2655 2020-01-28 13:00:18   521680.0  6105.0\n",
              "21313927  2670 2019-11-18 13:00:25   122053.0  4913.0\n",
              "21315035  2670 2020-01-28 11:00:17   280999.0  4763.0\n",
              "21403988  2727 2020-01-31 03:59:52    45142.0  5476.0\n",
              "\n",
              "[6150 rows x 4 columns]"
            ],
            "text/html": [
              "\n",
              "  <div id=\"df-4c92299a-40b8-437b-808c-8b779999f09c\">\n",
              "    <div class=\"colab-df-container\">\n",
              "      <div>\n",
              "<style scoped>\n",
              "    .dataframe tbody tr th:only-of-type {\n",
              "        vertical-align: middle;\n",
              "    }\n",
              "\n",
              "    .dataframe tbody tr th {\n",
              "        vertical-align: top;\n",
              "    }\n",
              "\n",
              "    .dataframe thead th {\n",
              "        text-align: right;\n",
              "    }\n",
              "</style>\n",
              "<table border=\"1\" class=\"dataframe\">\n",
              "  <thead>\n",
              "    <tr style=\"text-align: right;\">\n",
              "      <th></th>\n",
              "      <th>ID</th>\n",
              "      <th>SAMPLETIME</th>\n",
              "      <th>READING</th>\n",
              "      <th>DELTA</th>\n",
              "    </tr>\n",
              "  </thead>\n",
              "  <tbody>\n",
              "    <tr>\n",
              "      <th>283840</th>\n",
              "      <td>33</td>\n",
              "      <td>2019-06-07 02:30:16</td>\n",
              "      <td>8806851.0</td>\n",
              "      <td>4821.0</td>\n",
              "    </tr>\n",
              "    <tr>\n",
              "      <th>283938</th>\n",
              "      <td>33</td>\n",
              "      <td>2019-06-13 02:30:06</td>\n",
              "      <td>8897723.0</td>\n",
              "      <td>5380.0</td>\n",
              "    </tr>\n",
              "    <tr>\n",
              "      <th>282328</th>\n",
              "      <td>33</td>\n",
              "      <td>2019-06-17 02:29:58</td>\n",
              "      <td>8963594.0</td>\n",
              "      <td>4698.0</td>\n",
              "    </tr>\n",
              "    <tr>\n",
              "      <th>282360</th>\n",
              "      <td>33</td>\n",
              "      <td>2019-06-18 02:29:57</td>\n",
              "      <td>8976465.0</td>\n",
              "      <td>4752.0</td>\n",
              "    </tr>\n",
              "    <tr>\n",
              "      <th>283505</th>\n",
              "      <td>33</td>\n",
              "      <td>2019-06-20 02:29:53</td>\n",
              "      <td>9007621.0</td>\n",
              "      <td>5366.0</td>\n",
              "    </tr>\n",
              "    <tr>\n",
              "      <th>...</th>\n",
              "      <td>...</td>\n",
              "      <td>...</td>\n",
              "      <td>...</td>\n",
              "      <td>...</td>\n",
              "    </tr>\n",
              "    <tr>\n",
              "      <th>21280871</th>\n",
              "      <td>2655</td>\n",
              "      <td>2020-01-28 12:00:18</td>\n",
              "      <td>515575.0</td>\n",
              "      <td>6326.0</td>\n",
              "    </tr>\n",
              "    <tr>\n",
              "      <th>21280870</th>\n",
              "      <td>2655</td>\n",
              "      <td>2020-01-28 13:00:18</td>\n",
              "      <td>521680.0</td>\n",
              "      <td>6105.0</td>\n",
              "    </tr>\n",
              "    <tr>\n",
              "      <th>21313927</th>\n",
              "      <td>2670</td>\n",
              "      <td>2019-11-18 13:00:25</td>\n",
              "      <td>122053.0</td>\n",
              "      <td>4913.0</td>\n",
              "    </tr>\n",
              "    <tr>\n",
              "      <th>21315035</th>\n",
              "      <td>2670</td>\n",
              "      <td>2020-01-28 11:00:17</td>\n",
              "      <td>280999.0</td>\n",
              "      <td>4763.0</td>\n",
              "    </tr>\n",
              "    <tr>\n",
              "      <th>21403988</th>\n",
              "      <td>2727</td>\n",
              "      <td>2020-01-31 03:59:52</td>\n",
              "      <td>45142.0</td>\n",
              "      <td>5476.0</td>\n",
              "    </tr>\n",
              "  </tbody>\n",
              "</table>\n",
              "<p>6150 rows × 4 columns</p>\n",
              "</div>\n",
              "      <button class=\"colab-df-convert\" onclick=\"convertToInteractive('df-4c92299a-40b8-437b-808c-8b779999f09c')\"\n",
              "              title=\"Convert this dataframe to an interactive table.\"\n",
              "              style=\"display:none;\">\n",
              "        \n",
              "  <svg xmlns=\"http://www.w3.org/2000/svg\" height=\"24px\"viewBox=\"0 0 24 24\"\n",
              "       width=\"24px\">\n",
              "    <path d=\"M0 0h24v24H0V0z\" fill=\"none\"/>\n",
              "    <path d=\"M18.56 5.44l.94 2.06.94-2.06 2.06-.94-2.06-.94-.94-2.06-.94 2.06-2.06.94zm-11 1L8.5 8.5l.94-2.06 2.06-.94-2.06-.94L8.5 2.5l-.94 2.06-2.06.94zm10 10l.94 2.06.94-2.06 2.06-.94-2.06-.94-.94-2.06-.94 2.06-2.06.94z\"/><path d=\"M17.41 7.96l-1.37-1.37c-.4-.4-.92-.59-1.43-.59-.52 0-1.04.2-1.43.59L10.3 9.45l-7.72 7.72c-.78.78-.78 2.05 0 2.83L4 21.41c.39.39.9.59 1.41.59.51 0 1.02-.2 1.41-.59l7.78-7.78 2.81-2.81c.8-.78.8-2.07 0-2.86zM5.41 20L4 18.59l7.72-7.72 1.47 1.35L5.41 20z\"/>\n",
              "  </svg>\n",
              "      </button>\n",
              "      \n",
              "  <style>\n",
              "    .colab-df-container {\n",
              "      display:flex;\n",
              "      flex-wrap:wrap;\n",
              "      gap: 12px;\n",
              "    }\n",
              "\n",
              "    .colab-df-convert {\n",
              "      background-color: #E8F0FE;\n",
              "      border: none;\n",
              "      border-radius: 50%;\n",
              "      cursor: pointer;\n",
              "      display: none;\n",
              "      fill: #1967D2;\n",
              "      height: 32px;\n",
              "      padding: 0 0 0 0;\n",
              "      width: 32px;\n",
              "    }\n",
              "\n",
              "    .colab-df-convert:hover {\n",
              "      background-color: #E2EBFA;\n",
              "      box-shadow: 0px 1px 2px rgba(60, 64, 67, 0.3), 0px 1px 3px 1px rgba(60, 64, 67, 0.15);\n",
              "      fill: #174EA6;\n",
              "    }\n",
              "\n",
              "    [theme=dark] .colab-df-convert {\n",
              "      background-color: #3B4455;\n",
              "      fill: #D2E3FC;\n",
              "    }\n",
              "\n",
              "    [theme=dark] .colab-df-convert:hover {\n",
              "      background-color: #434B5C;\n",
              "      box-shadow: 0px 1px 3px 1px rgba(0, 0, 0, 0.15);\n",
              "      filter: drop-shadow(0px 1px 2px rgba(0, 0, 0, 0.3));\n",
              "      fill: #FFFFFF;\n",
              "    }\n",
              "  </style>\n",
              "\n",
              "      <script>\n",
              "        const buttonEl =\n",
              "          document.querySelector('#df-4c92299a-40b8-437b-808c-8b779999f09c button.colab-df-convert');\n",
              "        buttonEl.style.display =\n",
              "          google.colab.kernel.accessAllowed ? 'block' : 'none';\n",
              "\n",
              "        async function convertToInteractive(key) {\n",
              "          const element = document.querySelector('#df-4c92299a-40b8-437b-808c-8b779999f09c');\n",
              "          const dataTable =\n",
              "            await google.colab.kernel.invokeFunction('convertToInteractive',\n",
              "                                                     [key], {});\n",
              "          if (!dataTable) return;\n",
              "\n",
              "          const docLinkHtml = 'Like what you see? Visit the ' +\n",
              "            '<a target=\"_blank\" href=https://colab.research.google.com/notebooks/data_table.ipynb>data table notebook</a>'\n",
              "            + ' to learn more about interactive tables.';\n",
              "          element.innerHTML = '';\n",
              "          dataTable['output_type'] = 'display_data';\n",
              "          await google.colab.output.renderOutput(dataTable, element);\n",
              "          const docLink = document.createElement('div');\n",
              "          docLink.innerHTML = docLinkHtml;\n",
              "          element.appendChild(docLink);\n",
              "        }\n",
              "      </script>\n",
              "    </div>\n",
              "  </div>\n",
              "  "
            ]
          },
          "metadata": {},
          "execution_count": 50
        }
      ]
    },
    {
      "cell_type": "code",
      "source": [
        "df_outliers['ID'].unique()"
      ],
      "metadata": {
        "colab": {
          "base_uri": "https://localhost:8080/"
        },
        "id": "XnDTrX4pu75p",
        "outputId": "c29b2730-a3ef-49ca-bfad-a7b3aca7b7a6"
      },
      "execution_count": null,
      "outputs": [
        {
          "output_type": "execute_result",
          "data": {
            "text/plain": [
              "array([  33,   42,   57,  111,  122,  218,  231,  248,  292,  360,  374,\n",
              "        375,  418,  474,  545,  635,  770,  812,  873,  907, 1034, 1140,\n",
              "       1217, 1218, 1247, 1280, 1338, 1339, 1364, 1416, 1431, 1444, 1544,\n",
              "       1664, 1679, 1727, 1750, 2063, 2068, 2143, 2296, 2459, 2460, 2464,\n",
              "       2473, 2479, 2481, 2511, 2512, 2571, 2624, 2635, 2655, 2670, 2727])"
            ]
          },
          "metadata": {},
          "execution_count": 51
        }
      ]
    },
    {
      "cell_type": "markdown",
      "source": [
        "Se observa que los outliers afectan a un total de 55 contadores."
      ],
      "metadata": {
        "id": "L7yq74kLN_Uy"
      }
    },
    {
      "cell_type": "markdown",
      "source": [
        "#### 2.4.2 MÉTODO RANGO INTERCUARTÍLICO"
      ],
      "metadata": {
        "id": "cvFiBMQayHxL"
      }
    },
    {
      "cell_type": "code",
      "source": [
        "cols = ['DELTA'] \n",
        "Q1 = df[cols].quantile(0.25)\n",
        "Q3 = df[cols].quantile(0.75)\n",
        "IQR = Q3 - Q1\n",
        "\n",
        "df_outliers2 = df[((df[cols] < (Q1 - 1.5 * IQR)) |(df[cols] > (Q3 + 1.5 * IQR))).any(axis=1)]\n",
        "df_outliers2"
      ],
      "metadata": {
        "colab": {
          "base_uri": "https://localhost:8080/"
        },
        "id": "3aozRVvfTVzJ",
        "outputId": "bcfe560a-ef2a-4712-91ec-625e5719db02"
      },
      "execution_count": null,
      "outputs": [
        {
          "output_type": "execute_result",
          "data": {
            "text/plain": [
              "            ID          SAMPLETIME    READING   DELTA\n",
              "5422         0 2019-02-01 08:39:35  331765.00   36.00\n",
              "170          0 2019-02-01 13:39:34  331835.00   69.00\n",
              "166          0 2019-02-01 17:39:35  331867.00   27.00\n",
              "167          0 2019-02-01 19:39:33  331947.00   66.00\n",
              "171          0 2019-02-02 12:39:32  332050.00   46.00\n",
              "...        ...                 ...        ...     ...\n",
              "21404754  2745 2019-12-06 14:00:00  495402.94   28.53\n",
              "21404759  2745 2019-12-06 15:00:00  495431.47   28.53\n",
              "21404749  2745 2019-12-06 16:29:24  495460.00   28.53\n",
              "21404809  2748 2019-08-03 21:48:03  406848.00  208.00\n",
              "21404810  2748 2019-08-03 22:48:03  406945.00   97.00\n",
              "\n",
              "[2595379 rows x 4 columns]"
            ],
            "text/html": [
              "\n",
              "  <div id=\"df-e921b99e-e6c8-4ed6-af88-d83acb6dce8b\">\n",
              "    <div class=\"colab-df-container\">\n",
              "      <div>\n",
              "<style scoped>\n",
              "    .dataframe tbody tr th:only-of-type {\n",
              "        vertical-align: middle;\n",
              "    }\n",
              "\n",
              "    .dataframe tbody tr th {\n",
              "        vertical-align: top;\n",
              "    }\n",
              "\n",
              "    .dataframe thead th {\n",
              "        text-align: right;\n",
              "    }\n",
              "</style>\n",
              "<table border=\"1\" class=\"dataframe\">\n",
              "  <thead>\n",
              "    <tr style=\"text-align: right;\">\n",
              "      <th></th>\n",
              "      <th>ID</th>\n",
              "      <th>SAMPLETIME</th>\n",
              "      <th>READING</th>\n",
              "      <th>DELTA</th>\n",
              "    </tr>\n",
              "  </thead>\n",
              "  <tbody>\n",
              "    <tr>\n",
              "      <th>5422</th>\n",
              "      <td>0</td>\n",
              "      <td>2019-02-01 08:39:35</td>\n",
              "      <td>331765.00</td>\n",
              "      <td>36.00</td>\n",
              "    </tr>\n",
              "    <tr>\n",
              "      <th>170</th>\n",
              "      <td>0</td>\n",
              "      <td>2019-02-01 13:39:34</td>\n",
              "      <td>331835.00</td>\n",
              "      <td>69.00</td>\n",
              "    </tr>\n",
              "    <tr>\n",
              "      <th>166</th>\n",
              "      <td>0</td>\n",
              "      <td>2019-02-01 17:39:35</td>\n",
              "      <td>331867.00</td>\n",
              "      <td>27.00</td>\n",
              "    </tr>\n",
              "    <tr>\n",
              "      <th>167</th>\n",
              "      <td>0</td>\n",
              "      <td>2019-02-01 19:39:33</td>\n",
              "      <td>331947.00</td>\n",
              "      <td>66.00</td>\n",
              "    </tr>\n",
              "    <tr>\n",
              "      <th>171</th>\n",
              "      <td>0</td>\n",
              "      <td>2019-02-02 12:39:32</td>\n",
              "      <td>332050.00</td>\n",
              "      <td>46.00</td>\n",
              "    </tr>\n",
              "    <tr>\n",
              "      <th>...</th>\n",
              "      <td>...</td>\n",
              "      <td>...</td>\n",
              "      <td>...</td>\n",
              "      <td>...</td>\n",
              "    </tr>\n",
              "    <tr>\n",
              "      <th>21404754</th>\n",
              "      <td>2745</td>\n",
              "      <td>2019-12-06 14:00:00</td>\n",
              "      <td>495402.94</td>\n",
              "      <td>28.53</td>\n",
              "    </tr>\n",
              "    <tr>\n",
              "      <th>21404759</th>\n",
              "      <td>2745</td>\n",
              "      <td>2019-12-06 15:00:00</td>\n",
              "      <td>495431.47</td>\n",
              "      <td>28.53</td>\n",
              "    </tr>\n",
              "    <tr>\n",
              "      <th>21404749</th>\n",
              "      <td>2745</td>\n",
              "      <td>2019-12-06 16:29:24</td>\n",
              "      <td>495460.00</td>\n",
              "      <td>28.53</td>\n",
              "    </tr>\n",
              "    <tr>\n",
              "      <th>21404809</th>\n",
              "      <td>2748</td>\n",
              "      <td>2019-08-03 21:48:03</td>\n",
              "      <td>406848.00</td>\n",
              "      <td>208.00</td>\n",
              "    </tr>\n",
              "    <tr>\n",
              "      <th>21404810</th>\n",
              "      <td>2748</td>\n",
              "      <td>2019-08-03 22:48:03</td>\n",
              "      <td>406945.00</td>\n",
              "      <td>97.00</td>\n",
              "    </tr>\n",
              "  </tbody>\n",
              "</table>\n",
              "<p>2595379 rows × 4 columns</p>\n",
              "</div>\n",
              "      <button class=\"colab-df-convert\" onclick=\"convertToInteractive('df-e921b99e-e6c8-4ed6-af88-d83acb6dce8b')\"\n",
              "              title=\"Convert this dataframe to an interactive table.\"\n",
              "              style=\"display:none;\">\n",
              "        \n",
              "  <svg xmlns=\"http://www.w3.org/2000/svg\" height=\"24px\"viewBox=\"0 0 24 24\"\n",
              "       width=\"24px\">\n",
              "    <path d=\"M0 0h24v24H0V0z\" fill=\"none\"/>\n",
              "    <path d=\"M18.56 5.44l.94 2.06.94-2.06 2.06-.94-2.06-.94-.94-2.06-.94 2.06-2.06.94zm-11 1L8.5 8.5l.94-2.06 2.06-.94-2.06-.94L8.5 2.5l-.94 2.06-2.06.94zm10 10l.94 2.06.94-2.06 2.06-.94-2.06-.94-.94-2.06-.94 2.06-2.06.94z\"/><path d=\"M17.41 7.96l-1.37-1.37c-.4-.4-.92-.59-1.43-.59-.52 0-1.04.2-1.43.59L10.3 9.45l-7.72 7.72c-.78.78-.78 2.05 0 2.83L4 21.41c.39.39.9.59 1.41.59.51 0 1.02-.2 1.41-.59l7.78-7.78 2.81-2.81c.8-.78.8-2.07 0-2.86zM5.41 20L4 18.59l7.72-7.72 1.47 1.35L5.41 20z\"/>\n",
              "  </svg>\n",
              "      </button>\n",
              "      \n",
              "  <style>\n",
              "    .colab-df-container {\n",
              "      display:flex;\n",
              "      flex-wrap:wrap;\n",
              "      gap: 12px;\n",
              "    }\n",
              "\n",
              "    .colab-df-convert {\n",
              "      background-color: #E8F0FE;\n",
              "      border: none;\n",
              "      border-radius: 50%;\n",
              "      cursor: pointer;\n",
              "      display: none;\n",
              "      fill: #1967D2;\n",
              "      height: 32px;\n",
              "      padding: 0 0 0 0;\n",
              "      width: 32px;\n",
              "    }\n",
              "\n",
              "    .colab-df-convert:hover {\n",
              "      background-color: #E2EBFA;\n",
              "      box-shadow: 0px 1px 2px rgba(60, 64, 67, 0.3), 0px 1px 3px 1px rgba(60, 64, 67, 0.15);\n",
              "      fill: #174EA6;\n",
              "    }\n",
              "\n",
              "    [theme=dark] .colab-df-convert {\n",
              "      background-color: #3B4455;\n",
              "      fill: #D2E3FC;\n",
              "    }\n",
              "\n",
              "    [theme=dark] .colab-df-convert:hover {\n",
              "      background-color: #434B5C;\n",
              "      box-shadow: 0px 1px 3px 1px rgba(0, 0, 0, 0.15);\n",
              "      filter: drop-shadow(0px 1px 2px rgba(0, 0, 0, 0.3));\n",
              "      fill: #FFFFFF;\n",
              "    }\n",
              "  </style>\n",
              "\n",
              "      <script>\n",
              "        const buttonEl =\n",
              "          document.querySelector('#df-e921b99e-e6c8-4ed6-af88-d83acb6dce8b button.colab-df-convert');\n",
              "        buttonEl.style.display =\n",
              "          google.colab.kernel.accessAllowed ? 'block' : 'none';\n",
              "\n",
              "        async function convertToInteractive(key) {\n",
              "          const element = document.querySelector('#df-e921b99e-e6c8-4ed6-af88-d83acb6dce8b');\n",
              "          const dataTable =\n",
              "            await google.colab.kernel.invokeFunction('convertToInteractive',\n",
              "                                                     [key], {});\n",
              "          if (!dataTable) return;\n",
              "\n",
              "          const docLinkHtml = 'Like what you see? Visit the ' +\n",
              "            '<a target=\"_blank\" href=https://colab.research.google.com/notebooks/data_table.ipynb>data table notebook</a>'\n",
              "            + ' to learn more about interactive tables.';\n",
              "          element.innerHTML = '';\n",
              "          dataTable['output_type'] = 'display_data';\n",
              "          await google.colab.output.renderOutput(dataTable, element);\n",
              "          const docLink = document.createElement('div');\n",
              "          docLink.innerHTML = docLinkHtml;\n",
              "          element.appendChild(docLink);\n",
              "        }\n",
              "      </script>\n",
              "    </div>\n",
              "  </div>\n",
              "  "
            ]
          },
          "metadata": {},
          "execution_count": 52
        }
      ]
    },
    {
      "cell_type": "code",
      "source": [
        "df_outliers2['ID'].unique()"
      ],
      "metadata": {
        "colab": {
          "base_uri": "https://localhost:8080/"
        },
        "id": "R4m5eR5gymO6",
        "outputId": "5d34a330-7fdb-4f7c-f898-cd0f9e5e6d43"
      },
      "execution_count": null,
      "outputs": [
        {
          "output_type": "execute_result",
          "data": {
            "text/plain": [
              "array([   0,    1,    2, ..., 2742, 2745, 2748])"
            ]
          },
          "metadata": {},
          "execution_count": 53
        }
      ]
    },
    {
      "cell_type": "markdown",
      "source": [
        "Veamos cuales son los outliers comunes a las dos métodos:\n",
        "\n"
      ],
      "metadata": {
        "id": "3dLsP4mdzWiS"
      }
    },
    {
      "cell_type": "code",
      "source": [
        "list1 = df_outliers['ID'].unique()\n",
        "print(\"Se detectan {n} contadores con outliers por el método de zscore\".format(n=len(list1)))"
      ],
      "metadata": {
        "colab": {
          "base_uri": "https://localhost:8080/"
        },
        "id": "pdDkAijrzbi-",
        "outputId": "f35cdc97-49d6-4693-b6e3-d826b91cc426"
      },
      "execution_count": null,
      "outputs": [
        {
          "output_type": "stream",
          "name": "stdout",
          "text": [
            "Se detectan 55 contadores con outliers por el método de zscore\n"
          ]
        }
      ]
    },
    {
      "cell_type": "code",
      "source": [
        "list2 = df_outliers2['ID'].unique()\n",
        "print(\"Se detectan {n} contadores con outliers por el método del rango intercuartílico\".format(n=len(list2)))"
      ],
      "metadata": {
        "colab": {
          "base_uri": "https://localhost:8080/"
        },
        "id": "SQ_EFR6i0h0b",
        "outputId": "6a4d020a-8f3a-4e73-8d37-a52b62e4a615"
      },
      "execution_count": null,
      "outputs": [
        {
          "output_type": "stream",
          "name": "stdout",
          "text": [
            "Se detectan 2618 contadores con outliers por el método del rango intercuartílico\n"
          ]
        }
      ]
    },
    {
      "cell_type": "code",
      "source": [
        "id_outliers = list(set(list1).intersection(list2))\n",
        "print(\"Se detectan {n} contadores con outliers por ambos métodos\".format(n=len(id_outliers)))"
      ],
      "metadata": {
        "colab": {
          "base_uri": "https://localhost:8080/"
        },
        "id": "PS-m_V8S0h4w",
        "outputId": "c7c6547d-417c-4bc6-d1ac-4200c72633cf"
      },
      "execution_count": null,
      "outputs": [
        {
          "output_type": "stream",
          "name": "stdout",
          "text": [
            "Se detectan 55 contadores con outliers por ambos métodos\n"
          ]
        }
      ]
    },
    {
      "cell_type": "markdown",
      "source": [
        "En base a los resultados y a fin de no eliminar registros buenos, se decide emplear el método de zscore para la eliminación de outliers. Para ello, se realizará un análisis exhaustivo de los 55 contadores que presentan outliers. "
      ],
      "metadata": {
        "id": "PqohqBef0sjH"
      }
    },
    {
      "cell_type": "code",
      "source": [
        "list1"
      ],
      "metadata": {
        "colab": {
          "base_uri": "https://localhost:8080/"
        },
        "id": "by_r0y441Nda",
        "outputId": "3f36b37d-2100-4beb-aad9-69c1655cbe56"
      },
      "execution_count": null,
      "outputs": [
        {
          "output_type": "execute_result",
          "data": {
            "text/plain": [
              "array([  33,   42,   57,  111,  122,  218,  231,  248,  292,  360,  374,\n",
              "        375,  418,  474,  545,  635,  770,  812,  873,  907, 1034, 1140,\n",
              "       1217, 1218, 1247, 1280, 1338, 1339, 1364, 1416, 1431, 1444, 1544,\n",
              "       1664, 1679, 1727, 1750, 2063, 2068, 2143, 2296, 2459, 2460, 2464,\n",
              "       2473, 2479, 2481, 2511, 2512, 2571, 2624, 2635, 2655, 2670, 2727])"
            ]
          },
          "metadata": {},
          "execution_count": 57
        }
      ]
    },
    {
      "cell_type": "markdown",
      "source": [
        "#### 2.4.3 ANÁLISIS DE CONTADORES CON OUTLIERS"
      ],
      "metadata": {
        "id": "VwSW60RCPFb0"
      }
    },
    {
      "cell_type": "markdown",
      "source": [
        "Dado que no se dispone de una variable categorica que permita distinguir los contadores que corresponden a una vivienda de los que pertenecen a un comercio, no parece adecuado la eliminación de todos los outliers sin realizar un análisis exhaustivo."
      ],
      "metadata": {
        "id": "zwy62KNPsWJ8"
      }
    },
    {
      "cell_type": "markdown",
      "source": [
        "Para cada uno de los contadores, se realizan las siguientes exploraciones:\n",
        "\n",
        "- Extracción de registros con outliers, analizando el número de outliers detectados en relación al número de registros totales. {**DF_33_OUTLIERS = df_outliers[df_outliers['ID']==33]**}\n",
        "\n",
        "- Análisis descriptivo de la variable 'DELTA'. {**DF_33['DELTA'].describe()**}\n",
        "\n",
        "- Análisis descriptivo de la variable 'DELTA', sin outliers, a fin de estudiar el comportamiento habitual del contador. {**DF_33_WITHOUT_OUTLIERS['DELTA'].describe()**}\n",
        "\n",
        "- Estudio temporal de los outliers, a fin de analizar si existen ciertas franjas horarias en las que es más habitual que se produzcan. {**DF_33_OUTLIERS['SAMPLETIME'].apply(lambda x: x.hour).groupby(['HOUR']).size()**}"
      ],
      "metadata": {
        "id": "Vgel5M4SPPmm"
      }
    },
    {
      "cell_type": "markdown",
      "source": [
        "A continuación, se detallará la información extraida de cada uno de los contadores analizados y las decisiones acatadas, respecto a la eliminación o no de los outliers.\n",
        "\n",
        "- **CONTADOR 33:** Todos los outlier se producen entorno a las 02:30 de la madrugada. Puesto que se detecta un patrón temporal en el comportamiento de los outliers, se decide no eliminar los outliers de este contador.\n",
        "- **CONTADOR 42:** Se detecta un único outlier producido a las 15:21. Puesto que se observan registros elevados del contador entorno al mediodía, se mantiene el outlier.\n",
        "- **CONTADOR 57:** Se observa un único outlier muy alejado del comportamiento habitual del contador, por lo que se decide eliminarlo.\n",
        "- **CONTADOR 111:** No se detecta ningún patrón en los outliers, tomándose la decisión de suprimirlos.\n",
        "- **CONTADOR 122:** Los outliers parecen corresponderse con horarios de mañana. Al detectarse un patrón temporal en el comportamiento de los outliers, se decide mantenerlos.\n",
        "- **CONTADOR 218:** \n",
        "- **CONTADOR 231:** El contador presenta outliers no muy elevados, todos ellos entorno a las 02:30 de la madrugada. Al detectarse un patrón temporal en el comportamiento de los outliers y no ser muy elevados, se decide mantenerlos.\n",
        "- **CONTADOR 248:** Los outliers tienen lugar de madrugada y durante la mañana. Al detectarse un patrón temporal en el comportamiento de los outliers, se decide mantenerlos.\n",
        "- **CONTADOR 292:** El contador presenta unicamente 3 outliers, no muy elevados. Además, se observan registros con valores cercanos a los outliers. En base a lo citado, se decide mantener los outliers.\n",
        "- **CONTADOR 360:** Todos los outliers se registran el mismo día (2019-05-09). Se decide eliminarlos al no tratarse de un comportamiento habitual.\n",
        "- **CONTADOR 374:** Los outliers se corresponden con registros consecutivos del día 2019-10-26. Se decide eliminarlos al no tratarse de un comportamiento habitual.\n",
        "- **CONTADOR 375:** No se detecta patrón de comportamiento en los outliers detectados. En base a ello y al tratarse de sólo 3, se decide eliminarlos. \n",
        "- **CONTADOR 418:** Los outliers se producen de madrugada (04:00 - 07:00). Al detectarse un patrón temporal en el comportamiento de los outliers, se decide mantenerlos.\n",
        "- **CONTADOR 474:** La mayoría de los outliers se corresponden a registros del día 2019-04-05. Se decide eliminarlos al no tratarse de un comportamiento habitual.\n",
        "- **CONTADOR 545:** Se observan valores elevados en los registros no nulos del contador. Por tanto, al considerarse los valores elevados un comportamiento habitual, se decide mantener los outliers.\n",
        "- **CONTADOR 635:** Se detectan dos outlier de valores muy elevados y registrados el mismo día (2019-05-20). Se decide eliminarlos al no tratarse de un comportamiento habitual.\n",
        "- **CONTADOR 770:** Se observa un único outlier no muy elevado y registros con valores próximos a él. Por ello, se decide mantenerlo.\n",
        "- **CONTADOR 812:** Se observa que el contador presenta consumos elevados de forma habitual, por lo que se decide mantener los outliers. \n",
        "- **CONTADOR 873:** Se detecta un único outlier, muy elevado en comparación con el comportamiento habitual del contador, que se decide eliminar.\n",
        "- **CONTADOR 907:** Se detecta un único outlier, muy elevado, que se decide eliminar.\n",
        "- **CONTADOR 1034:** Los outlier se registran en horario de mañana, con mayor concentración en la madrugada. Al detectarse un patrón temporal en el comportamiento de los outliers, se decide mantenerlos.\n",
        "- **CONTADOR 1140:** Se trata de un contador de registros elevados y concentración de outliers entorno a las 12:00 de la mañana. Al detectarse un patrón temporal en el comportamiento de los outliers y un comportamiento habitual en el contador, se decide mantenerlos.\n",
        "- **CONTADOR 1217:** Se trata de un contador de registros elevados y concentración de outliers en horario de mañana (07:00 - 15:00). Al detectarse un patrón temporal en el comportamiento de los outliers y un comportamiento habitual en el contador, se decide mantenerlos.\n",
        "- **CONTADOR 1218:** Se detecta un único outlier, de valor muy elevado en comparación con el comportamiento habitual del contador, que se decide eliminar.\n",
        "- **CONTADOR 1247:** La mayoría de los outliers, a excepción de dos, se producen de madrugada (00:00 - 02:00).  Al detectarse un patrón temporal en el comportamiento de los outliers, se decide mantenerlos.\n",
        "- **CONTADOR 1280:** Todos los outliers se producen en tres días consecutivos. Pese a detectarse un patrón, se observa que todos los outliers presentan el mismo valor excesivo de 'DELTA'. En base a lo detectado, se considera que los outliers se deben a un error y se decide eliminarlos.\n",
        "- **CONTADOR 1338:** Todos los outliers tienen lugar de madrugada (00:00 - 07:00). Al detectarse un patrón temporal en el comportamiento de los outliers, se decide mantenerlos.\n",
        "- **CONTADOR 1339:** Se trata de un contador con registros elevados de forma habitual, por lo que se decide mantener los outliers.\n",
        "- **CONTADOR 1364:** Se observa que los outliers tienen lugar en horario comercial (08:00 - 20:00).  Por ello, al considerarse que el contador corresponde a un negocio, se decide mantener los outliers.\n",
        "- **CONTADOR 1416:** Se trata de un contador con registros elevados de forma habitual y outliers no muy alejados, por lo que se decide mantenerlos.\n",
        "- **CONTADOR 1431:** Se trata de un contador de valores muy bajos de forma habitual. No obstante, al registrarse todos los outliers en tres días consecutivos, se considera que existe un patrón de comportamiento y, en base a ello, se decide mantener los outliers.\n",
        "- **CONTADOR 1444:** La mayoría de los outliers se corresponden con una fecha concreta (2019-06-28). Se decide eliminarlos al no tratarse de un comportamiento habitual.\n",
        "- **CONTADOR 1544:** Se observa que los outliers tienen lugar de madrugada (03:00 - 05:00).  Por ello, al considerarse que el contador corresponde a un negocio, se decide mantener los outliers.\n",
        "- **CONTADOR 1664:** Se trata de un contador de registros elevados y concentración de outliers de 09:00 a 02:00, lo que podría corresponderse con un comercio de hostelería. Al detectarse un patrón temporal en el comportamiento de los outliers y un comportamiento habitual en el contador, se decide mantenerlos.\n",
        "- **CONTADOR 1679:** Se detectan dos outliers, no muy elevados, registrados entorno al mediodía (13:00 - 15:00). Al detectarse un patrón temporal en el comportamiento de los outliers, se decide mantenerlos.\n",
        "- **CONTADOR 1727:** Se trata de un contador de registros elevados y concentración de outliers de madrugada (02:00 - 04:00). Al detectarse un patrón temporal en el comportamiento de los outliers y un comportamiento habitual en el contador, se decide mantenerlos.\n",
        "- **CONTADOR 1750:** \n",
        "- **CONTADOR 2063:** El contador presenta un único outlier, de delta excesivo. Al tratarse de un comportamiento alejado de lo habitual, se decide eliminarlo.\n",
        "- **CONTADOR 2068:** \n",
        "- **CONTADOR 2143:** Los outliers se producen de madrugada y en horario de mañana, con mayor concentración a primera hora de la mañana (05:00 - 09:00). Al detectarse un patrón temporal en el comportamiento de los outliers, se decide mantenerlos.\n",
        "- **CONTADOR 2296:** Se observa una mayor concentración de outliers a primera hora de la mañana (06:00 - 10:00). Al detectarse un patrón temporal en el comportamiento de los outliers, se decide mantenerlos.\n",
        "- **CONTADOR 2459:** La mayoría de los outliers se corresponden con registros consecutivos de un mismo día (2019-11-12). Se decide eliminarlos al no tratarse de un comportamiento habitual.\n",
        "- **CONTADOR 2460:** Los outliers se corresponden con registros consecutivos del día 2019-03-29. Se decide eliminarlos al no tratarse de un comportamiento habitual.\n",
        "- **CONTADOR 2464:** Los outliers se producen entorno a las 09:30 de la mañana. Al detectarse un patrón temporal en el comportamiento de los outliers, se decide mantenerlos.\n",
        "- **CONTADOR 2473:** Los outliers tienen lugar de madrugada (01:00 - 06:00). Al detectarse un patrón temporal en el comportamiento de los outliers, se decide mantenerlos.\n",
        "- **CONTADOR 2479:** Los outliers se corresponden con registros consecutivos del día 2019-04-10. Se decide eliminarlos al no tratarse de un comportamiento habitual.\n",
        "- **CONTADOR 2481:** Se observan 100 outliers sin patrón de comportamiento aparente, por lo que se decide suprimirlos.\n",
        "- **CONTADOR 2511:** Los outliers se corresponden con registros consecutivos del día 2019-02-01. Se decide eliminarlos al no tratarse de un comportamiento habitual.\n",
        "- **CONTADOR 2512:** La mayoría de los outliers se producen en registros consecutivos de dos días separados (2019-04-12 / 2019-04-17). Se decide eliminarlos al no tratarse de un comportamiento habitual.\n",
        "- **CONTADOR 2571:** \n",
        "- **CONTADOR 2624:** Los outliers detectados se producen entorno al mediodía (13:00 - 15:00). Al detectarse un patrón temporal en el comportamiento de los outliers, se decide mantenerlos.\n",
        "- **CONTADOR 2635:** Un único outlier muy alejado de los valores habituales del contador, por lo que se decide suprimirlo.\n",
        "- **CONTADOR 2655:** No se detecta patrón de comportamiento en los outliers, motivo por el que se decide eliminarlos.\n",
        "- **CONTADOR 2670:** Se observan dos outliers, no muy elevados, producidos entorno al mediodía (11:00 - 13:00). Al detectarse un patrón temporal en el comportamiento de los outliers, se decide mantenerlos.\n",
        "- **CONTADOR 2727:** Se trata de un contador con muy pocos registros, unicamente de dos días, por lo que se decide suprimir, en este caso, el contador completo."
      ],
      "metadata": {
        "id": "6E8bcbiPSSCK"
      }
    },
    {
      "cell_type": "markdown",
      "source": [
        "De las decisiones tomadas, respecto a la eliminación o no de outliers, se extraen las siguientes conclusiones:\n",
        "\n",
        "- Se mantienen los outliers que se concentran en determinadas franjas horarias.\n",
        "- Se considera que los outliers presentan un patrón de comportamiento temporal cuando se succeden en un mínimo de tres días consecutivos y, en consecuencia, se mantienen.\n",
        "- Los outliers alejados del comportamiento habitual del contador son suprimidos."
      ],
      "metadata": {
        "id": "nsweMlpvrFPw"
      }
    },
    {
      "cell_type": "markdown",
      "source": [
        "#### 2.4.4 ELIMINACIÓN DE OUTLIERS"
      ],
      "metadata": {
        "id": "sDdHM3GBtI8n"
      }
    },
    {
      "cell_type": "markdown",
      "source": [
        "Se dispone a eliminar aquellos outliers que parecen corresponderse con errores de medida o comportamiento no habitual."
      ],
      "metadata": {
        "id": "szGFwDXTtSW1"
      }
    },
    {
      "cell_type": "code",
      "source": [
        "df_outliers_delete = df_outliers[(df_outliers['ID']==57) | (df_outliers['ID']==111) | (df_outliers['ID']==360) | (df_outliers['ID']==374) | (df_outliers['ID']==375) | (df_outliers['ID']==474) | (df_outliers['ID']==635) | (df_outliers['ID']==873) | (df_outliers['ID']==907) | (df_outliers['ID']==1218) | (df_outliers['ID']==1280) | (df_outliers['ID']==2063) | (df_outliers['ID']==1444) | (df_outliers['ID']==2068) | (df_outliers['ID']==2459) | (df_outliers['ID']==2460) | (df_outliers['ID']==2479) | (df_outliers['ID']==2481) | (df_outliers['ID']==2511) | (df_outliers['ID']==2512) | (df_outliers['ID']==2635) | (df_outliers['ID']==2655)]\n",
        "df_outliers_delete"
      ],
      "metadata": {
        "colab": {
          "base_uri": "https://localhost:8080/"
        },
        "id": "N-ed8xAytdDJ",
        "outputId": "3de4f644-e79a-4236-8c6b-baf59f885bb1"
      },
      "execution_count": null,
      "outputs": [
        {
          "output_type": "execute_result",
          "data": {
            "text/plain": [
              "            ID          SAMPLETIME    READING     DELTA\n",
              "486456      57 2019-12-02 12:29:35   347490.0  289321.0\n",
              "946710     111 2019-03-17 21:38:51  3335030.0    8750.0\n",
              "948883     111 2019-04-17 14:37:37  3656030.0    6960.0\n",
              "948867     111 2019-04-17 15:37:35  3660700.0    4670.0\n",
              "948358     111 2019-12-10 09:28:43  5859950.0   10460.0\n",
              "...        ...                 ...        ...       ...\n",
              "21280581  2655 2019-11-07 20:00:15   263455.0    5330.0\n",
              "21279800  2655 2019-12-27 16:00:09   356239.0    4804.0\n",
              "21280101  2655 2019-12-27 17:00:09   362052.0    5813.0\n",
              "21280871  2655 2020-01-28 12:00:18   515575.0    6326.0\n",
              "21280870  2655 2020-01-28 13:00:18   521680.0    6105.0\n",
              "\n",
              "[276 rows x 4 columns]"
            ],
            "text/html": [
              "\n",
              "  <div id=\"df-6a5b1f68-82a8-47c9-8128-cdc2a4238cf8\">\n",
              "    <div class=\"colab-df-container\">\n",
              "      <div>\n",
              "<style scoped>\n",
              "    .dataframe tbody tr th:only-of-type {\n",
              "        vertical-align: middle;\n",
              "    }\n",
              "\n",
              "    .dataframe tbody tr th {\n",
              "        vertical-align: top;\n",
              "    }\n",
              "\n",
              "    .dataframe thead th {\n",
              "        text-align: right;\n",
              "    }\n",
              "</style>\n",
              "<table border=\"1\" class=\"dataframe\">\n",
              "  <thead>\n",
              "    <tr style=\"text-align: right;\">\n",
              "      <th></th>\n",
              "      <th>ID</th>\n",
              "      <th>SAMPLETIME</th>\n",
              "      <th>READING</th>\n",
              "      <th>DELTA</th>\n",
              "    </tr>\n",
              "  </thead>\n",
              "  <tbody>\n",
              "    <tr>\n",
              "      <th>486456</th>\n",
              "      <td>57</td>\n",
              "      <td>2019-12-02 12:29:35</td>\n",
              "      <td>347490.0</td>\n",
              "      <td>289321.0</td>\n",
              "    </tr>\n",
              "    <tr>\n",
              "      <th>946710</th>\n",
              "      <td>111</td>\n",
              "      <td>2019-03-17 21:38:51</td>\n",
              "      <td>3335030.0</td>\n",
              "      <td>8750.0</td>\n",
              "    </tr>\n",
              "    <tr>\n",
              "      <th>948883</th>\n",
              "      <td>111</td>\n",
              "      <td>2019-04-17 14:37:37</td>\n",
              "      <td>3656030.0</td>\n",
              "      <td>6960.0</td>\n",
              "    </tr>\n",
              "    <tr>\n",
              "      <th>948867</th>\n",
              "      <td>111</td>\n",
              "      <td>2019-04-17 15:37:35</td>\n",
              "      <td>3660700.0</td>\n",
              "      <td>4670.0</td>\n",
              "    </tr>\n",
              "    <tr>\n",
              "      <th>948358</th>\n",
              "      <td>111</td>\n",
              "      <td>2019-12-10 09:28:43</td>\n",
              "      <td>5859950.0</td>\n",
              "      <td>10460.0</td>\n",
              "    </tr>\n",
              "    <tr>\n",
              "      <th>...</th>\n",
              "      <td>...</td>\n",
              "      <td>...</td>\n",
              "      <td>...</td>\n",
              "      <td>...</td>\n",
              "    </tr>\n",
              "    <tr>\n",
              "      <th>21280581</th>\n",
              "      <td>2655</td>\n",
              "      <td>2019-11-07 20:00:15</td>\n",
              "      <td>263455.0</td>\n",
              "      <td>5330.0</td>\n",
              "    </tr>\n",
              "    <tr>\n",
              "      <th>21279800</th>\n",
              "      <td>2655</td>\n",
              "      <td>2019-12-27 16:00:09</td>\n",
              "      <td>356239.0</td>\n",
              "      <td>4804.0</td>\n",
              "    </tr>\n",
              "    <tr>\n",
              "      <th>21280101</th>\n",
              "      <td>2655</td>\n",
              "      <td>2019-12-27 17:00:09</td>\n",
              "      <td>362052.0</td>\n",
              "      <td>5813.0</td>\n",
              "    </tr>\n",
              "    <tr>\n",
              "      <th>21280871</th>\n",
              "      <td>2655</td>\n",
              "      <td>2020-01-28 12:00:18</td>\n",
              "      <td>515575.0</td>\n",
              "      <td>6326.0</td>\n",
              "    </tr>\n",
              "    <tr>\n",
              "      <th>21280870</th>\n",
              "      <td>2655</td>\n",
              "      <td>2020-01-28 13:00:18</td>\n",
              "      <td>521680.0</td>\n",
              "      <td>6105.0</td>\n",
              "    </tr>\n",
              "  </tbody>\n",
              "</table>\n",
              "<p>276 rows × 4 columns</p>\n",
              "</div>\n",
              "      <button class=\"colab-df-convert\" onclick=\"convertToInteractive('df-6a5b1f68-82a8-47c9-8128-cdc2a4238cf8')\"\n",
              "              title=\"Convert this dataframe to an interactive table.\"\n",
              "              style=\"display:none;\">\n",
              "        \n",
              "  <svg xmlns=\"http://www.w3.org/2000/svg\" height=\"24px\"viewBox=\"0 0 24 24\"\n",
              "       width=\"24px\">\n",
              "    <path d=\"M0 0h24v24H0V0z\" fill=\"none\"/>\n",
              "    <path d=\"M18.56 5.44l.94 2.06.94-2.06 2.06-.94-2.06-.94-.94-2.06-.94 2.06-2.06.94zm-11 1L8.5 8.5l.94-2.06 2.06-.94-2.06-.94L8.5 2.5l-.94 2.06-2.06.94zm10 10l.94 2.06.94-2.06 2.06-.94-2.06-.94-.94-2.06-.94 2.06-2.06.94z\"/><path d=\"M17.41 7.96l-1.37-1.37c-.4-.4-.92-.59-1.43-.59-.52 0-1.04.2-1.43.59L10.3 9.45l-7.72 7.72c-.78.78-.78 2.05 0 2.83L4 21.41c.39.39.9.59 1.41.59.51 0 1.02-.2 1.41-.59l7.78-7.78 2.81-2.81c.8-.78.8-2.07 0-2.86zM5.41 20L4 18.59l7.72-7.72 1.47 1.35L5.41 20z\"/>\n",
              "  </svg>\n",
              "      </button>\n",
              "      \n",
              "  <style>\n",
              "    .colab-df-container {\n",
              "      display:flex;\n",
              "      flex-wrap:wrap;\n",
              "      gap: 12px;\n",
              "    }\n",
              "\n",
              "    .colab-df-convert {\n",
              "      background-color: #E8F0FE;\n",
              "      border: none;\n",
              "      border-radius: 50%;\n",
              "      cursor: pointer;\n",
              "      display: none;\n",
              "      fill: #1967D2;\n",
              "      height: 32px;\n",
              "      padding: 0 0 0 0;\n",
              "      width: 32px;\n",
              "    }\n",
              "\n",
              "    .colab-df-convert:hover {\n",
              "      background-color: #E2EBFA;\n",
              "      box-shadow: 0px 1px 2px rgba(60, 64, 67, 0.3), 0px 1px 3px 1px rgba(60, 64, 67, 0.15);\n",
              "      fill: #174EA6;\n",
              "    }\n",
              "\n",
              "    [theme=dark] .colab-df-convert {\n",
              "      background-color: #3B4455;\n",
              "      fill: #D2E3FC;\n",
              "    }\n",
              "\n",
              "    [theme=dark] .colab-df-convert:hover {\n",
              "      background-color: #434B5C;\n",
              "      box-shadow: 0px 1px 3px 1px rgba(0, 0, 0, 0.15);\n",
              "      filter: drop-shadow(0px 1px 2px rgba(0, 0, 0, 0.3));\n",
              "      fill: #FFFFFF;\n",
              "    }\n",
              "  </style>\n",
              "\n",
              "      <script>\n",
              "        const buttonEl =\n",
              "          document.querySelector('#df-6a5b1f68-82a8-47c9-8128-cdc2a4238cf8 button.colab-df-convert');\n",
              "        buttonEl.style.display =\n",
              "          google.colab.kernel.accessAllowed ? 'block' : 'none';\n",
              "\n",
              "        async function convertToInteractive(key) {\n",
              "          const element = document.querySelector('#df-6a5b1f68-82a8-47c9-8128-cdc2a4238cf8');\n",
              "          const dataTable =\n",
              "            await google.colab.kernel.invokeFunction('convertToInteractive',\n",
              "                                                     [key], {});\n",
              "          if (!dataTable) return;\n",
              "\n",
              "          const docLinkHtml = 'Like what you see? Visit the ' +\n",
              "            '<a target=\"_blank\" href=https://colab.research.google.com/notebooks/data_table.ipynb>data table notebook</a>'\n",
              "            + ' to learn more about interactive tables.';\n",
              "          element.innerHTML = '';\n",
              "          dataTable['output_type'] = 'display_data';\n",
              "          await google.colab.output.renderOutput(dataTable, element);\n",
              "          const docLink = document.createElement('div');\n",
              "          docLink.innerHTML = docLinkHtml;\n",
              "          element.appendChild(docLink);\n",
              "        }\n",
              "      </script>\n",
              "    </div>\n",
              "  </div>\n",
              "  "
            ]
          },
          "metadata": {},
          "execution_count": 58
        }
      ]
    },
    {
      "cell_type": "markdown",
      "source": [
        "En base a las decisiones tomadas, se eliminarán un total de 276 registros (número reducido de registros en relación al conjunto de registros del dataset)"
      ],
      "metadata": {
        "id": "aXWGuwS00ghQ"
      }
    },
    {
      "cell_type": "code",
      "source": [
        "len(df)"
      ],
      "metadata": {
        "colab": {
          "base_uri": "https://localhost:8080/"
        },
        "id": "ZwglhOdq1PoJ",
        "outputId": "ac299405-4ab3-488f-b0f9-8b884e939d6b"
      },
      "execution_count": null,
      "outputs": [
        {
          "output_type": "execute_result",
          "data": {
            "text/plain": [
              "21349461"
            ]
          },
          "metadata": {},
          "execution_count": 59
        }
      ]
    },
    {
      "cell_type": "code",
      "source": [
        "outliers_index = np.array(df_outliers_delete.index)\n",
        "df = df.drop(outliers_index)\n",
        "len(df)"
      ],
      "metadata": {
        "colab": {
          "base_uri": "https://localhost:8080/"
        },
        "id": "EvYnbH3y00VR",
        "outputId": "d5cee541-f274-439f-e2d8-aa3cc5f34da5"
      },
      "execution_count": null,
      "outputs": [
        {
          "output_type": "execute_result",
          "data": {
            "text/plain": [
              "21349185"
            ]
          },
          "metadata": {},
          "execution_count": 60
        }
      ]
    },
    {
      "cell_type": "markdown",
      "source": [
        "Además, como ya se ha comentado, se eliminarán los registros del contador 2727, puesto que dispone de muy pocos registros y casi todos ellos nulos. "
      ],
      "metadata": {
        "id": "zj1TNHlH1nxh"
      }
    },
    {
      "cell_type": "code",
      "source": [
        "df = df[df['ID']!=2727]\n",
        "len(df)"
      ],
      "metadata": {
        "colab": {
          "base_uri": "https://localhost:8080/"
        },
        "id": "JwIGMmWa1413",
        "outputId": "1ed9d9cb-9042-4ee8-9b98-7ff25afaa9c7"
      },
      "execution_count": null,
      "outputs": [
        {
          "output_type": "execute_result",
          "data": {
            "text/plain": [
              "21349150"
            ]
          },
          "metadata": {},
          "execution_count": 61
        }
      ]
    },
    {
      "cell_type": "markdown",
      "source": [
        "# 3. Enriquecimiento y Análisis descriptivo"
      ],
      "metadata": {
        "id": "gP1YMZps5JTj"
      }
    },
    {
      "cell_type": "markdown",
      "source": [
        "## 3.1 Inclusión de nuevas variables"
      ],
      "metadata": {
        "id": "8QXjQwdzBlRb"
      }
    },
    {
      "cell_type": "markdown",
      "source": [
        "### 3.1.1 Hogar o empresa"
      ],
      "metadata": {
        "id": "-c2emWD54ndZ"
      }
    },
    {
      "cell_type": "markdown",
      "source": [
        "Queremos saber si una lectura es de un hogar o de una empresa en virtud del consumo diario"
      ],
      "metadata": {
        "id": "5HpK6H6x-uFU"
      }
    },
    {
      "cell_type": "code",
      "source": [
        "# Para calcular este punto primero hemos tenido que hacer la agregación diaria para poder catalogar a un registro como\n",
        "# procedente de una vivienda o de una empresa. Luego hemos creado una máscara de los ids de vivienda para pasársela con un\n",
        "# condicional a la tabla original, creando de esta forma la columna dummy.\n",
        "\n",
        "df['DATE'] = df['SAMPLETIME'].dt.date\n",
        "df_agrupado_piechart=df.groupby(['ID', 'DATE']).agg({'DELTA': [np.sum]})\n",
        "df_agrupado_piechart.reset_index(inplace=True)\n",
        "df_agrupado_piechart.columns =['ID', 'DATE', 'DELTA']\n",
        "df_agrupado_piechart['VIVIENDA'] = np.where(df_agrupado_piechart['DELTA'] < 400, 1, 0) # 0 si no es vivienda (local comercial) y 1 si es vivienda"
      ],
      "metadata": {
        "id": "E_k88S7y5nr3"
      },
      "execution_count": null,
      "outputs": []
    },
    {
      "cell_type": "markdown",
      "source": [
        "El consumo medio de una vivienda (con los habitantes de la misma en la media de la Comunidad Valenciana) en un día sería \n",
        "                de 132 * 2,42 = 319 litros aproximadamente. Según esto, vamos a categorizar separando las viviendas de los locales comerciales, \n",
        "                creando una nueva variable de medición, que también serviría para analizar cómo se distribuyen los valores en cuanto a sus máximos \n",
        "                de consumo en el día. Es por ello que se le sumará a ese resultado un margen de error para llegar hasta los 400 litros como máximo.\n",
        "                \n",
        "Por lo tanto, si el consumo al día es menor de 400 litros se considerará que es una vivienda, y si es de 400 litros o más, \n",
        "                se considerará local comercial."
      ],
      "metadata": {
        "id": "SU23rP1C2sLy"
      }
    },
    {
      "cell_type": "code",
      "source": [
        "df_agrupado_piechart.reset_index(inplace=True)\n",
        "df_agrupado_piechart_moda = df_agrupado_piechart.groupby('ID')['VIVIENDA'].agg(pd.Series.mode).astype(str).reset_index(drop=True) # Agrupar por la moda de si es vivienda o no para cada fecha\n",
        "df_agrupado_piechart_moda_df = df_agrupado_piechart_moda.to_frame().reset_index()\n",
        "df_agrupado_piechart_moda_df.columns = ['ID', 'VIVIENDA']\n",
        "\n",
        "# Corrección de valores\n",
        "df_agrupado_piechart_moda_df.loc[df_agrupado_piechart_moda_df['ID'] == 2538, 'VIVIENDA'] = '0'\n",
        "df_agrupado_piechart_moda_df.loc[df_agrupado_piechart_moda_df['ID'] == 2726, 'VIVIENDA'] = '0'\n",
        "df_agrupado_piechart_moda_df.loc[df_agrupado_piechart_moda_df['ID'] == 2534, 'VIVIENDA'] = '0'\n",
        "\n",
        "# FALTA LA EXPLICACIÓN: df_agrupado_piechart_moda_df[(df_agrupado_piechart_moda_df['VIVIENDA']!='0') & (df_agrupado_piechart_moda_df['VIVIENDA']!='1')]\n"
      ],
      "metadata": {
        "id": "9TFHOphcKfc-"
      },
      "execution_count": null,
      "outputs": []
    },
    {
      "cell_type": "code",
      "source": [
        "df_agrupado_piechart_moda_df['VIVIENDA'].value_counts()"
      ],
      "metadata": {
        "colab": {
          "base_uri": "https://localhost:8080/"
        },
        "id": "Zh9_8DbWRdZ3",
        "outputId": "fc7bf1ba-3d14-4708-c09f-125727dbcc73"
      },
      "execution_count": null,
      "outputs": [
        {
          "output_type": "execute_result",
          "data": {
            "text/plain": [
              "1    2430\n",
              "0     307\n",
              "Name: VIVIENDA, dtype: int64"
            ]
          },
          "metadata": {},
          "execution_count": 64
        }
      ]
    },
    {
      "cell_type": "code",
      "source": [
        "explode = [0.2, 0.0]\n",
        "\n",
        "colors = ['steelblue', 'darkslateblue']\n",
        "\n",
        "wp = {'linewidth' : 1, 'edgecolor' : \"white\"}\n",
        "\n",
        "def func(pct, allvalues):\n",
        "    absolute = int(pct / 100.*np.sum(allvalues))\n",
        "    return \"{:.1f}%\\n({:d})\".format(pct, absolute)\n",
        "\n",
        "# Creación del gráfico\n",
        "fig, ax = plt.subplots(figsize = (10, 5))\n",
        "fig.patch.set_alpha(0)\n",
        "fig.patch.set_facecolor('blue')\n",
        "wedges, texts, autotexts = ax.pie(df_agrupado_piechart_moda_df['VIVIENDA'].value_counts(),\n",
        "                                autopct = lambda pct: func(pct, df_agrupado_piechart_moda_df['VIVIENDA'].value_counts()),\n",
        "                                explode = explode,\n",
        "                                colors = colors,\n",
        "                                startangle = 90,\n",
        "                                wedgeprops = wp,\n",
        "                                textprops = dict(color =\"white\"))\n",
        "\n",
        "                # Añadir leyenda\n",
        "leyenda = ax.legend(wedges, ['Vivienda', 'Local comercial'],\n",
        "              loc =\"center left\",\n",
        "              bbox_to_anchor =(1, 0, 0.5, 1),\n",
        "              fontsize = 8,\n",
        "              facecolor = '#00172B')\n",
        "\n",
        "for text in leyenda.get_texts():\n",
        "  plt.setp(text, color = 'white')\n",
        "\n",
        "plt.setp(autotexts, size = 6, weight = \"bold\", color = \"white\")\n",
        "\n",
        "plt.show()\n"
      ],
      "metadata": {
        "colab": {
          "base_uri": "https://localhost:8080/",
          "height": 54
        },
        "id": "Dnzn9IibTqrf",
        "outputId": "a9e47a4c-36ba-446e-b2c0-9bb411be16eb"
      },
      "execution_count": null,
      "outputs": [
        {
          "output_type": "display_data",
          "data": {
            "text/plain": [
              "<Figure size 720x360 with 1 Axes>"
            ],
            "image/png": "[encoded data removed]"
          },
          "metadata": {}
        }
      ]
    },
    {
      "cell_type": "code",
      "source": [
        "df['VIVIENDA']=df_agrupado_piechart_moda_df['VIVIENDA']"
      ],
      "metadata": {
        "id": "YgdECjKcWJD4"
      },
      "execution_count": null,
      "outputs": []
    },
    {
      "cell_type": "markdown",
      "source": [
        "### 3.1.2 Dia de la semana"
      ],
      "metadata": {
        "id": "cGWvxPa-4rhP"
      }
    },
    {
      "cell_type": "code",
      "source": [
        "df['DATE'] = pd.to_datetime(df['DATE'], errors='coerce')\n",
        "df['WEEKDAY'] = df['DATE'].dt.day_name()\n",
        "df['WEEKDAY_NUMBER'] = df['SAMPLETIME'].dt.dayofweek \n",
        "df"
      ],
      "metadata": {
        "id": "4hkc5E00352H",
        "colab": {
          "base_uri": "https://localhost:8080/",
          "height": 661
        },
        "outputId": "aebbad4a-263f-4a9f-f1f4-cfae3c27d2b6"
      },
      "execution_count": null,
      "outputs": [
        {
          "output_type": "execute_result",
          "data": {
            "text/plain": [
              "            ID          SAMPLETIME   READING  DELTA       DATE VIVIENDA  \\\n",
              "160          0 2019-02-01 00:39:36  331710.0    0.0 2019-02-01        1   \n",
              "152          0 2019-02-01 01:39:36  331710.0    0.0 2019-02-01        1   \n",
              "150          0 2019-02-01 02:39:35  331710.0    0.0 2019-02-01        1   \n",
              "156          0 2019-02-01 03:39:35  331710.0    0.0 2019-02-01        1   \n",
              "161          0 2019-02-01 04:39:35  331710.0    0.0 2019-02-01        1   \n",
              "...        ...                 ...       ...    ...        ...      ...   \n",
              "21404822  2749 2019-10-11 07:27:14  164507.0    2.0 2019-10-11      NaN   \n",
              "21404826  2756 2019-04-06 04:50:17  349758.0    0.0 2019-04-06      NaN   \n",
              "21404824  2756 2019-04-06 05:50:17  349758.0    0.0 2019-04-06      NaN   \n",
              "21404827  2756 2019-04-06 06:50:17  349758.0    0.0 2019-04-06      NaN   \n",
              "21404825  2756 2019-04-06 07:50:17  349770.0   12.0 2019-04-06      NaN   \n",
              "\n",
              "           WEEKDAY  WEEKDAY_NUMBER  \n",
              "160         Friday               4  \n",
              "152         Friday               4  \n",
              "150         Friday               4  \n",
              "156         Friday               4  \n",
              "161         Friday               4  \n",
              "...            ...             ...  \n",
              "21404822    Friday               4  \n",
              "21404826  Saturday               5  \n",
              "21404824  Saturday               5  \n",
              "21404827  Saturday               5  \n",
              "21404825  Saturday               5  \n",
              "\n",
              "[21349150 rows x 8 columns]"
            ],
            "text/html": [
              "\n",
              "  <div id=\"df-1674f24e-a9f2-4751-9cdf-718b7371fac5\">\n",
              "    <div class=\"colab-df-container\">\n",
              "      <div>\n",
              "<style scoped>\n",
              "    .dataframe tbody tr th:only-of-type {\n",
              "        vertical-align: middle;\n",
              "    }\n",
              "\n",
              "    .dataframe tbody tr th {\n",
              "        vertical-align: top;\n",
              "    }\n",
              "\n",
              "    .dataframe thead th {\n",
              "        text-align: right;\n",
              "    }\n",
              "</style>\n",
              "<table border=\"1\" class=\"dataframe\">\n",
              "  <thead>\n",
              "    <tr style=\"text-align: right;\">\n",
              "      <th></th>\n",
              "      <th>ID</th>\n",
              "      <th>SAMPLETIME</th>\n",
              "      <th>READING</th>\n",
              "      <th>DELTA</th>\n",
              "      <th>DATE</th>\n",
              "      <th>VIVIENDA</th>\n",
              "      <th>WEEKDAY</th>\n",
              "      <th>WEEKDAY_NUMBER</th>\n",
              "    </tr>\n",
              "  </thead>\n",
              "  <tbody>\n",
              "    <tr>\n",
              "      <th>160</th>\n",
              "      <td>0</td>\n",
              "      <td>2019-02-01 00:39:36</td>\n",
              "      <td>331710.0</td>\n",
              "      <td>0.0</td>\n",
              "      <td>2019-02-01</td>\n",
              "      <td>1</td>\n",
              "      <td>Friday</td>\n",
              "      <td>4</td>\n",
              "    </tr>\n",
              "    <tr>\n",
              "      <th>152</th>\n",
              "      <td>0</td>\n",
              "      <td>2019-02-01 01:39:36</td>\n",
              "      <td>331710.0</td>\n",
              "      <td>0.0</td>\n",
              "      <td>2019-02-01</td>\n",
              "      <td>1</td>\n",
              "      <td>Friday</td>\n",
              "      <td>4</td>\n",
              "    </tr>\n",
              "    <tr>\n",
              "      <th>150</th>\n",
              "      <td>0</td>\n",
              "      <td>2019-02-01 02:39:35</td>\n",
              "      <td>331710.0</td>\n",
              "      <td>0.0</td>\n",
              "      <td>2019-02-01</td>\n",
              "      <td>1</td>\n",
              "      <td>Friday</td>\n",
              "      <td>4</td>\n",
              "    </tr>\n",
              "    <tr>\n",
              "      <th>156</th>\n",
              "      <td>0</td>\n",
              "      <td>2019-02-01 03:39:35</td>\n",
              "      <td>331710.0</td>\n",
              "      <td>0.0</td>\n",
              "      <td>2019-02-01</td>\n",
              "      <td>1</td>\n",
              "      <td>Friday</td>\n",
              "      <td>4</td>\n",
              "    </tr>\n",
              "    <tr>\n",
              "      <th>161</th>\n",
              "      <td>0</td>\n",
              "      <td>2019-02-01 04:39:35</td>\n",
              "      <td>331710.0</td>\n",
              "      <td>0.0</td>\n",
              "      <td>2019-02-01</td>\n",
              "      <td>1</td>\n",
              "      <td>Friday</td>\n",
              "      <td>4</td>\n",
              "    </tr>\n",
              "    <tr>\n",
              "      <th>...</th>\n",
              "      <td>...</td>\n",
              "      <td>...</td>\n",
              "      <td>...</td>\n",
              "      <td>...</td>\n",
              "      <td>...</td>\n",
              "      <td>...</td>\n",
              "      <td>...</td>\n",
              "      <td>...</td>\n",
              "    </tr>\n",
              "    <tr>\n",
              "      <th>21404822</th>\n",
              "      <td>2749</td>\n",
              "      <td>2019-10-11 07:27:14</td>\n",
              "      <td>164507.0</td>\n",
              "      <td>2.0</td>\n",
              "      <td>2019-10-11</td>\n",
              "      <td>NaN</td>\n",
              "      <td>Friday</td>\n",
              "      <td>4</td>\n",
              "    </tr>\n",
              "    <tr>\n",
              "      <th>21404826</th>\n",
              "      <td>2756</td>\n",
              "      <td>2019-04-06 04:50:17</td>\n",
              "      <td>349758.0</td>\n",
              "      <td>0.0</td>\n",
              "      <td>2019-04-06</td>\n",
              "      <td>NaN</td>\n",
              "      <td>Saturday</td>\n",
              "      <td>5</td>\n",
              "    </tr>\n",
              "    <tr>\n",
              "      <th>21404824</th>\n",
              "      <td>2756</td>\n",
              "      <td>2019-04-06 05:50:17</td>\n",
              "      <td>349758.0</td>\n",
              "      <td>0.0</td>\n",
              "      <td>2019-04-06</td>\n",
              "      <td>NaN</td>\n",
              "      <td>Saturday</td>\n",
              "      <td>5</td>\n",
              "    </tr>\n",
              "    <tr>\n",
              "      <th>21404827</th>\n",
              "      <td>2756</td>\n",
              "      <td>2019-04-06 06:50:17</td>\n",
              "      <td>349758.0</td>\n",
              "      <td>0.0</td>\n",
              "      <td>2019-04-06</td>\n",
              "      <td>NaN</td>\n",
              "      <td>Saturday</td>\n",
              "      <td>5</td>\n",
              "    </tr>\n",
              "    <tr>\n",
              "      <th>21404825</th>\n",
              "      <td>2756</td>\n",
              "      <td>2019-04-06 07:50:17</td>\n",
              "      <td>349770.0</td>\n",
              "      <td>12.0</td>\n",
              "      <td>2019-04-06</td>\n",
              "      <td>NaN</td>\n",
              "      <td>Saturday</td>\n",
              "      <td>5</td>\n",
              "    </tr>\n",
              "  </tbody>\n",
              "</table>\n",
              "<p>21349150 rows × 8 columns</p>\n",
              "</div>\n",
              "      <button class=\"colab-df-convert\" onclick=\"convertToInteractive('df-1674f24e-a9f2-4751-9cdf-718b7371fac5')\"\n",
              "              title=\"Convert this dataframe to an interactive table.\"\n",
              "              style=\"display:none;\">\n",
              "        \n",
              "  <svg xmlns=\"http://www.w3.org/2000/svg\" height=\"24px\"viewBox=\"0 0 24 24\"\n",
              "       width=\"24px\">\n",
              "    <path d=\"M0 0h24v24H0V0z\" fill=\"none\"/>\n",
              "    <path d=\"M18.56 5.44l.94 2.06.94-2.06 2.06-.94-2.06-.94-.94-2.06-.94 2.06-2.06.94zm-11 1L8.5 8.5l.94-2.06 2.06-.94-2.06-.94L8.5 2.5l-.94 2.06-2.06.94zm10 10l.94 2.06.94-2.06 2.06-.94-2.06-.94-.94-2.06-.94 2.06-2.06.94z\"/><path d=\"M17.41 7.96l-1.37-1.37c-.4-.4-.92-.59-1.43-.59-.52 0-1.04.2-1.43.59L10.3 9.45l-7.72 7.72c-.78.78-.78 2.05 0 2.83L4 21.41c.39.39.9.59 1.41.59.51 0 1.02-.2 1.41-.59l7.78-7.78 2.81-2.81c.8-.78.8-2.07 0-2.86zM5.41 20L4 18.59l7.72-7.72 1.47 1.35L5.41 20z\"/>\n",
              "  </svg>\n",
              "      </button>\n",
              "      \n",
              "  <style>\n",
              "    .colab-df-container {\n",
              "      display:flex;\n",
              "      flex-wrap:wrap;\n",
              "      gap: 12px;\n",
              "    }\n",
              "\n",
              "    .colab-df-convert {\n",
              "      background-color: #E8F0FE;\n",
              "      border: none;\n",
              "      border-radius: 50%;\n",
              "      cursor: pointer;\n",
              "      display: none;\n",
              "      fill: #1967D2;\n",
              "      height: 32px;\n",
              "      padding: 0 0 0 0;\n",
              "      width: 32px;\n",
              "    }\n",
              "\n",
              "    .colab-df-convert:hover {\n",
              "      background-color: #E2EBFA;\n",
              "      box-shadow: 0px 1px 2px rgba(60, 64, 67, 0.3), 0px 1px 3px 1px rgba(60, 64, 67, 0.15);\n",
              "      fill: #174EA6;\n",
              "    }\n",
              "\n",
              "    [theme=dark] .colab-df-convert {\n",
              "      background-color: #3B4455;\n",
              "      fill: #D2E3FC;\n",
              "    }\n",
              "\n",
              "    [theme=dark] .colab-df-convert:hover {\n",
              "      background-color: #434B5C;\n",
              "      box-shadow: 0px 1px 3px 1px rgba(0, 0, 0, 0.15);\n",
              "      filter: drop-shadow(0px 1px 2px rgba(0, 0, 0, 0.3));\n",
              "      fill: #FFFFFF;\n",
              "    }\n",
              "  </style>\n",
              "\n",
              "      <script>\n",
              "        const buttonEl =\n",
              "          document.querySelector('#df-1674f24e-a9f2-4751-9cdf-718b7371fac5 button.colab-df-convert');\n",
              "        buttonEl.style.display =\n",
              "          google.colab.kernel.accessAllowed ? 'block' : 'none';\n",
              "\n",
              "        async function convertToInteractive(key) {\n",
              "          const element = document.querySelector('#df-1674f24e-a9f2-4751-9cdf-718b7371fac5');\n",
              "          const dataTable =\n",
              "            await google.colab.kernel.invokeFunction('convertToInteractive',\n",
              "                                                     [key], {});\n",
              "          if (!dataTable) return;\n",
              "\n",
              "          const docLinkHtml = 'Like what you see? Visit the ' +\n",
              "            '<a target=\"_blank\" href=https://colab.research.google.com/notebooks/data_table.ipynb>data table notebook</a>'\n",
              "            + ' to learn more about interactive tables.';\n",
              "          element.innerHTML = '';\n",
              "          dataTable['output_type'] = 'display_data';\n",
              "          await google.colab.output.renderOutput(dataTable, element);\n",
              "          const docLink = document.createElement('div');\n",
              "          docLink.innerHTML = docLinkHtml;\n",
              "          element.appendChild(docLink);\n",
              "        }\n",
              "      </script>\n",
              "    </div>\n",
              "  </div>\n",
              "  "
            ]
          },
          "metadata": {},
          "execution_count": 67
        }
      ]
    },
    {
      "cell_type": "markdown",
      "source": [
        "### 3.1.3 Mes"
      ],
      "metadata": {
        "id": "KfFYuUWp_0C9"
      }
    },
    {
      "cell_type": "code",
      "source": [
        " df['MONTH'] = df['SAMPLETIME'].dt.month_name()\n",
        " df['MONTH_NUMBER'] = df['SAMPLETIME'].dt.month # Número del mes para ordenarlo"
      ],
      "metadata": {
        "id": "n40M1W1O__7L"
      },
      "execution_count": null,
      "outputs": []
    },
    {
      "cell_type": "markdown",
      "source": [
        "### 3.1.4 Estación del año"
      ],
      "metadata": {
        "id": "A3nNGWrt4-pW"
      }
    },
    {
      "cell_type": "code",
      "source": [
        "df['SEASON'] = ' ' # Se crea la variable vacía para rellenarla posteriormente\n",
        "\n",
        "df.loc[(df['MONTH'] == 'January') | (df['MONTH'] == 'February') | (df['MONTH'] == 'March'), 'SEASON'] = 'Winter'\n",
        "df.loc[(df['MONTH'] == 'April') | (df['MONTH'] == 'May') | (df['MONTH'] == 'June'), 'SEASON'] = 'Spring'\n",
        "df.loc[(df['MONTH'] == 'July') | (df['MONTH'] == 'August') | (df['MONTH'] == 'September'), 'SEASON'] = 'Summer'\n",
        "df.loc[(df['MONTH'] == 'October') | (df['MONTH'] == 'November') | (df['MONTH'] == 'December'), 'SEASON'] = 'Autumn'\n",
        "\n",
        "# Para ordenar las estaciones en la tabla (por meses)\n",
        "df.loc[df['SEASON'] == 'Winter', 'SEASON_NUMBER'] = 1\n",
        "df.loc[df['SEASON'] == 'Spring', 'SEASON_NUMBER'] = 2\n",
        "df.loc[df['SEASON'] == 'Summer', 'SEASON_NUMBER'] = 3\n",
        "df.loc[df['SEASON'] == 'Autumn', 'SEASON_NUMBER'] = 4"
      ],
      "metadata": {
        "id": "kvCtzRqOUlY0"
      },
      "execution_count": null,
      "outputs": []
    },
    {
      "cell_type": "code",
      "source": [
        "df"
      ],
      "metadata": {
        "id": "XVzTWSmI5C4o",
        "colab": {
          "base_uri": "https://localhost:8080/",
          "height": 424
        },
        "outputId": "5af3c65c-59e4-454e-8111-26c9cec562ea"
      },
      "execution_count": null,
      "outputs": [
        {
          "output_type": "execute_result",
          "data": {
            "text/plain": [
              "            ID          SAMPLETIME   READING  DELTA       DATE VIVIENDA  \\\n",
              "160          0 2019-02-01 00:39:36  331710.0    0.0 2019-02-01        1   \n",
              "152          0 2019-02-01 01:39:36  331710.0    0.0 2019-02-01        1   \n",
              "150          0 2019-02-01 02:39:35  331710.0    0.0 2019-02-01        1   \n",
              "156          0 2019-02-01 03:39:35  331710.0    0.0 2019-02-01        1   \n",
              "161          0 2019-02-01 04:39:35  331710.0    0.0 2019-02-01        1   \n",
              "...        ...                 ...       ...    ...        ...      ...   \n",
              "21404822  2749 2019-10-11 07:27:14  164507.0    2.0 2019-10-11      NaN   \n",
              "21404826  2756 2019-04-06 04:50:17  349758.0    0.0 2019-04-06      NaN   \n",
              "21404824  2756 2019-04-06 05:50:17  349758.0    0.0 2019-04-06      NaN   \n",
              "21404827  2756 2019-04-06 06:50:17  349758.0    0.0 2019-04-06      NaN   \n",
              "21404825  2756 2019-04-06 07:50:17  349770.0   12.0 2019-04-06      NaN   \n",
              "\n",
              "           WEEKDAY  WEEKDAY_NUMBER     MONTH  MONTH_NUMBER  SEASON  \\\n",
              "160         Friday               4  February             2  Winter   \n",
              "152         Friday               4  February             2  Winter   \n",
              "150         Friday               4  February             2  Winter   \n",
              "156         Friday               4  February             2  Winter   \n",
              "161         Friday               4  February             2  Winter   \n",
              "...            ...             ...       ...           ...     ...   \n",
              "21404822    Friday               4   October            10  Autumn   \n",
              "21404826  Saturday               5     April             4  Spring   \n",
              "21404824  Saturday               5     April             4  Spring   \n",
              "21404827  Saturday               5     April             4  Spring   \n",
              "21404825  Saturday               5     April             4  Spring   \n",
              "\n",
              "          SEASON_NUMBER  \n",
              "160                 1.0  \n",
              "152                 1.0  \n",
              "150                 1.0  \n",
              "156                 1.0  \n",
              "161                 1.0  \n",
              "...                 ...  \n",
              "21404822            4.0  \n",
              "21404826            2.0  \n",
              "21404824            2.0  \n",
              "21404827            2.0  \n",
              "21404825            2.0  \n",
              "\n",
              "[21349150 rows x 12 columns]"
            ],
            "text/html": [
              "\n",
              "  <div id=\"df-d2c70b46-be3a-4abb-8301-ab7063ee4556\">\n",
              "    <div class=\"colab-df-container\">\n",
              "      <div>\n",
              "<style scoped>\n",
              "    .dataframe tbody tr th:only-of-type {\n",
              "        vertical-align: middle;\n",
              "    }\n",
              "\n",
              "    .dataframe tbody tr th {\n",
              "        vertical-align: top;\n",
              "    }\n",
              "\n",
              "    .dataframe thead th {\n",
              "        text-align: right;\n",
              "    }\n",
              "</style>\n",
              "<table border=\"1\" class=\"dataframe\">\n",
              "  <thead>\n",
              "    <tr style=\"text-align: right;\">\n",
              "      <th></th>\n",
              "      <th>ID</th>\n",
              "      <th>SAMPLETIME</th>\n",
              "      <th>READING</th>\n",
              "      <th>DELTA</th>\n",
              "      <th>DATE</th>\n",
              "      <th>VIVIENDA</th>\n",
              "      <th>WEEKDAY</th>\n",
              "      <th>WEEKDAY_NUMBER</th>\n",
              "      <th>MONTH</th>\n",
              "      <th>MONTH_NUMBER</th>\n",
              "      <th>SEASON</th>\n",
              "      <th>SEASON_NUMBER</th>\n",
              "    </tr>\n",
              "  </thead>\n",
              "  <tbody>\n",
              "    <tr>\n",
              "      <th>160</th>\n",
              "      <td>0</td>\n",
              "      <td>2019-02-01 00:39:36</td>\n",
              "      <td>331710.0</td>\n",
              "      <td>0.0</td>\n",
              "      <td>2019-02-01</td>\n",
              "      <td>1</td>\n",
              "      <td>Friday</td>\n",
              "      <td>4</td>\n",
              "      <td>February</td>\n",
              "      <td>2</td>\n",
              "      <td>Winter</td>\n",
              "      <td>1.0</td>\n",
              "    </tr>\n",
              "    <tr>\n",
              "      <th>152</th>\n",
              "      <td>0</td>\n",
              "      <td>2019-02-01 01:39:36</td>\n",
              "      <td>331710.0</td>\n",
              "      <td>0.0</td>\n",
              "      <td>2019-02-01</td>\n",
              "      <td>1</td>\n",
              "      <td>Friday</td>\n",
              "      <td>4</td>\n",
              "      <td>February</td>\n",
              "      <td>2</td>\n",
              "      <td>Winter</td>\n",
              "      <td>1.0</td>\n",
              "    </tr>\n",
              "    <tr>\n",
              "      <th>150</th>\n",
              "      <td>0</td>\n",
              "      <td>2019-02-01 02:39:35</td>\n",
              "      <td>331710.0</td>\n",
              "      <td>0.0</td>\n",
              "      <td>2019-02-01</td>\n",
              "      <td>1</td>\n",
              "      <td>Friday</td>\n",
              "      <td>4</td>\n",
              "      <td>February</td>\n",
              "      <td>2</td>\n",
              "      <td>Winter</td>\n",
              "      <td>1.0</td>\n",
              "    </tr>\n",
              "    <tr>\n",
              "      <th>156</th>\n",
              "      <td>0</td>\n",
              "      <td>2019-02-01 03:39:35</td>\n",
              "      <td>331710.0</td>\n",
              "      <td>0.0</td>\n",
              "      <td>2019-02-01</td>\n",
              "      <td>1</td>\n",
              "      <td>Friday</td>\n",
              "      <td>4</td>\n",
              "      <td>February</td>\n",
              "      <td>2</td>\n",
              "      <td>Winter</td>\n",
              "      <td>1.0</td>\n",
              "    </tr>\n",
              "    <tr>\n",
              "      <th>161</th>\n",
              "      <td>0</td>\n",
              "      <td>2019-02-01 04:39:35</td>\n",
              "      <td>331710.0</td>\n",
              "      <td>0.0</td>\n",
              "      <td>2019-02-01</td>\n",
              "      <td>1</td>\n",
              "      <td>Friday</td>\n",
              "      <td>4</td>\n",
              "      <td>February</td>\n",
              "      <td>2</td>\n",
              "      <td>Winter</td>\n",
              "      <td>1.0</td>\n",
              "    </tr>\n",
              "    <tr>\n",
              "      <th>...</th>\n",
              "      <td>...</td>\n",
              "      <td>...</td>\n",
              "      <td>...</td>\n",
              "      <td>...</td>\n",
              "      <td>...</td>\n",
              "      <td>...</td>\n",
              "      <td>...</td>\n",
              "      <td>...</td>\n",
              "      <td>...</td>\n",
              "      <td>...</td>\n",
              "      <td>...</td>\n",
              "      <td>...</td>\n",
              "    </tr>\n",
              "    <tr>\n",
              "      <th>21404822</th>\n",
              "      <td>2749</td>\n",
              "      <td>2019-10-11 07:27:14</td>\n",
              "      <td>164507.0</td>\n",
              "      <td>2.0</td>\n",
              "      <td>2019-10-11</td>\n",
              "      <td>NaN</td>\n",
              "      <td>Friday</td>\n",
              "      <td>4</td>\n",
              "      <td>October</td>\n",
              "      <td>10</td>\n",
              "      <td>Autumn</td>\n",
              "      <td>4.0</td>\n",
              "    </tr>\n",
              "    <tr>\n",
              "      <th>21404826</th>\n",
              "      <td>2756</td>\n",
              "      <td>2019-04-06 04:50:17</td>\n",
              "      <td>349758.0</td>\n",
              "      <td>0.0</td>\n",
              "      <td>2019-04-06</td>\n",
              "      <td>NaN</td>\n",
              "      <td>Saturday</td>\n",
              "      <td>5</td>\n",
              "      <td>April</td>\n",
              "      <td>4</td>\n",
              "      <td>Spring</td>\n",
              "      <td>2.0</td>\n",
              "    </tr>\n",
              "    <tr>\n",
              "      <th>21404824</th>\n",
              "      <td>2756</td>\n",
              "      <td>2019-04-06 05:50:17</td>\n",
              "      <td>349758.0</td>\n",
              "      <td>0.0</td>\n",
              "      <td>2019-04-06</td>\n",
              "      <td>NaN</td>\n",
              "      <td>Saturday</td>\n",
              "      <td>5</td>\n",
              "      <td>April</td>\n",
              "      <td>4</td>\n",
              "      <td>Spring</td>\n",
              "      <td>2.0</td>\n",
              "    </tr>\n",
              "    <tr>\n",
              "      <th>21404827</th>\n",
              "      <td>2756</td>\n",
              "      <td>2019-04-06 06:50:17</td>\n",
              "      <td>349758.0</td>\n",
              "      <td>0.0</td>\n",
              "      <td>2019-04-06</td>\n",
              "      <td>NaN</td>\n",
              "      <td>Saturday</td>\n",
              "      <td>5</td>\n",
              "      <td>April</td>\n",
              "      <td>4</td>\n",
              "      <td>Spring</td>\n",
              "      <td>2.0</td>\n",
              "    </tr>\n",
              "    <tr>\n",
              "      <th>21404825</th>\n",
              "      <td>2756</td>\n",
              "      <td>2019-04-06 07:50:17</td>\n",
              "      <td>349770.0</td>\n",
              "      <td>12.0</td>\n",
              "      <td>2019-04-06</td>\n",
              "      <td>NaN</td>\n",
              "      <td>Saturday</td>\n",
              "      <td>5</td>\n",
              "      <td>April</td>\n",
              "      <td>4</td>\n",
              "      <td>Spring</td>\n",
              "      <td>2.0</td>\n",
              "    </tr>\n",
              "  </tbody>\n",
              "</table>\n",
              "<p>21349150 rows × 12 columns</p>\n",
              "</div>\n",
              "      <button class=\"colab-df-convert\" onclick=\"convertToInteractive('df-d2c70b46-be3a-4abb-8301-ab7063ee4556')\"\n",
              "              title=\"Convert this dataframe to an interactive table.\"\n",
              "              style=\"display:none;\">\n",
              "        \n",
              "  <svg xmlns=\"http://www.w3.org/2000/svg\" height=\"24px\"viewBox=\"0 0 24 24\"\n",
              "       width=\"24px\">\n",
              "    <path d=\"M0 0h24v24H0V0z\" fill=\"none\"/>\n",
              "    <path d=\"M18.56 5.44l.94 2.06.94-2.06 2.06-.94-2.06-.94-.94-2.06-.94 2.06-2.06.94zm-11 1L8.5 8.5l.94-2.06 2.06-.94-2.06-.94L8.5 2.5l-.94 2.06-2.06.94zm10 10l.94 2.06.94-2.06 2.06-.94-2.06-.94-.94-2.06-.94 2.06-2.06.94z\"/><path d=\"M17.41 7.96l-1.37-1.37c-.4-.4-.92-.59-1.43-.59-.52 0-1.04.2-1.43.59L10.3 9.45l-7.72 7.72c-.78.78-.78 2.05 0 2.83L4 21.41c.39.39.9.59 1.41.59.51 0 1.02-.2 1.41-.59l7.78-7.78 2.81-2.81c.8-.78.8-2.07 0-2.86zM5.41 20L4 18.59l7.72-7.72 1.47 1.35L5.41 20z\"/>\n",
              "  </svg>\n",
              "      </button>\n",
              "      \n",
              "  <style>\n",
              "    .colab-df-container {\n",
              "      display:flex;\n",
              "      flex-wrap:wrap;\n",
              "      gap: 12px;\n",
              "    }\n",
              "\n",
              "    .colab-df-convert {\n",
              "      background-color: #E8F0FE;\n",
              "      border: none;\n",
              "      border-radius: 50%;\n",
              "      cursor: pointer;\n",
              "      display: none;\n",
              "      fill: #1967D2;\n",
              "      height: 32px;\n",
              "      padding: 0 0 0 0;\n",
              "      width: 32px;\n",
              "    }\n",
              "\n",
              "    .colab-df-convert:hover {\n",
              "      background-color: #E2EBFA;\n",
              "      box-shadow: 0px 1px 2px rgba(60, 64, 67, 0.3), 0px 1px 3px 1px rgba(60, 64, 67, 0.15);\n",
              "      fill: #174EA6;\n",
              "    }\n",
              "\n",
              "    [theme=dark] .colab-df-convert {\n",
              "      background-color: #3B4455;\n",
              "      fill: #D2E3FC;\n",
              "    }\n",
              "\n",
              "    [theme=dark] .colab-df-convert:hover {\n",
              "      background-color: #434B5C;\n",
              "      box-shadow: 0px 1px 3px 1px rgba(0, 0, 0, 0.15);\n",
              "      filter: drop-shadow(0px 1px 2px rgba(0, 0, 0, 0.3));\n",
              "      fill: #FFFFFF;\n",
              "    }\n",
              "  </style>\n",
              "\n",
              "      <script>\n",
              "        const buttonEl =\n",
              "          document.querySelector('#df-d2c70b46-be3a-4abb-8301-ab7063ee4556 button.colab-df-convert');\n",
              "        buttonEl.style.display =\n",
              "          google.colab.kernel.accessAllowed ? 'block' : 'none';\n",
              "\n",
              "        async function convertToInteractive(key) {\n",
              "          const element = document.querySelector('#df-d2c70b46-be3a-4abb-8301-ab7063ee4556');\n",
              "          const dataTable =\n",
              "            await google.colab.kernel.invokeFunction('convertToInteractive',\n",
              "                                                     [key], {});\n",
              "          if (!dataTable) return;\n",
              "\n",
              "          const docLinkHtml = 'Like what you see? Visit the ' +\n",
              "            '<a target=\"_blank\" href=https://colab.research.google.com/notebooks/data_table.ipynb>data table notebook</a>'\n",
              "            + ' to learn more about interactive tables.';\n",
              "          element.innerHTML = '';\n",
              "          dataTable['output_type'] = 'display_data';\n",
              "          await google.colab.output.renderOutput(dataTable, element);\n",
              "          const docLink = document.createElement('div');\n",
              "          docLink.innerHTML = docLinkHtml;\n",
              "          element.appendChild(docLink);\n",
              "        }\n",
              "      </script>\n",
              "    </div>\n",
              "  </div>\n",
              "  "
            ]
          },
          "metadata": {},
          "execution_count": 70
        }
      ]
    },
    {
      "cell_type": "markdown",
      "source": [
        "#### 3.1.5. HORA DEL DÍA"
      ],
      "metadata": {
        "id": "5RqJyJGflTEp"
      }
    },
    {
      "cell_type": "code",
      "source": [
        "df['HOUR'] =  df['SAMPLETIME'].dt.hour\n",
        "df"
      ],
      "metadata": {
        "colab": {
          "base_uri": "https://localhost:8080/",
          "height": 424
        },
        "id": "uVDUCKX8lSRE",
        "outputId": "0908846e-9c4f-4480-e023-d985e5c71986"
      },
      "execution_count": null,
      "outputs": [
        {
          "output_type": "execute_result",
          "data": {
            "text/plain": [
              "            ID          SAMPLETIME   READING  DELTA       DATE VIVIENDA  \\\n",
              "160          0 2019-02-01 00:39:36  331710.0    0.0 2019-02-01        1   \n",
              "152          0 2019-02-01 01:39:36  331710.0    0.0 2019-02-01        1   \n",
              "150          0 2019-02-01 02:39:35  331710.0    0.0 2019-02-01        1   \n",
              "156          0 2019-02-01 03:39:35  331710.0    0.0 2019-02-01        1   \n",
              "161          0 2019-02-01 04:39:35  331710.0    0.0 2019-02-01        1   \n",
              "...        ...                 ...       ...    ...        ...      ...   \n",
              "21404822  2749 2019-10-11 07:27:14  164507.0    2.0 2019-10-11      NaN   \n",
              "21404826  2756 2019-04-06 04:50:17  349758.0    0.0 2019-04-06      NaN   \n",
              "21404824  2756 2019-04-06 05:50:17  349758.0    0.0 2019-04-06      NaN   \n",
              "21404827  2756 2019-04-06 06:50:17  349758.0    0.0 2019-04-06      NaN   \n",
              "21404825  2756 2019-04-06 07:50:17  349770.0   12.0 2019-04-06      NaN   \n",
              "\n",
              "           WEEKDAY  WEEKDAY_NUMBER     MONTH  MONTH_NUMBER  SEASON  \\\n",
              "160         Friday               4  February             2  Winter   \n",
              "152         Friday               4  February             2  Winter   \n",
              "150         Friday               4  February             2  Winter   \n",
              "156         Friday               4  February             2  Winter   \n",
              "161         Friday               4  February             2  Winter   \n",
              "...            ...             ...       ...           ...     ...   \n",
              "21404822    Friday               4   October            10  Autumn   \n",
              "21404826  Saturday               5     April             4  Spring   \n",
              "21404824  Saturday               5     April             4  Spring   \n",
              "21404827  Saturday               5     April             4  Spring   \n",
              "21404825  Saturday               5     April             4  Spring   \n",
              "\n",
              "          SEASON_NUMBER  HOUR  \n",
              "160                 1.0     0  \n",
              "152                 1.0     1  \n",
              "150                 1.0     2  \n",
              "156                 1.0     3  \n",
              "161                 1.0     4  \n",
              "...                 ...   ...  \n",
              "21404822            4.0     7  \n",
              "21404826            2.0     4  \n",
              "21404824            2.0     5  \n",
              "21404827            2.0     6  \n",
              "21404825            2.0     7  \n",
              "\n",
              "[21349150 rows x 13 columns]"
            ],
            "text/html": [
              "\n",
              "  <div id=\"df-4d76dd7e-4351-4757-9cf2-ff9509aacd18\">\n",
              "    <div class=\"colab-df-container\">\n",
              "      <div>\n",
              "<style scoped>\n",
              "    .dataframe tbody tr th:only-of-type {\n",
              "        vertical-align: middle;\n",
              "    }\n",
              "\n",
              "    .dataframe tbody tr th {\n",
              "        vertical-align: top;\n",
              "    }\n",
              "\n",
              "    .dataframe thead th {\n",
              "        text-align: right;\n",
              "    }\n",
              "</style>\n",
              "<table border=\"1\" class=\"dataframe\">\n",
              "  <thead>\n",
              "    <tr style=\"text-align: right;\">\n",
              "      <th></th>\n",
              "      <th>ID</th>\n",
              "      <th>SAMPLETIME</th>\n",
              "      <th>READING</th>\n",
              "      <th>DELTA</th>\n",
              "      <th>DATE</th>\n",
              "      <th>VIVIENDA</th>\n",
              "      <th>WEEKDAY</th>\n",
              "      <th>WEEKDAY_NUMBER</th>\n",
              "      <th>MONTH</th>\n",
              "      <th>MONTH_NUMBER</th>\n",
              "      <th>SEASON</th>\n",
              "      <th>SEASON_NUMBER</th>\n",
              "      <th>HOUR</th>\n",
              "    </tr>\n",
              "  </thead>\n",
              "  <tbody>\n",
              "    <tr>\n",
              "      <th>160</th>\n",
              "      <td>0</td>\n",
              "      <td>2019-02-01 00:39:36</td>\n",
              "      <td>331710.0</td>\n",
              "      <td>0.0</td>\n",
              "      <td>2019-02-01</td>\n",
              "      <td>1</td>\n",
              "      <td>Friday</td>\n",
              "      <td>4</td>\n",
              "      <td>February</td>\n",
              "      <td>2</td>\n",
              "      <td>Winter</td>\n",
              "      <td>1.0</td>\n",
              "      <td>0</td>\n",
              "    </tr>\n",
              "    <tr>\n",
              "      <th>152</th>\n",
              "      <td>0</td>\n",
              "      <td>2019-02-01 01:39:36</td>\n",
              "      <td>331710.0</td>\n",
              "      <td>0.0</td>\n",
              "      <td>2019-02-01</td>\n",
              "      <td>1</td>\n",
              "      <td>Friday</td>\n",
              "      <td>4</td>\n",
              "      <td>February</td>\n",
              "      <td>2</td>\n",
              "      <td>Winter</td>\n",
              "      <td>1.0</td>\n",
              "      <td>1</td>\n",
              "    </tr>\n",
              "    <tr>\n",
              "      <th>150</th>\n",
              "      <td>0</td>\n",
              "      <td>2019-02-01 02:39:35</td>\n",
              "      <td>331710.0</td>\n",
              "      <td>0.0</td>\n",
              "      <td>2019-02-01</td>\n",
              "      <td>1</td>\n",
              "      <td>Friday</td>\n",
              "      <td>4</td>\n",
              "      <td>February</td>\n",
              "      <td>2</td>\n",
              "      <td>Winter</td>\n",
              "      <td>1.0</td>\n",
              "      <td>2</td>\n",
              "    </tr>\n",
              "    <tr>\n",
              "      <th>156</th>\n",
              "      <td>0</td>\n",
              "      <td>2019-02-01 03:39:35</td>\n",
              "      <td>331710.0</td>\n",
              "      <td>0.0</td>\n",
              "      <td>2019-02-01</td>\n",
              "      <td>1</td>\n",
              "      <td>Friday</td>\n",
              "      <td>4</td>\n",
              "      <td>February</td>\n",
              "      <td>2</td>\n",
              "      <td>Winter</td>\n",
              "      <td>1.0</td>\n",
              "      <td>3</td>\n",
              "    </tr>\n",
              "    <tr>\n",
              "      <th>161</th>\n",
              "      <td>0</td>\n",
              "      <td>2019-02-01 04:39:35</td>\n",
              "      <td>331710.0</td>\n",
              "      <td>0.0</td>\n",
              "      <td>2019-02-01</td>\n",
              "      <td>1</td>\n",
              "      <td>Friday</td>\n",
              "      <td>4</td>\n",
              "      <td>February</td>\n",
              "      <td>2</td>\n",
              "      <td>Winter</td>\n",
              "      <td>1.0</td>\n",
              "      <td>4</td>\n",
              "    </tr>\n",
              "    <tr>\n",
              "      <th>...</th>\n",
              "      <td>...</td>\n",
              "      <td>...</td>\n",
              "      <td>...</td>\n",
              "      <td>...</td>\n",
              "      <td>...</td>\n",
              "      <td>...</td>\n",
              "      <td>...</td>\n",
              "      <td>...</td>\n",
              "      <td>...</td>\n",
              "      <td>...</td>\n",
              "      <td>...</td>\n",
              "      <td>...</td>\n",
              "      <td>...</td>\n",
              "    </tr>\n",
              "    <tr>\n",
              "      <th>21404822</th>\n",
              "      <td>2749</td>\n",
              "      <td>2019-10-11 07:27:14</td>\n",
              "      <td>164507.0</td>\n",
              "      <td>2.0</td>\n",
              "      <td>2019-10-11</td>\n",
              "      <td>NaN</td>\n",
              "      <td>Friday</td>\n",
              "      <td>4</td>\n",
              "      <td>October</td>\n",
              "      <td>10</td>\n",
              "      <td>Autumn</td>\n",
              "      <td>4.0</td>\n",
              "      <td>7</td>\n",
              "    </tr>\n",
              "    <tr>\n",
              "      <th>21404826</th>\n",
              "      <td>2756</td>\n",
              "      <td>2019-04-06 04:50:17</td>\n",
              "      <td>349758.0</td>\n",
              "      <td>0.0</td>\n",
              "      <td>2019-04-06</td>\n",
              "      <td>NaN</td>\n",
              "      <td>Saturday</td>\n",
              "      <td>5</td>\n",
              "      <td>April</td>\n",
              "      <td>4</td>\n",
              "      <td>Spring</td>\n",
              "      <td>2.0</td>\n",
              "      <td>4</td>\n",
              "    </tr>\n",
              "    <tr>\n",
              "      <th>21404824</th>\n",
              "      <td>2756</td>\n",
              "      <td>2019-04-06 05:50:17</td>\n",
              "      <td>349758.0</td>\n",
              "      <td>0.0</td>\n",
              "      <td>2019-04-06</td>\n",
              "      <td>NaN</td>\n",
              "      <td>Saturday</td>\n",
              "      <td>5</td>\n",
              "      <td>April</td>\n",
              "      <td>4</td>\n",
              "      <td>Spring</td>\n",
              "      <td>2.0</td>\n",
              "      <td>5</td>\n",
              "    </tr>\n",
              "    <tr>\n",
              "      <th>21404827</th>\n",
              "      <td>2756</td>\n",
              "      <td>2019-04-06 06:50:17</td>\n",
              "      <td>349758.0</td>\n",
              "      <td>0.0</td>\n",
              "      <td>2019-04-06</td>\n",
              "      <td>NaN</td>\n",
              "      <td>Saturday</td>\n",
              "      <td>5</td>\n",
              "      <td>April</td>\n",
              "      <td>4</td>\n",
              "      <td>Spring</td>\n",
              "      <td>2.0</td>\n",
              "      <td>6</td>\n",
              "    </tr>\n",
              "    <tr>\n",
              "      <th>21404825</th>\n",
              "      <td>2756</td>\n",
              "      <td>2019-04-06 07:50:17</td>\n",
              "      <td>349770.0</td>\n",
              "      <td>12.0</td>\n",
              "      <td>2019-04-06</td>\n",
              "      <td>NaN</td>\n",
              "      <td>Saturday</td>\n",
              "      <td>5</td>\n",
              "      <td>April</td>\n",
              "      <td>4</td>\n",
              "      <td>Spring</td>\n",
              "      <td>2.0</td>\n",
              "      <td>7</td>\n",
              "    </tr>\n",
              "  </tbody>\n",
              "</table>\n",
              "<p>21349150 rows × 13 columns</p>\n",
              "</div>\n",
              "      <button class=\"colab-df-convert\" onclick=\"convertToInteractive('df-4d76dd7e-4351-4757-9cf2-ff9509aacd18')\"\n",
              "              title=\"Convert this dataframe to an interactive table.\"\n",
              "              style=\"display:none;\">\n",
              "        \n",
              "  <svg xmlns=\"http://www.w3.org/2000/svg\" height=\"24px\"viewBox=\"0 0 24 24\"\n",
              "       width=\"24px\">\n",
              "    <path d=\"M0 0h24v24H0V0z\" fill=\"none\"/>\n",
              "    <path d=\"M18.56 5.44l.94 2.06.94-2.06 2.06-.94-2.06-.94-.94-2.06-.94 2.06-2.06.94zm-11 1L8.5 8.5l.94-2.06 2.06-.94-2.06-.94L8.5 2.5l-.94 2.06-2.06.94zm10 10l.94 2.06.94-2.06 2.06-.94-2.06-.94-.94-2.06-.94 2.06-2.06.94z\"/><path d=\"M17.41 7.96l-1.37-1.37c-.4-.4-.92-.59-1.43-.59-.52 0-1.04.2-1.43.59L10.3 9.45l-7.72 7.72c-.78.78-.78 2.05 0 2.83L4 21.41c.39.39.9.59 1.41.59.51 0 1.02-.2 1.41-.59l7.78-7.78 2.81-2.81c.8-.78.8-2.07 0-2.86zM5.41 20L4 18.59l7.72-7.72 1.47 1.35L5.41 20z\"/>\n",
              "  </svg>\n",
              "      </button>\n",
              "      \n",
              "  <style>\n",
              "    .colab-df-container {\n",
              "      display:flex;\n",
              "      flex-wrap:wrap;\n",
              "      gap: 12px;\n",
              "    }\n",
              "\n",
              "    .colab-df-convert {\n",
              "      background-color: #E8F0FE;\n",
              "      border: none;\n",
              "      border-radius: 50%;\n",
              "      cursor: pointer;\n",
              "      display: none;\n",
              "      fill: #1967D2;\n",
              "      height: 32px;\n",
              "      padding: 0 0 0 0;\n",
              "      width: 32px;\n",
              "    }\n",
              "\n",
              "    .colab-df-convert:hover {\n",
              "      background-color: #E2EBFA;\n",
              "      box-shadow: 0px 1px 2px rgba(60, 64, 67, 0.3), 0px 1px 3px 1px rgba(60, 64, 67, 0.15);\n",
              "      fill: #174EA6;\n",
              "    }\n",
              "\n",
              "    [theme=dark] .colab-df-convert {\n",
              "      background-color: #3B4455;\n",
              "      fill: #D2E3FC;\n",
              "    }\n",
              "\n",
              "    [theme=dark] .colab-df-convert:hover {\n",
              "      background-color: #434B5C;\n",
              "      box-shadow: 0px 1px 3px 1px rgba(0, 0, 0, 0.15);\n",
              "      filter: drop-shadow(0px 1px 2px rgba(0, 0, 0, 0.3));\n",
              "      fill: #FFFFFF;\n",
              "    }\n",
              "  </style>\n",
              "\n",
              "      <script>\n",
              "        const buttonEl =\n",
              "          document.querySelector('#df-4d76dd7e-4351-4757-9cf2-ff9509aacd18 button.colab-df-convert');\n",
              "        buttonEl.style.display =\n",
              "          google.colab.kernel.accessAllowed ? 'block' : 'none';\n",
              "\n",
              "        async function convertToInteractive(key) {\n",
              "          const element = document.querySelector('#df-4d76dd7e-4351-4757-9cf2-ff9509aacd18');\n",
              "          const dataTable =\n",
              "            await google.colab.kernel.invokeFunction('convertToInteractive',\n",
              "                                                     [key], {});\n",
              "          if (!dataTable) return;\n",
              "\n",
              "          const docLinkHtml = 'Like what you see? Visit the ' +\n",
              "            '<a target=\"_blank\" href=https://colab.research.google.com/notebooks/data_table.ipynb>data table notebook</a>'\n",
              "            + ' to learn more about interactive tables.';\n",
              "          element.innerHTML = '';\n",
              "          dataTable['output_type'] = 'display_data';\n",
              "          await google.colab.output.renderOutput(dataTable, element);\n",
              "          const docLink = document.createElement('div');\n",
              "          docLink.innerHTML = docLinkHtml;\n",
              "          element.appendChild(docLink);\n",
              "        }\n",
              "      </script>\n",
              "    </div>\n",
              "  </div>\n",
              "  "
            ]
          },
          "metadata": {},
          "execution_count": 71
        }
      ]
    },
    {
      "cell_type": "markdown",
      "source": [
        "## 3.2 Representación de relaciones"
      ],
      "metadata": {
        "id": "aJSXB_jHB3Py"
      }
    },
    {
      "cell_type": "markdown",
      "source": [
        "#### 3.2.1. TIPO DE EDIFICIO"
      ],
      "metadata": {
        "id": "C2y2nMuShVCQ"
      }
    },
    {
      "cell_type": "code",
      "source": [
        "estudio_vivienda=df.groupby(['VIVIENDA']).agg({'READING': [np.sum], 'DELTA': [np.sum]})\n",
        "estudio_vivienda.reset_index(inplace=True)\n",
        "estudio_vivienda.columns =['VIVIENDA', 'READING', 'DELTA']\n"
      ],
      "metadata": {
        "id": "Imt-CPUXB_pg"
      },
      "execution_count": null,
      "outputs": []
    },
    {
      "cell_type": "code",
      "source": [
        "estudio_vivienda"
      ],
      "metadata": {
        "id": "I1QTJ--EhRXL",
        "colab": {
          "base_uri": "https://localhost:8080/",
          "height": 112
        },
        "outputId": "ccc5b22b-fea9-40a5-e724-a25b614e323c"
      },
      "execution_count": null,
      "outputs": [
        {
          "output_type": "execute_result",
          "data": {
            "text/plain": [
              "  VIVIENDA      READING    DELTA\n",
              "0        0  118046654.0   3831.0\n",
              "1        1  923077501.8  30027.2"
            ],
            "text/html": [
              "\n",
              "  <div id=\"df-6b10f6d3-7a43-45a2-b38e-e4102fda12c6\">\n",
              "    <div class=\"colab-df-container\">\n",
              "      <div>\n",
              "<style scoped>\n",
              "    .dataframe tbody tr th:only-of-type {\n",
              "        vertical-align: middle;\n",
              "    }\n",
              "\n",
              "    .dataframe tbody tr th {\n",
              "        vertical-align: top;\n",
              "    }\n",
              "\n",
              "    .dataframe thead th {\n",
              "        text-align: right;\n",
              "    }\n",
              "</style>\n",
              "<table border=\"1\" class=\"dataframe\">\n",
              "  <thead>\n",
              "    <tr style=\"text-align: right;\">\n",
              "      <th></th>\n",
              "      <th>VIVIENDA</th>\n",
              "      <th>READING</th>\n",
              "      <th>DELTA</th>\n",
              "    </tr>\n",
              "  </thead>\n",
              "  <tbody>\n",
              "    <tr>\n",
              "      <th>0</th>\n",
              "      <td>0</td>\n",
              "      <td>118046654.0</td>\n",
              "      <td>3831.0</td>\n",
              "    </tr>\n",
              "    <tr>\n",
              "      <th>1</th>\n",
              "      <td>1</td>\n",
              "      <td>923077501.8</td>\n",
              "      <td>30027.2</td>\n",
              "    </tr>\n",
              "  </tbody>\n",
              "</table>\n",
              "</div>\n",
              "      <button class=\"colab-df-convert\" onclick=\"convertToInteractive('df-6b10f6d3-7a43-45a2-b38e-e4102fda12c6')\"\n",
              "              title=\"Convert this dataframe to an interactive table.\"\n",
              "              style=\"display:none;\">\n",
              "        \n",
              "  <svg xmlns=\"http://www.w3.org/2000/svg\" height=\"24px\"viewBox=\"0 0 24 24\"\n",
              "       width=\"24px\">\n",
              "    <path d=\"M0 0h24v24H0V0z\" fill=\"none\"/>\n",
              "    <path d=\"M18.56 5.44l.94 2.06.94-2.06 2.06-.94-2.06-.94-.94-2.06-.94 2.06-2.06.94zm-11 1L8.5 8.5l.94-2.06 2.06-.94-2.06-.94L8.5 2.5l-.94 2.06-2.06.94zm10 10l.94 2.06.94-2.06 2.06-.94-2.06-.94-.94-2.06-.94 2.06-2.06.94z\"/><path d=\"M17.41 7.96l-1.37-1.37c-.4-.4-.92-.59-1.43-.59-.52 0-1.04.2-1.43.59L10.3 9.45l-7.72 7.72c-.78.78-.78 2.05 0 2.83L4 21.41c.39.39.9.59 1.41.59.51 0 1.02-.2 1.41-.59l7.78-7.78 2.81-2.81c.8-.78.8-2.07 0-2.86zM5.41 20L4 18.59l7.72-7.72 1.47 1.35L5.41 20z\"/>\n",
              "  </svg>\n",
              "      </button>\n",
              "      \n",
              "  <style>\n",
              "    .colab-df-container {\n",
              "      display:flex;\n",
              "      flex-wrap:wrap;\n",
              "      gap: 12px;\n",
              "    }\n",
              "\n",
              "    .colab-df-convert {\n",
              "      background-color: #E8F0FE;\n",
              "      border: none;\n",
              "      border-radius: 50%;\n",
              "      cursor: pointer;\n",
              "      display: none;\n",
              "      fill: #1967D2;\n",
              "      height: 32px;\n",
              "      padding: 0 0 0 0;\n",
              "      width: 32px;\n",
              "    }\n",
              "\n",
              "    .colab-df-convert:hover {\n",
              "      background-color: #E2EBFA;\n",
              "      box-shadow: 0px 1px 2px rgba(60, 64, 67, 0.3), 0px 1px 3px 1px rgba(60, 64, 67, 0.15);\n",
              "      fill: #174EA6;\n",
              "    }\n",
              "\n",
              "    [theme=dark] .colab-df-convert {\n",
              "      background-color: #3B4455;\n",
              "      fill: #D2E3FC;\n",
              "    }\n",
              "\n",
              "    [theme=dark] .colab-df-convert:hover {\n",
              "      background-color: #434B5C;\n",
              "      box-shadow: 0px 1px 3px 1px rgba(0, 0, 0, 0.15);\n",
              "      filter: drop-shadow(0px 1px 2px rgba(0, 0, 0, 0.3));\n",
              "      fill: #FFFFFF;\n",
              "    }\n",
              "  </style>\n",
              "\n",
              "      <script>\n",
              "        const buttonEl =\n",
              "          document.querySelector('#df-6b10f6d3-7a43-45a2-b38e-e4102fda12c6 button.colab-df-convert');\n",
              "        buttonEl.style.display =\n",
              "          google.colab.kernel.accessAllowed ? 'block' : 'none';\n",
              "\n",
              "        async function convertToInteractive(key) {\n",
              "          const element = document.querySelector('#df-6b10f6d3-7a43-45a2-b38e-e4102fda12c6');\n",
              "          const dataTable =\n",
              "            await google.colab.kernel.invokeFunction('convertToInteractive',\n",
              "                                                     [key], {});\n",
              "          if (!dataTable) return;\n",
              "\n",
              "          const docLinkHtml = 'Like what you see? Visit the ' +\n",
              "            '<a target=\"_blank\" href=https://colab.research.google.com/notebooks/data_table.ipynb>data table notebook</a>'\n",
              "            + ' to learn more about interactive tables.';\n",
              "          element.innerHTML = '';\n",
              "          dataTable['output_type'] = 'display_data';\n",
              "          await google.colab.output.renderOutput(dataTable, element);\n",
              "          const docLink = document.createElement('div');\n",
              "          docLink.innerHTML = docLinkHtml;\n",
              "          element.appendChild(docLink);\n",
              "        }\n",
              "      </script>\n",
              "    </div>\n",
              "  </div>\n",
              "  "
            ]
          },
          "metadata": {},
          "execution_count": 73
        }
      ]
    },
    {
      "cell_type": "markdown",
      "source": [
        "#### 3.2.2. DÍA DE LA SEMANA"
      ],
      "metadata": {
        "id": "2L0_CpKshlQc"
      }
    },
    {
      "cell_type": "code",
      "source": [
        "df_delta_weekday_mean = df.groupby(['WEEKDAY', 'WEEKDAY_NUMBER'])['DELTA'].agg(['mean']).sort_values('WEEKDAY_NUMBER') # Se agrupa por día de la semana y se calcula la media del consumo\n",
        "df_delta_weekday_mean = df_delta_weekday_mean.reset_index() # Se resetea el índice\n",
        "\n",
        "# Suma de DELTA por día de la semana\n",
        "df_delta_weekday_sum = df.groupby(['WEEKDAY', 'WEEKDAY_NUMBER'])['DELTA'].agg(['sum']).sort_values('WEEKDAY_NUMBER')\n",
        "df_delta_weekday_sum = df_delta_weekday_sum.reset_index()\n",
        "\n",
        "# Creación de gráfico con la media del consumo por día de la semana y la suma del consumo por día de la semana\n",
        "fig, (ax0, ax1) = plt.subplots(ncols=2, figsize=(17, 5))\n",
        "\n",
        "fig.patch.set_alpha(0)\n",
        "fig.patch.set_facecolor('blue')\n",
        "\n",
        "# Bucle para color de máximo y mínimo para el gráfico\n",
        "# Para la media\n",
        "col_mean = []\n",
        "for val in df_delta_weekday_mean['mean']:\n",
        "    if val < 15.64 or val > 25:\n",
        "        col_mean.append('darkslateblue')\n",
        "    else:\n",
        "        col_mean.append('steelblue')\n",
        "\n",
        "# Para la suma\n",
        "col = []\n",
        "for val in df_delta_weekday_sum['sum']:\n",
        "    if val < 47289319 or val == 76807087.8200:\n",
        "        col.append('darkslateblue')\n",
        "    else:\n",
        "        col.append('steelblue')\n",
        "\n",
        "ax0.bar(df_delta_weekday_mean['WEEKDAY'], df_delta_weekday_mean['mean'], color = col_mean)\n",
        "ax0.plot(df_delta_weekday_mean['WEEKDAY'], df_delta_weekday_mean['mean'], color = 'black', linestyle='solid', linewidth=2, marker = 'o', \n",
        "        markerfacecolor = 'black', markersize = 6) # Línea de tendencia\n",
        "ax0.set_title('Media del consumo por día de la semana', color = 'white')\n",
        "ax0.set_facecolor('#4682b4')\n",
        "ax0.patch.set_alpha(0.5)\n",
        "ax0.tick_params(colors='white', which='both')\n",
        "\n",
        "ax1.bar(df_delta_weekday_sum['WEEKDAY'], df_delta_weekday_sum['sum'], color = col)\n",
        "ax1.plot(df_delta_weekday_sum['WEEKDAY'], df_delta_weekday_sum['sum'], color = 'black', linestyle='solid', linewidth=2, marker = 'o', \n",
        "        markerfacecolor = 'black', markersize = 6) # Línea de tendencia\n",
        "ax1.set_title('Suma del consumo por día de la semana', color = 'white')\n",
        "ax1.set_facecolor('#4682b4')\n",
        "ax1.patch.set_alpha(0.5)\n",
        "ax1.tick_params(colors='white', which='both')\n",
        "\n",
        "plt.show()"
      ],
      "metadata": {
        "colab": {
          "base_uri": "https://localhost:8080/",
          "height": 336
        },
        "id": "IkeBfqjdWjMX",
        "outputId": "3b1e804a-63ac-4261-ba46-3159638a77a4"
      },
      "execution_count": null,
      "outputs": [
        {
          "output_type": "display_data",
          "data": {
            "text/plain": [
              "<Figure size 1224x360 with 2 Axes>"
            ],
            "image/png": "[encoded data removed]"
          },
          "metadata": {
            "needs_background": "dark"
          }
        }
      ]
    },
    {
      "cell_type": "markdown",
      "source": [
        "En estos gráficos podemos apreciar un aumento del consumo los viernes. La posible explicación que le podemos dar a este fenómeno es que el aumento sea considerable en aquellos contadores pertenecientes a comercios de ocio. \n",
        "\n",
        "Por otro lado, el fin de semana presenta un menor consumo de agua. Esto puede verse motivado por el cierre de numerosos locales no destinados al ocio.\n",
        "A lo largo de la semana laboral exceptuando el viernes, el consumo es bastante sostenido, siendo ligeramente mayor los lunes."
      ],
      "metadata": {
        "id": "YBWzgsqQW5F-"
      }
    },
    {
      "cell_type": "markdown",
      "source": [
        "#### 3.2.3. MES DEL AÑO"
      ],
      "metadata": {
        "id": "_gRteCntkG0Y"
      }
    },
    {
      "cell_type": "code",
      "source": [
        "df_delta_month_mean = df.groupby(['MONTH', 'MONTH_NUMBER'])['DELTA'].agg(['mean']).sort_values('MONTH_NUMBER') # Se agrupa por día de la semana y se calcula la media del consumo\n",
        "df_delta_month_mean = df_delta_month_mean.reset_index() # Se resetea el índice\n",
        "\n",
        "# Suma de DELTA por mes\n",
        "df_delta_month_sum = df.groupby(['MONTH', 'MONTH_NUMBER'])['DELTA'].agg(['sum']).sort_values('MONTH_NUMBER')\n",
        "df_delta_month_sum = df_delta_month_sum.reset_index()\n",
        "\n",
        "# Creación de gráfico con la media del consumo por mes y la suma del consumo por mes\n",
        "fig, (ax0, ax1) = plt.subplots(ncols=1, nrows=2, figsize=(17, 10))\n",
        "\n",
        "fig.patch.set_alpha(0)\n",
        "fig.patch.set_facecolor('blue')\n",
        "\n",
        "# Bucle para color de máximo y mínimo para el gráfico\n",
        "# Para la media\n",
        "col_mean = []\n",
        "for val in df_delta_month_mean['mean']:\n",
        "    if val < 15.36 or val > 38.51:\n",
        "        col_mean.append('darkslateblue')\n",
        "    else:\n",
        "        col_mean.append('steelblue')\n",
        "\n",
        "# Para la suma\n",
        "col = []\n",
        "for val in df_delta_month_sum['sum']:\n",
        "    if val < 27986131 or val > 71641069:\n",
        "        col.append('darkslateblue')\n",
        "    else:\n",
        "        col.append('steelblue')\n",
        "\n",
        "ax0.bar(df_delta_month_mean['MONTH'], df_delta_month_mean['mean'], color = col_mean)\n",
        "ax0.plot(df_delta_month_mean['MONTH'], df_delta_month_mean['mean'], color = 'black', linestyle='solid', linewidth=2, marker = 'o', \n",
        "        markerfacecolor = 'black', markersize = 6) # Línea de tendencia\n",
        "ax0.set_title('Media del consumo por mes', color = 'white')\n",
        "ax0.set_facecolor('#4682b4')\n",
        "ax0.patch.set_alpha(0.5)\n",
        "ax0.tick_params(colors='white', which='both')\n",
        "\n",
        "ax1.bar(df_delta_month_sum['MONTH'], df_delta_month_sum['sum'], color = col)\n",
        "ax1.plot(df_delta_month_sum['MONTH'], df_delta_month_sum['sum'], color = 'black', linestyle='solid', linewidth=2, marker = 'o', \n",
        "        markerfacecolor = 'black', markersize = 6) # Línea de tendencia \n",
        "ax1.set_title('Suma del consumo por mes', color = 'white')\n",
        "ax1.set_facecolor('#4682b4')\n",
        "ax1.patch.set_alpha(0.5)\n",
        "ax1.tick_params(colors='white', which='both')\n",
        "\n",
        "plt.show()\n"
      ],
      "metadata": {
        "colab": {
          "base_uri": "https://localhost:8080/",
          "height": 607
        },
        "id": "wVzGKwzdXO-N",
        "outputId": "88e011b7-fa9a-4fef-d8cd-0e8651c30fd3"
      },
      "execution_count": null,
      "outputs": [
        {
          "output_type": "display_data",
          "data": {
            "text/plain": [
              "<Figure size 1224x720 with 2 Axes>"
            ],
            "image/png": "[encoded data removed]"
          },
          "metadata": {
            "needs_background": "dark"
          }
        }
      ]
    },
    {
      "cell_type": "markdown",
      "source": [
        "Vemos que a lo largo del año existe una tendencia creciente. Desde enero se incrementa el consumo hasta julio, cuando empiza a decrecer. El pico existente en julio es coherente con que coincida con el mes más caluroso del año.\n",
        "En octubre y noviembre se experimenta un ligero incremento respecto de septiembre, seguidos de una bajada en diciembre.\n",
        "\n",
        "La bajada de consumo de agua en los meses no estivales (especialemente) podría parcialmente explicarse por el gran peso del sector turístico en la zona. Muchos de los veraneantes abandonan la comunidad.\n"
      ],
      "metadata": {
        "id": "QMZeiNxvaTJ0"
      }
    },
    {
      "cell_type": "markdown",
      "source": [
        "#### 3.2.4. HORAS DEL DÍA"
      ],
      "metadata": {
        "id": "VbVH8LC2kkcf"
      }
    },
    {
      "cell_type": "code",
      "source": [
        "# Agrupar por horas y sumar deltas\n",
        "estudio_hours = df.groupby('HOUR')['DELTA'].sum()\n",
        "print(estudio_hours)"
      ],
      "metadata": {
        "colab": {
          "base_uri": "https://localhost:8080/"
        },
        "id": "hGdbG1Nnk5jR",
        "outputId": "adce4f75-8cc4-454e-c545-707a6aa677f2"
      },
      "execution_count": null,
      "outputs": [
        {
          "output_type": "stream",
          "name": "stdout",
          "text": [
            "HOUR\n",
            "0     15181046.68\n",
            "1     14532072.25\n",
            "2     14869458.43\n",
            "3     13883407.64\n",
            "4     13006859.13\n",
            "5     13663295.94\n",
            "6     16786886.50\n",
            "7     19424302.71\n",
            "8     20992826.95\n",
            "9     21297712.77\n",
            "10    22699637.76\n",
            "11    23306652.10\n",
            "12    22568896.24\n",
            "13    21367330.38\n",
            "14    20436696.09\n",
            "15    19672006.60\n",
            "16    18436017.82\n",
            "17    17011766.55\n",
            "18    17601707.08\n",
            "19    18431310.05\n",
            "20    19216669.57\n",
            "21    19382199.00\n",
            "22    17554364.64\n",
            "23    15413818.62\n",
            "Name: DELTA, dtype: float64\n"
          ]
        }
      ]
    },
    {
      "cell_type": "code",
      "source": [
        "## Eje X\n",
        "x = estudio_hours.index\n",
        "\n",
        "## Eje Y\n",
        "y = estudio_hours.values\n",
        "\n",
        "## Grafico\n",
        "plt.plot(estudio_hours.index, estudio_hours.values)\n",
        "\n",
        "## Legenda en el eje y\n",
        "plt.ylabel('DELTA')\n",
        " \n",
        "## Legenda en el eje x\n",
        "plt.xlabel('HOUR')\n",
        "plt.xticks(estudio_hours.index)\n",
        " \n",
        "## Título de Gráfica\n",
        "plt.title('READING POR TIPO DE MONTH')\n",
        "\n",
        "## Mostrar\n",
        "plt.show()"
      ],
      "metadata": {
        "colab": {
          "base_uri": "https://localhost:8080/",
          "height": 295
        },
        "id": "9KMYfWcUlvnr",
        "outputId": "e753c856-c002-4c15-d6eb-6826a15aa7c5"
      },
      "execution_count": null,
      "outputs": [
        {
          "output_type": "display_data",
          "data": {
            "text/plain": [
              "<Figure size 432x288 with 1 Axes>"
            ],
            "image/png": "[encoded data removed]"
          },
          "metadata": {
            "needs_background": "light"
          }
        }
      ]
    },
    {
      "cell_type": "markdown",
      "source": [
        "Como se puede observar, en términos generales, el consumo de agua es mayor durante la jornada laboral, alcanzando su pico máximo a media mañana. Entorno a este pico, se observa una crecida desde las 05:00 AM, que parece corresponderse con la entrada escalonada de los usuarios a trabajar. De la misma forma, pasadas las 12:00 AM se detecta una caída en el consumo, que parece deberse, de forma análoga, a la salida escalonada de trabajar. De 17:00 a 21:00 se detecta una pequeña crecida, que puede ser causada por la llegada de la población a sus casa y preparación de la cena. "
      ],
      "metadata": {
        "id": "dhk2o8Iqmrbv"
      }
    },
    {
      "cell_type": "markdown",
      "source": [
        "# 4. Análisis de correlaciones"
      ],
      "metadata": {
        "id": "I3GvU4bHbxFu"
      }
    },
    {
      "cell_type": "code",
      "source": [
        "plt.figure(figsize=(10, 5))\n",
        "mask = np.triu(np.ones_like(df.corr(), dtype=bool))\n",
        "sns.heatmap(df.corr(), mask = mask, annot=True, cmap='Dark2');"
      ],
      "metadata": {
        "id": "vMhsbvh37ao9"
      },
      "execution_count": null,
      "outputs": []
    },
    {
      "cell_type": "markdown",
      "source": [
        "Vemos lo poco correlacionadas en general que están las variables.\n",
        "Las únicas correlaciones elevadas que obtenemos no nos aportan ninguna información dado que son READING y DELTA, claramente correladas dado que una es el resultado de la operación matemática de la otra, y por otro lado MONTH_NUMBER y SEASON_NUMBER, también una resultado de la otra.\n",
        "\n",
        "Por lo demás, el resto de variables no están correlacionadas."
      ],
      "metadata": {
        "id": "QANhlJUM9jwE"
      }
    },
    {
      "cell_type": "markdown",
      "source": [
        "# Exportación del nuevo dataset"
      ],
      "metadata": {
        "id": "gGqVqCzHF5K0"
      }
    },
    {
      "cell_type": "markdown",
      "source": [
        "---------------------------------------------------"
      ],
      "metadata": {
        "id": "i3EPnsMnkYwC"
      }
    },
    {
      "cell_type": "markdown",
      "source": [
        "Llegado a este punto, habiendo limpiado nuestro dataset original y habiendo introducido nuevas variables que nos ayudan a entender el comportamiento de consumo de agua, procedemos a exportar la data.\n",
        "Dado que se nos pide una prediccion por días y por semanas, vamos a agrupar la data que tenemos por dia y a continuación guardarmos el archivo."
      ],
      "metadata": {
        "id": "OBoHaw3AkY5D"
      }
    },
    {
      "cell_type": "markdown",
      "source": [
        "Vamos a hacer un group by por dia, convertimos la variable SAMPLETIME a formato datetime (antes era object)."
      ],
      "metadata": {
        "id": "K65CvYtym4e4"
      }
    },
    {
      "cell_type": "code",
      "source": [
        "df_diario = df.groupby(['ID','DATE'], as_index=False)['READING', 'DELTA' ].sum()"
      ],
      "metadata": {
        "id": "2RZPPLfF9yqb"
      },
      "execution_count": null,
      "outputs": []
    },
    {
      "cell_type": "code",
      "source": [
        "pd.Series(df_diario.isnull().sum()).rename_axis('features/target').to_frame('Missing Value Count')"
      ],
      "metadata": {
        "id": "dCIeXwLpHLvj"
      },
      "execution_count": null,
      "outputs": []
    },
    {
      "cell_type": "code",
      "source": [
        "print(\"Number of rows is = \", df_diario.shape[0], \" \\nNumber of columns is = \" , df_diario.shape[1]) "
      ],
      "metadata": {
        "id": "76pIhn3P9xqm"
      },
      "execution_count": null,
      "outputs": []
    },
    {
      "cell_type": "markdown",
      "source": [
        "Así queda la nueva estructura de nuestros datos"
      ],
      "metadata": {
        "id": "UFqgkt38l8Y7"
      }
    },
    {
      "cell_type": "code",
      "source": [
        "df_diario.head()"
      ],
      "metadata": {
        "id": "GT7oH5BJeevH"
      },
      "execution_count": null,
      "outputs": []
    },
    {
      "cell_type": "markdown",
      "source": [
        "Finalmente, los exportamos para poder trabajar la predicción temporal en su Jupyter correspondiente.\n",
        "\n",
        "Estos datos agrupados por dias nos van a servir para construir el modelo qe posteriormente vamos a correr para cada uno de los ids de contadores."
      ],
      "metadata": {
        "id": "w_PuRZp3mBuO"
      }
    },
    {
      "cell_type": "code",
      "source": [
        "df_diario.to_csv(r'/content/drive/MyDrive/Datathon_2022/df_ID_DATE.csv', index = False)"
      ],
      "metadata": {
        "id": "FoaQTr4-maJw"
      },
      "execution_count": null,
      "outputs": []
    }
  ]
}